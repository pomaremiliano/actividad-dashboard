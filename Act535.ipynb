{
 "cells": [
  {
   "cell_type": "markdown",
   "id": "7bf66ed8",
   "metadata": {},
   "source": [
    "# Actividad 5.3.5.DASHboards y Plotly\n",
    "\n",
    "- Jorge Emiliano Pomar\n",
    "- A01709338\n",
    "- Francisco Couttolenc Ortiz\n",
    "- A01754959\n",
    "- 03 de mayo de 2025\n"
   ]
  },
  {
   "cell_type": "markdown",
   "id": "832126a7",
   "metadata": {},
   "source": [
    "(50 pts) Usando los datos del HRDataset, genera 10 gráficos diferentes con la librería Plotly agregando elementos que ayuden a mejorar la visualización (rugs, color, hover, etc). Para cada gráfico incluye un bloque de texto con una descripción.\n"
   ]
  },
  {
   "cell_type": "code",
   "execution_count": 104,
   "id": "a59e6b8f",
   "metadata": {},
   "outputs": [],
   "source": [
    "import seaborn as sns\n",
    "import pandas as pd\n",
    "import matplotlib.pyplot as plt\n",
    "\n",
    "\n",
    "import plotly.express as px\n",
    "import plotly.graph_objects as go\n",
    "\n",
    "# Cargar el HRDataset\n",
    "df = pd.read_csv(\"HRDataset_v14.csv\")"
   ]
  },
  {
   "cell_type": "code",
   "execution_count": 105,
   "id": "f00f6c9c",
   "metadata": {},
   "outputs": [
    {
     "data": {
      "text/html": [
       "<div>\n",
       "<style scoped>\n",
       "    .dataframe tbody tr th:only-of-type {\n",
       "        vertical-align: middle;\n",
       "    }\n",
       "\n",
       "    .dataframe tbody tr th {\n",
       "        vertical-align: top;\n",
       "    }\n",
       "\n",
       "    .dataframe thead th {\n",
       "        text-align: right;\n",
       "    }\n",
       "</style>\n",
       "<table border=\"1\" class=\"dataframe\">\n",
       "  <thead>\n",
       "    <tr style=\"text-align: right;\">\n",
       "      <th></th>\n",
       "      <th>Employee_Name</th>\n",
       "      <th>EmpID</th>\n",
       "      <th>MarriedID</th>\n",
       "      <th>MaritalStatusID</th>\n",
       "      <th>GenderID</th>\n",
       "      <th>EmpStatusID</th>\n",
       "      <th>DeptID</th>\n",
       "      <th>PerfScoreID</th>\n",
       "      <th>FromDiversityJobFairID</th>\n",
       "      <th>Salary</th>\n",
       "      <th>...</th>\n",
       "      <th>ManagerName</th>\n",
       "      <th>ManagerID</th>\n",
       "      <th>RecruitmentSource</th>\n",
       "      <th>PerformanceScore</th>\n",
       "      <th>EngagementSurvey</th>\n",
       "      <th>EmpSatisfaction</th>\n",
       "      <th>SpecialProjectsCount</th>\n",
       "      <th>LastPerformanceReview_Date</th>\n",
       "      <th>DaysLateLast30</th>\n",
       "      <th>Absences</th>\n",
       "    </tr>\n",
       "  </thead>\n",
       "  <tbody>\n",
       "    <tr>\n",
       "      <th>0</th>\n",
       "      <td>Adinolfi, Wilson  K</td>\n",
       "      <td>10026</td>\n",
       "      <td>0</td>\n",
       "      <td>0</td>\n",
       "      <td>1</td>\n",
       "      <td>1</td>\n",
       "      <td>5</td>\n",
       "      <td>4</td>\n",
       "      <td>0</td>\n",
       "      <td>62506</td>\n",
       "      <td>...</td>\n",
       "      <td>Michael Albert</td>\n",
       "      <td>22.0</td>\n",
       "      <td>LinkedIn</td>\n",
       "      <td>Exceeds</td>\n",
       "      <td>4.60</td>\n",
       "      <td>5</td>\n",
       "      <td>0</td>\n",
       "      <td>1/17/2019</td>\n",
       "      <td>0</td>\n",
       "      <td>1</td>\n",
       "    </tr>\n",
       "    <tr>\n",
       "      <th>1</th>\n",
       "      <td>Ait Sidi, Karthikeyan</td>\n",
       "      <td>10084</td>\n",
       "      <td>1</td>\n",
       "      <td>1</td>\n",
       "      <td>1</td>\n",
       "      <td>5</td>\n",
       "      <td>3</td>\n",
       "      <td>3</td>\n",
       "      <td>0</td>\n",
       "      <td>104437</td>\n",
       "      <td>...</td>\n",
       "      <td>Simon Roup</td>\n",
       "      <td>4.0</td>\n",
       "      <td>Indeed</td>\n",
       "      <td>Fully Meets</td>\n",
       "      <td>4.96</td>\n",
       "      <td>3</td>\n",
       "      <td>6</td>\n",
       "      <td>2/24/2016</td>\n",
       "      <td>0</td>\n",
       "      <td>17</td>\n",
       "    </tr>\n",
       "    <tr>\n",
       "      <th>2</th>\n",
       "      <td>Akinkuolie, Sarah</td>\n",
       "      <td>10196</td>\n",
       "      <td>1</td>\n",
       "      <td>1</td>\n",
       "      <td>0</td>\n",
       "      <td>5</td>\n",
       "      <td>5</td>\n",
       "      <td>3</td>\n",
       "      <td>0</td>\n",
       "      <td>64955</td>\n",
       "      <td>...</td>\n",
       "      <td>Kissy Sullivan</td>\n",
       "      <td>20.0</td>\n",
       "      <td>LinkedIn</td>\n",
       "      <td>Fully Meets</td>\n",
       "      <td>3.02</td>\n",
       "      <td>3</td>\n",
       "      <td>0</td>\n",
       "      <td>5/15/2012</td>\n",
       "      <td>0</td>\n",
       "      <td>3</td>\n",
       "    </tr>\n",
       "    <tr>\n",
       "      <th>3</th>\n",
       "      <td>Alagbe,Trina</td>\n",
       "      <td>10088</td>\n",
       "      <td>1</td>\n",
       "      <td>1</td>\n",
       "      <td>0</td>\n",
       "      <td>1</td>\n",
       "      <td>5</td>\n",
       "      <td>3</td>\n",
       "      <td>0</td>\n",
       "      <td>64991</td>\n",
       "      <td>...</td>\n",
       "      <td>Elijiah Gray</td>\n",
       "      <td>16.0</td>\n",
       "      <td>Indeed</td>\n",
       "      <td>Fully Meets</td>\n",
       "      <td>4.84</td>\n",
       "      <td>5</td>\n",
       "      <td>0</td>\n",
       "      <td>1/3/2019</td>\n",
       "      <td>0</td>\n",
       "      <td>15</td>\n",
       "    </tr>\n",
       "    <tr>\n",
       "      <th>4</th>\n",
       "      <td>Anderson, Carol</td>\n",
       "      <td>10069</td>\n",
       "      <td>0</td>\n",
       "      <td>2</td>\n",
       "      <td>0</td>\n",
       "      <td>5</td>\n",
       "      <td>5</td>\n",
       "      <td>3</td>\n",
       "      <td>0</td>\n",
       "      <td>50825</td>\n",
       "      <td>...</td>\n",
       "      <td>Webster Butler</td>\n",
       "      <td>39.0</td>\n",
       "      <td>Google Search</td>\n",
       "      <td>Fully Meets</td>\n",
       "      <td>5.00</td>\n",
       "      <td>4</td>\n",
       "      <td>0</td>\n",
       "      <td>2/1/2016</td>\n",
       "      <td>0</td>\n",
       "      <td>2</td>\n",
       "    </tr>\n",
       "    <tr>\n",
       "      <th>5</th>\n",
       "      <td>Anderson, Linda</td>\n",
       "      <td>10002</td>\n",
       "      <td>0</td>\n",
       "      <td>0</td>\n",
       "      <td>0</td>\n",
       "      <td>1</td>\n",
       "      <td>5</td>\n",
       "      <td>4</td>\n",
       "      <td>0</td>\n",
       "      <td>57568</td>\n",
       "      <td>...</td>\n",
       "      <td>Amy Dunn</td>\n",
       "      <td>11.0</td>\n",
       "      <td>LinkedIn</td>\n",
       "      <td>Exceeds</td>\n",
       "      <td>5.00</td>\n",
       "      <td>5</td>\n",
       "      <td>0</td>\n",
       "      <td>1/7/2019</td>\n",
       "      <td>0</td>\n",
       "      <td>15</td>\n",
       "    </tr>\n",
       "    <tr>\n",
       "      <th>6</th>\n",
       "      <td>Andreola, Colby</td>\n",
       "      <td>10194</td>\n",
       "      <td>0</td>\n",
       "      <td>0</td>\n",
       "      <td>0</td>\n",
       "      <td>1</td>\n",
       "      <td>4</td>\n",
       "      <td>3</td>\n",
       "      <td>0</td>\n",
       "      <td>95660</td>\n",
       "      <td>...</td>\n",
       "      <td>Alex Sweetwater</td>\n",
       "      <td>10.0</td>\n",
       "      <td>LinkedIn</td>\n",
       "      <td>Fully Meets</td>\n",
       "      <td>3.04</td>\n",
       "      <td>3</td>\n",
       "      <td>4</td>\n",
       "      <td>1/2/2019</td>\n",
       "      <td>0</td>\n",
       "      <td>19</td>\n",
       "    </tr>\n",
       "    <tr>\n",
       "      <th>7</th>\n",
       "      <td>Athwal, Sam</td>\n",
       "      <td>10062</td>\n",
       "      <td>0</td>\n",
       "      <td>4</td>\n",
       "      <td>1</td>\n",
       "      <td>1</td>\n",
       "      <td>5</td>\n",
       "      <td>3</td>\n",
       "      <td>0</td>\n",
       "      <td>59365</td>\n",
       "      <td>...</td>\n",
       "      <td>Ketsia Liebig</td>\n",
       "      <td>19.0</td>\n",
       "      <td>Employee Referral</td>\n",
       "      <td>Fully Meets</td>\n",
       "      <td>5.00</td>\n",
       "      <td>4</td>\n",
       "      <td>0</td>\n",
       "      <td>2/25/2019</td>\n",
       "      <td>0</td>\n",
       "      <td>19</td>\n",
       "    </tr>\n",
       "    <tr>\n",
       "      <th>8</th>\n",
       "      <td>Bachiochi, Linda</td>\n",
       "      <td>10114</td>\n",
       "      <td>0</td>\n",
       "      <td>0</td>\n",
       "      <td>0</td>\n",
       "      <td>3</td>\n",
       "      <td>5</td>\n",
       "      <td>3</td>\n",
       "      <td>1</td>\n",
       "      <td>47837</td>\n",
       "      <td>...</td>\n",
       "      <td>Brannon Miller</td>\n",
       "      <td>12.0</td>\n",
       "      <td>Diversity Job Fair</td>\n",
       "      <td>Fully Meets</td>\n",
       "      <td>4.46</td>\n",
       "      <td>3</td>\n",
       "      <td>0</td>\n",
       "      <td>1/25/2019</td>\n",
       "      <td>0</td>\n",
       "      <td>4</td>\n",
       "    </tr>\n",
       "    <tr>\n",
       "      <th>9</th>\n",
       "      <td>Bacong, Alejandro</td>\n",
       "      <td>10250</td>\n",
       "      <td>0</td>\n",
       "      <td>2</td>\n",
       "      <td>1</td>\n",
       "      <td>1</td>\n",
       "      <td>3</td>\n",
       "      <td>3</td>\n",
       "      <td>0</td>\n",
       "      <td>50178</td>\n",
       "      <td>...</td>\n",
       "      <td>Peter Monroe</td>\n",
       "      <td>7.0</td>\n",
       "      <td>Indeed</td>\n",
       "      <td>Fully Meets</td>\n",
       "      <td>5.00</td>\n",
       "      <td>5</td>\n",
       "      <td>6</td>\n",
       "      <td>2/18/2019</td>\n",
       "      <td>0</td>\n",
       "      <td>16</td>\n",
       "    </tr>\n",
       "  </tbody>\n",
       "</table>\n",
       "<p>10 rows × 36 columns</p>\n",
       "</div>"
      ],
      "text/plain": [
       "              Employee_Name  EmpID  MarriedID  MaritalStatusID  GenderID  \\\n",
       "0       Adinolfi, Wilson  K  10026          0                0         1   \n",
       "1  Ait Sidi, Karthikeyan     10084          1                1         1   \n",
       "2         Akinkuolie, Sarah  10196          1                1         0   \n",
       "3              Alagbe,Trina  10088          1                1         0   \n",
       "4          Anderson, Carol   10069          0                2         0   \n",
       "5         Anderson, Linda    10002          0                0         0   \n",
       "6           Andreola, Colby  10194          0                0         0   \n",
       "7               Athwal, Sam  10062          0                4         1   \n",
       "8          Bachiochi, Linda  10114          0                0         0   \n",
       "9        Bacong, Alejandro   10250          0                2         1   \n",
       "\n",
       "   EmpStatusID  DeptID  PerfScoreID  FromDiversityJobFairID  Salary  ...  \\\n",
       "0            1       5            4                       0   62506  ...   \n",
       "1            5       3            3                       0  104437  ...   \n",
       "2            5       5            3                       0   64955  ...   \n",
       "3            1       5            3                       0   64991  ...   \n",
       "4            5       5            3                       0   50825  ...   \n",
       "5            1       5            4                       0   57568  ...   \n",
       "6            1       4            3                       0   95660  ...   \n",
       "7            1       5            3                       0   59365  ...   \n",
       "8            3       5            3                       1   47837  ...   \n",
       "9            1       3            3                       0   50178  ...   \n",
       "\n",
       "       ManagerName  ManagerID   RecruitmentSource PerformanceScore  \\\n",
       "0   Michael Albert       22.0            LinkedIn          Exceeds   \n",
       "1       Simon Roup        4.0              Indeed      Fully Meets   \n",
       "2   Kissy Sullivan       20.0            LinkedIn      Fully Meets   \n",
       "3     Elijiah Gray       16.0              Indeed      Fully Meets   \n",
       "4   Webster Butler       39.0       Google Search      Fully Meets   \n",
       "5         Amy Dunn       11.0            LinkedIn          Exceeds   \n",
       "6  Alex Sweetwater       10.0            LinkedIn      Fully Meets   \n",
       "7    Ketsia Liebig       19.0   Employee Referral      Fully Meets   \n",
       "8   Brannon Miller       12.0  Diversity Job Fair      Fully Meets   \n",
       "9     Peter Monroe        7.0              Indeed      Fully Meets   \n",
       "\n",
       "   EngagementSurvey EmpSatisfaction SpecialProjectsCount  \\\n",
       "0              4.60               5                    0   \n",
       "1              4.96               3                    6   \n",
       "2              3.02               3                    0   \n",
       "3              4.84               5                    0   \n",
       "4              5.00               4                    0   \n",
       "5              5.00               5                    0   \n",
       "6              3.04               3                    4   \n",
       "7              5.00               4                    0   \n",
       "8              4.46               3                    0   \n",
       "9              5.00               5                    6   \n",
       "\n",
       "  LastPerformanceReview_Date DaysLateLast30 Absences  \n",
       "0                  1/17/2019              0        1  \n",
       "1                  2/24/2016              0       17  \n",
       "2                  5/15/2012              0        3  \n",
       "3                   1/3/2019              0       15  \n",
       "4                   2/1/2016              0        2  \n",
       "5                   1/7/2019              0       15  \n",
       "6                   1/2/2019              0       19  \n",
       "7                  2/25/2019              0       19  \n",
       "8                  1/25/2019              0        4  \n",
       "9                  2/18/2019              0       16  \n",
       "\n",
       "[10 rows x 36 columns]"
      ]
     },
     "execution_count": 105,
     "metadata": {},
     "output_type": "execute_result"
    }
   ],
   "source": [
    "df.head(10)"
   ]
  },
  {
   "cell_type": "code",
   "execution_count": 106,
   "id": "dc39ec5e",
   "metadata": {},
   "outputs": [
    {
     "name": "stdout",
     "output_type": "stream",
     "text": [
      "<class 'pandas.core.frame.DataFrame'>\n",
      "RangeIndex: 311 entries, 0 to 310\n",
      "Data columns (total 36 columns):\n",
      " #   Column                      Non-Null Count  Dtype  \n",
      "---  ------                      --------------  -----  \n",
      " 0   Employee_Name               311 non-null    object \n",
      " 1   EmpID                       311 non-null    int64  \n",
      " 2   MarriedID                   311 non-null    int64  \n",
      " 3   MaritalStatusID             311 non-null    int64  \n",
      " 4   GenderID                    311 non-null    int64  \n",
      " 5   EmpStatusID                 311 non-null    int64  \n",
      " 6   DeptID                      311 non-null    int64  \n",
      " 7   PerfScoreID                 311 non-null    int64  \n",
      " 8   FromDiversityJobFairID      311 non-null    int64  \n",
      " 9   Salary                      311 non-null    int64  \n",
      " 10  Termd                       311 non-null    int64  \n",
      " 11  PositionID                  311 non-null    int64  \n",
      " 12  Position                    311 non-null    object \n",
      " 13  State                       311 non-null    object \n",
      " 14  Zip                         311 non-null    int64  \n",
      " 15  DOB                         311 non-null    object \n",
      " 16  Sex                         311 non-null    object \n",
      " 17  MaritalDesc                 311 non-null    object \n",
      " 18  CitizenDesc                 311 non-null    object \n",
      " 19  HispanicLatino              311 non-null    object \n",
      " 20  RaceDesc                    311 non-null    object \n",
      " 21  DateofHire                  311 non-null    object \n",
      " 22  DateofTermination           104 non-null    object \n",
      " 23  TermReason                  311 non-null    object \n",
      " 24  EmploymentStatus            311 non-null    object \n",
      " 25  Department                  311 non-null    object \n",
      " 26  ManagerName                 311 non-null    object \n",
      " 27  ManagerID                   303 non-null    float64\n",
      " 28  RecruitmentSource           311 non-null    object \n",
      " 29  PerformanceScore            311 non-null    object \n",
      " 30  EngagementSurvey            311 non-null    float64\n",
      " 31  EmpSatisfaction             311 non-null    int64  \n",
      " 32  SpecialProjectsCount        311 non-null    int64  \n",
      " 33  LastPerformanceReview_Date  311 non-null    object \n",
      " 34  DaysLateLast30              311 non-null    int64  \n",
      " 35  Absences                    311 non-null    int64  \n",
      "dtypes: float64(2), int64(16), object(18)\n",
      "memory usage: 87.6+ KB\n"
     ]
    }
   ],
   "source": [
    "df.info()"
   ]
  },
  {
   "cell_type": "markdown",
   "id": "2d31afbf",
   "metadata": {},
   "source": [
    "## 1. Edad vs Salario\n",
    "\n",
    "Diagrama de dispersión\n"
   ]
  },
  {
   "cell_type": "code",
   "execution_count": 107,
   "id": "c27b4938",
   "metadata": {},
   "outputs": [
    {
     "name": "stderr",
     "output_type": "stream",
     "text": [
      "/var/folders/rp/6wxwydps31nf_s9c1d5ntd0r0000gn/T/ipykernel_13905/993511202.py:4: UserWarning:\n",
      "\n",
      "Could not infer format, so each element will be parsed individually, falling back to `dateutil`. To ensure parsing is consistent and as-expected, please specify a format.\n",
      "\n"
     ]
    },
    {
     "data": {
      "application/vnd.plotly.v1+json": {
       "config": {
        "plotlyServerURL": "https://plot.ly"
       },
       "data": [
        {
         "customdata": [
          [
           "Adinolfi, Wilson  K",
           "Production       ",
           "Production Technician I"
          ],
          [
           "Ait Sidi, Karthikeyan   ",
           "IT/IS",
           "Sr. DBA"
          ],
          [
           "Athwal, Sam",
           "Production       ",
           "Production Technician I"
          ],
          [
           "Bacong, Alejandro ",
           "IT/IS",
           "IT Support"
          ],
          [
           "Barbossa, Hector",
           "IT/IS",
           "Data Analyst"
          ],
          [
           "Barone, Francesco  A",
           "Production       ",
           "Production Technician I"
          ],
          [
           "Barton, Nader",
           "Production       ",
           "Production Technician I"
          ],
          [
           "Bates, Norman",
           "Production       ",
           "Production Technician I"
          ],
          [
           "Becker, Scott",
           "Production       ",
           "Production Technician I"
          ],
          [
           "Buccheri, Joseph  ",
           "Production       ",
           "Production Technician II"
          ],
          [
           "Burkett, Benjamin ",
           "Production       ",
           "Production Technician II"
          ],
          [
           "Candie, Calvin",
           "Production       ",
           "Production Manager"
          ],
          [
           "Carey, Michael  ",
           "Production       ",
           "Production Technician I"
          ],
          [
           "Chang, Donovan  E",
           "Production       ",
           "Production Technician I"
          ],
          [
           "Clayton, Rick",
           "IT/IS",
           "IT Support"
          ],
          [
           "Close, Phil",
           "Production       ",
           "Production Technician II"
          ],
          [
           "Clukey, Elijian",
           "Production       ",
           "Production Technician I"
          ],
          [
           "Cockel, James",
           "Production       ",
           "Production Technician I"
          ],
          [
           "Cole, Spencer",
           "Production       ",
           "Production Technician I"
          ],
          [
           "Corleone, Michael",
           "Production       ",
           "Production Manager"
          ],
          [
           "Corleone, Vito",
           "Production       ",
           "Director of Operations"
          ],
          [
           "Costello, Frank",
           "IT/IS",
           "Data Analyst"
          ],
          [
           "Davis, Daniel",
           "Production       ",
           "Production Technician II"
          ],
          [
           "Dee, Randy",
           "Production       ",
           "Production Technician I"
          ],
          [
           "DeGweck,  James",
           "Production       ",
           "Production Technician I"
          ],
          [
           "Delarge, Alex",
           "Sales",
           "Area Sales Manager"
          ],
          [
           "DeVito, Tommy",
           "IT/IS",
           "BI Developer"
          ],
          [
           "Dickinson, Geoff ",
           "Production       ",
           "Production Technician I"
          ],
          [
           "England, Rex",
           "Production       ",
           "Production Technician I"
          ],
          [
           "Estremera, Miguel",
           "Production       ",
           "Production Technician I"
          ],
          [
           "Fernandes, Nilson  ",
           "Production       ",
           "Production Technician I"
          ],
          [
           "Fett, Boba",
           "IT/IS",
           "Network Engineer"
          ],
          [
           "Fitzpatrick, Michael  J",
           "Production       ",
           "Production Technician II"
          ],
          [
           "Forrest, Alex",
           "Sales",
           "Area Sales Manager"
          ],
          [
           "Foss, Jason",
           "IT/IS",
           "IT Director"
          ],
          [
           "Garcia, Raul",
           "Production       ",
           "Production Technician I"
          ],
          [
           "Goeth, Amon",
           "IT/IS",
           "IT Support"
          ],
          [
           "Gordon, David",
           "Production       ",
           "Production Technician I"
          ],
          [
           "Gray, Elijiah  ",
           "Production       ",
           "Production Manager"
          ],
          [
           "Gruber, Hans",
           "IT/IS",
           "BI Developer"
          ],
          [
           "Hankard, Earnest",
           "Production       ",
           "Production Technician II"
          ],
          [
           "Heitzman, Anthony",
           "Production       ",
           "Production Technician I"
          ],
          [
           "Hitchcock, Alfred",
           "Sales",
           "Area Sales Manager"
          ],
          [
           "Immediato, Walter",
           "Production       ",
           "Production Manager"
          ],
          [
           "Keatts, Kramer ",
           "Production       ",
           "Production Technician I"
          ],
          [
           "Khemmich, Bartholemew",
           "Sales",
           "Area Sales Manager"
          ],
          [
           "Knapp, Bradley  J",
           "Production       ",
           "Production Technician I"
          ],
          [
           "Kretschmer, John",
           "Production       ",
           "Production Technician I"
          ],
          [
           "Lajiri,  Jyoti",
           "IT/IS",
           "Sr. Network Engineer"
          ],
          [
           "Langton, Enrico",
           "Production       ",
           "Production Technician I"
          ],
          [
           "LaRotonda, William  ",
           "Admin Offices",
           "Accountant I"
          ],
          [
           "Latif, Mohammed",
           "Production       ",
           "Production Technician II"
          ],
          [
           "LeBlanc, Brandon  R",
           "Admin Offices",
           "Shared Services Manager"
          ],
          [
           "Lecter, Hannibal",
           "Production       ",
           "Production Technician I"
          ],
          [
           "Leruth, Giovanni",
           "Sales",
           "Area Sales Manager"
          ],
          [
           "Linden, Mathew",
           "Production       ",
           "Production Technician II"
          ],
          [
           "McKinzie, Jac",
           "Sales",
           "Area Sales Manager"
          ],
          [
           "Miller, Brannon",
           "Production       ",
           "Production Manager"
          ],
          [
           "Miller, Ned",
           "Production       ",
           "Production Technician II"
          ],
          [
           "Monkfish, Erasumus",
           "Production       ",
           "Production Technician II"
          ],
          [
           "Monroe, Peter",
           "IT/IS",
           "IT Manager - Infra"
          ],
          [
           "Moran, Patrick",
           "Production       ",
           "Production Technician II"
          ],
          [
           "Myers, Michael",
           "Production       ",
           "Production Technician I"
          ],
          [
           "Ndzi, Colombui",
           "Production       ",
           "Production Technician I"
          ],
          [
           "Ndzi, Horia",
           "Production       ",
           "Production Technician I"
          ],
          [
           "Newman, Richard ",
           "Production       ",
           "Production Technician I"
          ],
          [
           "Osturnka, Adeel",
           "Production       ",
           "Production Technician I"
          ],
          [
           "Owad, Clinton",
           "Production       ",
           "Production Technician I"
          ],
          [
           "Ozark, Travis",
           "Sales",
           "Area Sales Manager"
          ],
          [
           "Patronick, Lucas",
           "Software Engineering",
           "Software Engineer"
          ],
          [
           "Pearson, Randall",
           "IT/IS",
           "Data Analyst"
          ],
          [
           "Smith, Martin",
           "Production       ",
           "Production Technician I"
          ],
          [
           "Pham, Hong",
           "Production       ",
           "Production Technician I"
          ],
          [
           "Pitt, Brad ",
           "Production       ",
           "Production Technician I"
          ],
          [
           "Quinn, Sean",
           "Software Engineering",
           "Software Engineer"
          ],
          [
           "Rarrick, Quinn",
           "Production       ",
           "Production Technician I"
          ],
          [
           "Rhoads, Thomas",
           "Production       ",
           "Production Technician I"
          ],
          [
           "Robinson, Elias",
           "Production       ",
           "Production Technician I"
          ],
          [
           "Rossetti, Bruno",
           "Production       ",
           "Production Technician I"
          ],
          [
           "Sahoo, Adil",
           "Production       ",
           "Production Technician II"
          ],
          [
           "Salter, Jason",
           "IT/IS",
           "Data Analyst "
          ],
          [
           "Smith, John",
           "Sales",
           "Sales Manager"
          ],
          [
           "Soze, Keyser",
           "IT/IS",
           "Sr. Network Engineer"
          ],
          [
           "Steans, Tyrone  ",
           "Admin Offices",
           "Accountant I"
          ],
          [
           "Stoica, Rick",
           "Production       ",
           "Production Technician I"
          ],
          [
           "Sullivan, Timothy",
           "Production       ",
           "Production Technician I"
          ],
          [
           "Szabo, Andrew",
           "Software Engineering",
           "Software Engineer"
          ],
          [
           "Tannen, Biff",
           "IT/IS",
           "BI Developer"
          ],
          [
           "Thibaud, Kenneth",
           "Production       ",
           "Production Technician II"
          ],
          [
           "Tredinnick, Neville ",
           "IT/IS",
           "Network Engineer"
          ],
          [
           "True, Edward",
           "Software Engineering",
           "Software Engineer"
          ],
          [
           "Veera, Abdellah ",
           "Production       ",
           "Production Technician I"
          ],
          [
           "Villanueva, Noah",
           "Sales",
           "Area Sales Manager"
          ],
          [
           "Voldemort, Lord",
           "IT/IS",
           "Database Administrator"
          ],
          [
           "Walker, Roger",
           "Production       ",
           "Production Technician II"
          ],
          [
           "Wang, Charlie",
           "IT/IS",
           "Senior BI Developer"
          ],
          [
           "Whittier, Scott",
           "Production       ",
           "Production Technician I"
          ],
          [
           "Woodson, Jason",
           "Production       ",
           "Production Technician II"
          ]
         ],
         "hovertemplate": "Sex=M <br>Edad=%{x}<br>Salario=%{y}<br>Employee_Name=%{customdata[0]}<br>Department=%{customdata[1]}<br>Position=%{customdata[2]}<extra></extra>",
         "legendgroup": "M ",
         "marker": {
          "color": "#636efa",
          "symbol": "circle"
         },
         "mode": "markers",
         "name": "M ",
         "orientation": "v",
         "showlegend": true,
         "type": "scatter",
         "x": [
          41,
          50,
          42,
          37,
          36,
          41,
          47,
          43,
          46,
          41,
          47,
          41,
          42,
          41,
          39,
          46,
          44,
          47,
          45,
          49,
          42,
          38,
          45,
          37,
          47,
          49,
          41,
          42,
          46,
          41,
          35,
          37,
          43,
          49,
          44,
          39,
          35,
          46,
          43,
          35,
          36,
          41,
          36,
          48,
          49,
          45,
          47,
          45,
          39,
          38,
          41,
          41,
          41,
          42,
          36,
          46,
          40,
          43,
          39,
          32,
          38,
          48,
          45,
          36,
          42,
          48,
          48,
          45,
          43,
          46,
          40,
          37,
          37,
          43,
          40,
          40,
          42,
          40,
          38,
          39,
          37,
          40,
          42,
          38,
          40,
          42,
          42,
          37,
          49,
          37,
          42,
          38,
          35,
          38,
          49,
          43,
          38,
          40
         ],
         "xaxis": "x",
         "y": [
          62506,
          104437,
          59365,
          50178,
          92328,
          58709,
          52505,
          57834,
          53250,
          65288,
          62162,
          72640,
          52846,
          60380,
          68678,
          59369,
          50373,
          63108,
          59144,
          68051,
          170500,
          83552,
          56294,
          56991,
          55722,
          61568,
          96820,
          51259,
          54285,
          60340,
          64057,
          53366,
          72609,
          70187,
          178000,
          52249,
          74679,
          48285,
          62957,
          99020,
          64246,
          46998,
          70545,
          83082,
          50482,
          65310,
          46654,
          63973,
          93206,
          46120,
          64520,
          61962,
          93046,
          64738,
          70468,
          63450,
          63291,
          83667,
          55800,
          58207,
          157000,
          72106,
          57575,
          50470,
          46664,
          48495,
          47414,
          53060,
          68829,
          108987,
          93093,
          53564,
          64724,
          47001,
          83363,
          61729,
          45115,
          63353,
          53180,
          57975,
          88527,
          72992,
          87565,
          63003,
          61355,
          63025,
          92989,
          90100,
          67176,
          75281,
          100416,
          58523,
          55875,
          113999,
          66541,
          84903,
          58371,
          65893
         ],
         "yaxis": "y"
        },
        {
         "customdata": [
          [
           "Akinkuolie, Sarah",
           "Production       ",
           "Production Technician II"
          ],
          [
           "Alagbe,Trina",
           "Production       ",
           "Production Technician I"
          ],
          [
           "Anderson, Carol ",
           "Production       ",
           "Production Technician I"
          ],
          [
           "Anderson, Linda  ",
           "Production       ",
           "Production Technician I"
          ],
          [
           "Andreola, Colby",
           "Software Engineering",
           "Software Engineer"
          ],
          [
           "Becker, Renee",
           "IT/IS",
           "Database Administrator"
          ],
          [
           "Billis, Helen",
           "Production       ",
           "Production Technician I"
          ],
          [
           "Blount, Dianna",
           "Production       ",
           "Production Technician II"
          ],
          [
           "Boutwell, Bonalyn",
           "Admin Offices",
           "Sr. Accountant"
          ],
          [
           "Brill, Donna",
           "Production       ",
           "Production Technician I"
          ],
          [
           "Brown, Mia",
           "Admin Offices",
           "Accountant I"
          ],
          [
           "Burke, Joelle",
           "Production       ",
           "Production Technician II"
          ],
          [
           "Carabbio, Judith",
           "Software Engineering",
           "Software Engineer"
          ],
          [
           "Carr, Claudia  N",
           "IT/IS",
           "Sr. DBA"
          ],
          [
           "Chan, Lin",
           "Production       ",
           "Production Technician I"
          ],
          [
           "Chivukula, Enola",
           "Production       ",
           "Production Technician I"
          ],
          [
           "Cierpiszewski, Caroline  ",
           "Production       ",
           "Production Technician I"
          ],
          [
           "Cloninger, Jennifer",
           "Production       ",
           "Production Technician II"
          ],
          [
           "Cornett, Lisa ",
           "Production       ",
           "Production Technician I"
          ],
          [
           "Crimmings,   Jean",
           "Production       ",
           "Production Technician I"
          ],
          [
           "Daneault, Lynn",
           "Sales",
           "Sales Manager"
          ],
          [
           "Darson, Jene'ya ",
           "Production       ",
           "Production Technician I"
          ],
          [
           "Del Bosque, Keyla",
           "Software Engineering",
           "Software Engineer"
          ],
          [
           "Dietrich, Jenna  ",
           "Sales",
           "Area Sales Manager"
          ],
          [
           "DiNocco, Lily ",
           "Production       ",
           "Production Technician I"
          ],
          [
           "Dobrin, Denisa  S",
           "Production       ",
           "Production Technician I"
          ],
          [
           "Dolan, Linda",
           "IT/IS",
           "IT Support"
          ],
          [
           "Driver, Elle",
           "Sales",
           "Area Sales Manager"
          ],
          [
           "Eaton, Marianne",
           "Production       ",
           "Production Technician I"
          ],
          [
           "Erilus, Angela",
           "Production       ",
           "Production Technician II"
          ],
          [
           "Evensen, April",
           "Production       ",
           "Production Technician I"
          ],
          [
           "Exantus, Susan",
           "Software Engineering",
           "Software Engineer"
          ],
          [
           "Faller, Megan ",
           "Production       ",
           "Production Technician II"
          ],
          [
           "Fancett, Nicole",
           "Production       ",
           "Production Technician II"
          ],
          [
           "Fidelia,  Libby",
           "Production       ",
           "Production Technician I"
          ],
          [
           "Foreman, Tanya",
           "Production       ",
           "Production Technician II"
          ],
          [
           "Foster-Baker, Amy",
           "Admin Offices",
           "Sr. Accountant"
          ],
          [
           "Gaul, Barbara",
           "Production       ",
           "Production Technician I"
          ],
          [
           "Gentry, Mildred",
           "Production       ",
           "Production Technician I"
          ],
          [
           "Girifalco, Evelyn",
           "Production       ",
           "Production Technician I"
          ],
          [
           "Givens, Myriam",
           "Sales",
           "Area Sales Manager"
          ],
          [
           "Gold, Shenice  ",
           "Production       ",
           "Production Technician I"
          ],
          [
           "Gonzalez, Maria",
           "IT/IS",
           "IT Support"
          ],
          [
           "Good, Susan",
           "Production       ",
           "Production Technician II"
          ],
          [
           "Gosciminski, Phylicia  ",
           "Production       ",
           "Production Technician II"
          ],
          [
           "Gross, Paula",
           "Production       ",
           "Production Technician I"
          ],
          [
           "Handschiegl, Joanne",
           "Production       ",
           "Production Technician I"
          ],
          [
           "Homberger, Adrienne  J",
           "Production       ",
           "Production Technician II"
          ],
          [
           "Horton, Jayne",
           "IT/IS",
           "Database Administrator"
          ],
          [
           "Howard, Estelle",
           "Admin Offices",
           "Administrative Assistant"
          ],
          [
           "Hudson, Jane",
           "Production       ",
           "Production Technician I"
          ],
          [
           "Hunts, Julissa",
           "Production       ",
           "Production Technician II"
          ],
          [
           "Hutter, Rosalie",
           "Production       ",
           "Production Technician II"
          ],
          [
           "Huynh, Ming",
           "Production       ",
           "Production Technician II"
          ],
          [
           "Ivey, Rose ",
           "Production       ",
           "Production Technician I"
          ],
          [
           "Jeannite, Tayana",
           "Production       ",
           "Production Technician II"
          ],
          [
           "Johnson, Noelle ",
           "IT/IS",
           "Database Administrator"
          ],
          [
           "Jung, Judy  ",
           "Production       ",
           "Production Technician I"
          ],
          [
           "Kampew, Donysha",
           "Sales",
           "Sales Manager"
          ],
          [
           "Langford, Lindsey",
           "Production       ",
           "Production Technician II"
          ],
          [
           "Le, Binh",
           "IT/IS",
           "Senior BI Developer"
          ],
          [
           "Leach, Dallas",
           "Production       ",
           "Production Technician I"
          ],
          [
           "Liebig, Ketsia",
           "Production       ",
           "Production Manager"
          ],
          [
           "Linares, Marilyn ",
           "Production       ",
           "Production Technician I"
          ],
          [
           "Lindsay, Leonara ",
           "IT/IS",
           "IT Support"
          ],
          [
           "Lundy, Susan",
           "Production       ",
           "Production Technician II"
          ],
          [
           "Lunquist, Lisa",
           "Production       ",
           "Production Technician II"
          ],
          [
           "Lydon, Allison",
           "Production       ",
           "Production Technician I"
          ],
          [
           "Mahoney, Lauren  ",
           "Production       ",
           "Production Technician I"
          ],
          [
           "Manchester, Robyn",
           "Production       ",
           "Production Technician II"
          ],
          [
           "Mancuso, Karen",
           "Production       ",
           "Production Technician II"
          ],
          [
           "Martin, Sandra",
           "Software Engineering",
           "Software Engineer"
          ],
          [
           "Maurice, Shana",
           "Production       ",
           "Production Technician I"
          ],
          [
           "Carthy, B'rigit",
           "Production       ",
           "Production Technician II"
          ],
          [
           "Mckenna, Sandy",
           "Production       ",
           "Production Technician I"
          ],
          [
           "Medeiros, Jennifer",
           "Production       ",
           "Production Technician I"
          ],
          [
           "Morway, Tanya",
           "IT/IS",
           "Network Engineer"
          ],
          [
           "Motlagh,  Dawn",
           "Production       ",
           "Production Technician I"
          ],
          [
           "Nguyen, Dheepa",
           "Sales",
           "Area Sales Manager"
          ],
          [
           "Nguyen, Lei-Ming",
           "Production       ",
           "Production Technician I"
          ],
          [
           "Nowlan, Kristie",
           "Production       ",
           "Production Technician II"
          ],
          [
           "O'hare, Lynn",
           "Production       ",
           "Production Technician I"
          ],
          [
           "Onque, Jasmine",
           "Sales",
           "Area Sales Manager"
          ],
          [
           "Panjwani, Nina",
           "Production       ",
           "Production Technician I"
          ],
          [
           "Pelletier, Ermine",
           "Production       ",
           "Production Technician II"
          ],
          [
           "Perry, Shakira",
           "Production       ",
           "Production Technician I"
          ],
          [
           "Peters, Lauren",
           "Production       ",
           "Production Technician II"
          ],
          [
           "Peterson, Ebonee  ",
           "Production       ",
           "Production Manager"
          ],
          [
           "Petingill, Shana  ",
           "Production       ",
           "Production Technician II"
          ],
          [
           "Petrowsky, Thelma",
           "IT/IS",
           "Data Analyst"
          ],
          [
           "Potts, Xana",
           "Sales",
           "Area Sales Manager"
          ],
          [
           "Power, Morissa",
           "Production       ",
           "Production Technician I"
          ],
          [
           "Rachael, Maggie",
           "IT/IS",
           "BI Developer"
          ],
          [
           "Roberson, May",
           "Production       ",
           "Production Technician II"
          ],
          [
           "Robinson, Cherly",
           "Production       ",
           "Production Technician I"
          ],
          [
           "Roby, Lori ",
           "IT/IS",
           "Data Analyst"
          ],
          [
           "Saada, Adell",
           "Software Engineering",
           "Software Engineer"
          ],
          [
           "Sander, Kamrin",
           "Production       ",
           "Production Technician I"
          ],
          [
           "Sewkumar, Nori",
           "Production       ",
           "Production Technician I"
          ],
          [
           "Shepard, Anita ",
           "IT/IS",
           "Network Engineer"
          ],
          [
           "Shields, Seffi",
           "Production       ",
           "Production Technician I"
          ],
          [
           "Singh, Nan ",
           "Admin Offices",
           "Administrative Assistant"
          ],
          [
           "Sloan, Constance",
           "Production       ",
           "Production Technician II"
          ],
          [
           "Smith, Leigh Ann",
           "Admin Offices",
           "Administrative Assistant"
          ],
          [
           "Spirea, Kelley",
           "Production       ",
           "Production Manager"
          ],
          [
           "Stanford,Barbara  M",
           "Production       ",
           "Production Technician I"
          ],
          [
           "Strong, Caitrin",
           "Sales",
           "Area Sales Manager"
          ],
          [
           "Sullivan, Kissy ",
           "Production       ",
           "Production Manager"
          ],
          [
           "Tavares, Desiree  ",
           "Production       ",
           "Production Technician I"
          ],
          [
           "Trang, Mei",
           "Production       ",
           "Production Technician I"
          ],
          [
           "Trzeciak, Cybil",
           "Production       ",
           "Production Technician II"
          ],
          [
           "Valentin,Jackie",
           "Sales",
           "Area Sales Manager"
          ],
          [
           "Volk, Colleen",
           "Production       ",
           "Production Technician I"
          ],
          [
           "Von Massenbach, Anna",
           "Production       ",
           "Production Technician I"
          ],
          [
           "Wallace, Theresa",
           "Production       ",
           "Production Technician I"
          ],
          [
           "Warfield, Sarah",
           "IT/IS",
           "Sr. Network Engineer"
          ],
          [
           "Wilkes, Annie",
           "Production       ",
           "Production Technician I"
          ],
          [
           "Wolk, Hang  T",
           "Production       ",
           "Production Technician II"
          ],
          [
           "Ybarra, Catherine ",
           "Production       ",
           "Production Technician I"
          ],
          [
           "Zamora, Jennifer",
           "IT/IS",
           "CIO"
          ],
          [
           "Zhou, Julia",
           "IT/IS",
           "Data Analyst"
          ],
          [
           "Zima, Colleen",
           "Production       ",
           "Production Technician I"
          ]
         ],
         "hovertemplate": "Sex=F<br>Edad=%{x}<br>Salario=%{y}<br>Employee_Name=%{customdata[0]}<br>Department=%{customdata[1]}<br>Position=%{customdata[2]}<extra></extra>",
         "legendgroup": "F",
         "marker": {
          "color": "#EF553B",
          "symbol": "circle"
         },
         "mode": "markers",
         "name": "F",
         "orientation": "v",
         "showlegend": true,
         "type": "scatter",
         "x": [
          36,
          36,
          35,
          48,
          46,
          39,
          35,
          34,
          38,
          34,
          37,
          45,
          38,
          39,
          46,
          41,
          37,
          43,
          48,
          38,
          35,
          46,
          45,
          38,
          46,
          38,
          36,
          36,
          33,
          35,
          36,
          38,
          46,
          37,
          44,
          41,
          46,
          41,
          34,
          45,
          35,
          32,
          44,
          39,
          41,
          42,
          48,
          41,
          41,
          39,
          39,
          41,
          33,
          48,
          34,
          38,
          38,
          39,
          35,
          45,
          38,
          46,
          43,
          44,
          36,
          48,
          43,
          49,
          38,
          48,
          38,
          37,
          47,
          38,
          38,
          48,
          46,
          40,
          36,
          40,
          39,
          44,
          35,
          46,
          35,
          38,
          38,
          48,
          46,
          40,
          36,
          40,
          45,
          43,
          40,
          43,
          38,
          36,
          50,
          44,
          39,
          37,
          37,
          38,
          49,
          42,
          36,
          47,
          50,
          42,
          40,
          34,
          39,
          40,
          44,
          47,
          41,
          40,
          43,
          45,
          46,
          46
         ],
         "xaxis": "x",
         "y": [
          64955,
          64991,
          50825,
          57568,
          95660,
          110000,
          62910,
          66441,
          106367,
          53492,
          63000,
          63763,
          93396,
          100031,
          54237,
          64786,
          64816,
          64066,
          63381,
          56149,
          65729,
          57583,
          101199,
          59231,
          61584,
          46335,
          70621,
          74241,
          60070,
          56847,
          59124,
          99280,
          71776,
          65902,
          58530,
          55965,
          99351,
          53171,
          51337,
          57815,
          61555,
          53018,
          61242,
          66825,
          66149,
          63813,
          54828,
          63478,
          97999,
          49920,
          55425,
          69340,
          64995,
          68182,
          51908,
          60724,
          105700,
          61154,
          68999,
          66074,
          81584,
          63676,
          77915,
          52624,
          51777,
          67237,
          73330,
          52057,
          45395,
          62385,
          68407,
          105688,
          54132,
          55315,
          62810,
          55688,
          52599,
          63430,
          63695,
          62061,
          66738,
          52674,
          63051,
          63515,
          60270,
          45998,
          57954,
          74669,
          74226,
          93554,
          61844,
          46799,
          95920,
          64971,
          61422,
          89883,
          86214,
          56147,
          50923,
          50750,
          52087,
          51920,
          63878,
          55000,
          65714,
          47961,
          60120,
          63682,
          60754,
          63025,
          74813,
          57859,
          49773,
          62068,
          50274,
          107226,
          58062,
          60446,
          48513,
          220450,
          89292,
          45046
         ],
         "yaxis": "y"
        }
       ],
       "layout": {
        "legend": {
         "title": {
          "text": "Sex"
         },
         "tracegroupgap": 0
        },
        "template": {
         "data": {
          "bar": [
           {
            "error_x": {
             "color": "#2a3f5f"
            },
            "error_y": {
             "color": "#2a3f5f"
            },
            "marker": {
             "line": {
              "color": "#E5ECF6",
              "width": 0.5
             },
             "pattern": {
              "fillmode": "overlay",
              "size": 10,
              "solidity": 0.2
             }
            },
            "type": "bar"
           }
          ],
          "barpolar": [
           {
            "marker": {
             "line": {
              "color": "#E5ECF6",
              "width": 0.5
             },
             "pattern": {
              "fillmode": "overlay",
              "size": 10,
              "solidity": 0.2
             }
            },
            "type": "barpolar"
           }
          ],
          "carpet": [
           {
            "aaxis": {
             "endlinecolor": "#2a3f5f",
             "gridcolor": "white",
             "linecolor": "white",
             "minorgridcolor": "white",
             "startlinecolor": "#2a3f5f"
            },
            "baxis": {
             "endlinecolor": "#2a3f5f",
             "gridcolor": "white",
             "linecolor": "white",
             "minorgridcolor": "white",
             "startlinecolor": "#2a3f5f"
            },
            "type": "carpet"
           }
          ],
          "choropleth": [
           {
            "colorbar": {
             "outlinewidth": 0,
             "ticks": ""
            },
            "type": "choropleth"
           }
          ],
          "contour": [
           {
            "colorbar": {
             "outlinewidth": 0,
             "ticks": ""
            },
            "colorscale": [
             [
              0,
              "#0d0887"
             ],
             [
              0.1111111111111111,
              "#46039f"
             ],
             [
              0.2222222222222222,
              "#7201a8"
             ],
             [
              0.3333333333333333,
              "#9c179e"
             ],
             [
              0.4444444444444444,
              "#bd3786"
             ],
             [
              0.5555555555555556,
              "#d8576b"
             ],
             [
              0.6666666666666666,
              "#ed7953"
             ],
             [
              0.7777777777777778,
              "#fb9f3a"
             ],
             [
              0.8888888888888888,
              "#fdca26"
             ],
             [
              1,
              "#f0f921"
             ]
            ],
            "type": "contour"
           }
          ],
          "contourcarpet": [
           {
            "colorbar": {
             "outlinewidth": 0,
             "ticks": ""
            },
            "type": "contourcarpet"
           }
          ],
          "heatmap": [
           {
            "colorbar": {
             "outlinewidth": 0,
             "ticks": ""
            },
            "colorscale": [
             [
              0,
              "#0d0887"
             ],
             [
              0.1111111111111111,
              "#46039f"
             ],
             [
              0.2222222222222222,
              "#7201a8"
             ],
             [
              0.3333333333333333,
              "#9c179e"
             ],
             [
              0.4444444444444444,
              "#bd3786"
             ],
             [
              0.5555555555555556,
              "#d8576b"
             ],
             [
              0.6666666666666666,
              "#ed7953"
             ],
             [
              0.7777777777777778,
              "#fb9f3a"
             ],
             [
              0.8888888888888888,
              "#fdca26"
             ],
             [
              1,
              "#f0f921"
             ]
            ],
            "type": "heatmap"
           }
          ],
          "heatmapgl": [
           {
            "colorbar": {
             "outlinewidth": 0,
             "ticks": ""
            },
            "colorscale": [
             [
              0,
              "#0d0887"
             ],
             [
              0.1111111111111111,
              "#46039f"
             ],
             [
              0.2222222222222222,
              "#7201a8"
             ],
             [
              0.3333333333333333,
              "#9c179e"
             ],
             [
              0.4444444444444444,
              "#bd3786"
             ],
             [
              0.5555555555555556,
              "#d8576b"
             ],
             [
              0.6666666666666666,
              "#ed7953"
             ],
             [
              0.7777777777777778,
              "#fb9f3a"
             ],
             [
              0.8888888888888888,
              "#fdca26"
             ],
             [
              1,
              "#f0f921"
             ]
            ],
            "type": "heatmapgl"
           }
          ],
          "histogram": [
           {
            "marker": {
             "pattern": {
              "fillmode": "overlay",
              "size": 10,
              "solidity": 0.2
             }
            },
            "type": "histogram"
           }
          ],
          "histogram2d": [
           {
            "colorbar": {
             "outlinewidth": 0,
             "ticks": ""
            },
            "colorscale": [
             [
              0,
              "#0d0887"
             ],
             [
              0.1111111111111111,
              "#46039f"
             ],
             [
              0.2222222222222222,
              "#7201a8"
             ],
             [
              0.3333333333333333,
              "#9c179e"
             ],
             [
              0.4444444444444444,
              "#bd3786"
             ],
             [
              0.5555555555555556,
              "#d8576b"
             ],
             [
              0.6666666666666666,
              "#ed7953"
             ],
             [
              0.7777777777777778,
              "#fb9f3a"
             ],
             [
              0.8888888888888888,
              "#fdca26"
             ],
             [
              1,
              "#f0f921"
             ]
            ],
            "type": "histogram2d"
           }
          ],
          "histogram2dcontour": [
           {
            "colorbar": {
             "outlinewidth": 0,
             "ticks": ""
            },
            "colorscale": [
             [
              0,
              "#0d0887"
             ],
             [
              0.1111111111111111,
              "#46039f"
             ],
             [
              0.2222222222222222,
              "#7201a8"
             ],
             [
              0.3333333333333333,
              "#9c179e"
             ],
             [
              0.4444444444444444,
              "#bd3786"
             ],
             [
              0.5555555555555556,
              "#d8576b"
             ],
             [
              0.6666666666666666,
              "#ed7953"
             ],
             [
              0.7777777777777778,
              "#fb9f3a"
             ],
             [
              0.8888888888888888,
              "#fdca26"
             ],
             [
              1,
              "#f0f921"
             ]
            ],
            "type": "histogram2dcontour"
           }
          ],
          "mesh3d": [
           {
            "colorbar": {
             "outlinewidth": 0,
             "ticks": ""
            },
            "type": "mesh3d"
           }
          ],
          "parcoords": [
           {
            "line": {
             "colorbar": {
              "outlinewidth": 0,
              "ticks": ""
             }
            },
            "type": "parcoords"
           }
          ],
          "pie": [
           {
            "automargin": true,
            "type": "pie"
           }
          ],
          "scatter": [
           {
            "fillpattern": {
             "fillmode": "overlay",
             "size": 10,
             "solidity": 0.2
            },
            "type": "scatter"
           }
          ],
          "scatter3d": [
           {
            "line": {
             "colorbar": {
              "outlinewidth": 0,
              "ticks": ""
             }
            },
            "marker": {
             "colorbar": {
              "outlinewidth": 0,
              "ticks": ""
             }
            },
            "type": "scatter3d"
           }
          ],
          "scattercarpet": [
           {
            "marker": {
             "colorbar": {
              "outlinewidth": 0,
              "ticks": ""
             }
            },
            "type": "scattercarpet"
           }
          ],
          "scattergeo": [
           {
            "marker": {
             "colorbar": {
              "outlinewidth": 0,
              "ticks": ""
             }
            },
            "type": "scattergeo"
           }
          ],
          "scattergl": [
           {
            "marker": {
             "colorbar": {
              "outlinewidth": 0,
              "ticks": ""
             }
            },
            "type": "scattergl"
           }
          ],
          "scattermapbox": [
           {
            "marker": {
             "colorbar": {
              "outlinewidth": 0,
              "ticks": ""
             }
            },
            "type": "scattermapbox"
           }
          ],
          "scatterpolar": [
           {
            "marker": {
             "colorbar": {
              "outlinewidth": 0,
              "ticks": ""
             }
            },
            "type": "scatterpolar"
           }
          ],
          "scatterpolargl": [
           {
            "marker": {
             "colorbar": {
              "outlinewidth": 0,
              "ticks": ""
             }
            },
            "type": "scatterpolargl"
           }
          ],
          "scatterternary": [
           {
            "marker": {
             "colorbar": {
              "outlinewidth": 0,
              "ticks": ""
             }
            },
            "type": "scatterternary"
           }
          ],
          "surface": [
           {
            "colorbar": {
             "outlinewidth": 0,
             "ticks": ""
            },
            "colorscale": [
             [
              0,
              "#0d0887"
             ],
             [
              0.1111111111111111,
              "#46039f"
             ],
             [
              0.2222222222222222,
              "#7201a8"
             ],
             [
              0.3333333333333333,
              "#9c179e"
             ],
             [
              0.4444444444444444,
              "#bd3786"
             ],
             [
              0.5555555555555556,
              "#d8576b"
             ],
             [
              0.6666666666666666,
              "#ed7953"
             ],
             [
              0.7777777777777778,
              "#fb9f3a"
             ],
             [
              0.8888888888888888,
              "#fdca26"
             ],
             [
              1,
              "#f0f921"
             ]
            ],
            "type": "surface"
           }
          ],
          "table": [
           {
            "cells": {
             "fill": {
              "color": "#EBF0F8"
             },
             "line": {
              "color": "white"
             }
            },
            "header": {
             "fill": {
              "color": "#C8D4E3"
             },
             "line": {
              "color": "white"
             }
            },
            "type": "table"
           }
          ]
         },
         "layout": {
          "annotationdefaults": {
           "arrowcolor": "#2a3f5f",
           "arrowhead": 0,
           "arrowwidth": 1
          },
          "autotypenumbers": "strict",
          "coloraxis": {
           "colorbar": {
            "outlinewidth": 0,
            "ticks": ""
           }
          },
          "colorscale": {
           "diverging": [
            [
             0,
             "#8e0152"
            ],
            [
             0.1,
             "#c51b7d"
            ],
            [
             0.2,
             "#de77ae"
            ],
            [
             0.3,
             "#f1b6da"
            ],
            [
             0.4,
             "#fde0ef"
            ],
            [
             0.5,
             "#f7f7f7"
            ],
            [
             0.6,
             "#e6f5d0"
            ],
            [
             0.7,
             "#b8e186"
            ],
            [
             0.8,
             "#7fbc41"
            ],
            [
             0.9,
             "#4d9221"
            ],
            [
             1,
             "#276419"
            ]
           ],
           "sequential": [
            [
             0,
             "#0d0887"
            ],
            [
             0.1111111111111111,
             "#46039f"
            ],
            [
             0.2222222222222222,
             "#7201a8"
            ],
            [
             0.3333333333333333,
             "#9c179e"
            ],
            [
             0.4444444444444444,
             "#bd3786"
            ],
            [
             0.5555555555555556,
             "#d8576b"
            ],
            [
             0.6666666666666666,
             "#ed7953"
            ],
            [
             0.7777777777777778,
             "#fb9f3a"
            ],
            [
             0.8888888888888888,
             "#fdca26"
            ],
            [
             1,
             "#f0f921"
            ]
           ],
           "sequentialminus": [
            [
             0,
             "#0d0887"
            ],
            [
             0.1111111111111111,
             "#46039f"
            ],
            [
             0.2222222222222222,
             "#7201a8"
            ],
            [
             0.3333333333333333,
             "#9c179e"
            ],
            [
             0.4444444444444444,
             "#bd3786"
            ],
            [
             0.5555555555555556,
             "#d8576b"
            ],
            [
             0.6666666666666666,
             "#ed7953"
            ],
            [
             0.7777777777777778,
             "#fb9f3a"
            ],
            [
             0.8888888888888888,
             "#fdca26"
            ],
            [
             1,
             "#f0f921"
            ]
           ]
          },
          "colorway": [
           "#636efa",
           "#EF553B",
           "#00cc96",
           "#ab63fa",
           "#FFA15A",
           "#19d3f3",
           "#FF6692",
           "#B6E880",
           "#FF97FF",
           "#FECB52"
          ],
          "font": {
           "color": "#2a3f5f"
          },
          "geo": {
           "bgcolor": "white",
           "lakecolor": "white",
           "landcolor": "#E5ECF6",
           "showlakes": true,
           "showland": true,
           "subunitcolor": "white"
          },
          "hoverlabel": {
           "align": "left"
          },
          "hovermode": "closest",
          "mapbox": {
           "style": "light"
          },
          "paper_bgcolor": "white",
          "plot_bgcolor": "#E5ECF6",
          "polar": {
           "angularaxis": {
            "gridcolor": "white",
            "linecolor": "white",
            "ticks": ""
           },
           "bgcolor": "#E5ECF6",
           "radialaxis": {
            "gridcolor": "white",
            "linecolor": "white",
            "ticks": ""
           }
          },
          "scene": {
           "xaxis": {
            "backgroundcolor": "#E5ECF6",
            "gridcolor": "white",
            "gridwidth": 2,
            "linecolor": "white",
            "showbackground": true,
            "ticks": "",
            "zerolinecolor": "white"
           },
           "yaxis": {
            "backgroundcolor": "#E5ECF6",
            "gridcolor": "white",
            "gridwidth": 2,
            "linecolor": "white",
            "showbackground": true,
            "ticks": "",
            "zerolinecolor": "white"
           },
           "zaxis": {
            "backgroundcolor": "#E5ECF6",
            "gridcolor": "white",
            "gridwidth": 2,
            "linecolor": "white",
            "showbackground": true,
            "ticks": "",
            "zerolinecolor": "white"
           }
          },
          "shapedefaults": {
           "line": {
            "color": "#2a3f5f"
           }
          },
          "ternary": {
           "aaxis": {
            "gridcolor": "white",
            "linecolor": "white",
            "ticks": ""
           },
           "baxis": {
            "gridcolor": "white",
            "linecolor": "white",
            "ticks": ""
           },
           "bgcolor": "#E5ECF6",
           "caxis": {
            "gridcolor": "white",
            "linecolor": "white",
            "ticks": ""
           }
          },
          "title": {
           "x": 0.05
          },
          "xaxis": {
           "automargin": true,
           "gridcolor": "white",
           "linecolor": "white",
           "ticks": "",
           "title": {
            "standoff": 15
           },
           "zerolinecolor": "white",
           "zerolinewidth": 2
          },
          "yaxis": {
           "automargin": true,
           "gridcolor": "white",
           "linecolor": "white",
           "ticks": "",
           "title": {
            "standoff": 15
           },
           "zerolinecolor": "white",
           "zerolinewidth": 2
          }
         }
        },
        "title": {
         "text": "Diagrama de dispersión: Edad vs Salario"
        },
        "xaxis": {
         "anchor": "y",
         "domain": [
          0,
          1
         ],
         "title": {
          "text": "Edad"
         }
        },
        "yaxis": {
         "anchor": "x",
         "domain": [
          0,
          1
         ],
         "title": {
          "text": "Salario"
         }
        }
       }
      }
     },
     "metadata": {},
     "output_type": "display_data"
    }
   ],
   "source": [
    "from datetime import datetime\n",
    "\n",
    "# Primero tengo que calcular la edad a partir de la fecha de nacimiento\n",
    "df[\"DOB\"] = pd.to_datetime(df[\"DOB\"], errors=\"coerce\")\n",
    "today = pd.to_datetime(\"today\")\n",
    "df[\"Edad\"] = (today - df[\"DOB\"]).dt.days // 365\n",
    "\n",
    "# Asegurarse que DOB no tiene nan\n",
    "df = df[df[\"DOB\"].notna() & (df[\"DOB\"] < today)]\n",
    "\n",
    "# Calcular edad\n",
    "df[\"Edad\"] = ((today - df[\"DOB\"]).dt.days // 365).astype(int)\n",
    "\n",
    "# Filtrar edades razonables porque hay errores en los datos\n",
    "df = df[(df[\"Edad\"] > 17) & (df[\"Edad\"] < 100)]  # por ejemplo: 18 a 99 años\n",
    "\n",
    "# Diagrama de dispersión Edad vs Salario\n",
    "fig1 = px.scatter(\n",
    "    df,\n",
    "    x=\"Edad\",\n",
    "    y=\"Salary\",\n",
    "    color=\"Sex\",\n",
    "    title=\"Diagrama de dispersión: Edad vs Salario\",\n",
    "    hover_data=[\"Employee_Name\", \"Department\", \"Position\"],\n",
    "    labels={\"Edad\": \"Edad\", \"Salary\": \"Salario\"},\n",
    "    \n",
    "    \n",
    ")\n",
    "fig1.show()\n"
   ]
  },
  {
   "cell_type": "markdown",
   "id": "1c59ca83",
   "metadata": {},
   "source": [
    "Observación:\n",
    "La mayoría de los empleados se concentran entre los 33 y 50 años, con salarios que oscilan principalmente entre $45,000 y $75,000 pesos. Aunque existe dispersión, solo unos pocos empleados mayores de 40 años superan los $150,000 pesos, lo que sugiere que los salarios más altos no son comunes ni garantizados con la edad."
   ]
  },
  {
   "cell_type": "markdown",
   "id": "13c29a2e",
   "metadata": {},
   "source": [
    "## 2. Distribución de salarios por departamento\n"
   ]
  },
  {
   "cell_type": "code",
   "execution_count": 108,
   "id": "da188ebb",
   "metadata": {},
   "outputs": [
    {
     "data": {
      "application/vnd.plotly.v1+json": {
       "config": {
        "plotlyServerURL": "https://plot.ly"
       },
       "data": [
        {
         "alignmentgroup": "True",
         "boxpoints": "all",
         "hovertemplate": "Department=%{x}<br>Salary=%{y}<extra></extra>",
         "legendgroup": "Production       ",
         "marker": {
          "color": "#636efa"
         },
         "name": "Production       ",
         "notched": false,
         "offsetgroup": "Production       ",
         "orientation": "v",
         "showlegend": true,
         "type": "box",
         "x": [
          "Production       ",
          "Production       ",
          "Production       ",
          "Production       ",
          "Production       ",
          "Production       ",
          "Production       ",
          "Production       ",
          "Production       ",
          "Production       ",
          "Production       ",
          "Production       ",
          "Production       ",
          "Production       ",
          "Production       ",
          "Production       ",
          "Production       ",
          "Production       ",
          "Production       ",
          "Production       ",
          "Production       ",
          "Production       ",
          "Production       ",
          "Production       ",
          "Production       ",
          "Production       ",
          "Production       ",
          "Production       ",
          "Production       ",
          "Production       ",
          "Production       ",
          "Production       ",
          "Production       ",
          "Production       ",
          "Production       ",
          "Production       ",
          "Production       ",
          "Production       ",
          "Production       ",
          "Production       ",
          "Production       ",
          "Production       ",
          "Production       ",
          "Production       ",
          "Production       ",
          "Production       ",
          "Production       ",
          "Production       ",
          "Production       ",
          "Production       ",
          "Production       ",
          "Production       ",
          "Production       ",
          "Production       ",
          "Production       ",
          "Production       ",
          "Production       ",
          "Production       ",
          "Production       ",
          "Production       ",
          "Production       ",
          "Production       ",
          "Production       ",
          "Production       ",
          "Production       ",
          "Production       ",
          "Production       ",
          "Production       ",
          "Production       ",
          "Production       ",
          "Production       ",
          "Production       ",
          "Production       ",
          "Production       ",
          "Production       ",
          "Production       ",
          "Production       ",
          "Production       ",
          "Production       ",
          "Production       ",
          "Production       ",
          "Production       ",
          "Production       ",
          "Production       ",
          "Production       ",
          "Production       ",
          "Production       ",
          "Production       ",
          "Production       ",
          "Production       ",
          "Production       ",
          "Production       ",
          "Production       ",
          "Production       ",
          "Production       ",
          "Production       ",
          "Production       ",
          "Production       ",
          "Production       ",
          "Production       ",
          "Production       ",
          "Production       ",
          "Production       ",
          "Production       ",
          "Production       ",
          "Production       ",
          "Production       ",
          "Production       ",
          "Production       ",
          "Production       ",
          "Production       ",
          "Production       ",
          "Production       ",
          "Production       ",
          "Production       ",
          "Production       ",
          "Production       ",
          "Production       ",
          "Production       ",
          "Production       ",
          "Production       ",
          "Production       ",
          "Production       ",
          "Production       ",
          "Production       ",
          "Production       ",
          "Production       ",
          "Production       ",
          "Production       ",
          "Production       ",
          "Production       ",
          "Production       ",
          "Production       ",
          "Production       ",
          "Production       ",
          "Production       ",
          "Production       ",
          "Production       ",
          "Production       ",
          "Production       ",
          "Production       ",
          "Production       ",
          "Production       ",
          "Production       ",
          "Production       ",
          "Production       ",
          "Production       "
         ],
         "x0": " ",
         "xaxis": "x",
         "y": [
          62506,
          64955,
          64991,
          50825,
          57568,
          59365,
          58709,
          52505,
          57834,
          53250,
          62910,
          66441,
          53492,
          65288,
          63763,
          62162,
          72640,
          52846,
          54237,
          60380,
          64786,
          64816,
          64066,
          59369,
          50373,
          63108,
          59144,
          68051,
          170500,
          63381,
          56149,
          57583,
          56294,
          56991,
          55722,
          51259,
          61584,
          46335,
          60070,
          54285,
          56847,
          60340,
          59124,
          71776,
          65902,
          64057,
          58530,
          72609,
          55965,
          52249,
          53171,
          51337,
          57815,
          53018,
          66825,
          48285,
          66149,
          62957,
          63813,
          54828,
          64246,
          46998,
          63478,
          55425,
          69340,
          64995,
          68182,
          83082,
          51908,
          60724,
          61154,
          50482,
          46654,
          63973,
          66074,
          46120,
          61962,
          63676,
          64738,
          77915,
          52624,
          63450,
          67237,
          73330,
          52057,
          45395,
          62385,
          68407,
          54132,
          55315,
          62810,
          55688,
          83667,
          55800,
          58207,
          72106,
          63430,
          57575,
          50470,
          46664,
          48495,
          62061,
          66738,
          52674,
          47414,
          53060,
          63515,
          53564,
          60270,
          45998,
          57954,
          74669,
          74226,
          64724,
          47001,
          46799,
          61729,
          45115,
          64971,
          61422,
          63353,
          53180,
          57975,
          56147,
          50923,
          52087,
          63878,
          65714,
          47961,
          61355,
          63682,
          63025,
          60754,
          67176,
          63025,
          74813,
          58523,
          49773,
          62068,
          66541,
          50274,
          58371,
          58062,
          60446,
          65893,
          48513,
          45046
         ],
         "y0": " ",
         "yaxis": "y"
        },
        {
         "alignmentgroup": "True",
         "boxpoints": "all",
         "hovertemplate": "Department=%{x}<br>Salary=%{y}<extra></extra>",
         "legendgroup": "IT/IS",
         "marker": {
          "color": "#EF553B"
         },
         "name": "IT/IS",
         "notched": false,
         "offsetgroup": "IT/IS",
         "orientation": "v",
         "showlegend": true,
         "type": "box",
         "x": [
          "IT/IS",
          "IT/IS",
          "IT/IS",
          "IT/IS",
          "IT/IS",
          "IT/IS",
          "IT/IS",
          "IT/IS",
          "IT/IS",
          "IT/IS",
          "IT/IS",
          "IT/IS",
          "IT/IS",
          "IT/IS",
          "IT/IS",
          "IT/IS",
          "IT/IS",
          "IT/IS",
          "IT/IS",
          "IT/IS",
          "IT/IS",
          "IT/IS",
          "IT/IS",
          "IT/IS",
          "IT/IS",
          "IT/IS",
          "IT/IS",
          "IT/IS",
          "IT/IS",
          "IT/IS",
          "IT/IS",
          "IT/IS",
          "IT/IS",
          "IT/IS",
          "IT/IS"
         ],
         "x0": " ",
         "xaxis": "x",
         "y": [
          104437,
          50178,
          92328,
          110000,
          100031,
          68678,
          83552,
          96820,
          70621,
          53366,
          178000,
          74679,
          61242,
          99020,
          97999,
          105700,
          93206,
          81584,
          51777,
          157000,
          52599,
          93093,
          93554,
          95920,
          89883,
          88527,
          50750,
          87565,
          90100,
          75281,
          113999,
          84903,
          107226,
          220450,
          89292
         ],
         "y0": " ",
         "yaxis": "y"
        },
        {
         "alignmentgroup": "True",
         "boxpoints": "all",
         "hovertemplate": "Department=%{x}<br>Salary=%{y}<extra></extra>",
         "legendgroup": "Software Engineering",
         "marker": {
          "color": "#00cc96"
         },
         "name": "Software Engineering",
         "notched": false,
         "offsetgroup": "Software Engineering",
         "orientation": "v",
         "showlegend": true,
         "type": "box",
         "x": [
          "Software Engineering",
          "Software Engineering",
          "Software Engineering",
          "Software Engineering",
          "Software Engineering",
          "Software Engineering",
          "Software Engineering",
          "Software Engineering",
          "Software Engineering",
          "Software Engineering"
         ],
         "x0": " ",
         "xaxis": "x",
         "y": [
          95660,
          93396,
          101199,
          99280,
          105688,
          108987,
          83363,
          86214,
          92989,
          100416
         ],
         "y0": " ",
         "yaxis": "y"
        },
        {
         "alignmentgroup": "True",
         "boxpoints": "all",
         "hovertemplate": "Department=%{x}<br>Salary=%{y}<extra></extra>",
         "legendgroup": "Admin Offices",
         "marker": {
          "color": "#ab63fa"
         },
         "name": "Admin Offices",
         "notched": false,
         "offsetgroup": "Admin Offices",
         "orientation": "v",
         "showlegend": true,
         "type": "box",
         "x": [
          "Admin Offices",
          "Admin Offices",
          "Admin Offices",
          "Admin Offices",
          "Admin Offices",
          "Admin Offices",
          "Admin Offices",
          "Admin Offices",
          "Admin Offices"
         ],
         "x0": " ",
         "xaxis": "x",
         "y": [
          106367,
          63000,
          99351,
          49920,
          64520,
          93046,
          51920,
          55000,
          63003
         ],
         "y0": " ",
         "yaxis": "y"
        },
        {
         "alignmentgroup": "True",
         "boxpoints": "all",
         "hovertemplate": "Department=%{x}<br>Salary=%{y}<extra></extra>",
         "legendgroup": "Sales",
         "marker": {
          "color": "#FFA15A"
         },
         "name": "Sales",
         "notched": false,
         "offsetgroup": "Sales",
         "orientation": "v",
         "showlegend": true,
         "type": "box",
         "x": [
          "Sales",
          "Sales",
          "Sales",
          "Sales",
          "Sales",
          "Sales",
          "Sales",
          "Sales",
          "Sales",
          "Sales",
          "Sales",
          "Sales",
          "Sales",
          "Sales",
          "Sales",
          "Sales",
          "Sales",
          "Sales",
          "Sales"
         ],
         "x0": " ",
         "xaxis": "x",
         "y": [
          65729,
          61568,
          59231,
          74241,
          70187,
          61555,
          70545,
          68999,
          65310,
          70468,
          63291,
          63695,
          63051,
          68829,
          61844,
          72992,
          60120,
          57859,
          55875
         ],
         "y0": " ",
         "yaxis": "y"
        }
       ],
       "layout": {
        "boxmode": "overlay",
        "legend": {
         "title": {
          "text": "Department"
         },
         "tracegroupgap": 0
        },
        "showlegend": false,
        "template": {
         "data": {
          "bar": [
           {
            "error_x": {
             "color": "#2a3f5f"
            },
            "error_y": {
             "color": "#2a3f5f"
            },
            "marker": {
             "line": {
              "color": "#E5ECF6",
              "width": 0.5
             },
             "pattern": {
              "fillmode": "overlay",
              "size": 10,
              "solidity": 0.2
             }
            },
            "type": "bar"
           }
          ],
          "barpolar": [
           {
            "marker": {
             "line": {
              "color": "#E5ECF6",
              "width": 0.5
             },
             "pattern": {
              "fillmode": "overlay",
              "size": 10,
              "solidity": 0.2
             }
            },
            "type": "barpolar"
           }
          ],
          "carpet": [
           {
            "aaxis": {
             "endlinecolor": "#2a3f5f",
             "gridcolor": "white",
             "linecolor": "white",
             "minorgridcolor": "white",
             "startlinecolor": "#2a3f5f"
            },
            "baxis": {
             "endlinecolor": "#2a3f5f",
             "gridcolor": "white",
             "linecolor": "white",
             "minorgridcolor": "white",
             "startlinecolor": "#2a3f5f"
            },
            "type": "carpet"
           }
          ],
          "choropleth": [
           {
            "colorbar": {
             "outlinewidth": 0,
             "ticks": ""
            },
            "type": "choropleth"
           }
          ],
          "contour": [
           {
            "colorbar": {
             "outlinewidth": 0,
             "ticks": ""
            },
            "colorscale": [
             [
              0,
              "#0d0887"
             ],
             [
              0.1111111111111111,
              "#46039f"
             ],
             [
              0.2222222222222222,
              "#7201a8"
             ],
             [
              0.3333333333333333,
              "#9c179e"
             ],
             [
              0.4444444444444444,
              "#bd3786"
             ],
             [
              0.5555555555555556,
              "#d8576b"
             ],
             [
              0.6666666666666666,
              "#ed7953"
             ],
             [
              0.7777777777777778,
              "#fb9f3a"
             ],
             [
              0.8888888888888888,
              "#fdca26"
             ],
             [
              1,
              "#f0f921"
             ]
            ],
            "type": "contour"
           }
          ],
          "contourcarpet": [
           {
            "colorbar": {
             "outlinewidth": 0,
             "ticks": ""
            },
            "type": "contourcarpet"
           }
          ],
          "heatmap": [
           {
            "colorbar": {
             "outlinewidth": 0,
             "ticks": ""
            },
            "colorscale": [
             [
              0,
              "#0d0887"
             ],
             [
              0.1111111111111111,
              "#46039f"
             ],
             [
              0.2222222222222222,
              "#7201a8"
             ],
             [
              0.3333333333333333,
              "#9c179e"
             ],
             [
              0.4444444444444444,
              "#bd3786"
             ],
             [
              0.5555555555555556,
              "#d8576b"
             ],
             [
              0.6666666666666666,
              "#ed7953"
             ],
             [
              0.7777777777777778,
              "#fb9f3a"
             ],
             [
              0.8888888888888888,
              "#fdca26"
             ],
             [
              1,
              "#f0f921"
             ]
            ],
            "type": "heatmap"
           }
          ],
          "heatmapgl": [
           {
            "colorbar": {
             "outlinewidth": 0,
             "ticks": ""
            },
            "colorscale": [
             [
              0,
              "#0d0887"
             ],
             [
              0.1111111111111111,
              "#46039f"
             ],
             [
              0.2222222222222222,
              "#7201a8"
             ],
             [
              0.3333333333333333,
              "#9c179e"
             ],
             [
              0.4444444444444444,
              "#bd3786"
             ],
             [
              0.5555555555555556,
              "#d8576b"
             ],
             [
              0.6666666666666666,
              "#ed7953"
             ],
             [
              0.7777777777777778,
              "#fb9f3a"
             ],
             [
              0.8888888888888888,
              "#fdca26"
             ],
             [
              1,
              "#f0f921"
             ]
            ],
            "type": "heatmapgl"
           }
          ],
          "histogram": [
           {
            "marker": {
             "pattern": {
              "fillmode": "overlay",
              "size": 10,
              "solidity": 0.2
             }
            },
            "type": "histogram"
           }
          ],
          "histogram2d": [
           {
            "colorbar": {
             "outlinewidth": 0,
             "ticks": ""
            },
            "colorscale": [
             [
              0,
              "#0d0887"
             ],
             [
              0.1111111111111111,
              "#46039f"
             ],
             [
              0.2222222222222222,
              "#7201a8"
             ],
             [
              0.3333333333333333,
              "#9c179e"
             ],
             [
              0.4444444444444444,
              "#bd3786"
             ],
             [
              0.5555555555555556,
              "#d8576b"
             ],
             [
              0.6666666666666666,
              "#ed7953"
             ],
             [
              0.7777777777777778,
              "#fb9f3a"
             ],
             [
              0.8888888888888888,
              "#fdca26"
             ],
             [
              1,
              "#f0f921"
             ]
            ],
            "type": "histogram2d"
           }
          ],
          "histogram2dcontour": [
           {
            "colorbar": {
             "outlinewidth": 0,
             "ticks": ""
            },
            "colorscale": [
             [
              0,
              "#0d0887"
             ],
             [
              0.1111111111111111,
              "#46039f"
             ],
             [
              0.2222222222222222,
              "#7201a8"
             ],
             [
              0.3333333333333333,
              "#9c179e"
             ],
             [
              0.4444444444444444,
              "#bd3786"
             ],
             [
              0.5555555555555556,
              "#d8576b"
             ],
             [
              0.6666666666666666,
              "#ed7953"
             ],
             [
              0.7777777777777778,
              "#fb9f3a"
             ],
             [
              0.8888888888888888,
              "#fdca26"
             ],
             [
              1,
              "#f0f921"
             ]
            ],
            "type": "histogram2dcontour"
           }
          ],
          "mesh3d": [
           {
            "colorbar": {
             "outlinewidth": 0,
             "ticks": ""
            },
            "type": "mesh3d"
           }
          ],
          "parcoords": [
           {
            "line": {
             "colorbar": {
              "outlinewidth": 0,
              "ticks": ""
             }
            },
            "type": "parcoords"
           }
          ],
          "pie": [
           {
            "automargin": true,
            "type": "pie"
           }
          ],
          "scatter": [
           {
            "fillpattern": {
             "fillmode": "overlay",
             "size": 10,
             "solidity": 0.2
            },
            "type": "scatter"
           }
          ],
          "scatter3d": [
           {
            "line": {
             "colorbar": {
              "outlinewidth": 0,
              "ticks": ""
             }
            },
            "marker": {
             "colorbar": {
              "outlinewidth": 0,
              "ticks": ""
             }
            },
            "type": "scatter3d"
           }
          ],
          "scattercarpet": [
           {
            "marker": {
             "colorbar": {
              "outlinewidth": 0,
              "ticks": ""
             }
            },
            "type": "scattercarpet"
           }
          ],
          "scattergeo": [
           {
            "marker": {
             "colorbar": {
              "outlinewidth": 0,
              "ticks": ""
             }
            },
            "type": "scattergeo"
           }
          ],
          "scattergl": [
           {
            "marker": {
             "colorbar": {
              "outlinewidth": 0,
              "ticks": ""
             }
            },
            "type": "scattergl"
           }
          ],
          "scattermapbox": [
           {
            "marker": {
             "colorbar": {
              "outlinewidth": 0,
              "ticks": ""
             }
            },
            "type": "scattermapbox"
           }
          ],
          "scatterpolar": [
           {
            "marker": {
             "colorbar": {
              "outlinewidth": 0,
              "ticks": ""
             }
            },
            "type": "scatterpolar"
           }
          ],
          "scatterpolargl": [
           {
            "marker": {
             "colorbar": {
              "outlinewidth": 0,
              "ticks": ""
             }
            },
            "type": "scatterpolargl"
           }
          ],
          "scatterternary": [
           {
            "marker": {
             "colorbar": {
              "outlinewidth": 0,
              "ticks": ""
             }
            },
            "type": "scatterternary"
           }
          ],
          "surface": [
           {
            "colorbar": {
             "outlinewidth": 0,
             "ticks": ""
            },
            "colorscale": [
             [
              0,
              "#0d0887"
             ],
             [
              0.1111111111111111,
              "#46039f"
             ],
             [
              0.2222222222222222,
              "#7201a8"
             ],
             [
              0.3333333333333333,
              "#9c179e"
             ],
             [
              0.4444444444444444,
              "#bd3786"
             ],
             [
              0.5555555555555556,
              "#d8576b"
             ],
             [
              0.6666666666666666,
              "#ed7953"
             ],
             [
              0.7777777777777778,
              "#fb9f3a"
             ],
             [
              0.8888888888888888,
              "#fdca26"
             ],
             [
              1,
              "#f0f921"
             ]
            ],
            "type": "surface"
           }
          ],
          "table": [
           {
            "cells": {
             "fill": {
              "color": "#EBF0F8"
             },
             "line": {
              "color": "white"
             }
            },
            "header": {
             "fill": {
              "color": "#C8D4E3"
             },
             "line": {
              "color": "white"
             }
            },
            "type": "table"
           }
          ]
         },
         "layout": {
          "annotationdefaults": {
           "arrowcolor": "#2a3f5f",
           "arrowhead": 0,
           "arrowwidth": 1
          },
          "autotypenumbers": "strict",
          "coloraxis": {
           "colorbar": {
            "outlinewidth": 0,
            "ticks": ""
           }
          },
          "colorscale": {
           "diverging": [
            [
             0,
             "#8e0152"
            ],
            [
             0.1,
             "#c51b7d"
            ],
            [
             0.2,
             "#de77ae"
            ],
            [
             0.3,
             "#f1b6da"
            ],
            [
             0.4,
             "#fde0ef"
            ],
            [
             0.5,
             "#f7f7f7"
            ],
            [
             0.6,
             "#e6f5d0"
            ],
            [
             0.7,
             "#b8e186"
            ],
            [
             0.8,
             "#7fbc41"
            ],
            [
             0.9,
             "#4d9221"
            ],
            [
             1,
             "#276419"
            ]
           ],
           "sequential": [
            [
             0,
             "#0d0887"
            ],
            [
             0.1111111111111111,
             "#46039f"
            ],
            [
             0.2222222222222222,
             "#7201a8"
            ],
            [
             0.3333333333333333,
             "#9c179e"
            ],
            [
             0.4444444444444444,
             "#bd3786"
            ],
            [
             0.5555555555555556,
             "#d8576b"
            ],
            [
             0.6666666666666666,
             "#ed7953"
            ],
            [
             0.7777777777777778,
             "#fb9f3a"
            ],
            [
             0.8888888888888888,
             "#fdca26"
            ],
            [
             1,
             "#f0f921"
            ]
           ],
           "sequentialminus": [
            [
             0,
             "#0d0887"
            ],
            [
             0.1111111111111111,
             "#46039f"
            ],
            [
             0.2222222222222222,
             "#7201a8"
            ],
            [
             0.3333333333333333,
             "#9c179e"
            ],
            [
             0.4444444444444444,
             "#bd3786"
            ],
            [
             0.5555555555555556,
             "#d8576b"
            ],
            [
             0.6666666666666666,
             "#ed7953"
            ],
            [
             0.7777777777777778,
             "#fb9f3a"
            ],
            [
             0.8888888888888888,
             "#fdca26"
            ],
            [
             1,
             "#f0f921"
            ]
           ]
          },
          "colorway": [
           "#636efa",
           "#EF553B",
           "#00cc96",
           "#ab63fa",
           "#FFA15A",
           "#19d3f3",
           "#FF6692",
           "#B6E880",
           "#FF97FF",
           "#FECB52"
          ],
          "font": {
           "color": "#2a3f5f"
          },
          "geo": {
           "bgcolor": "white",
           "lakecolor": "white",
           "landcolor": "#E5ECF6",
           "showlakes": true,
           "showland": true,
           "subunitcolor": "white"
          },
          "hoverlabel": {
           "align": "left"
          },
          "hovermode": "closest",
          "mapbox": {
           "style": "light"
          },
          "paper_bgcolor": "white",
          "plot_bgcolor": "#E5ECF6",
          "polar": {
           "angularaxis": {
            "gridcolor": "white",
            "linecolor": "white",
            "ticks": ""
           },
           "bgcolor": "#E5ECF6",
           "radialaxis": {
            "gridcolor": "white",
            "linecolor": "white",
            "ticks": ""
           }
          },
          "scene": {
           "xaxis": {
            "backgroundcolor": "#E5ECF6",
            "gridcolor": "white",
            "gridwidth": 2,
            "linecolor": "white",
            "showbackground": true,
            "ticks": "",
            "zerolinecolor": "white"
           },
           "yaxis": {
            "backgroundcolor": "#E5ECF6",
            "gridcolor": "white",
            "gridwidth": 2,
            "linecolor": "white",
            "showbackground": true,
            "ticks": "",
            "zerolinecolor": "white"
           },
           "zaxis": {
            "backgroundcolor": "#E5ECF6",
            "gridcolor": "white",
            "gridwidth": 2,
            "linecolor": "white",
            "showbackground": true,
            "ticks": "",
            "zerolinecolor": "white"
           }
          },
          "shapedefaults": {
           "line": {
            "color": "#2a3f5f"
           }
          },
          "ternary": {
           "aaxis": {
            "gridcolor": "white",
            "linecolor": "white",
            "ticks": ""
           },
           "baxis": {
            "gridcolor": "white",
            "linecolor": "white",
            "ticks": ""
           },
           "bgcolor": "#E5ECF6",
           "caxis": {
            "gridcolor": "white",
            "linecolor": "white",
            "ticks": ""
           }
          },
          "title": {
           "x": 0.05
          },
          "xaxis": {
           "automargin": true,
           "gridcolor": "white",
           "linecolor": "white",
           "ticks": "",
           "title": {
            "standoff": 15
           },
           "zerolinecolor": "white",
           "zerolinewidth": 2
          },
          "yaxis": {
           "automargin": true,
           "gridcolor": "white",
           "linecolor": "white",
           "ticks": "",
           "title": {
            "standoff": 15
           },
           "zerolinecolor": "white",
           "zerolinewidth": 2
          }
         }
        },
        "title": {
         "text": "Distribución de salarios por departamento"
        },
        "xaxis": {
         "anchor": "y",
         "categoryarray": [
          "Production       ",
          "IT/IS",
          "Software Engineering",
          "Admin Offices",
          "Sales"
         ],
         "categoryorder": "array",
         "domain": [
          0,
          1
         ],
         "title": {
          "text": "Department"
         }
        },
        "yaxis": {
         "anchor": "x",
         "domain": [
          0,
          1
         ],
         "title": {
          "text": "Salary"
         }
        }
       }
      }
     },
     "metadata": {},
     "output_type": "display_data"
    }
   ],
   "source": [
    "fig2 = px.box(\n",
    "    df,\n",
    "    x=\"Department\",\n",
    "    y=\"Salary\",\n",
    "    color=\"Department\",\n",
    "    points=\"all\",\n",
    "    title=\"Distribución de salarios por departamento\",\n",
    ")\n",
    "fig2.update_layout(showlegend=False)\n",
    "fig2.show()"
   ]
  },
  {
   "cell_type": "markdown",
   "id": "759d1dd4",
   "metadata": {},
   "source": [
    "Observación:\n",
    "El departamento de IT/IS presenta la mayor variabilidad salarial, con varios empleados superando los $150,000 pesos. En contraste, Production y Sales concentran la mayoría de sus salarios entre $50,000 y $70,000 pesos. Software Engineering y Admin Offices muestran una menor dispersión, con salarios más concentrados en rangos medios-altos."
   ]
  },
  {
   "cell_type": "markdown",
   "id": "5b62d9b5",
   "metadata": {},
   "source": [
    "## 3. Distribución de edades por género\n"
   ]
  },
  {
   "cell_type": "code",
   "execution_count": 109,
   "id": "b82f2366",
   "metadata": {},
   "outputs": [
    {
     "data": {
      "application/vnd.plotly.v1+json": {
       "config": {
        "plotlyServerURL": "https://plot.ly"
       },
       "data": [
        {
         "alignmentgroup": "True",
         "bingroup": "x",
         "hovertemplate": "Sex=M <br>Fecha de nacimiento=%{x}<br>count=%{y}<extra></extra>",
         "legendgroup": "M ",
         "marker": {
          "color": "#636efa",
          "pattern": {
           "shape": ""
          }
         },
         "name": "M ",
         "nbinsx": 30,
         "offsetgroup": "M ",
         "orientation": "v",
         "showlegend": true,
         "type": "histogram",
         "x": [
          "1983-07-10T00:00:00",
          "1975-05-05T00:00:00",
          "1983-02-18T00:00:00",
          "1988-01-07T00:00:00",
          "1988-07-04T00:00:00",
          "1983-07-20T00:00:00",
          "1977-07-15T00:00:00",
          "1981-10-18T00:00:00",
          "1979-04-06T00:00:00",
          "1983-07-28T00:00:00",
          "1977-08-19T00:00:00",
          "1983-08-09T00:00:00",
          "1983-02-02T00:00:00",
          "1983-08-24T00:00:00",
          "1985-09-05T00:00:00",
          "1978-11-25T00:00:00",
          "1980-08-26T00:00:00",
          "1977-09-08T00:00:00",
          "1979-08-12T00:00:00",
          "1975-12-17T00:00:00",
          "1983-03-19T00:00:00",
          "1986-08-26T00:00:00",
          "1979-09-14T00:00:00",
          "1988-04-15T00:00:00",
          "1977-10-31T00:00:00",
          "1975-11-02T00:00:00",
          "1983-09-04T00:00:00",
          "1982-11-15T00:00:00",
          "1978-08-25T00:00:00",
          "1983-09-02T00:00:00",
          "1989-10-18T00:00:00",
          "1987-06-18T00:00:00",
          "1981-10-01T00:00:00",
          "1975-07-07T00:00:00",
          "1980-07-05T00:00:00",
          "1985-09-15T00:00:00",
          "1989-11-24T00:00:00",
          "1979-05-21T00:00:00",
          "1981-07-11T00:00:00",
          "1989-06-30T00:00:00",
          "1988-08-10T00:00:00",
          "1984-01-04T00:00:00",
          "1988-09-14T00:00:00",
          "1976-11-15T00:00:00",
          "1976-01-19T00:00:00",
          "1979-11-27T00:00:00",
          "1977-11-10T00:00:00",
          "1980-02-02T00:00:00",
          "1986-04-23T00:00:00",
          "1986-12-09T00:00:00",
          "1984-04-26T00:00:00",
          "1984-05-09T00:00:00",
          "1984-06-10T00:00:00",
          "1982-09-02T00:00:00",
          "1988-12-27T00:00:00",
          "1979-03-19T00:00:00",
          "1984-07-01T00:00:00",
          "1981-08-10T00:00:00",
          "1985-06-29T00:00:00",
          "1992-08-17T00:00:00",
          "1986-10-05T00:00:00",
          "1976-12-03T00:00:00",
          "1980-04-18T00:00:00",
          "1989-05-02T00:00:00",
          "1983-03-28T00:00:00",
          "1977-04-08T00:00:00",
          "1976-12-11T00:00:00",
          "1979-11-24T00:00:00",
          "1982-05-19T00:00:00",
          "1979-02-20T00:00:00",
          "1984-09-05T00:00:00",
          "1988-03-17T00:00:00",
          "1988-03-06T00:00:00",
          "1981-11-23T00:00:00",
          "1984-11-06T00:00:00",
          "1984-12-31T00:00:00",
          "1982-07-22T00:00:00",
          "1985-01-28T00:00:00",
          "1987-03-18T00:00:00",
          "1986-04-26T00:00:00",
          "1987-12-17T00:00:00",
          "1984-08-16T00:00:00",
          "1983-02-09T00:00:00",
          "1986-09-01T00:00:00",
          "1985-03-14T00:00:00",
          "1982-10-07T00:00:00",
          "1983-05-06T00:00:00",
          "1987-10-24T00:00:00",
          "1975-09-16T00:00:00",
          "1988-05-05T00:00:00",
          "1983-06-14T00:00:00",
          "1987-01-31T00:00:00",
          "1989-07-11T00:00:00",
          "1986-08-07T00:00:00",
          "1976-02-10T00:00:00",
          "1981-07-08T00:00:00",
          "1987-05-24T00:00:00",
          "1985-05-11T00:00:00"
         ],
         "xaxis": "x",
         "yaxis": "y"
        },
        {
         "alignmentgroup": "True",
         "boxpoints": "all",
         "customdata": [
          [
           "Adinolfi, Wilson  K",
           10026,
           0,
           0,
           1,
           1,
           5,
           4,
           0,
           62506,
           0,
           19,
           "Production Technician I",
           "MA",
           1960,
           "M ",
           "Single",
           "US Citizen",
           "No",
           "White",
           "7/5/2011",
           null,
           "N/A-StillEmployed",
           "Active",
           "Production       ",
           "Michael Albert",
           22,
           "LinkedIn",
           "Exceeds",
           4.6,
           5,
           0,
           "1/17/2019",
           0,
           1,
           41
          ],
          [
           "Ait Sidi, Karthikeyan   ",
           10084,
           1,
           1,
           1,
           5,
           3,
           3,
           0,
           104437,
           1,
           27,
           "Sr. DBA",
           "MA",
           2148,
           "M ",
           "Married",
           "US Citizen",
           "No",
           "White",
           "3/30/2015",
           "6/16/2016",
           "career change",
           "Voluntarily Terminated",
           "IT/IS",
           "Simon Roup",
           4,
           "Indeed",
           "Fully Meets",
           4.96,
           3,
           6,
           "2/24/2016",
           0,
           17,
           50
          ],
          [
           "Athwal, Sam",
           10062,
           0,
           4,
           1,
           1,
           5,
           3,
           0,
           59365,
           0,
           19,
           "Production Technician I",
           "MA",
           2199,
           "M ",
           "Widowed",
           "US Citizen",
           "No",
           "White",
           "9/30/2013",
           null,
           "N/A-StillEmployed",
           "Active",
           "Production       ",
           "Ketsia Liebig",
           19,
           "Employee Referral",
           "Fully Meets",
           5,
           4,
           0,
           "2/25/2019",
           0,
           19,
           42
          ],
          [
           "Bacong, Alejandro ",
           10250,
           0,
           2,
           1,
           1,
           3,
           3,
           0,
           50178,
           0,
           14,
           "IT Support",
           "MA",
           1886,
           "M ",
           "Divorced",
           "US Citizen",
           "No",
           "White",
           "1/5/2015",
           null,
           "N/A-StillEmployed",
           "Active",
           "IT/IS",
           "Peter Monroe",
           7,
           "Indeed",
           "Fully Meets",
           5,
           5,
           6,
           "2/18/2019",
           0,
           16,
           37
          ],
          [
           "Barbossa, Hector",
           10012,
           0,
           2,
           1,
           1,
           3,
           4,
           1,
           92328,
           0,
           9,
           "Data Analyst",
           "TX",
           78230,
           "M ",
           "Divorced",
           "US Citizen",
           "No",
           "Black or African American",
           "11/10/2014",
           null,
           "N/A-StillEmployed",
           "Active",
           "IT/IS",
           "Simon Roup",
           4,
           "Diversity Job Fair",
           "Exceeds",
           4.28,
           4,
           5,
           "2/25/2019",
           0,
           9,
           36
          ],
          [
           "Barone, Francesco  A",
           10265,
           0,
           0,
           1,
           1,
           5,
           3,
           0,
           58709,
           0,
           19,
           "Production Technician I",
           "MA",
           1810,
           "M ",
           "Single",
           "US Citizen",
           "No",
           "Two or more races",
           "2/20/2012",
           null,
           "N/A-StillEmployed",
           "Active",
           "Production       ",
           "Kelley Spirea",
           18,
           "Google Search",
           "Fully Meets",
           4.6,
           4,
           0,
           "2/14/2019",
           0,
           7,
           41
          ],
          [
           "Barton, Nader",
           10066,
           0,
           2,
           1,
           5,
           5,
           3,
           0,
           52505,
           1,
           19,
           "Production Technician I",
           "MA",
           2747,
           "M ",
           "Divorced",
           "US Citizen",
           "No",
           "White",
           "9/24/2012",
           "4/6/2017",
           "Another position",
           "Voluntarily Terminated",
           "Production       ",
           "Michael Albert",
           22,
           "On-line Web application",
           "Fully Meets",
           5,
           5,
           0,
           "3/2/2017",
           0,
           1,
           47
          ],
          [
           "Bates, Norman",
           10061,
           0,
           0,
           1,
           4,
           5,
           3,
           0,
           57834,
           1,
           19,
           "Production Technician I",
           "MA",
           2050,
           "M ",
           "Single",
           "US Citizen",
           "No",
           "White",
           "2/21/2011",
           "8/4/2017",
           "attendance",
           "Terminated for Cause",
           "Production       ",
           "Kelley Spirea",
           18,
           "Google Search",
           "Fully Meets",
           5,
           4,
           0,
           "4/5/2017",
           0,
           20,
           43
          ],
          [
           "Becker, Scott",
           10277,
           0,
           0,
           1,
           3,
           5,
           3,
           0,
           53250,
           0,
           19,
           "Production Technician I",
           "MA",
           2452,
           "M ",
           "Single",
           "US Citizen",
           "No",
           "Asian",
           "7/8/2013",
           null,
           "N/A-StillEmployed",
           "Active",
           "Production       ",
           "Webster Butler",
           null,
           "LinkedIn",
           "Fully Meets",
           4.2,
           4,
           0,
           "1/11/2019",
           0,
           13,
           46
          ],
          [
           "Buccheri, Joseph  ",
           10184,
           0,
           0,
           1,
           1,
           5,
           3,
           0,
           65288,
           0,
           20,
           "Production Technician II",
           "MA",
           1013,
           "M ",
           "Single",
           "US Citizen",
           "No",
           "White",
           "9/29/2014",
           null,
           "N/A-StillEmployed",
           "Active",
           "Production       ",
           "Webster Butler",
           null,
           "Google Search",
           "Fully Meets",
           3.19,
           3,
           0,
           "2/1/2019",
           0,
           9,
           41
          ],
          [
           "Burkett, Benjamin ",
           10181,
           1,
           1,
           1,
           1,
           5,
           3,
           0,
           62162,
           0,
           20,
           "Production Technician II",
           "MA",
           1890,
           "M ",
           "Married",
           "US Citizen",
           "No",
           "White",
           "4/4/2011",
           null,
           "N/A-StillEmployed",
           "Active",
           "Production       ",
           "Ketsia Liebig",
           19,
           "Indeed",
           "Fully Meets",
           3.25,
           5,
           0,
           "1/14/2019",
           0,
           15,
           47
          ],
          [
           "Candie, Calvin",
           10001,
           0,
           0,
           1,
           1,
           5,
           4,
           0,
           72640,
           0,
           18,
           "Production Manager",
           "MA",
           2169,
           "M ",
           "Single",
           "US Citizen",
           "No",
           "White",
           "1/28/2016",
           null,
           "N/A-StillEmployed",
           "Active",
           "Production       ",
           "Janet King",
           2,
           "Indeed",
           "Exceeds",
           5,
           3,
           0,
           "2/22/2019",
           0,
           14,
           41
          ],
          [
           "Carey, Michael  ",
           10115,
           0,
           0,
           1,
           1,
           5,
           3,
           0,
           52846,
           0,
           19,
           "Production Technician I",
           "MA",
           1701,
           "M ",
           "Single",
           "US Citizen",
           "No",
           "Black or African American",
           "3/31/2014",
           null,
           "N/A-StillEmployed",
           "Active",
           "Production       ",
           "Kelley Spirea",
           18,
           "LinkedIn",
           "Fully Meets",
           4.43,
           3,
           0,
           "2/1/2019",
           0,
           14,
           42
          ],
          [
           "Chang, Donovan  E",
           10154,
           0,
           0,
           1,
           1,
           5,
           3,
           0,
           60380,
           0,
           19,
           "Production Technician I",
           "MA",
           1845,
           "M ",
           "Single",
           "US Citizen",
           "No",
           "White",
           "7/8/2013",
           null,
           "N/A-StillEmployed",
           "Active",
           "Production       ",
           "Webster Butler",
           null,
           "LinkedIn",
           "Fully Meets",
           3.8,
           5,
           0,
           "1/14/2019",
           0,
           4,
           41
          ],
          [
           "Clayton, Rick",
           10220,
           0,
           0,
           1,
           1,
           3,
           3,
           0,
           68678,
           0,
           14,
           "IT Support",
           "MA",
           2170,
           "M ",
           "Single",
           "US Citizen",
           "No",
           "White",
           "9/5/2012",
           null,
           "N/A-StillEmployed",
           "Active",
           "IT/IS",
           "Eric Dougall",
           6,
           "Indeed",
           "Fully Meets",
           4.7,
           3,
           6,
           "2/27/2019",
           0,
           2,
           39
          ],
          [
           "Close, Phil",
           10269,
           1,
           1,
           1,
           5,
           5,
           3,
           0,
           59369,
           1,
           20,
           "Production Technician II",
           "MA",
           2169,
           "M ",
           "Married",
           "US Citizen",
           "No",
           "White",
           "8/30/2010",
           "9/26/2011",
           "career change",
           "Voluntarily Terminated",
           "Production       ",
           "David Stanley",
           14,
           "Indeed",
           "Fully Meets",
           4.2,
           4,
           0,
           "5/4/2011",
           0,
           6,
           46
          ],
          [
           "Clukey, Elijian",
           10029,
           1,
           1,
           1,
           2,
           5,
           4,
           0,
           50373,
           0,
           19,
           "Production Technician I",
           "MA",
           2134,
           "M ",
           "Married",
           "US Citizen",
           "No",
           "White",
           "7/6/2016",
           null,
           "N/A-StillEmployed",
           "Active",
           "Production       ",
           "Brannon Miller",
           12,
           "Employee Referral",
           "Exceeds",
           4.1,
           4,
           0,
           "2/28/2019",
           0,
           5,
           44
          ],
          [
           "Cockel, James",
           10261,
           0,
           0,
           1,
           1,
           5,
           3,
           0,
           63108,
           0,
           19,
           "Production Technician I",
           "MA",
           2452,
           "M ",
           "Single",
           "US Citizen",
           "No",
           "White",
           "7/8/2013",
           null,
           "N/A-StillEmployed",
           "Active",
           "Production       ",
           "David Stanley",
           14,
           "Employee Referral",
           "Fully Meets",
           4.4,
           5,
           0,
           "1/14/2019",
           0,
           3,
           47
          ],
          [
           "Cole, Spencer",
           10292,
           0,
           0,
           1,
           4,
           5,
           2,
           0,
           59144,
           1,
           19,
           "Production Technician I",
           "MA",
           1880,
           "M ",
           "Single",
           "US Citizen",
           "No",
           "Black or African American",
           "7/11/2011",
           "9/23/2016",
           "performance",
           "Terminated for Cause",
           "Production       ",
           "Kissy Sullivan",
           20,
           "LinkedIn",
           "Needs Improvement",
           2,
           3,
           0,
           "5/1/2016",
           5,
           16,
           45
          ],
          [
           "Corleone, Michael",
           10282,
           0,
           2,
           1,
           1,
           5,
           2,
           0,
           68051,
           0,
           18,
           "Production Manager",
           "MA",
           1803,
           "M ",
           "Divorced",
           "US Citizen",
           "No",
           "White",
           "7/20/2010",
           null,
           "N/A-StillEmployed",
           "Active",
           "Production       ",
           "Janet King",
           2,
           "CareerBuilder",
           "Needs Improvement",
           4.13,
           2,
           0,
           "1/14/2019",
           3,
           3,
           49
          ],
          [
           "Corleone, Vito",
           10019,
           0,
           0,
           1,
           1,
           5,
           4,
           0,
           170500,
           0,
           10,
           "Director of Operations",
           "MA",
           2030,
           "M ",
           "Single",
           "US Citizen",
           "No",
           "Black or African American",
           "1/5/2009",
           null,
           "N/A-StillEmployed",
           "Active",
           "Production       ",
           "Janet King",
           2,
           "Indeed",
           "Exceeds",
           3.7,
           5,
           0,
           "2/4/2019",
           0,
           15,
           42
          ],
          [
           "Costello, Frank",
           10193,
           1,
           1,
           1,
           1,
           3,
           3,
           0,
           83552,
           0,
           9,
           "Data Analyst",
           "MA",
           1810,
           "M ",
           "Married",
           "US Citizen",
           "No",
           "White",
           "3/30/2015",
           null,
           "N/A-StillEmployed",
           "Active",
           "IT/IS",
           "Simon Roup",
           4,
           "Indeed",
           "Fully Meets",
           3.04,
           3,
           6,
           "1/22/2019",
           0,
           2,
           38
          ],
          [
           "Davis, Daniel",
           10143,
           0,
           0,
           1,
           1,
           5,
           3,
           0,
           56294,
           0,
           20,
           "Production Technician II",
           "MA",
           2458,
           "M ",
           "Single",
           "Eligible NonCitizen",
           "No",
           "Two or more races",
           "11/7/2011",
           null,
           "N/A-StillEmployed",
           "Active",
           "Production       ",
           "Kissy Sullivan",
           20,
           "LinkedIn",
           "Fully Meets",
           3.96,
           4,
           0,
           "2/27/2019",
           0,
           6,
           45
          ],
          [
           "Dee, Randy",
           10311,
           1,
           1,
           1,
           1,
           6,
           1,
           0,
           56991,
           0,
           19,
           "Production Technician I",
           "MA",
           2138,
           "M ",
           "Married",
           "US Citizen",
           "No",
           "White",
           "7/9/2018",
           null,
           "N/A-StillEmployed",
           "Active",
           "Production       ",
           "Brannon Miller",
           12,
           "Indeed",
           "Fully Meets",
           4.3,
           4,
           3,
           "1/31/2019",
           2,
           2,
           37
          ],
          [
           "DeGweck,  James",
           10070,
           1,
           1,
           1,
           5,
           5,
           3,
           0,
           55722,
           1,
           19,
           "Production Technician I",
           "MA",
           1810,
           "M ",
           "Married",
           "US Citizen",
           "No",
           "White",
           "5/16/2011",
           "6/8/2016",
           "unhappy",
           "Voluntarily Terminated",
           "Production       ",
           "Webster Butler",
           39,
           "Indeed",
           "Fully Meets",
           5,
           4,
           0,
           "4/2/2016",
           0,
           14,
           47
          ],
          [
           "Delarge, Alex",
           10306,
           0,
           0,
           1,
           1,
           6,
           1,
           0,
           61568,
           0,
           3,
           "Area Sales Manager",
           "AL",
           36006,
           "M ",
           "Single",
           "US Citizen",
           "No",
           "Two or more races",
           "9/29/2014",
           null,
           "N/A-StillEmployed",
           "Active",
           "Sales",
           "John Smith",
           17,
           "Indeed",
           "PIP",
           1.93,
           3,
           0,
           "1/30/2019",
           6,
           5,
           49
          ],
          [
           "DeVito, Tommy",
           10197,
           0,
           0,
           1,
           1,
           3,
           3,
           0,
           96820,
           0,
           4,
           "BI Developer",
           "MA",
           2045,
           "M ",
           "Single",
           "US Citizen",
           "No",
           "White",
           "2/15/2017",
           null,
           "N/A-StillEmployed",
           "Active",
           "IT/IS",
           "Brian Champaigne",
           13,
           "Indeed",
           "Fully Meets",
           3.01,
           5,
           7,
           "1/23/2019",
           0,
           15,
           41
          ],
          [
           "Dickinson, Geoff ",
           10276,
           0,
           0,
           1,
           1,
           5,
           3,
           0,
           51259,
           0,
           19,
           "Production Technician I",
           "MA",
           2180,
           "M ",
           "Single",
           "US Citizen",
           "No",
           "White",
           "5/12/2014",
           null,
           "N/A-StillEmployed",
           "Active",
           "Production       ",
           "Ketsia Liebig",
           19,
           "Indeed",
           "Fully Meets",
           4.3,
           4,
           0,
           "2/19/2019",
           0,
           1,
           42
          ],
          [
           "England, Rex",
           10235,
           1,
           1,
           1,
           1,
           5,
           3,
           0,
           54285,
           0,
           19,
           "Production Technician I",
           "MA",
           2045,
           "M ",
           "Married",
           "US Citizen",
           "No",
           "White",
           "3/31/2014",
           null,
           "N/A-StillEmployed",
           "Active",
           "Production       ",
           "Kelley Spirea",
           18,
           "Employee Referral",
           "Fully Meets",
           4.2,
           3,
           0,
           "1/11/2019",
           0,
           3,
           46
          ],
          [
           "Estremera, Miguel",
           10280,
           0,
           0,
           1,
           4,
           5,
           2,
           0,
           60340,
           1,
           19,
           "Production Technician I",
           "MA",
           2129,
           "M ",
           "Single",
           "US Citizen",
           "No",
           "White",
           "4/2/2012",
           "9/27/2018",
           "attendance",
           "Terminated for Cause",
           "Production       ",
           "Michael Albert",
           22,
           "Google Search",
           "Needs Improvement",
           5,
           4,
           0,
           "4/12/2018",
           5,
           16,
           41
          ],
          [
           "Fernandes, Nilson  ",
           10308,
           1,
           1,
           1,
           1,
           5,
           1,
           0,
           64057,
           0,
           19,
           "Production Technician I",
           "MA",
           2132,
           "M ",
           "Married",
           "US Citizen",
           "No",
           "White",
           "5/11/2015",
           null,
           "N/A-StillEmployed",
           "Active",
           "Production       ",
           "Amy Dunn",
           11,
           "Indeed",
           "PIP",
           1.56,
           5,
           0,
           "1/3/2019",
           6,
           15,
           35
          ],
          [
           "Fett, Boba",
           10309,
           0,
           0,
           1,
           1,
           3,
           1,
           0,
           53366,
           0,
           15,
           "Network Engineer",
           "MA",
           2138,
           "M ",
           "Single",
           "US Citizen",
           "No",
           "White",
           "3/30/2015",
           null,
           "N/A-StillEmployed",
           "Active",
           "IT/IS",
           "Peter Monroe",
           7,
           "LinkedIn",
           "PIP",
           1.2,
           3,
           6,
           "2/4/2019",
           3,
           2,
           37
          ],
          [
           "Fitzpatrick, Michael  J",
           10093,
           0,
           0,
           1,
           5,
           5,
           3,
           0,
           72609,
           1,
           20,
           "Production Technician II",
           "MA",
           2143,
           "M ",
           "Single",
           "US Citizen",
           "Yes",
           "White",
           "5/16/2011",
           "6/24/2013",
           "hours",
           "Voluntarily Terminated",
           "Production       ",
           "Amy Dunn",
           11,
           "Google Search",
           "Fully Meets",
           4.76,
           5,
           0,
           "4/5/2013",
           0,
           20,
           43
          ],
          [
           "Forrest, Alex",
           10305,
           1,
           1,
           1,
           1,
           6,
           3,
           0,
           70187,
           1,
           3,
           "Area Sales Manager",
           "MA",
           2330,
           "M ",
           "Married",
           "US Citizen",
           "No",
           "White",
           "9/29/2014",
           "8/19/2018",
           "Fatal attraction",
           "Terminated for Cause",
           "Sales",
           "Lynn Daneault",
           21,
           "Employee Referral",
           "PIP",
           2,
           5,
           0,
           "1/28/2019",
           4,
           7,
           49
          ],
          [
           "Foss, Jason",
           10015,
           0,
           0,
           1,
           1,
           3,
           4,
           0,
           178000,
           0,
           12,
           "IT Director",
           "MA",
           1460,
           "M ",
           "Single",
           "US Citizen",
           "No",
           "Black or African American",
           "4/15/2011",
           null,
           "N/A-StillEmployed",
           "Active",
           "IT/IS",
           "Jennifer Zamora",
           5,
           "Indeed",
           "Exceeds",
           5,
           5,
           5,
           "1/7/2019",
           0,
           15,
           44
          ],
          [
           "Garcia, Raul",
           10111,
           0,
           0,
           1,
           1,
           5,
           3,
           0,
           52249,
           0,
           19,
           "Production Technician I",
           "MA",
           1905,
           "M ",
           "Single",
           "US Citizen",
           "Yes",
           "White",
           "3/30/2015",
           null,
           "N/A-StillEmployed",
           "Active",
           "Production       ",
           "David Stanley",
           14,
           "Employee Referral",
           "Fully Meets",
           4.5,
           3,
           0,
           "2/18/2019",
           0,
           5,
           39
          ],
          [
           "Goeth, Amon",
           10228,
           1,
           1,
           1,
           1,
           3,
           3,
           0,
           74679,
           0,
           14,
           "IT Support",
           "MA",
           2135,
           "M ",
           "Married",
           "US Citizen",
           "Yes",
           "White",
           "3/30/2015",
           null,
           "N/A-StillEmployed",
           "Active",
           "IT/IS",
           "Peter Monroe",
           7,
           "LinkedIn",
           "Fully Meets",
           4.3,
           5,
           7,
           "1/10/2019",
           0,
           20,
           35
          ],
          [
           "Gordon, David",
           10051,
           1,
           1,
           1,
           1,
           5,
           3,
           0,
           48285,
           0,
           19,
           "Production Technician I",
           "MA",
           2169,
           "M ",
           "Married",
           "US Citizen",
           "No",
           "White",
           "7/2/2012",
           null,
           "N/A-StillEmployed",
           "Active",
           "Production       ",
           "David Stanley",
           14,
           "LinkedIn",
           "Fully Meets",
           5,
           3,
           0,
           "1/14/2019",
           0,
           2,
           46
          ],
          [
           "Gray, Elijiah  ",
           10098,
           0,
           2,
           1,
           1,
           5,
           3,
           0,
           62957,
           0,
           18,
           "Production Manager",
           "MA",
           1752,
           "M ",
           "Divorced",
           "US Citizen",
           "No",
           "White",
           "6/2/2015",
           null,
           "N/A-StillEmployed",
           "Active",
           "Production       ",
           "Janet King",
           2,
           "Employee Referral",
           "Fully Meets",
           4.63,
           3,
           0,
           "1/4/2019",
           0,
           2,
           43
          ],
          [
           "Gruber, Hans",
           10234,
           1,
           1,
           1,
           1,
           3,
           3,
           0,
           99020,
           0,
           4,
           "BI Developer",
           "MA",
           2134,
           "M ",
           "Married",
           "US Citizen",
           "No",
           "Black or African American",
           "4/20/2017",
           null,
           "N/A-StillEmployed",
           "Active",
           "IT/IS",
           "Brian Champaigne",
           13,
           "Indeed",
           "Fully Meets",
           4.2,
           5,
           5,
           "1/28/2019",
           0,
           8,
           35
          ],
          [
           "Hankard, Earnest",
           10074,
           0,
           0,
           1,
           1,
           5,
           3,
           0,
           64246,
           0,
           20,
           "Production Technician II",
           "MA",
           2155,
           "M ",
           "Single",
           "US Citizen",
           "Yes",
           "White",
           "11/11/2013",
           null,
           "N/A-StillEmployed",
           "Active",
           "Production       ",
           "Kelley Spirea",
           18,
           "LinkedIn",
           "Fully Meets",
           5,
           3,
           0,
           "1/8/2019",
           0,
           20,
           36
          ],
          [
           "Heitzman, Anthony",
           10129,
           0,
           0,
           1,
           1,
           5,
           3,
           0,
           46998,
           0,
           19,
           "Production Technician I",
           "MA",
           2149,
           "M ",
           "Single",
           "US Citizen",
           "No",
           "White",
           "8/13/2012",
           null,
           "N/A-StillEmployed",
           "Active",
           "Production       ",
           "Ketsia Liebig",
           19,
           "Google Search",
           "Fully Meets",
           4.17,
           4,
           0,
           "2/11/2019",
           0,
           1,
           41
          ],
          [
           "Hitchcock, Alfred",
           10167,
           1,
           1,
           1,
           1,
           6,
           3,
           0,
           70545,
           0,
           3,
           "Area Sales Manager",
           "NH",
           3062,
           "M ",
           "Married",
           "US Citizen",
           "No",
           "American Indian or Alaska Native",
           "8/18/2014",
           null,
           "N/A-StillEmployed",
           "Active",
           "Sales",
           "John Smith",
           17,
           "Indeed",
           "Fully Meets",
           3.6,
           5,
           0,
           "1/30/2019",
           0,
           9,
           36
          ],
          [
           "Immediato, Walter",
           10289,
           1,
           1,
           1,
           5,
           5,
           2,
           0,
           83082,
           1,
           18,
           "Production Manager",
           "MA",
           2128,
           "M ",
           "Married",
           "US Citizen",
           "No",
           "Asian",
           "2/21/2011",
           "9/24/2012",
           "unhappy",
           "Voluntarily Terminated",
           "Production       ",
           "Janet King",
           2,
           "Indeed",
           "Needs Improvement",
           2.34,
           2,
           0,
           "4/12/2012",
           3,
           4,
           48
          ],
          [
           "Keatts, Kramer ",
           10192,
           0,
           0,
           1,
           1,
           5,
           3,
           0,
           50482,
           0,
           19,
           "Production Technician I",
           "MA",
           1887,
           "M ",
           "Single",
           "US Citizen",
           "No",
           "White",
           "9/30/2013",
           null,
           "N/A-StillEmployed",
           "Active",
           "Production       ",
           "Michael Albert",
           22,
           "Indeed",
           "Fully Meets",
           3.07,
           4,
           0,
           "1/23/2019",
           0,
           10,
           49
          ],
          [
           "Khemmich, Bartholemew",
           10231,
           0,
           0,
           1,
           1,
           6,
           3,
           0,
           65310,
           0,
           3,
           "Area Sales Manager",
           "CO",
           80820,
           "M ",
           "Single",
           "US Citizen",
           "No",
           "White",
           "8/19/2013",
           null,
           "N/A-StillEmployed",
           "Active",
           "Sales",
           "Lynn Daneault",
           21,
           "Indeed",
           "Fully Meets",
           4.3,
           5,
           0,
           "1/22/2019",
           0,
           13,
           45
          ],
          [
           "Knapp, Bradley  J",
           10208,
           0,
           0,
           1,
           1,
           5,
           3,
           0,
           46654,
           0,
           19,
           "Production Technician I",
           "MA",
           1721,
           "M ",
           "Single",
           "US Citizen",
           "No",
           "Black or African American",
           "2/17/2014",
           null,
           "N/A-StillEmployed",
           "Active",
           "Production       ",
           "Ketsia Liebig",
           19,
           "LinkedIn",
           "Fully Meets",
           3.1,
           3,
           0,
           "2/6/2019",
           0,
           3,
           47
          ],
          [
           "Kretschmer, John",
           10176,
           1,
           1,
           1,
           1,
           5,
           3,
           0,
           63973,
           0,
           19,
           "Production Technician I",
           "MA",
           1801,
           "M ",
           "Married",
           "US Citizen",
           "No",
           "Asian",
           "1/10/2011",
           null,
           "N/A-StillEmployed",
           "Active",
           "Production       ",
           "Brannon Miller",
           12,
           "Indeed",
           "Fully Meets",
           3.38,
           3,
           0,
           "1/21/2019",
           0,
           17,
           45
          ],
          [
           "Lajiri,  Jyoti",
           10113,
           1,
           1,
           1,
           3,
           3,
           3,
           0,
           93206,
           0,
           28,
           "Sr. Network Engineer",
           "MA",
           2169,
           "M ",
           "Married",
           "US Citizen",
           "No",
           "White",
           "11/10/2014",
           null,
           "N/A-StillEmployed",
           "Active",
           "IT/IS",
           "Peter Monroe",
           7,
           "Employee Referral",
           "Fully Meets",
           4.46,
           5,
           6,
           "1/7/2019",
           0,
           7,
           39
          ],
          [
           "Langton, Enrico",
           10052,
           1,
           1,
           1,
           1,
           5,
           3,
           0,
           46120,
           0,
           19,
           "Production Technician I",
           "MA",
           2048,
           "M ",
           "Married",
           "US Citizen",
           "No",
           "White",
           "7/9/2012",
           null,
           "N/A-StillEmployed",
           "Active",
           "Production       ",
           "David Stanley",
           14,
           "LinkedIn",
           "Fully Meets",
           5,
           5,
           0,
           "2/4/2019",
           0,
           13,
           38
          ],
          [
           "LaRotonda, William  ",
           10038,
           0,
           2,
           1,
           1,
           1,
           3,
           0,
           64520,
           0,
           1,
           "Accountant I",
           "MA",
           1460,
           "M ",
           "Divorced",
           "US Citizen",
           "No",
           "Black or African American",
           "1/6/2014",
           null,
           "N/A-StillEmployed",
           "Active",
           "Admin Offices",
           "Brandon R. LeBlanc",
           1,
           "Website",
           "Fully Meets",
           5,
           4,
           4,
           "1/17/2019",
           0,
           3,
           41
          ],
          [
           "Latif, Mohammed",
           10249,
           1,
           1,
           1,
           5,
           5,
           3,
           0,
           61962,
           1,
           20,
           "Production Technician II",
           "MA",
           2126,
           "M ",
           "Married",
           "US Citizen",
           "No",
           "White",
           "4/2/2012",
           "4/15/2013",
           "more money",
           "Voluntarily Terminated",
           "Production       ",
           "Kissy Sullivan",
           20,
           "Google Search",
           "Fully Meets",
           4.9,
           3,
           0,
           "2/20/2013",
           0,
           20,
           41
          ],
          [
           "LeBlanc, Brandon  R",
           10134,
           1,
           1,
           1,
           1,
           1,
           3,
           0,
           93046,
           0,
           23,
           "Shared Services Manager",
           "MA",
           1460,
           "M ",
           "Married",
           "US Citizen",
           "No",
           "White",
           "1/5/2016",
           null,
           "N/A-StillEmployed",
           "Active",
           "Admin Offices",
           "Janet King",
           2,
           "CareerBuilder",
           "Fully Meets",
           4.1,
           4,
           0,
           "1/28/2019",
           0,
           20,
           41
          ],
          [
           "Lecter, Hannibal",
           10251,
           1,
           1,
           1,
           1,
           5,
           3,
           0,
           64738,
           0,
           19,
           "Production Technician I",
           "MA",
           1776,
           "M ",
           "Married",
           "US Citizen",
           "No",
           "Asian",
           "5/14/2012",
           null,
           "N/A-StillEmployed",
           "Active",
           "Production       ",
           "Elijiah Gray",
           16,
           "Google Search",
           "Fully Meets",
           4.1,
           3,
           0,
           "2/22/2019",
           0,
           10,
           42
          ],
          [
           "Leruth, Giovanni",
           10103,
           0,
           3,
           1,
           1,
           6,
           3,
           0,
           70468,
           0,
           3,
           "Area Sales Manager",
           "UT",
           84111,
           "M ",
           "Separated",
           "US Citizen",
           "No",
           "Black or African American",
           "4/30/2012",
           null,
           "N/A-StillEmployed",
           "Active",
           "Sales",
           "John Smith",
           17,
           "Website",
           "Fully Meets",
           4.53,
           3,
           0,
           "1/29/2019",
           0,
           16,
           36
          ],
          [
           "Linden, Mathew",
           10137,
           1,
           1,
           1,
           3,
           5,
           3,
           0,
           63450,
           0,
           20,
           "Production Technician II",
           "MA",
           1770,
           "M ",
           "Married",
           "US Citizen",
           "No",
           "White",
           "7/8/2013",
           null,
           "N/A-StillEmployed",
           "Active",
           "Production       ",
           "Kelley Spirea",
           18,
           "LinkedIn",
           "Fully Meets",
           4,
           3,
           0,
           "2/18/2019",
           0,
           7,
           46
          ],
          [
           "McKinzie, Jac",
           10202,
           1,
           1,
           1,
           2,
           6,
           3,
           0,
           63291,
           0,
           3,
           "Area Sales Manager",
           "TX",
           78789,
           "M ",
           "Married",
           "US Citizen",
           "No",
           "Two or more races",
           "7/6/2016",
           null,
           "N/A-StillEmployed",
           "Active",
           "Sales",
           "Lynn Daneault",
           21,
           "Website",
           "Fully Meets",
           3.4,
           4,
           0,
           "1/29/2019",
           0,
           7,
           40
          ],
          [
           "Miller, Brannon",
           10116,
           0,
           0,
           1,
           1,
           5,
           3,
           0,
           83667,
           0,
           18,
           "Production Manager",
           "MA",
           2045,
           "M ",
           "Single",
           "US Citizen",
           "yes",
           "Hispanic",
           "8/16/2012",
           null,
           "N/A-StillEmployed",
           "Active",
           "Production       ",
           "Janet King",
           2,
           "Indeed",
           "Fully Meets",
           4.37,
           3,
           0,
           "1/14/2019",
           0,
           2,
           43
          ],
          [
           "Miller, Ned",
           10298,
           0,
           0,
           1,
           5,
           5,
           1,
           0,
           55800,
           1,
           20,
           "Production Technician II",
           "MA",
           2472,
           "M ",
           "Single",
           "US Citizen",
           "No",
           "White",
           "8/15/2011",
           "9/4/2014",
           "unhappy",
           "Voluntarily Terminated",
           "Production       ",
           "Brannon Miller",
           12,
           "LinkedIn",
           "PIP",
           3,
           2,
           0,
           "1/14/2013",
           6,
           6,
           39
          ],
          [
           "Monkfish, Erasumus",
           10213,
           1,
           1,
           1,
           1,
           5,
           3,
           0,
           58207,
           0,
           20,
           "Production Technician II",
           "MA",
           1450,
           "M ",
           "Married",
           "US Citizen",
           "No",
           "White",
           "11/7/2011",
           null,
           "N/A-StillEmployed",
           "Active",
           "Production       ",
           "David Stanley",
           14,
           "LinkedIn",
           "Fully Meets",
           3.7,
           3,
           0,
           "1/8/2019",
           0,
           14,
           32
          ],
          [
           "Monroe, Peter",
           10288,
           1,
           1,
           1,
           1,
           3,
           2,
           1,
           157000,
           0,
           13,
           "IT Manager - Infra",
           "MA",
           2134,
           "M ",
           "Married",
           "Eligible NonCitizen",
           "Yes",
           "Black or African American",
           "2/15/2012",
           null,
           "N/A-StillEmployed",
           "Active",
           "IT/IS",
           "Jennifer Zamora",
           5,
           "Diversity Job Fair",
           "Needs Improvement",
           2.39,
           3,
           6,
           "2/22/2019",
           4,
           13,
           38
          ],
          [
           "Moran, Patrick",
           10223,
           0,
           0,
           1,
           3,
           5,
           3,
           1,
           72106,
           0,
           20,
           "Production Technician II",
           "MA",
           2127,
           "M ",
           "Single",
           "US Citizen",
           "No",
           "Black or African American",
           "1/9/2012",
           null,
           "N/A-StillEmployed",
           "Active",
           "Production       ",
           "Kelley Spirea",
           18,
           "Diversity Job Fair",
           "Fully Meets",
           4.1,
           4,
           0,
           "1/31/2019",
           0,
           12,
           48
          ],
          [
           "Myers, Michael",
           10216,
           0,
           0,
           1,
           1,
           5,
           3,
           0,
           57575,
           0,
           19,
           "Production Technician I",
           "MA",
           1550,
           "M ",
           "Single",
           "US Citizen",
           "No",
           "Asian",
           "7/8/2013",
           null,
           "N/A-StillEmployed",
           "Active",
           "Production       ",
           "Kissy Sullivan",
           20,
           "LinkedIn",
           "Fully Meets",
           4.1,
           4,
           0,
           "1/22/2019",
           0,
           13,
           45
          ],
          [
           "Ndzi, Colombui",
           10215,
           0,
           0,
           1,
           5,
           5,
           3,
           1,
           50470,
           1,
           19,
           "Production Technician I",
           "MA",
           2110,
           "M ",
           "Single",
           "US Citizen",
           "No",
           "Black or African American",
           "9/26/2011",
           "4/4/2014",
           "return to school",
           "Voluntarily Terminated",
           "Production       ",
           "Webster Butler",
           39,
           "Diversity Job Fair",
           "Fully Meets",
           4.3,
           3,
           0,
           "3/2/2013",
           0,
           19,
           36
          ],
          [
           "Ndzi, Horia",
           10185,
           1,
           1,
           1,
           5,
           5,
           3,
           0,
           46664,
           1,
           19,
           "Production Technician I",
           "MA",
           2421,
           "M ",
           "Married",
           "US Citizen",
           "No",
           "White",
           "4/1/2013",
           "5/25/2016",
           "more money",
           "Voluntarily Terminated",
           "Production       ",
           "Amy Dunn",
           11,
           "Employee Referral",
           "Fully Meets",
           3.18,
           3,
           0,
           "3/6/2016",
           0,
           10,
           42
          ],
          [
           "Newman, Richard ",
           10063,
           1,
           1,
           1,
           3,
           5,
           3,
           0,
           48495,
           0,
           19,
           "Production Technician I",
           "MA",
           2136,
           "M ",
           "Married",
           "US Citizen",
           "No",
           "White",
           "5/12/2014",
           null,
           "N/A-StillEmployed",
           "Active",
           "Production       ",
           "Ketsia Liebig",
           19,
           "LinkedIn",
           "Fully Meets",
           5,
           5,
           0,
           "2/18/2019",
           0,
           11,
           48
          ],
          [
           "Osturnka, Adeel",
           10021,
           1,
           1,
           1,
           1,
           5,
           4,
           0,
           47414,
           0,
           19,
           "Production Technician I",
           "MA",
           2478,
           "M ",
           "Married",
           "US Citizen",
           "No",
           "White",
           "9/30/2013",
           null,
           "N/A-StillEmployed",
           "Active",
           "Production       ",
           "Kelley Spirea",
           18,
           "LinkedIn",
           "Exceeds",
           5,
           3,
           0,
           "2/7/2019",
           0,
           13,
           48
          ],
          [
           "Owad, Clinton",
           10281,
           0,
           0,
           1,
           1,
           5,
           2,
           0,
           53060,
           0,
           19,
           "Production Technician I",
           "MA",
           1760,
           "M ",
           "Single",
           "US Citizen",
           "No",
           "Black or African American",
           "2/17/2014",
           null,
           "N/A-StillEmployed",
           "Active",
           "Production       ",
           "Michael Albert",
           22,
           "LinkedIn",
           "Needs Improvement",
           4.25,
           3,
           0,
           "2/4/2019",
           4,
           6,
           45
          ],
          [
           "Ozark, Travis",
           10041,
           0,
           0,
           1,
           1,
           6,
           3,
           0,
           68829,
           0,
           3,
           "Area Sales Manager",
           "NC",
           27229,
           "M ",
           "Single",
           "US Citizen",
           "No",
           "White",
           "1/5/2015",
           null,
           "N/A-StillEmployed",
           "Active",
           "Sales",
           "John Smith",
           17,
           "Website",
           "Fully Meets",
           5,
           5,
           0,
           "1/14/2019",
           0,
           18,
           43
          ],
          [
           "Patronick, Lucas",
           10005,
           0,
           0,
           1,
           5,
           4,
           4,
           1,
           108987,
           1,
           24,
           "Software Engineer",
           "MA",
           1844,
           "M ",
           "Single",
           "US Citizen",
           "No",
           "Black or African American",
           "11/7/2011",
           "9/7/2015",
           "Another position",
           "Voluntarily Terminated",
           "Software Engineering",
           "Alex Sweetwater",
           10,
           "Diversity Job Fair",
           "Exceeds",
           5,
           5,
           3,
           "8/16/2015",
           0,
           13,
           46
          ],
          [
           "Pearson, Randall",
           10259,
           1,
           1,
           1,
           5,
           3,
           3,
           0,
           93093,
           1,
           9,
           "Data Analyst",
           "MA",
           2747,
           "M ",
           "Married",
           "US Citizen",
           "No",
           "White",
           "12/1/2014",
           "5/1/2016",
           "performance",
           "Voluntarily Terminated",
           "IT/IS",
           "Simon Roup",
           4,
           "Employee Referral",
           "Fully Meets",
           4.7,
           4,
           5,
           "1/16/2016",
           0,
           19,
           40
          ],
          [
           "Smith, Martin",
           10286,
           0,
           0,
           1,
           5,
           5,
           2,
           0,
           53564,
           1,
           19,
           "Production Technician I",
           "MA",
           2458,
           "M ",
           "Single",
           "US Citizen",
           "No",
           "Black or African American",
           "1/10/2011",
           "12/28/2017",
           "career change",
           "Voluntarily Terminated",
           "Production       ",
           "Webster Butler",
           39,
           "Google Search",
           "Needs Improvement",
           3.54,
           5,
           0,
           "4/6/2017",
           4,
           15,
           37
          ],
          [
           "Pham, Hong",
           10050,
           1,
           1,
           1,
           5,
           5,
           3,
           0,
           64724,
           1,
           19,
           "Production Technician I",
           "MA",
           2451,
           "M ",
           "Married",
           "US Citizen",
           "No",
           "Asian",
           "7/5/2011",
           "11/30/2012",
           "more money",
           "Voluntarily Terminated",
           "Production       ",
           "Brannon Miller",
           12,
           "Google Search",
           "Fully Meets",
           5,
           3,
           0,
           "2/20/2012",
           0,
           13,
           37
          ],
          [
           "Pitt, Brad ",
           10164,
           0,
           0,
           1,
           1,
           5,
           3,
           0,
           47001,
           0,
           19,
           "Production Technician I",
           "MA",
           2451,
           "M ",
           "Single",
           "US Citizen",
           "No",
           "White",
           "11/5/2007",
           null,
           "N/A-StillEmployed",
           "Active",
           "Production       ",
           "David Stanley",
           14,
           "Google Search",
           "Fully Meets",
           3.66,
           3,
           0,
           "2/25/2019",
           0,
           15,
           43
          ],
          [
           "Quinn, Sean",
           10131,
           1,
           1,
           1,
           5,
           1,
           3,
           1,
           83363,
           1,
           23,
           "Software Engineer",
           "MA",
           2045,
           "M ",
           "Married",
           "Eligible NonCitizen",
           "No",
           "Black or African American",
           "2/21/2011",
           "8/15/2015",
           "career change",
           "Voluntarily Terminated",
           "Software Engineering",
           "Janet King",
           2,
           "Diversity Job Fair",
           "Fully Meets",
           4.15,
           4,
           0,
           "4/19/2014",
           0,
           4,
           40
          ],
          [
           "Rarrick, Quinn",
           10152,
           0,
           2,
           1,
           5,
           5,
           3,
           0,
           61729,
           1,
           19,
           "Production Technician I",
           "MA",
           2478,
           "M ",
           "Divorced",
           "US Citizen",
           "No",
           "White",
           "9/26/2011",
           "4/7/2018",
           "more money",
           "Voluntarily Terminated",
           "Production       ",
           "Michael Albert",
           22,
           "Indeed",
           "Fully Meets",
           3.8,
           5,
           0,
           "2/4/2018",
           0,
           19,
           40
          ],
          [
           "Rhoads, Thomas",
           10058,
           0,
           2,
           1,
           5,
           5,
           3,
           0,
           45115,
           1,
           19,
           "Production Technician I",
           "MA",
           2176,
           "M ",
           "Divorced",
           "US Citizen",
           "Yes",
           "White",
           "5/16/2011",
           "1/15/2016",
           "retiring",
           "Voluntarily Terminated",
           "Production       ",
           "Elijiah Gray",
           16,
           "LinkedIn",
           "Fully Meets",
           5,
           4,
           0,
           "3/30/2015",
           0,
           11,
           42
          ],
          [
           "Robinson, Elias",
           10020,
           0,
           4,
           1,
           1,
           5,
           4,
           0,
           63353,
           0,
           19,
           "Production Technician I",
           "MA",
           1730,
           "M ",
           "Widowed",
           "US Citizen",
           "No",
           "White",
           "7/8/2013",
           null,
           "N/A-StillEmployed",
           "Active",
           "Production       ",
           "Brannon Miller",
           12,
           "Employee Referral",
           "Exceeds",
           3.6,
           5,
           0,
           "2/11/2019",
           0,
           4,
           40
          ],
          [
           "Rossetti, Bruno",
           10065,
           0,
           0,
           1,
           5,
           5,
           3,
           0,
           53180,
           1,
           19,
           "Production Technician I",
           "MA",
           2155,
           "M ",
           "Single",
           "US Citizen",
           "No",
           "White",
           "4/4/2011",
           "8/13/2018",
           "Another position",
           "Voluntarily Terminated",
           "Production       ",
           "Kissy Sullivan",
           20,
           "Google Search",
           "Fully Meets",
           5,
           5,
           0,
           "7/2/2018",
           0,
           4,
           38
          ],
          [
           "Sahoo, Adil",
           10233,
           1,
           1,
           1,
           1,
           5,
           3,
           0,
           57975,
           0,
           20,
           "Production Technician II",
           "MA",
           2062,
           "M ",
           "Married",
           "US Citizen",
           "No",
           "White",
           "8/30/2010",
           null,
           "N/A-StillEmployed",
           "Active",
           "Production       ",
           "Kelley Spirea",
           18,
           "CareerBuilder",
           "Fully Meets",
           4.1,
           3,
           0,
           "1/10/2019",
           0,
           13,
           39
          ],
          [
           "Salter, Jason",
           10229,
           0,
           2,
           1,
           5,
           3,
           3,
           0,
           88527,
           1,
           9,
           "Data Analyst ",
           "MA",
           2452,
           "M ",
           "Divorced",
           "US Citizen",
           "No",
           "Black or African American",
           "1/5/2015",
           "10/31/2015",
           "hours",
           "Voluntarily Terminated",
           "IT/IS",
           "Simon Roup",
           4,
           "LinkedIn",
           "Fully Meets",
           4.2,
           3,
           5,
           "4/20/2015",
           0,
           2,
           37
          ],
          [
           "Smith, John",
           10291,
           0,
           2,
           1,
           1,
           6,
           2,
           1,
           72992,
           0,
           21,
           "Sales Manager",
           "MA",
           1886,
           "M ",
           "Divorced",
           "US Citizen",
           "No",
           "Black or African American",
           "5/18/2014",
           null,
           "N/A-StillEmployed",
           "Active",
           "Sales",
           "Debra Houlihan",
           15,
           "Diversity Job Fair",
           "Needs Improvement",
           2.4,
           4,
           0,
           "1/16/2019",
           2,
           16,
           40
          ],
          [
           "Soze, Keyser",
           10180,
           1,
           1,
           1,
           2,
           3,
           3,
           0,
           87565,
           0,
           28,
           "Sr. Network Engineer",
           "MA",
           1545,
           "M ",
           "Married",
           "US Citizen",
           "No",
           "Asian",
           "6/30/2016",
           null,
           "N/A-StillEmployed",
           "Active",
           "IT/IS",
           "Peter Monroe",
           7,
           "LinkedIn",
           "Fully Meets",
           3.27,
           4,
           5,
           "1/14/2019",
           0,
           13,
           42
          ],
          [
           "Steans, Tyrone  ",
           10147,
           0,
           0,
           1,
           1,
           1,
           3,
           0,
           63003,
           0,
           1,
           "Accountant I",
           "MA",
           2703,
           "M ",
           "Single",
           "US Citizen",
           "No",
           "White",
           "9/29/2014",
           null,
           "N/A-StillEmployed",
           "Active",
           "Admin Offices",
           "Brandon R. LeBlanc",
           1,
           "Indeed",
           "Fully Meets",
           3.9,
           5,
           5,
           "1/18/2019",
           0,
           9,
           38
          ],
          [
           "Stoica, Rick",
           10266,
           1,
           1,
           1,
           1,
           5,
           3,
           0,
           61355,
           0,
           19,
           "Production Technician I",
           "MA",
           2301,
           "M ",
           "Married",
           "US Citizen",
           "No",
           "Asian",
           "2/17/2014",
           null,
           "N/A-StillEmployed",
           "Active",
           "Production       ",
           "Kelley Spirea",
           18,
           "LinkedIn",
           "Fully Meets",
           4.7,
           3,
           0,
           "1/11/2019",
           0,
           4,
           40
          ],
          [
           "Sullivan, Timothy",
           10117,
           1,
           1,
           1,
           1,
           5,
           3,
           0,
           63025,
           0,
           19,
           "Production Technician I",
           "MA",
           2747,
           "M ",
           "Married",
           "US Citizen",
           "Yes",
           "White",
           "1/5/2015",
           null,
           "N/A-StillEmployed",
           "Active",
           "Production       ",
           "Michael Albert",
           22,
           "Google Search",
           "Fully Meets",
           4.36,
           5,
           0,
           "1/24/2019",
           0,
           10,
           42
          ],
          [
           "Szabo, Andrew",
           10024,
           0,
           0,
           1,
           1,
           4,
           4,
           0,
           92989,
           0,
           24,
           "Software Engineer",
           "MA",
           2140,
           "M ",
           "Single",
           "US Citizen",
           "No",
           "White",
           "7/7/2014",
           null,
           "N/A-StillEmployed",
           "Active",
           "Software Engineering",
           "Alex Sweetwater",
           10,
           "LinkedIn",
           "Exceeds",
           4.5,
           5,
           5,
           "2/18/2019",
           0,
           1,
           42
          ],
          [
           "Tannen, Biff",
           10173,
           1,
           1,
           1,
           1,
           3,
           3,
           0,
           90100,
           0,
           4,
           "BI Developer",
           "MA",
           2134,
           "M ",
           "Married",
           "US Citizen",
           "No",
           "White",
           "4/20/2017",
           null,
           "N/A-StillEmployed",
           "Active",
           "IT/IS",
           "Brian Champaigne",
           13,
           "Indeed",
           "Fully Meets",
           3.4,
           3,
           6,
           "1/2/2019",
           0,
           14,
           37
          ],
          [
           "Thibaud, Kenneth",
           10268,
           0,
           4,
           1,
           5,
           5,
           3,
           0,
           67176,
           1,
           20,
           "Production Technician II",
           "MA",
           2472,
           "M ",
           "Widowed",
           "US Citizen",
           "No",
           "White",
           "6/25/2007",
           "8/30/2010",
           "military",
           "Voluntarily Terminated",
           "Production       ",
           "Webster Butler",
           39,
           "Other",
           "Fully Meets",
           4.1,
           4,
           0,
           "7/14/2010",
           0,
           15,
           49
          ],
          [
           "Tredinnick, Neville ",
           10044,
           1,
           1,
           1,
           5,
           3,
           3,
           0,
           75281,
           1,
           15,
           "Network Engineer",
           "MA",
           1420,
           "M ",
           "Married",
           "US Citizen",
           "No",
           "White",
           "1/5/2015",
           "2/12/2016",
           "medical issues",
           "Voluntarily Terminated",
           "IT/IS",
           "Peter Monroe",
           7,
           "CareerBuilder",
           "Fully Meets",
           5,
           3,
           5,
           "4/15/2015",
           0,
           11,
           37
          ],
          [
           "True, Edward",
           10102,
           0,
           0,
           1,
           5,
           4,
           3,
           1,
           100416,
           1,
           24,
           "Software Engineer",
           "MA",
           2451,
           "M ",
           "Single",
           "Non-Citizen",
           "No",
           "Black or African American",
           "2/18/2013",
           "4/15/2018",
           "medical issues",
           "Voluntarily Terminated",
           "Software Engineering",
           "Alex Sweetwater",
           10,
           "Diversity Job Fair",
           "Fully Meets",
           4.6,
           3,
           4,
           "2/12/2017",
           0,
           9,
           42
          ],
          [
           "Veera, Abdellah ",
           10014,
           0,
           2,
           1,
           5,
           5,
           4,
           0,
           58523,
           1,
           19,
           "Production Technician I",
           "MA",
           2171,
           "M ",
           "Divorced",
           "US Citizen",
           "No",
           "White",
           "8/13/2012",
           "2/5/2016",
           "maternity leave - did not return",
           "Voluntarily Terminated",
           "Production       ",
           "Kissy Sullivan",
           20,
           "LinkedIn",
           "Exceeds",
           4.5,
           5,
           0,
           "2/1/2016",
           0,
           15,
           38
          ],
          [
           "Villanueva, Noah",
           10253,
           0,
           0,
           1,
           1,
           6,
           3,
           0,
           55875,
           0,
           3,
           "Area Sales Manager",
           "ME",
           4063,
           "M ",
           "Single",
           "US Citizen",
           "No",
           "Asian",
           "3/5/2012",
           null,
           "N/A-StillEmployed",
           "Active",
           "Sales",
           "John Smith",
           17,
           "Website",
           "Fully Meets",
           4.5,
           4,
           0,
           "1/18/2019",
           0,
           11,
           35
          ],
          [
           "Voldemort, Lord",
           10118,
           1,
           1,
           1,
           4,
           3,
           3,
           0,
           113999,
           1,
           8,
           "Database Administrator",
           "MA",
           1960,
           "M ",
           "Married",
           "US Citizen",
           "No",
           "Black or African American",
           "2/16/2015",
           "2/22/2017",
           "no-call, no-show",
           "Terminated for Cause",
           "IT/IS",
           "Simon Roup",
           4,
           "Employee Referral",
           "Fully Meets",
           4.33,
           3,
           7,
           "2/15/2017",
           0,
           9,
           38
          ],
          [
           "Walker, Roger",
           10190,
           0,
           0,
           1,
           1,
           5,
           3,
           0,
           66541,
           0,
           20,
           "Production Technician II",
           "MA",
           2459,
           "M ",
           "Single",
           "US Citizen",
           "No",
           "Black or African American",
           "8/18/2014",
           null,
           "N/A-StillEmployed",
           "Active",
           "Production       ",
           "Ketsia Liebig",
           19,
           "Employee Referral",
           "Fully Meets",
           3.11,
           5,
           0,
           "2/12/2019",
           0,
           4,
           49
          ],
          [
           "Wang, Charlie",
           10172,
           0,
           0,
           1,
           1,
           3,
           3,
           0,
           84903,
           0,
           22,
           "Senior BI Developer",
           "MA",
           1887,
           "M ",
           "Single",
           "US Citizen",
           "No",
           "Asian",
           "2/15/2017",
           null,
           "N/A-StillEmployed",
           "Active",
           "IT/IS",
           "Brian Champaigne",
           13,
           "Indeed",
           "Fully Meets",
           3.42,
           4,
           7,
           "1/4/2019",
           0,
           17,
           43
          ],
          [
           "Whittier, Scott",
           10072,
           0,
           0,
           1,
           5,
           5,
           3,
           0,
           58371,
           1,
           19,
           "Production Technician I",
           "MA",
           2030,
           "M ",
           "Single",
           "US Citizen",
           "Yes",
           "White",
           "1/10/2011",
           "5/15/2014",
           "hours",
           "Voluntarily Terminated",
           "Production       ",
           "Webster Butler",
           39,
           "LinkedIn",
           "Fully Meets",
           5,
           5,
           0,
           "5/15/2014",
           0,
           11,
           38
          ],
          [
           "Woodson, Jason",
           10135,
           0,
           0,
           1,
           1,
           5,
           3,
           0,
           65893,
           0,
           20,
           "Production Technician II",
           "MA",
           1810,
           "M ",
           "Single",
           "US Citizen",
           "No",
           "White",
           "7/7/2014",
           null,
           "N/A-StillEmployed",
           "Active",
           "Production       ",
           "Kissy Sullivan",
           20,
           "LinkedIn",
           "Fully Meets",
           4.07,
           4,
           0,
           "2/28/2019",
           0,
           13,
           40
          ]
         ],
         "fillcolor": "rgba(255,255,255,0)",
         "hoveron": "points",
         "hovertemplate": "Sex=%{customdata[15]}<br>Fecha de nacimiento=%{x}<br>Employee_Name=%{customdata[0]}<br>EmpID=%{customdata[1]}<br>MarriedID=%{customdata[2]}<br>MaritalStatusID=%{customdata[3]}<br>GenderID=%{customdata[4]}<br>EmpStatusID=%{customdata[5]}<br>DeptID=%{customdata[6]}<br>PerfScoreID=%{customdata[7]}<br>FromDiversityJobFairID=%{customdata[8]}<br>Salary=%{customdata[9]}<br>Termd=%{customdata[10]}<br>PositionID=%{customdata[11]}<br>Position=%{customdata[12]}<br>State=%{customdata[13]}<br>Zip=%{customdata[14]}<br>MaritalDesc=%{customdata[16]}<br>CitizenDesc=%{customdata[17]}<br>HispanicLatino=%{customdata[18]}<br>RaceDesc=%{customdata[19]}<br>DateofHire=%{customdata[20]}<br>DateofTermination=%{customdata[21]}<br>TermReason=%{customdata[22]}<br>EmploymentStatus=%{customdata[23]}<br>Department=%{customdata[24]}<br>ManagerName=%{customdata[25]}<br>ManagerID=%{customdata[26]}<br>RecruitmentSource=%{customdata[27]}<br>PerformanceScore=%{customdata[28]}<br>EngagementSurvey=%{customdata[29]}<br>EmpSatisfaction=%{customdata[30]}<br>SpecialProjectsCount=%{customdata[31]}<br>LastPerformanceReview_Date=%{customdata[32]}<br>DaysLateLast30=%{customdata[33]}<br>Absences=%{customdata[34]}<br>Edad=%{customdata[35]}<extra></extra>",
         "jitter": 0,
         "legendgroup": "M ",
         "line": {
          "color": "rgba(255,255,255,0)"
         },
         "marker": {
          "color": "#636efa",
          "symbol": "line-ns-open"
         },
         "name": "M ",
         "offsetgroup": "M ",
         "showlegend": false,
         "type": "box",
         "x": [
          "1983-07-10T00:00:00",
          "1975-05-05T00:00:00",
          "1983-02-18T00:00:00",
          "1988-01-07T00:00:00",
          "1988-07-04T00:00:00",
          "1983-07-20T00:00:00",
          "1977-07-15T00:00:00",
          "1981-10-18T00:00:00",
          "1979-04-06T00:00:00",
          "1983-07-28T00:00:00",
          "1977-08-19T00:00:00",
          "1983-08-09T00:00:00",
          "1983-02-02T00:00:00",
          "1983-08-24T00:00:00",
          "1985-09-05T00:00:00",
          "1978-11-25T00:00:00",
          "1980-08-26T00:00:00",
          "1977-09-08T00:00:00",
          "1979-08-12T00:00:00",
          "1975-12-17T00:00:00",
          "1983-03-19T00:00:00",
          "1986-08-26T00:00:00",
          "1979-09-14T00:00:00",
          "1988-04-15T00:00:00",
          "1977-10-31T00:00:00",
          "1975-11-02T00:00:00",
          "1983-09-04T00:00:00",
          "1982-11-15T00:00:00",
          "1978-08-25T00:00:00",
          "1983-09-02T00:00:00",
          "1989-10-18T00:00:00",
          "1987-06-18T00:00:00",
          "1981-10-01T00:00:00",
          "1975-07-07T00:00:00",
          "1980-07-05T00:00:00",
          "1985-09-15T00:00:00",
          "1989-11-24T00:00:00",
          "1979-05-21T00:00:00",
          "1981-07-11T00:00:00",
          "1989-06-30T00:00:00",
          "1988-08-10T00:00:00",
          "1984-01-04T00:00:00",
          "1988-09-14T00:00:00",
          "1976-11-15T00:00:00",
          "1976-01-19T00:00:00",
          "1979-11-27T00:00:00",
          "1977-11-10T00:00:00",
          "1980-02-02T00:00:00",
          "1986-04-23T00:00:00",
          "1986-12-09T00:00:00",
          "1984-04-26T00:00:00",
          "1984-05-09T00:00:00",
          "1984-06-10T00:00:00",
          "1982-09-02T00:00:00",
          "1988-12-27T00:00:00",
          "1979-03-19T00:00:00",
          "1984-07-01T00:00:00",
          "1981-08-10T00:00:00",
          "1985-06-29T00:00:00",
          "1992-08-17T00:00:00",
          "1986-10-05T00:00:00",
          "1976-12-03T00:00:00",
          "1980-04-18T00:00:00",
          "1989-05-02T00:00:00",
          "1983-03-28T00:00:00",
          "1977-04-08T00:00:00",
          "1976-12-11T00:00:00",
          "1979-11-24T00:00:00",
          "1982-05-19T00:00:00",
          "1979-02-20T00:00:00",
          "1984-09-05T00:00:00",
          "1988-03-17T00:00:00",
          "1988-03-06T00:00:00",
          "1981-11-23T00:00:00",
          "1984-11-06T00:00:00",
          "1984-12-31T00:00:00",
          "1982-07-22T00:00:00",
          "1985-01-28T00:00:00",
          "1987-03-18T00:00:00",
          "1986-04-26T00:00:00",
          "1987-12-17T00:00:00",
          "1984-08-16T00:00:00",
          "1983-02-09T00:00:00",
          "1986-09-01T00:00:00",
          "1985-03-14T00:00:00",
          "1982-10-07T00:00:00",
          "1983-05-06T00:00:00",
          "1987-10-24T00:00:00",
          "1975-09-16T00:00:00",
          "1988-05-05T00:00:00",
          "1983-06-14T00:00:00",
          "1987-01-31T00:00:00",
          "1989-07-11T00:00:00",
          "1986-08-07T00:00:00",
          "1976-02-10T00:00:00",
          "1981-07-08T00:00:00",
          "1987-05-24T00:00:00",
          "1985-05-11T00:00:00"
         ],
         "xaxis": "x2",
         "yaxis": "y2"
        },
        {
         "alignmentgroup": "True",
         "bingroup": "x",
         "hovertemplate": "Sex=F<br>Fecha de nacimiento=%{x}<br>count=%{y}<extra></extra>",
         "legendgroup": "F",
         "marker": {
          "color": "#EF553B",
          "pattern": {
           "shape": ""
          }
         },
         "name": "F",
         "nbinsx": 30,
         "offsetgroup": "F",
         "orientation": "v",
         "showlegend": true,
         "type": "histogram",
         "x": [
          "1988-09-19T00:00:00",
          "1988-09-27T00:00:00",
          "1989-09-08T00:00:00",
          "1977-05-22T00:00:00",
          "1979-05-24T00:00:00",
          "1986-04-04T00:00:00",
          "1989-09-01T00:00:00",
          "1990-09-21T00:00:00",
          "1987-04-04T00:00:00",
          "1990-08-24T00:00:00",
          "1987-11-24T00:00:00",
          "1980-03-02T00:00:00",
          "1987-04-05T00:00:00",
          "1986-06-06T00:00:00",
          "1979-02-12T00:00:00",
          "1983-08-27T00:00:00",
          "1988-05-31T00:00:00",
          "1981-08-31T00:00:00",
          "1977-03-31T00:00:00",
          "1987-04-10T00:00:00",
          "1990-04-19T00:00:00",
          "1978-11-05T00:00:00",
          "1979-07-05T00:00:00",
          "1987-05-14T00:00:00",
          "1978-12-02T00:00:00",
          "1986-10-07T00:00:00",
          "1988-07-18T00:00:00",
          "1988-11-08T00:00:00",
          "1991-09-05T00:00:00",
          "1989-08-25T00:00:00",
          "1989-05-06T00:00:00",
          "1987-05-15T00:00:00",
          "1978-09-22T00:00:00",
          "1987-09-27T00:00:00",
          "1981-03-16T00:00:00",
          "1983-11-08T00:00:00",
          "1979-04-16T00:00:00",
          "1983-12-02T00:00:00",
          "1990-10-01T00:00:00",
          "1980-05-08T00:00:00",
          "1989-09-22T00:00:00",
          "1992-06-18T00:00:00",
          "1981-04-16T00:00:00",
          "1986-05-25T00:00:00",
          "1983-12-08T00:00:00",
          "1983-05-21T00:00:00",
          "1977-03-23T00:00:00",
          "1984-02-16T00:00:00",
          "1984-02-21T00:00:00",
          "1985-09-16T00:00:00",
          "1986-06-10T00:00:00",
          "1984-03-11T00:00:00",
          "1992-05-07T00:00:00",
          "1976-09-22T00:00:00",
          "1991-01-28T00:00:00",
          "1986-11-06T00:00:00",
          "1986-11-07T00:00:00",
          "1986-04-17T00:00:00",
          "1989-11-11T00:00:00",
          "1979-07-25T00:00:00",
          "1987-06-14T00:00:00",
          "1979-01-17T00:00:00",
          "1981-10-26T00:00:00",
          "1981-03-26T00:00:00",
          "1988-10-05T00:00:00",
          "1976-12-26T00:00:00",
          "1982-03-28T00:00:00",
          "1975-10-22T00:00:00",
          "1986-07-07T00:00:00",
          "1976-08-25T00:00:00",
          "1986-12-10T00:00:00",
          "1987-11-07T00:00:00",
          "1977-11-22T00:00:00",
          "1987-05-21T00:00:00",
          "1987-01-07T00:00:00",
          "1976-09-22T00:00:00",
          "1979-04-04T00:00:00",
          "1984-07-07T00:00:00",
          "1989-03-31T00:00:00",
          "1984-07-07T00:00:00",
          "1985-11-23T00:00:00",
          "1980-09-30T00:00:00",
          "1990-05-11T00:00:00",
          "1979-05-01T00:00:00",
          "1989-07-18T00:00:00",
          "1986-07-20T00:00:00",
          "1986-08-17T00:00:00",
          "1977-05-09T00:00:00",
          "1979-03-10T00:00:00",
          "1984-09-16T00:00:00",
          "1988-08-29T00:00:00",
          "1984-10-15T00:00:00",
          "1980-05-12T00:00:00",
          "1981-09-05T00:00:00",
          "1985-01-07T00:00:00",
          "1981-10-11T00:00:00",
          "1986-07-24T00:00:00",
          "1988-07-10T00:00:00",
          "1975-03-10T00:00:00",
          "1981-04-14T00:00:00",
          "1985-08-24T00:00:00",
          "1988-05-19T00:00:00",
          "1987-11-25T00:00:00",
          "1987-06-14T00:00:00",
          "1975-09-30T00:00:00",
          "1982-08-25T00:00:00",
          "1989-05-12T00:00:00",
          "1978-03-28T00:00:00",
          "1975-04-03T00:00:00",
          "1983-05-16T00:00:00",
          "1985-03-15T00:00:00",
          "1991-05-23T00:00:00",
          "1986-06-03T00:00:00",
          "1985-04-06T00:00:00",
          "1980-08-02T00:00:00",
          "1978-05-02T00:00:00",
          "1983-07-30T00:00:00",
          "1985-04-20T00:00:00",
          "1982-05-04T00:00:00",
          "1979-08-30T00:00:00",
          "1979-02-24T00:00:00",
          "1978-08-17T00:00:00"
         ],
         "xaxis": "x",
         "yaxis": "y"
        },
        {
         "alignmentgroup": "True",
         "boxpoints": "all",
         "customdata": [
          [
           "Akinkuolie, Sarah",
           10196,
           1,
           1,
           0,
           5,
           5,
           3,
           0,
           64955,
           1,
           20,
           "Production Technician II",
           "MA",
           1810,
           "F",
           "Married",
           "US Citizen",
           "No",
           "White",
           "7/5/2011",
           "9/24/2012",
           "hours",
           "Voluntarily Terminated",
           "Production       ",
           "Kissy Sullivan",
           20,
           "LinkedIn",
           "Fully Meets",
           3.02,
           3,
           0,
           "5/15/2012",
           0,
           3,
           36
          ],
          [
           "Alagbe,Trina",
           10088,
           1,
           1,
           0,
           1,
           5,
           3,
           0,
           64991,
           0,
           19,
           "Production Technician I",
           "MA",
           1886,
           "F",
           "Married",
           "US Citizen",
           "No",
           "White",
           "1/7/2008",
           null,
           "N/A-StillEmployed",
           "Active",
           "Production       ",
           "Elijiah Gray",
           16,
           "Indeed",
           "Fully Meets",
           4.84,
           5,
           0,
           "1/3/2019",
           0,
           15,
           36
          ],
          [
           "Anderson, Carol ",
           10069,
           0,
           2,
           0,
           5,
           5,
           3,
           0,
           50825,
           1,
           19,
           "Production Technician I",
           "MA",
           2169,
           "F",
           "Divorced",
           "US Citizen",
           "No",
           "White",
           "7/11/2011",
           "9/6/2016",
           "return to school",
           "Voluntarily Terminated",
           "Production       ",
           "Webster Butler",
           39,
           "Google Search",
           "Fully Meets",
           5,
           4,
           0,
           "2/1/2016",
           0,
           2,
           35
          ],
          [
           "Anderson, Linda  ",
           10002,
           0,
           0,
           0,
           1,
           5,
           4,
           0,
           57568,
           0,
           19,
           "Production Technician I",
           "MA",
           1844,
           "F",
           "Single",
           "US Citizen",
           "No",
           "White",
           "1/9/2012",
           null,
           "N/A-StillEmployed",
           "Active",
           "Production       ",
           "Amy Dunn",
           11,
           "LinkedIn",
           "Exceeds",
           5,
           5,
           0,
           "1/7/2019",
           0,
           15,
           48
          ],
          [
           "Andreola, Colby",
           10194,
           0,
           0,
           0,
           1,
           4,
           3,
           0,
           95660,
           0,
           24,
           "Software Engineer",
           "MA",
           2110,
           "F",
           "Single",
           "US Citizen",
           "No",
           "White",
           "11/10/2014",
           null,
           "N/A-StillEmployed",
           "Active",
           "Software Engineering",
           "Alex Sweetwater",
           10,
           "LinkedIn",
           "Fully Meets",
           3.04,
           3,
           4,
           "1/2/2019",
           0,
           19,
           46
          ],
          [
           "Becker, Renee",
           10245,
           0,
           0,
           0,
           4,
           3,
           3,
           0,
           110000,
           1,
           8,
           "Database Administrator",
           "MA",
           2026,
           "F",
           "Single",
           "US Citizen",
           "Yes",
           "White",
           "7/7/2014",
           "9/12/2015",
           "performance",
           "Terminated for Cause",
           "IT/IS",
           "Simon Roup",
           4,
           "Google Search",
           "Fully Meets",
           4.5,
           4,
           5,
           "1/15/2015",
           0,
           8,
           39
          ],
          [
           "Billis, Helen",
           10003,
           1,
           1,
           0,
           1,
           5,
           4,
           0,
           62910,
           0,
           19,
           "Production Technician I",
           "MA",
           2031,
           "F",
           "Married",
           "US Citizen",
           "No",
           "White",
           "7/7/2014",
           null,
           "N/A-StillEmployed",
           "Active",
           "Production       ",
           "Brannon Miller",
           12,
           "Indeed",
           "Exceeds",
           5,
           3,
           0,
           "2/27/2019",
           0,
           19,
           35
          ],
          [
           "Blount, Dianna",
           10294,
           0,
           0,
           0,
           1,
           5,
           2,
           0,
           66441,
           0,
           20,
           "Production Technician II",
           "MA",
           2171,
           "F",
           "Single",
           "US Citizen",
           "No",
           "White",
           "4/4/2011",
           null,
           "N/A-StillEmployed",
           "Active",
           "Production       ",
           "Michael Albert",
           22,
           "CareerBuilder",
           "Needs Improvement",
           2,
           3,
           0,
           "2/27/2019",
           2,
           3,
           34
          ],
          [
           "Boutwell, Bonalyn",
           10081,
           1,
           1,
           0,
           1,
           1,
           3,
           1,
           106367,
           0,
           26,
           "Sr. Accountant",
           "MA",
           2468,
           "F",
           "Married",
           "US Citizen",
           "No",
           "Black or African American",
           "2/16/2015",
           null,
           "N/A-StillEmployed",
           "Active",
           "Admin Offices",
           "Brandon R. LeBlanc",
           3,
           "Diversity Job Fair",
           "Fully Meets",
           5,
           4,
           3,
           "2/18/2019",
           0,
           4,
           38
          ],
          [
           "Brill, Donna",
           10177,
           1,
           1,
           0,
           5,
           5,
           3,
           0,
           53492,
           1,
           19,
           "Production Technician I",
           "MA",
           1701,
           "F",
           "Married",
           "US Citizen",
           "No",
           "White",
           "4/2/2012",
           "6/15/2013",
           "Another position",
           "Voluntarily Terminated",
           "Production       ",
           "David Stanley",
           14,
           "Google Search",
           "Fully Meets",
           3.35,
           4,
           0,
           "3/4/2013",
           0,
           6,
           34
          ],
          [
           "Brown, Mia",
           10238,
           1,
           1,
           0,
           1,
           1,
           3,
           1,
           63000,
           0,
           1,
           "Accountant I",
           "MA",
           1450,
           "F",
           "Married",
           "US Citizen",
           "No",
           "Black or African American",
           "10/27/2008",
           null,
           "N/A-StillEmployed",
           "Active",
           "Admin Offices",
           "Brandon R. LeBlanc",
           1,
           "Diversity Job Fair",
           "Fully Meets",
           4.5,
           2,
           6,
           "1/15/2019",
           0,
           14,
           37
          ],
          [
           "Burke, Joelle",
           10107,
           0,
           0,
           0,
           1,
           5,
           3,
           0,
           63763,
           0,
           20,
           "Production Technician II",
           "MA",
           2148,
           "F",
           "Single",
           "US Citizen",
           "No",
           "Black or African American",
           "3/5/2012",
           null,
           "N/A-StillEmployed",
           "Active",
           "Production       ",
           "Amy Dunn",
           11,
           "Employee Referral",
           "Fully Meets",
           4.51,
           4,
           0,
           "2/21/2019",
           0,
           3,
           45
          ],
          [
           "Carabbio, Judith",
           10085,
           0,
           0,
           0,
           1,
           4,
           3,
           0,
           93396,
           0,
           24,
           "Software Engineer",
           "MA",
           2132,
           "F",
           "Single",
           "US Citizen",
           "No",
           "White",
           "11/11/2013",
           null,
           "N/A-StillEmployed",
           "Active",
           "Software Engineering",
           "Alex Sweetwater",
           10,
           "Indeed",
           "Fully Meets",
           4.96,
           4,
           6,
           "1/30/2019",
           0,
           3,
           38
          ],
          [
           "Carr, Claudia  N",
           10082,
           0,
           0,
           0,
           2,
           3,
           3,
           0,
           100031,
           0,
           27,
           "Sr. DBA",
           "MA",
           1886,
           "F",
           "Single",
           "US Citizen",
           "No",
           "Black or African American",
           "6/30/2016",
           null,
           "N/A-StillEmployed",
           "Active",
           "IT/IS",
           "Simon Roup",
           4,
           "LinkedIn",
           "Fully Meets",
           5,
           5,
           6,
           "2/18/2019",
           0,
           7,
           39
          ],
          [
           "Chan, Lin",
           10210,
           0,
           0,
           0,
           1,
           5,
           3,
           0,
           54237,
           0,
           19,
           "Production Technician I",
           "MA",
           2170,
           "F",
           "Single",
           "US Citizen",
           "No",
           "White",
           "5/12/2014",
           null,
           "N/A-StillEmployed",
           "Active",
           "Production       ",
           "Elijiah Gray",
           16,
           "Indeed",
           "Fully Meets",
           3.3,
           4,
           0,
           "2/19/2019",
           0,
           11,
           46
          ],
          [
           "Chivukula, Enola",
           10240,
           0,
           0,
           0,
           5,
           5,
           3,
           0,
           64786,
           1,
           19,
           "Production Technician I",
           "MA",
           1775,
           "F",
           "Single",
           "US Citizen",
           "No",
           "White",
           "6/27/2011",
           "11/15/2015",
           "relocation out of area",
           "Voluntarily Terminated",
           "Production       ",
           "Amy Dunn",
           11,
           "Indeed",
           "Fully Meets",
           4.3,
           4,
           0,
           "3/10/2015",
           0,
           3,
           41
          ],
          [
           "Cierpiszewski, Caroline  ",
           10168,
           0,
           0,
           0,
           1,
           5,
           3,
           0,
           64816,
           0,
           19,
           "Production Technician I",
           "MA",
           2044,
           "F",
           "Single",
           "Non-Citizen",
           "No",
           "Black or African American",
           "10/3/2011",
           null,
           "N/A-StillEmployed",
           "Active",
           "Production       ",
           "Ketsia Liebig",
           19,
           "Indeed",
           "Fully Meets",
           3.58,
           5,
           0,
           "1/30/2019",
           0,
           3,
           37
          ],
          [
           "Cloninger, Jennifer",
           10275,
           1,
           1,
           0,
           5,
           5,
           3,
           0,
           64066,
           1,
           20,
           "Production Technician II",
           "MA",
           1752,
           "F",
           "Married",
           "US Citizen",
           "No",
           "White",
           "5/16/2011",
           "1/7/2013",
           "unhappy",
           "Voluntarily Terminated",
           "Production       ",
           "Brannon Miller",
           12,
           "Google Search",
           "Fully Meets",
           4.2,
           5,
           0,
           "5/3/2012",
           0,
           9,
           43
          ],
          [
           "Cornett, Lisa ",
           10094,
           1,
           1,
           0,
           1,
           5,
           3,
           0,
           63381,
           0,
           19,
           "Production Technician I",
           "MA",
           2189,
           "F",
           "Married",
           "US Citizen",
           "Yes",
           "White",
           "1/5/2015",
           null,
           "N/A-StillEmployed",
           "Active",
           "Production       ",
           "Kelley Spirea",
           18,
           "Indeed",
           "Fully Meets",
           4.73,
           5,
           0,
           "2/14/2019",
           0,
           6,
           48
          ],
          [
           "Crimmings,   Jean",
           10132,
           0,
           0,
           0,
           2,
           5,
           3,
           0,
           56149,
           0,
           19,
           "Production Technician I",
           "MA",
           1821,
           "F",
           "Single",
           "US Citizen",
           "No",
           "White",
           "7/6/2016",
           null,
           "N/A-StillEmployed",
           "Active",
           "Production       ",
           "Michael Albert",
           22,
           "LinkedIn",
           "Fully Meets",
           4.12,
           5,
           0,
           "1/28/2019",
           0,
           15,
           38
          ],
          [
           "Daneault, Lynn",
           10099,
           0,
           0,
           0,
           1,
           6,
           3,
           0,
           65729,
           0,
           21,
           "Sales Manager",
           "VT",
           5473,
           "F",
           "Single",
           "US Citizen",
           "No",
           "White",
           "5/5/2014",
           null,
           "N/A-StillEmployed",
           "Active",
           "Sales",
           "Debra Houlihan",
           15,
           "Indeed",
           "Fully Meets",
           4.62,
           4,
           0,
           "1/24/2019",
           0,
           8,
           35
          ],
          [
           "Darson, Jene'ya ",
           10056,
           1,
           1,
           0,
           1,
           5,
           3,
           0,
           57583,
           0,
           19,
           "Production Technician I",
           "MA",
           2110,
           "F",
           "Married",
           "US Citizen",
           "No",
           "White",
           "7/2/2012",
           null,
           "N/A-StillEmployed",
           "Active",
           "Production       ",
           "Elijiah Gray",
           16,
           "Indeed",
           "Fully Meets",
           5,
           3,
           0,
           "2/25/2019",
           0,
           1,
           46
          ],
          [
           "Del Bosque, Keyla",
           10155,
           0,
           0,
           0,
           1,
           4,
           3,
           0,
           101199,
           0,
           24,
           "Software Engineer",
           "MA",
           2176,
           "F",
           "Single",
           "US Citizen",
           "No",
           "Black or African American",
           "1/9/2012",
           null,
           "N/A-StillEmployed",
           "Active",
           "Software Engineering",
           "Alex Sweetwater",
           10,
           "CareerBuilder",
           "Fully Meets",
           3.79,
           5,
           5,
           "1/25/2019",
           0,
           8,
           45
          ],
          [
           "Dietrich, Jenna  ",
           10304,
           0,
           0,
           0,
           1,
           6,
           1,
           0,
           59231,
           0,
           3,
           "Area Sales Manager",
           "WA",
           98052,
           "F",
           "Single",
           "US Citizen",
           "Yes",
           "White",
           "2/20/2012",
           null,
           "N/A-StillEmployed",
           "Active",
           "Sales",
           "John Smith",
           17,
           "Website",
           "PIP",
           2.3,
           1,
           0,
           "1/29/2019",
           2,
           17,
           38
          ],
          [
           "DiNocco, Lily ",
           10284,
           1,
           1,
           0,
           1,
           5,
           2,
           0,
           61584,
           0,
           19,
           "Production Technician I",
           "MA",
           2351,
           "F",
           "Married",
           "US Citizen",
           "No",
           "Black or African American",
           "1/7/2013",
           null,
           "N/A-StillEmployed",
           "Active",
           "Production       ",
           "Brannon Miller",
           12,
           "Indeed",
           "Needs Improvement",
           3.88,
           4,
           0,
           "1/18/2019",
           0,
           6,
           46
          ],
          [
           "Dobrin, Denisa  S",
           10207,
           0,
           0,
           0,
           1,
           5,
           3,
           0,
           46335,
           0,
           19,
           "Production Technician I",
           "MA",
           2125,
           "F",
           "Single",
           "US Citizen",
           "Yes",
           "White",
           "4/2/2012",
           null,
           "N/A-StillEmployed",
           "Active",
           "Production       ",
           "David Stanley",
           14,
           "CareerBuilder",
           "Fully Meets",
           3.4,
           5,
           0,
           "2/19/2019",
           0,
           15,
           38
          ],
          [
           "Dolan, Linda",
           10133,
           1,
           1,
           0,
           1,
           3,
           3,
           0,
           70621,
           0,
           14,
           "IT Support",
           "MA",
           2119,
           "F",
           "Married",
           "US Citizen",
           "No",
           "White",
           "1/5/2015",
           null,
           "N/A-StillEmployed",
           "Active",
           "IT/IS",
           "Peter Monroe",
           7,
           "Employee Referral",
           "Fully Meets",
           4.11,
           4,
           6,
           "2/25/2019",
           0,
           16,
           36
          ],
          [
           "Driver, Elle",
           10006,
           0,
           0,
           0,
           1,
           6,
           4,
           0,
           74241,
           0,
           3,
           "Area Sales Manager",
           "CA",
           90007,
           "F",
           "Single",
           "US Citizen",
           "No",
           "White",
           "1/10/2011",
           null,
           "N/A-StillEmployed",
           "Active",
           "Sales",
           "Lynn Daneault",
           21,
           "Indeed",
           "Exceeds",
           4.77,
           5,
           0,
           "1/27/2019",
           0,
           14,
           36
          ],
          [
           "Eaton, Marianne",
           10064,
           1,
           1,
           0,
           5,
           5,
           3,
           0,
           60070,
           1,
           19,
           "Production Technician I",
           "MA",
           2343,
           "F",
           "Married",
           "US Citizen",
           "No",
           "White",
           "4/4/2011",
           "6/6/2017",
           "military",
           "Voluntarily Terminated",
           "Production       ",
           "Kissy Sullivan",
           20,
           "Google Search",
           "Fully Meets",
           5,
           3,
           0,
           "4/9/2017",
           0,
           7,
           33
          ],
          [
           "Erilus, Angela",
           10299,
           0,
           3,
           0,
           1,
           5,
           1,
           0,
           56847,
           0,
           20,
           "Production Technician II",
           "MA",
           2133,
           "F",
           "Separated",
           "US Citizen",
           "No",
           "White",
           "7/7/2014",
           null,
           "N/A-StillEmployed",
           "Active",
           "Production       ",
           "Michael Albert",
           22,
           "Indeed",
           "PIP",
           3,
           1,
           0,
           "2/25/2019",
           2,
           5,
           35
          ],
          [
           "Evensen, April",
           10296,
           0,
           0,
           0,
           4,
           5,
           2,
           0,
           59124,
           1,
           19,
           "Production Technician I",
           "MA",
           2458,
           "F",
           "Single",
           "US Citizen",
           "No",
           "White",
           "2/17/2014",
           "2/25/2018",
           "no-call, no-show",
           "Terminated for Cause",
           "Production       ",
           "Elijiah Gray",
           16,
           "Google Search",
           "Needs Improvement",
           2.3,
           3,
           0,
           "1/15/2017",
           5,
           19,
           36
          ],
          [
           "Exantus, Susan",
           10290,
           1,
           1,
           0,
           4,
           4,
           2,
           0,
           99280,
           1,
           24,
           "Software Engineer",
           "MA",
           1749,
           "F",
           "Married",
           "US Citizen",
           "No",
           "Black or African American",
           "5/2/2011",
           "6/5/2013",
           "attendance",
           "Terminated for Cause",
           "Software Engineering",
           "Alex Sweetwater",
           10,
           "Indeed",
           "Needs Improvement",
           2.1,
           5,
           4,
           "8/10/2012",
           4,
           19,
           38
          ],
          [
           "Faller, Megan ",
           10263,
           1,
           1,
           0,
           1,
           5,
           3,
           0,
           71776,
           0,
           20,
           "Production Technician II",
           "MA",
           1824,
           "F",
           "Married",
           "US Citizen",
           "No",
           "Black or African American",
           "7/7/2014",
           null,
           "N/A-StillEmployed",
           "Active",
           "Production       ",
           "Elijiah Gray",
           16,
           "LinkedIn",
           "Fully Meets",
           4.4,
           5,
           0,
           "2/22/2019",
           0,
           17,
           46
          ],
          [
           "Fancett, Nicole",
           10136,
           0,
           0,
           0,
           1,
           5,
           3,
           0,
           65902,
           0,
           20,
           "Production Technician II",
           "MA",
           2324,
           "F",
           "Single",
           "US Citizen",
           "No",
           "Black or African American",
           "2/17/2014",
           null,
           "N/A-StillEmployed",
           "Active",
           "Production       ",
           "Webster Butler",
           null,
           "LinkedIn",
           "Fully Meets",
           4,
           4,
           0,
           "1/7/2019",
           0,
           7,
           37
          ],
          [
           "Fidelia,  Libby",
           10049,
           1,
           1,
           0,
           1,
           5,
           3,
           0,
           58530,
           0,
           19,
           "Production Technician I",
           "MA",
           2155,
           "F",
           "Married",
           "US Citizen",
           "No",
           "White",
           "1/9/2012",
           null,
           "N/A-StillEmployed",
           "Active",
           "Production       ",
           "Brannon Miller",
           12,
           "Google Search",
           "Fully Meets",
           5,
           5,
           0,
           "1/29/2019",
           0,
           19,
           44
          ],
          [
           "Foreman, Tanya",
           10163,
           1,
           1,
           0,
           5,
           5,
           3,
           0,
           55965,
           1,
           20,
           "Production Technician II",
           "MA",
           2170,
           "F",
           "Married",
           "US Citizen",
           "No",
           "White",
           "4/4/2011",
           "1/9/2013",
           "career change",
           "Voluntarily Terminated",
           "Production       ",
           "Ketsia Liebig",
           19,
           "Google Search",
           "Fully Meets",
           3.66,
           3,
           0,
           "1/7/2012",
           0,
           6,
           41
          ],
          [
           "Foster-Baker, Amy",
           10080,
           1,
           1,
           0,
           1,
           1,
           3,
           0,
           99351,
           0,
           26,
           "Sr. Accountant",
           "MA",
           2050,
           "F",
           "Married",
           "US Citizen",
           "no",
           "White",
           "1/5/2009",
           null,
           "N/A-StillEmployed",
           "Active",
           "Admin Offices",
           "Board of Directors",
           9,
           "Other",
           "Fully Meets",
           5,
           3,
           2,
           "2/8/2019",
           0,
           3,
           46
          ],
          [
           "Gaul, Barbara",
           10257,
           0,
           0,
           0,
           1,
           5,
           3,
           0,
           53171,
           0,
           19,
           "Production Technician I",
           "MA",
           2121,
           "F",
           "Single",
           "US Citizen",
           "Yes",
           "Black or African American",
           "5/16/2011",
           null,
           "N/A-StillEmployed",
           "Active",
           "Production       ",
           "Kelley Spirea",
           18,
           "LinkedIn",
           "Fully Meets",
           4.2,
           4,
           0,
           "2/26/2019",
           0,
           12,
           41
          ],
          [
           "Gentry, Mildred",
           10159,
           1,
           1,
           0,
           1,
           5,
           3,
           0,
           51337,
           0,
           19,
           "Production Technician I",
           "MA",
           2145,
           "F",
           "Married",
           "US Citizen",
           "No",
           "Black or African American",
           "3/30/2015",
           null,
           "N/A-StillEmployed",
           "Active",
           "Production       ",
           "Michael Albert",
           22,
           "LinkedIn",
           "Fully Meets",
           3.73,
           3,
           0,
           "1/16/2019",
           0,
           19,
           34
          ],
          [
           "Girifalco, Evelyn",
           10018,
           0,
           0,
           0,
           1,
           5,
           4,
           0,
           57815,
           0,
           19,
           "Production Technician I",
           "MA",
           2451,
           "F",
           "Single",
           "US Citizen",
           "Yes",
           "Two or more races",
           "9/29/2014",
           null,
           "N/A-StillEmployed",
           "Active",
           "Production       ",
           "Amy Dunn",
           11,
           "Indeed",
           "Exceeds",
           3.9,
           4,
           0,
           "2/7/2019",
           0,
           3,
           45
          ],
          [
           "Givens, Myriam",
           10255,
           0,
           0,
           0,
           1,
           6,
           3,
           0,
           61555,
           0,
           3,
           "Area Sales Manager",
           "IN",
           46204,
           "F",
           "Single",
           "US Citizen",
           "No",
           "White",
           "2/16/2015",
           null,
           "N/A-StillEmployed",
           "Active",
           "Sales",
           "Lynn Daneault",
           21,
           "Indeed",
           "Fully Meets",
           4.5,
           5,
           0,
           "1/25/2019",
           0,
           20,
           35
          ],
          [
           "Gold, Shenice  ",
           10243,
           0,
           0,
           0,
           1,
           5,
           3,
           0,
           53018,
           0,
           19,
           "Production Technician I",
           "MA",
           2451,
           "F",
           "Single",
           "US Citizen",
           "Yes",
           "White",
           "11/11/2013",
           null,
           "N/A-StillEmployed",
           "Active",
           "Production       ",
           "Ketsia Liebig",
           19,
           "Indeed",
           "Fully Meets",
           4.3,
           5,
           0,
           "2/18/2019",
           0,
           7,
           32
          ],
          [
           "Gonzalez, Maria",
           10101,
           0,
           3,
           0,
           1,
           3,
           3,
           0,
           61242,
           0,
           14,
           "IT Support",
           "MA",
           2472,
           "F",
           "Separated",
           "US Citizen",
           "Yes",
           "White",
           "1/5/2015",
           null,
           "N/A-StillEmployed",
           "Active",
           "IT/IS",
           "Peter Monroe",
           7,
           "Employee Referral",
           "Fully Meets",
           4.61,
           4,
           5,
           "1/28/2019",
           0,
           11,
           44
          ],
          [
           "Good, Susan",
           10237,
           1,
           1,
           0,
           3,
           5,
           3,
           0,
           66825,
           0,
           20,
           "Production Technician II",
           "MA",
           1886,
           "F",
           "Married",
           "US Citizen",
           "No",
           "White",
           "5/12/2014",
           null,
           "N/A-StillEmployed",
           "Active",
           "Production       ",
           "David Stanley",
           14,
           "LinkedIn",
           "Fully Meets",
           4.6,
           3,
           0,
           "2/7/2019",
           0,
           20,
           39
          ],
          [
           "Gosciminski, Phylicia  ",
           10218,
           0,
           3,
           0,
           3,
           5,
           3,
           0,
           66149,
           0,
           20,
           "Production Technician II",
           "MA",
           1824,
           "F",
           "Separated",
           "US Citizen",
           "No",
           "American Indian or Alaska Native",
           "9/30/2013",
           null,
           "N/A-StillEmployed",
           "Active",
           "Production       ",
           "Kissy Sullivan",
           20,
           "Google Search",
           "Fully Meets",
           4.4,
           5,
           0,
           "2/21/2019",
           0,
           1,
           41
          ],
          [
           "Gross, Paula",
           10059,
           0,
           2,
           0,
           5,
           5,
           3,
           0,
           63813,
           1,
           19,
           "Production Technician I",
           "MA",
           2176,
           "F",
           "Divorced",
           "US Citizen",
           "No",
           "White",
           "2/21/2011",
           "1/11/2014",
           "more money",
           "Voluntarily Terminated",
           "Production       ",
           "Kelley Spirea",
           18,
           "CareerBuilder",
           "Fully Meets",
           5,
           5,
           0,
           "6/3/2013",
           0,
           17,
           42
          ],
          [
           "Handschiegl, Joanne",
           10125,
           1,
           1,
           0,
           1,
           5,
           3,
           0,
           54828,
           0,
           19,
           "Production Technician I",
           "MA",
           2127,
           "F",
           "Married",
           "US Citizen",
           "No",
           "White",
           "11/28/2011",
           null,
           "N/A-StillEmployed",
           "Active",
           "Production       ",
           "Michael Albert",
           22,
           "Google Search",
           "Fully Meets",
           4.2,
           4,
           0,
           "2/22/2019",
           0,
           13,
           48
          ],
          [
           "Homberger, Adrienne  J",
           10195,
           1,
           1,
           0,
           5,
           5,
           3,
           0,
           63478,
           1,
           20,
           "Production Technician II",
           "MA",
           2445,
           "F",
           "Married",
           "Non-Citizen",
           "No",
           "White",
           "8/15/2011",
           "4/7/2012",
           "relocation out of area",
           "Voluntarily Terminated",
           "Production       ",
           "Michael Albert",
           30,
           "Indeed",
           "Fully Meets",
           3.03,
           5,
           0,
           "3/5/2012",
           0,
           16,
           41
          ],
          [
           "Horton, Jayne",
           10112,
           0,
           0,
           0,
           1,
           3,
           3,
           0,
           97999,
           0,
           8,
           "Database Administrator",
           "MA",
           2493,
           "F",
           "Single",
           "US Citizen",
           "No",
           "White",
           "3/30/2015",
           null,
           "N/A-StillEmployed",
           "Active",
           "IT/IS",
           "Simon Roup",
           4,
           "Indeed",
           "Fully Meets",
           4.48,
           5,
           6,
           "1/3/2019",
           0,
           4,
           41
          ],
          [
           "Howard, Estelle",
           10182,
           1,
           1,
           0,
           1,
           1,
           3,
           0,
           49920,
           1,
           2,
           "Administrative Assistant",
           "MA",
           2170,
           "F",
           "Married",
           "US Citizen",
           "No",
           "Black or African American",
           "2/16/2015",
           "4/15/2015",
           "no-call, no-show",
           "Terminated for Cause",
           "Admin Offices",
           "Brandon R. LeBlanc",
           1,
           "Indeed",
           "Fully Meets",
           3.24,
           3,
           4,
           "4/15/2015",
           0,
           6,
           39
          ],
          [
           "Hudson, Jane",
           10248,
           0,
           0,
           0,
           1,
           5,
           3,
           0,
           55425,
           0,
           19,
           "Production Technician I",
           "MA",
           2176,
           "F",
           "Single",
           "US Citizen",
           "No",
           "White",
           "2/20/2012",
           null,
           "N/A-StillEmployed",
           "Active",
           "Production       ",
           "Ketsia Liebig",
           19,
           "LinkedIn",
           "Fully Meets",
           4.8,
           4,
           0,
           "1/7/2019",
           0,
           4,
           39
          ],
          [
           "Hunts, Julissa",
           10201,
           0,
           0,
           0,
           2,
           5,
           3,
           0,
           69340,
           0,
           20,
           "Production Technician II",
           "MA",
           2021,
           "F",
           "Single",
           "US Citizen",
           "No",
           "White",
           "6/6/2016",
           null,
           "N/A-StillEmployed",
           "Active",
           "Production       ",
           "Elijiah Gray",
           16,
           "LinkedIn",
           "Fully Meets",
           3,
           5,
           0,
           "1/18/2019",
           0,
           4,
           41
          ],
          [
           "Hutter, Rosalie",
           10214,
           0,
           3,
           0,
           2,
           5,
           3,
           0,
           64995,
           0,
           20,
           "Production Technician II",
           "MA",
           2351,
           "F",
           "Separated",
           "US Citizen",
           "No",
           "White",
           "6/5/2015",
           null,
           "N/A-StillEmployed",
           "Active",
           "Production       ",
           "Webster Butler",
           null,
           "Indeed",
           "Fully Meets",
           4.5,
           3,
           0,
           "2/14/2019",
           0,
           6,
           33
          ],
          [
           "Huynh, Ming",
           10160,
           0,
           2,
           0,
           5,
           5,
           3,
           0,
           68182,
           1,
           20,
           "Production Technician II",
           "MA",
           1742,
           "F",
           "Divorced",
           "US Citizen",
           "No",
           "White",
           "2/21/2011",
           "4/1/2013",
           "unhappy",
           "Voluntarily Terminated",
           "Production       ",
           "Amy Dunn",
           11,
           "Google Search",
           "Fully Meets",
           3.72,
           3,
           0,
           "2/1/2013",
           0,
           18,
           48
          ],
          [
           "Ivey, Rose ",
           10139,
           0,
           0,
           0,
           1,
           5,
           3,
           0,
           51908,
           0,
           19,
           "Production Technician I",
           "MA",
           1775,
           "F",
           "Single",
           "US Citizen",
           "No",
           "White",
           "8/19/2013",
           null,
           "N/A-StillEmployed",
           "Active",
           "Production       ",
           "Brannon Miller",
           12,
           "Indeed",
           "Fully Meets",
           3.99,
           3,
           0,
           "1/14/2019",
           0,
           14,
           34
          ],
          [
           "Jeannite, Tayana",
           10009,
           0,
           2,
           0,
           1,
           5,
           4,
           0,
           60724,
           0,
           20,
           "Production Technician II",
           "MA",
           1821,
           "F",
           "Divorced",
           "US Citizen",
           "No",
           "American Indian or Alaska Native",
           "7/5/2011",
           null,
           "N/A-StillEmployed",
           "Active",
           "Production       ",
           "Ketsia Liebig",
           19,
           "LinkedIn",
           "Exceeds",
           4.6,
           4,
           0,
           "2/25/2019",
           0,
           11,
           38
          ],
          [
           "Johnson, Noelle ",
           10156,
           1,
           1,
           0,
           3,
           3,
           3,
           0,
           105700,
           0,
           8,
           "Database Administrator",
           "MA",
           2301,
           "F",
           "Married",
           "US Citizen",
           "No",
           "Asian",
           "1/5/2015",
           null,
           "N/A-StillEmployed",
           "Active",
           "IT/IS",
           "Simon Roup",
           4,
           "Indeed",
           "Fully Meets",
           3.75,
           3,
           5,
           "2/11/2019",
           0,
           2,
           38
          ],
          [
           "Jung, Judy  ",
           10138,
           1,
           1,
           0,
           5,
           5,
           3,
           0,
           61154,
           1,
           19,
           "Production Technician I",
           "MA",
           2446,
           "F",
           "Married",
           "US Citizen",
           "No",
           "Black or African American",
           "1/10/2011",
           "4/1/2016",
           "unhappy",
           "Voluntarily Terminated",
           "Production       ",
           "Elijiah Gray",
           16,
           "CareerBuilder",
           "Fully Meets",
           4,
           4,
           0,
           "2/3/2016",
           0,
           4,
           39
          ],
          [
           "Kampew, Donysha",
           10244,
           0,
           0,
           0,
           5,
           6,
           3,
           0,
           68999,
           1,
           21,
           "Sales Manager",
           "PA",
           19444,
           "F",
           "Single",
           "US Citizen",
           "No",
           "White",
           "11/7/2011",
           "4/24/2014",
           "maternity leave - did not return",
           "Voluntarily Terminated",
           "Sales",
           "Debra Houlihan",
           15,
           "Google Search",
           "Fully Meets",
           4.5,
           5,
           0,
           "3/30/2013",
           0,
           2,
           35
          ],
          [
           "Langford, Lindsey",
           10106,
           0,
           2,
           0,
           5,
           5,
           3,
           0,
           66074,
           1,
           20,
           "Production Technician II",
           "MA",
           2090,
           "F",
           "Divorced",
           "US Citizen",
           "No",
           "Asian",
           "1/7/2013",
           "3/31/2014",
           "Another position",
           "Voluntarily Terminated",
           "Production       ",
           "David Stanley",
           14,
           "Indeed",
           "Fully Meets",
           4.52,
           3,
           0,
           "2/20/2014",
           0,
           20,
           45
          ],
          [
           "Le, Binh",
           10232,
           0,
           0,
           0,
           1,
           3,
           3,
           0,
           81584,
           0,
           22,
           "Senior BI Developer",
           "MA",
           1886,
           "F",
           "Single",
           "US Citizen",
           "No",
           "Asian",
           "10/2/2016",
           null,
           "N/A-StillEmployed",
           "Active",
           "IT/IS",
           "Brian Champaigne",
           13,
           "Indeed",
           "Fully Meets",
           4.1,
           5,
           7,
           "1/8/2019",
           0,
           2,
           38
          ],
          [
           "Leach, Dallas",
           10087,
           0,
           0,
           0,
           5,
           5,
           3,
           0,
           63676,
           1,
           19,
           "Production Technician I",
           "MA",
           1810,
           "F",
           "Single",
           "US Citizen",
           "No",
           "Asian",
           "9/26/2011",
           "8/19/2018",
           "return to school",
           "Voluntarily Terminated",
           "Production       ",
           "Kissy Sullivan",
           20,
           "CareerBuilder",
           "Fully Meets",
           4.88,
           3,
           0,
           "7/2/2017",
           0,
           17,
           46
          ],
          [
           "Liebig, Ketsia",
           10017,
           1,
           1,
           0,
           1,
           5,
           4,
           0,
           77915,
           0,
           18,
           "Production Manager",
           "MA",
           2110,
           "F",
           "Married",
           "US Citizen",
           "No",
           "White",
           "9/30/2013",
           null,
           "N/A-StillEmployed",
           "Active",
           "Production       ",
           "Janet King",
           2,
           "Website",
           "Exceeds",
           4.1,
           3,
           0,
           "1/21/2019",
           0,
           11,
           43
          ],
          [
           "Linares, Marilyn ",
           10186,
           1,
           1,
           0,
           5,
           5,
           3,
           0,
           52624,
           1,
           19,
           "Production Technician I",
           "MA",
           1886,
           "F",
           "Married",
           "US Citizen",
           "No",
           "White",
           "7/5/2011",
           "9/26/2018",
           "unhappy",
           "Voluntarily Terminated",
           "Production       ",
           "Michael Albert",
           22,
           "Indeed",
           "Fully Meets",
           3.18,
           4,
           0,
           "3/2/2018",
           0,
           16,
           44
          ],
          [
           "Lindsay, Leonara ",
           10008,
           0,
           0,
           0,
           1,
           3,
           4,
           1,
           51777,
           0,
           14,
           "IT Support",
           "CT",
           6070,
           "F",
           "Single",
           "US Citizen",
           "Yes",
           "Black or African American",
           "1/21/2011",
           null,
           "N/A-StillEmployed",
           "Active",
           "IT/IS",
           "Eric Dougall",
           6,
           "Diversity Job Fair",
           "Exceeds",
           4.64,
           4,
           5,
           "1/25/2019",
           0,
           14,
           36
          ],
          [
           "Lundy, Susan",
           10096,
           0,
           4,
           0,
           5,
           5,
           3,
           0,
           67237,
           1,
           20,
           "Production Technician II",
           "MA",
           2122,
           "F",
           "Widowed",
           "US Citizen",
           "No",
           "White",
           "7/8/2013",
           "9/15/2016",
           "more money",
           "Voluntarily Terminated",
           "Production       ",
           "Michael Albert",
           22,
           "LinkedIn",
           "Fully Meets",
           4.65,
           4,
           0,
           "6/10/2016",
           0,
           15,
           48
          ],
          [
           "Lunquist, Lisa",
           10035,
           0,
           0,
           0,
           1,
           5,
           4,
           0,
           73330,
           0,
           20,
           "Production Technician II",
           "MA",
           2324,
           "F",
           "Single",
           "US Citizen",
           "No",
           "Black or African American",
           "8/19/2013",
           null,
           "N/A-StillEmployed",
           "Active",
           "Production       ",
           "Elijiah Gray",
           16,
           "Indeed",
           "Exceeds",
           4.2,
           4,
           0,
           "2/12/2019",
           0,
           19,
           43
          ],
          [
           "Lydon, Allison",
           10057,
           1,
           1,
           0,
           3,
           5,
           3,
           0,
           52057,
           0,
           19,
           "Production Technician I",
           "MA",
           2122,
           "F",
           "Married",
           "US Citizen",
           "No",
           "Black or African American",
           "2/16/2015",
           null,
           "N/A-StillEmployed",
           "Active",
           "Production       ",
           "Elijiah Gray",
           16,
           "Website",
           "Fully Meets",
           5,
           3,
           0,
           "1/23/2019",
           0,
           6,
           49
          ],
          [
           "Mahoney, Lauren  ",
           10219,
           0,
           0,
           0,
           1,
           5,
           3,
           0,
           45395,
           0,
           19,
           "Production Technician I",
           "MA",
           2189,
           "F",
           "Single",
           "US Citizen",
           "No",
           "White",
           "1/6/2014",
           null,
           "N/A-StillEmployed",
           "Active",
           "Production       ",
           "Ketsia Liebig",
           19,
           "LinkedIn",
           "Fully Meets",
           4.6,
           4,
           0,
           "2/26/2019",
           0,
           14,
           38
          ],
          [
           "Manchester, Robyn",
           10077,
           1,
           1,
           0,
           2,
           5,
           3,
           0,
           62385,
           0,
           20,
           "Production Technician II",
           "MA",
           2324,
           "F",
           "Married",
           "US Citizen",
           "No",
           "White",
           "5/11/2016",
           null,
           "N/A-StillEmployed",
           "Active",
           "Production       ",
           "Webster Butler",
           null,
           "LinkedIn",
           "Fully Meets",
           5,
           3,
           0,
           "1/21/2019",
           0,
           4,
           48
          ],
          [
           "Mancuso, Karen",
           10073,
           1,
           1,
           0,
           5,
           5,
           3,
           0,
           68407,
           1,
           20,
           "Production Technician II",
           "MA",
           2176,
           "F",
           "Married",
           "US Citizen",
           "No",
           "Two or more races",
           "7/5/2011",
           "8/19/2012",
           "Another position",
           "Voluntarily Terminated",
           "Production       ",
           "Amy Dunn",
           11,
           "LinkedIn",
           "Fully Meets",
           5,
           4,
           0,
           "7/2/2012",
           0,
           16,
           38
          ],
          [
           "Martin, Sandra",
           10110,
           0,
           0,
           0,
           1,
           4,
           3,
           0,
           105688,
           0,
           24,
           "Software Engineer",
           "MA",
           2135,
           "F",
           "Single",
           "US Citizen",
           "No",
           "Asian",
           "11/11/2013",
           null,
           "N/A-StillEmployed",
           "Active",
           "Software Engineering",
           "Alex Sweetwater",
           10,
           "Google Search",
           "Fully Meets",
           4.5,
           5,
           4,
           "1/14/2019",
           0,
           14,
           37
          ],
          [
           "Maurice, Shana",
           10053,
           1,
           1,
           0,
           1,
           5,
           3,
           0,
           54132,
           0,
           19,
           "Production Technician I",
           "MA",
           2330,
           "F",
           "Married",
           "US Citizen",
           "No",
           "White",
           "5/31/2011",
           null,
           "N/A-StillEmployed",
           "Active",
           "Production       ",
           "David Stanley",
           14,
           "Indeed",
           "Fully Meets",
           5,
           4,
           0,
           "1/10/2019",
           0,
           8,
           47
          ],
          [
           "Carthy, B'rigit",
           10076,
           0,
           0,
           0,
           1,
           5,
           3,
           0,
           55315,
           0,
           20,
           "Production Technician II",
           "MA",
           2149,
           "F",
           "Single",
           "US Citizen",
           "No",
           "Black or African American",
           "3/30/2015",
           null,
           "N/A-StillEmployed",
           "Active",
           "Production       ",
           "Ketsia Liebig",
           19,
           "LinkedIn",
           "Fully Meets",
           5,
           5,
           0,
           "2/7/2019",
           0,
           16,
           38
          ],
          [
           "Mckenna, Sandy",
           10145,
           1,
           1,
           0,
           1,
           5,
           3,
           0,
           62810,
           0,
           19,
           "Production Technician I",
           "MA",
           2184,
           "F",
           "Married",
           "US Citizen",
           "No",
           "Black or African American",
           "1/7/2013",
           null,
           "N/A-StillEmployed",
           "Active",
           "Production       ",
           "Kissy Sullivan",
           20,
           "CareerBuilder",
           "Fully Meets",
           3.93,
           3,
           0,
           "1/30/2019",
           0,
           20,
           38
          ],
          [
           "Medeiros, Jennifer",
           10068,
           0,
           0,
           0,
           1,
           5,
           3,
           0,
           55688,
           0,
           19,
           "Production Technician I",
           "MA",
           2346,
           "F",
           "Single",
           "US Citizen",
           "No",
           "White",
           "3/30/2015",
           null,
           "N/A-StillEmployed",
           "Active",
           "Production       ",
           "Michael Albert",
           22,
           "CareerBuilder",
           "Fully Meets",
           5,
           4,
           0,
           "1/21/2019",
           0,
           10,
           48
          ],
          [
           "Morway, Tanya",
           10151,
           1,
           1,
           0,
           1,
           3,
           3,
           0,
           52599,
           0,
           15,
           "Network Engineer",
           "MA",
           2048,
           "F",
           "Married",
           "US Citizen",
           "No",
           "White",
           "2/16/2015",
           null,
           "N/A-StillEmployed",
           "Active",
           "IT/IS",
           "Peter Monroe",
           7,
           "CareerBuilder",
           "Fully Meets",
           3.81,
           3,
           6,
           "2/11/2019",
           0,
           6,
           46
          ],
          [
           "Motlagh,  Dawn",
           10254,
           0,
           2,
           0,
           1,
           5,
           3,
           0,
           63430,
           0,
           19,
           "Production Technician I",
           "MA",
           2453,
           "F",
           "Divorced",
           "US Citizen",
           "No",
           "White",
           "4/1/2013",
           null,
           "N/A-StillEmployed",
           "Active",
           "Production       ",
           "Elijiah Gray",
           16,
           "LinkedIn",
           "Fully Meets",
           4.4,
           4,
           0,
           "1/17/2019",
           0,
           18,
           40
          ],
          [
           "Nguyen, Dheepa",
           10042,
           0,
           0,
           0,
           1,
           6,
           3,
           0,
           63695,
           0,
           3,
           "Area Sales Manager",
           "GA",
           30428,
           "F",
           "Single",
           "US Citizen",
           "No",
           "Two or more races",
           "7/8/2013",
           null,
           "N/A-StillEmployed",
           "Active",
           "Sales",
           "Lynn Daneault",
           21,
           "Indeed",
           "Fully Meets",
           5,
           5,
           0,
           "1/25/2019",
           0,
           2,
           36
          ],
          [
           "Nguyen, Lei-Ming",
           10206,
           0,
           0,
           0,
           1,
           5,
           3,
           0,
           62061,
           0,
           19,
           "Production Technician I",
           "MA",
           2132,
           "F",
           "Single",
           "US Citizen",
           "No",
           "White",
           "7/8/2013",
           null,
           "N/A-StillEmployed",
           "Active",
           "Production       ",
           "David Stanley",
           14,
           "LinkedIn",
           "Fully Meets",
           3.6,
           5,
           0,
           "1/2/2019",
           0,
           4,
           40
          ],
          [
           "Nowlan, Kristie",
           10104,
           0,
           0,
           0,
           1,
           5,
           3,
           0,
           66738,
           0,
           20,
           "Production Technician II",
           "MA",
           1040,
           "F",
           "Single",
           "US Citizen",
           "No",
           "White",
           "11/10/2014",
           null,
           "N/A-StillEmployed",
           "Active",
           "Production       ",
           "Elijiah Gray",
           16,
           "Indeed",
           "Fully Meets",
           4.53,
           5,
           0,
           "1/16/2019",
           0,
           5,
           39
          ],
          [
           "O'hare, Lynn",
           10303,
           0,
           0,
           0,
           4,
           5,
           1,
           0,
           52674,
           1,
           19,
           "Production Technician I",
           "MA",
           2152,
           "F",
           "Single",
           "US Citizen",
           "No",
           "Two or more races",
           "3/31/2014",
           "5/1/2018",
           "performance",
           "Terminated for Cause",
           "Production       ",
           "Kissy Sullivan",
           20,
           "LinkedIn",
           "PIP",
           2.33,
           2,
           0,
           "3/9/2018",
           6,
           3,
           44
          ],
          [
           "Onque, Jasmine",
           10121,
           0,
           0,
           0,
           1,
           6,
           3,
           0,
           63051,
           0,
           3,
           "Area Sales Manager",
           "FL",
           33174,
           "F",
           "Single",
           "US Citizen",
           "Yes",
           "White",
           "9/30/2013",
           null,
           "N/A-StillEmployed",
           "Active",
           "Sales",
           "Lynn Daneault",
           21,
           "Indeed",
           "Fully Meets",
           4.28,
           3,
           0,
           "1/25/2019",
           0,
           1,
           35
          ],
          [
           "Panjwani, Nina",
           10148,
           1,
           1,
           0,
           5,
           5,
           3,
           0,
           63515,
           1,
           19,
           "Production Technician I",
           "MA",
           2351,
           "F",
           "Married",
           "US Citizen",
           "No",
           "White",
           "2/7/2011",
           "1/12/2014",
           "Another position",
           "Voluntarily Terminated",
           "Production       ",
           "Elijiah Gray",
           16,
           "Google Search",
           "Fully Meets",
           3.89,
           4,
           0,
           "3/4/2013",
           0,
           7,
           46
          ],
          [
           "Pelletier, Ermine",
           10297,
           1,
           1,
           0,
           5,
           5,
           2,
           0,
           60270,
           1,
           20,
           "Production Technician II",
           "MA",
           2472,
           "F",
           "Married",
           "US Citizen",
           "No",
           "Asian",
           "7/5/2011",
           "9/15/2015",
           "unhappy",
           "Voluntarily Terminated",
           "Production       ",
           "Amy Dunn",
           11,
           "CareerBuilder",
           "Needs Improvement",
           2.4,
           5,
           0,
           "2/6/2015",
           5,
           2,
           35
          ],
          [
           "Perry, Shakira",
           10171,
           0,
           0,
           0,
           5,
           5,
           3,
           0,
           45998,
           1,
           19,
           "Production Technician I",
           "MA",
           2176,
           "F",
           "Single",
           "US Citizen",
           "No",
           "White",
           "5/16/2011",
           "10/25/2015",
           "medical issues",
           "Voluntarily Terminated",
           "Production       ",
           "Amy Dunn",
           11,
           "LinkedIn",
           "Fully Meets",
           3.45,
           4,
           0,
           "5/13/2014",
           0,
           5,
           38
          ],
          [
           "Peters, Lauren",
           10032,
           1,
           1,
           0,
           5,
           5,
           4,
           0,
           57954,
           1,
           20,
           "Production Technician II",
           "MA",
           1886,
           "F",
           "Married",
           "US Citizen",
           "No",
           "White",
           "5/16/2011",
           "2/4/2013",
           "more money",
           "Voluntarily Terminated",
           "Production       ",
           "Ketsia Liebig",
           19,
           "Indeed",
           "Exceeds",
           4.2,
           5,
           0,
           "1/10/2013",
           0,
           12,
           38
          ],
          [
           "Peterson, Ebonee  ",
           10130,
           1,
           1,
           0,
           5,
           5,
           3,
           0,
           74669,
           1,
           18,
           "Production Manager",
           "MA",
           2030,
           "F",
           "Married",
           "US Citizen",
           "No",
           "White",
           "10/25/2010",
           "5/18/2016",
           "Another position",
           "Voluntarily Terminated",
           "Production       ",
           "Janet King",
           2,
           "Indeed",
           "Fully Meets",
           4.16,
           5,
           0,
           "3/5/2015",
           0,
           6,
           48
          ],
          [
           "Petingill, Shana  ",
           10217,
           1,
           1,
           0,
           1,
           5,
           3,
           0,
           74226,
           0,
           20,
           "Production Technician II",
           "MA",
           2050,
           "F",
           "Married",
           "Eligible NonCitizen",
           "No",
           "Asian",
           "4/2/2012",
           null,
           "N/A-StillEmployed",
           "Active",
           "Production       ",
           "Brannon Miller",
           12,
           "LinkedIn",
           "Fully Meets",
           4.3,
           3,
           0,
           "1/14/2019",
           0,
           14,
           46
          ],
          [
           "Petrowsky, Thelma",
           10016,
           1,
           1,
           0,
           1,
           3,
           4,
           0,
           93554,
           0,
           9,
           "Data Analyst",
           "MA",
           1886,
           "F",
           "Married",
           "US Citizen",
           "No",
           "Black or African American",
           "11/10/2014",
           null,
           "N/A-StillEmployed",
           "Active",
           "IT/IS",
           "Simon Roup",
           4,
           "Employee Referral",
           "Exceeds",
           4.6,
           5,
           7,
           "1/4/2019",
           0,
           16,
           40
          ],
          [
           "Potts, Xana",
           10124,
           1,
           1,
           0,
           1,
           6,
           3,
           0,
           61844,
           0,
           3,
           "Area Sales Manager",
           "KY",
           40220,
           "F",
           "Married",
           "US Citizen",
           "No",
           "Black or African American",
           "1/9/2012",
           null,
           "N/A-StillEmployed",
           "Active",
           "Sales",
           "Lynn Daneault",
           21,
           "Website",
           "Fully Meets",
           4.2,
           5,
           0,
           "2/1/2019",
           0,
           9,
           36
          ],
          [
           "Power, Morissa",
           10187,
           0,
           2,
           0,
           5,
           5,
           3,
           0,
           46799,
           1,
           19,
           "Production Technician I",
           "MA",
           1742,
           "F",
           "Divorced",
           "Eligible NonCitizen",
           "No",
           "Asian",
           "5/16/2011",
           "6/4/2018",
           "Another position",
           "Voluntarily Terminated",
           "Production       ",
           "Kissy Sullivan",
           20,
           "Google Search",
           "Fully Meets",
           3.17,
           4,
           0,
           "4/2/2018",
           0,
           14,
           40
          ],
          [
           "Rachael, Maggie",
           10239,
           1,
           1,
           0,
           1,
           3,
           3,
           0,
           95920,
           0,
           4,
           "BI Developer",
           "MA",
           2110,
           "F",
           "Married",
           "US Citizen",
           "No",
           "Black or African American",
           "10/2/2016",
           null,
           "N/A-StillEmployed",
           "Active",
           "IT/IS",
           "Brian Champaigne",
           13,
           "Indeed",
           "Fully Meets",
           4.4,
           4,
           6,
           "2/6/2019",
           0,
           10,
           45
          ],
          [
           "Roberson, May",
           10230,
           0,
           2,
           0,
           5,
           5,
           3,
           0,
           64971,
           1,
           20,
           "Production Technician II",
           "MA",
           1902,
           "F",
           "Divorced",
           "Eligible NonCitizen",
           "No",
           "Black or African American",
           "9/26/2011",
           "10/22/2011",
           "return to school",
           "Voluntarily Terminated",
           "Production       ",
           "David Stanley",
           14,
           "Google Search",
           "Fully Meets",
           4.5,
           4,
           0,
           "10/22/2011",
           0,
           10,
           43
          ],
          [
           "Robinson, Cherly",
           10285,
           1,
           1,
           0,
           4,
           5,
           2,
           0,
           61422,
           1,
           19,
           "Production Technician I",
           "MA",
           1460,
           "F",
           "Married",
           "US Citizen",
           "No",
           "White",
           "1/10/2011",
           "5/17/2016",
           "attendance",
           "Terminated for Cause",
           "Production       ",
           "Ketsia Liebig",
           19,
           "Indeed",
           "Needs Improvement",
           3.6,
           3,
           0,
           "4/5/2016",
           4,
           16,
           40
          ],
          [
           "Roby, Lori ",
           10162,
           1,
           1,
           0,
           1,
           3,
           3,
           0,
           89883,
           0,
           9,
           "Data Analyst",
           "MA",
           1886,
           "F",
           "Married",
           "US Citizen",
           "No",
           "White",
           "2/16/2015",
           null,
           "N/A-StillEmployed",
           "Active",
           "IT/IS",
           "Simon Roup",
           4,
           "Employee Referral",
           "Fully Meets",
           3.69,
           5,
           6,
           "2/14/2019",
           0,
           15,
           43
          ],
          [
           "Saada, Adell",
           10126,
           1,
           1,
           0,
           1,
           4,
           3,
           0,
           86214,
           0,
           24,
           "Software Engineer",
           "MA",
           2132,
           "F",
           "Married",
           "US Citizen",
           "No",
           "White",
           "11/5/2012",
           null,
           "N/A-StillEmployed",
           "Active",
           "Software Engineering",
           "Alex Sweetwater",
           10,
           "Indeed",
           "Fully Meets",
           4.2,
           3,
           6,
           "2/13/2019",
           0,
           2,
           38
          ],
          [
           "Sander, Kamrin",
           10169,
           1,
           1,
           0,
           1,
           5,
           3,
           0,
           56147,
           0,
           19,
           "Production Technician I",
           "MA",
           2154,
           "F",
           "Married",
           "US Citizen",
           "No",
           "Black or African American",
           "9/29/2014",
           null,
           "N/A-StillEmployed",
           "Active",
           "Production       ",
           "Elijiah Gray",
           16,
           "LinkedIn",
           "Fully Meets",
           3.51,
           3,
           0,
           "2/18/2019",
           0,
           2,
           36
          ],
          [
           "Sewkumar, Nori",
           10071,
           0,
           0,
           0,
           3,
           5,
           3,
           0,
           50923,
           0,
           19,
           "Production Technician I",
           "MA",
           2191,
           "F",
           "Single",
           "US Citizen",
           "No",
           "Asian",
           "9/30/2013",
           null,
           "N/A-StillEmployed",
           "Active",
           "Production       ",
           "Webster Butler",
           null,
           "Google Search",
           "Fully Meets",
           5,
           5,
           0,
           "2/6/2019",
           0,
           14,
           50
          ],
          [
           "Shepard, Anita ",
           10179,
           1,
           1,
           0,
           1,
           3,
           3,
           0,
           50750,
           0,
           15,
           "Network Engineer",
           "MA",
           1773,
           "F",
           "Married",
           "US Citizen",
           "No",
           "White",
           "9/30/2014",
           null,
           "N/A-StillEmployed",
           "Active",
           "IT/IS",
           "Peter Monroe",
           7,
           "LinkedIn",
           "Fully Meets",
           3.31,
           3,
           6,
           "1/7/2019",
           0,
           7,
           44
          ],
          [
           "Shields, Seffi",
           10091,
           1,
           1,
           0,
           1,
           5,
           3,
           0,
           52087,
           0,
           19,
           "Production Technician I",
           "MA",
           2149,
           "F",
           "Married",
           "US Citizen",
           "No",
           "White",
           "8/19/2013",
           null,
           "N/A-StillEmployed",
           "Active",
           "Production       ",
           "Amy Dunn",
           11,
           "LinkedIn",
           "Fully Meets",
           4.81,
           4,
           0,
           "2/15/2019",
           0,
           15,
           39
          ],
          [
           "Singh, Nan ",
           10039,
           0,
           0,
           0,
           1,
           1,
           3,
           0,
           51920,
           0,
           2,
           "Administrative Assistant",
           "MA",
           2330,
           "F",
           "Single",
           "US Citizen",
           "No",
           "White",
           "5/1/2015",
           null,
           "N/A-StillEmployed",
           "Active",
           "Admin Offices",
           "Brandon R. LeBlanc",
           1,
           "Website",
           "Fully Meets",
           5,
           3,
           5,
           "1/15/2019",
           0,
           2,
           37
          ],
          [
           "Sloan, Constance",
           10095,
           0,
           0,
           0,
           5,
           5,
           3,
           0,
           63878,
           1,
           20,
           "Production Technician II",
           "MA",
           1851,
           "F",
           "Single",
           "US Citizen",
           "No",
           "White",
           "10/26/2009",
           "4/8/2015",
           "maternity leave - did not return",
           "Voluntarily Terminated",
           "Production       ",
           "Michael Albert",
           22,
           "CareerBuilder",
           "Fully Meets",
           4.68,
           4,
           0,
           "4/2/2015",
           0,
           20,
           37
          ],
          [
           "Smith, Leigh Ann",
           10153,
           1,
           1,
           0,
           5,
           1,
           3,
           1,
           55000,
           1,
           2,
           "Administrative Assistant",
           "MA",
           1844,
           "F",
           "Married",
           "US Citizen",
           "No",
           "Black or African American",
           "9/26/2011",
           "9/25/2013",
           "career change",
           "Voluntarily Terminated",
           "Admin Offices",
           "Brandon R. LeBlanc",
           1,
           "Diversity Job Fair",
           "Fully Meets",
           3.8,
           4,
           4,
           "8/15/2013",
           0,
           17,
           38
          ],
          [
           "Spirea, Kelley",
           10090,
           1,
           1,
           0,
           1,
           5,
           3,
           0,
           65714,
           0,
           18,
           "Production Manager",
           "MA",
           2451,
           "F",
           "Married",
           "US Citizen",
           "No",
           "White",
           "10/2/2012",
           null,
           "N/A-StillEmployed",
           "Active",
           "Production       ",
           "Janet King",
           2,
           "LinkedIn",
           "Fully Meets",
           4.83,
           5,
           0,
           "2/14/2019",
           0,
           15,
           49
          ],
          [
           "Stanford,Barbara  M",
           10278,
           0,
           2,
           0,
           1,
           5,
           3,
           0,
           47961,
           0,
           19,
           "Production Technician I",
           "MA",
           2050,
           "F",
           "Divorced",
           "US Citizen",
           "No",
           "Two or more races",
           "1/10/2011",
           null,
           "N/A-StillEmployed",
           "Active",
           "Production       ",
           "Kissy Sullivan",
           20,
           "Google Search",
           "Fully Meets",
           4.1,
           4,
           0,
           "2/7/2019",
           0,
           9,
           42
          ],
          [
           "Strong, Caitrin",
           10241,
           1,
           1,
           0,
           1,
           6,
           3,
           0,
           60120,
           0,
           3,
           "Area Sales Manager",
           "MT",
           59102,
           "F",
           "Married",
           "US Citizen",
           "No",
           "Black or African American",
           "9/27/2010",
           null,
           "N/A-StillEmployed",
           "Active",
           "Sales",
           "John Smith",
           17,
           "Indeed",
           "Fully Meets",
           4.1,
           4,
           0,
           "1/31/2019",
           0,
           18,
           36
          ],
          [
           "Sullivan, Kissy ",
           10158,
           1,
           1,
           0,
           1,
           5,
           3,
           0,
           63682,
           0,
           18,
           "Production Manager",
           "MA",
           1776,
           "F",
           "Married",
           "US Citizen",
           "No",
           "Black or African American",
           "1/8/2009",
           null,
           "N/A-StillEmployed",
           "Active",
           "Production       ",
           "Janet King",
           2,
           "Indeed",
           "Fully Meets",
           3.73,
           4,
           0,
           "1/24/2019",
           0,
           12,
           47
          ],
          [
           "Tavares, Desiree  ",
           10221,
           1,
           1,
           0,
           5,
           5,
           3,
           1,
           60754,
           1,
           19,
           "Production Technician I",
           "MA",
           1801,
           "F",
           "Married",
           "Non-Citizen",
           "No",
           "Black or African American",
           "4/27/2009",
           "4/1/2013",
           "Another position",
           "Voluntarily Terminated",
           "Production       ",
           "Webster Butler",
           39,
           "Diversity Job Fair",
           "Fully Meets",
           4.5,
           5,
           0,
           "2/15/2012",
           0,
           11,
           50
          ],
          [
           "Trang, Mei",
           10287,
           0,
           0,
           0,
           1,
           5,
           2,
           0,
           63025,
           0,
           19,
           "Production Technician I",
           "MA",
           2021,
           "F",
           "Single",
           "US Citizen",
           "No",
           "White",
           "2/17/2014",
           null,
           "N/A-StillEmployed",
           "Active",
           "Production       ",
           "David Stanley",
           14,
           "LinkedIn",
           "Needs Improvement",
           2.44,
           5,
           0,
           "2/11/2019",
           4,
           18,
           42
          ],
          [
           "Trzeciak, Cybil",
           10270,
           0,
           0,
           0,
           5,
           5,
           3,
           0,
           74813,
           1,
           20,
           "Production Technician II",
           "MA",
           1778,
           "F",
           "Single",
           "US Citizen",
           "No",
           "White",
           "1/10/2011",
           "7/2/2014",
           "unhappy",
           "Voluntarily Terminated",
           "Production       ",
           "Amy Dunn",
           11,
           "LinkedIn",
           "Fully Meets",
           4.4,
           3,
           0,
           "1/5/2014",
           0,
           5,
           40
          ],
          [
           "Valentin,Jackie",
           10205,
           1,
           1,
           0,
           1,
           6,
           3,
           0,
           57859,
           0,
           3,
           "Area Sales Manager",
           "AZ",
           85006,
           "F",
           "Married",
           "US Citizen",
           "No",
           "Two or more races",
           "7/5/2011",
           null,
           "N/A-StillEmployed",
           "Active",
           "Sales",
           "John Smith",
           17,
           "Indeed",
           "Fully Meets",
           2.81,
           3,
           0,
           "1/17/2019",
           0,
           16,
           34
          ],
          [
           "Volk, Colleen",
           10022,
           1,
           1,
           0,
           4,
           5,
           4,
           0,
           49773,
           1,
           19,
           "Production Technician I",
           "MA",
           2747,
           "F",
           "Married",
           "US Citizen",
           "No",
           "White",
           "9/26/2011",
           "2/8/2016",
           "gross misconduct",
           "Terminated for Cause",
           "Production       ",
           "Kelley Spirea",
           18,
           "Google Search",
           "Exceeds",
           4.3,
           5,
           0,
           "2/1/2015",
           0,
           18,
           39
          ],
          [
           "Von Massenbach, Anna",
           10183,
           0,
           0,
           0,
           2,
           5,
           3,
           0,
           62068,
           0,
           19,
           "Production Technician I",
           "MA",
           2124,
           "F",
           "Single",
           "US Citizen",
           "No",
           "White",
           "7/5/2015",
           null,
           "N/A-StillEmployed",
           "Active",
           "Production       ",
           "Michael Albert",
           22,
           "LinkedIn",
           "Fully Meets",
           3.21,
           3,
           0,
           "1/29/2019",
           0,
           7,
           40
          ],
          [
           "Wallace, Theresa",
           10293,
           0,
           0,
           0,
           5,
           5,
           2,
           0,
           50274,
           1,
           19,
           "Production Technician I",
           "MA",
           1887,
           "F",
           "Single",
           "US Citizen",
           "No",
           "White",
           "8/13/2012",
           "9/1/2015",
           "career change",
           "Voluntarily Terminated",
           "Production       ",
           "Elijiah Gray",
           16,
           "CareerBuilder",
           "Needs Improvement",
           2.5,
           3,
           0,
           "9/5/2014",
           6,
           13,
           44
          ],
          [
           "Warfield, Sarah",
           10127,
           0,
           4,
           0,
           1,
           3,
           3,
           0,
           107226,
           0,
           28,
           "Sr. Network Engineer",
           "MA",
           2453,
           "F",
           "Widowed",
           "US Citizen",
           "No",
           "Asian",
           "3/30/2015",
           null,
           "N/A-StillEmployed",
           "Active",
           "IT/IS",
           "Peter Monroe",
           7,
           "Employee Referral",
           "Fully Meets",
           4.2,
           4,
           8,
           "2/5/2019",
           0,
           7,
           47
          ],
          [
           "Wilkes, Annie",
           10204,
           0,
           2,
           0,
           5,
           5,
           3,
           0,
           58062,
           1,
           19,
           "Production Technician I",
           "MA",
           1876,
           "F",
           "Divorced",
           "US Citizen",
           "No",
           "White",
           "1/10/2011",
           "5/14/2012",
           "Another position",
           "Voluntarily Terminated",
           "Production       ",
           "Ketsia Liebig",
           19,
           "Google Search",
           "Fully Meets",
           3.6,
           5,
           0,
           "2/6/2011",
           0,
           9,
           41
          ],
          [
           "Wolk, Hang  T",
           10174,
           0,
           0,
           0,
           1,
           5,
           3,
           0,
           60446,
           0,
           20,
           "Production Technician II",
           "MA",
           2302,
           "F",
           "Single",
           "US Citizen",
           "No",
           "White",
           "9/29/2014",
           null,
           "N/A-StillEmployed",
           "Active",
           "Production       ",
           "David Stanley",
           14,
           "LinkedIn",
           "Fully Meets",
           3.4,
           4,
           0,
           "2/21/2019",
           0,
           14,
           40
          ],
          [
           "Ybarra, Catherine ",
           10301,
           0,
           0,
           0,
           5,
           5,
           1,
           0,
           48513,
           1,
           19,
           "Production Technician I",
           "MA",
           2458,
           "F",
           "Single",
           "US Citizen",
           "No",
           "Asian",
           "9/2/2008",
           "9/29/2015",
           "Another position",
           "Voluntarily Terminated",
           "Production       ",
           "Brannon Miller",
           12,
           "Google Search",
           "PIP",
           3.2,
           2,
           0,
           "9/2/2015",
           5,
           4,
           43
          ],
          [
           "Zamora, Jennifer",
           10010,
           0,
           0,
           0,
           1,
           3,
           4,
           0,
           220450,
           0,
           6,
           "CIO",
           "MA",
           2067,
           "F",
           "Single",
           "US Citizen",
           "No",
           "White",
           "4/10/2010",
           null,
           "N/A-StillEmployed",
           "Active",
           "IT/IS",
           "Janet King",
           2,
           "Employee Referral",
           "Exceeds",
           4.6,
           5,
           6,
           "2/21/2019",
           0,
           16,
           45
          ],
          [
           "Zhou, Julia",
           10043,
           0,
           0,
           0,
           1,
           3,
           3,
           0,
           89292,
           0,
           9,
           "Data Analyst",
           "MA",
           2148,
           "F",
           "Single",
           "US Citizen",
           "No",
           "White",
           "3/30/2015",
           null,
           "N/A-StillEmployed",
           "Active",
           "IT/IS",
           "Simon Roup",
           4,
           "Employee Referral",
           "Fully Meets",
           5,
           3,
           5,
           "2/1/2019",
           0,
           11,
           46
          ],
          [
           "Zima, Colleen",
           10271,
           0,
           4,
           0,
           1,
           5,
           3,
           0,
           45046,
           0,
           19,
           "Production Technician I",
           "MA",
           1730,
           "F",
           "Widowed",
           "US Citizen",
           "No",
           "Asian",
           "9/29/2014",
           null,
           "N/A-StillEmployed",
           "Active",
           "Production       ",
           "David Stanley",
           14,
           "LinkedIn",
           "Fully Meets",
           4.5,
           5,
           0,
           "1/30/2019",
           0,
           2,
           46
          ]
         ],
         "fillcolor": "rgba(255,255,255,0)",
         "hoveron": "points",
         "hovertemplate": "Sex=%{customdata[15]}<br>Fecha de nacimiento=%{x}<br>Employee_Name=%{customdata[0]}<br>EmpID=%{customdata[1]}<br>MarriedID=%{customdata[2]}<br>MaritalStatusID=%{customdata[3]}<br>GenderID=%{customdata[4]}<br>EmpStatusID=%{customdata[5]}<br>DeptID=%{customdata[6]}<br>PerfScoreID=%{customdata[7]}<br>FromDiversityJobFairID=%{customdata[8]}<br>Salary=%{customdata[9]}<br>Termd=%{customdata[10]}<br>PositionID=%{customdata[11]}<br>Position=%{customdata[12]}<br>State=%{customdata[13]}<br>Zip=%{customdata[14]}<br>MaritalDesc=%{customdata[16]}<br>CitizenDesc=%{customdata[17]}<br>HispanicLatino=%{customdata[18]}<br>RaceDesc=%{customdata[19]}<br>DateofHire=%{customdata[20]}<br>DateofTermination=%{customdata[21]}<br>TermReason=%{customdata[22]}<br>EmploymentStatus=%{customdata[23]}<br>Department=%{customdata[24]}<br>ManagerName=%{customdata[25]}<br>ManagerID=%{customdata[26]}<br>RecruitmentSource=%{customdata[27]}<br>PerformanceScore=%{customdata[28]}<br>EngagementSurvey=%{customdata[29]}<br>EmpSatisfaction=%{customdata[30]}<br>SpecialProjectsCount=%{customdata[31]}<br>LastPerformanceReview_Date=%{customdata[32]}<br>DaysLateLast30=%{customdata[33]}<br>Absences=%{customdata[34]}<br>Edad=%{customdata[35]}<extra></extra>",
         "jitter": 0,
         "legendgroup": "F",
         "line": {
          "color": "rgba(255,255,255,0)"
         },
         "marker": {
          "color": "#EF553B",
          "symbol": "line-ns-open"
         },
         "name": "F",
         "offsetgroup": "F",
         "showlegend": false,
         "type": "box",
         "x": [
          "1988-09-19T00:00:00",
          "1988-09-27T00:00:00",
          "1989-09-08T00:00:00",
          "1977-05-22T00:00:00",
          "1979-05-24T00:00:00",
          "1986-04-04T00:00:00",
          "1989-09-01T00:00:00",
          "1990-09-21T00:00:00",
          "1987-04-04T00:00:00",
          "1990-08-24T00:00:00",
          "1987-11-24T00:00:00",
          "1980-03-02T00:00:00",
          "1987-04-05T00:00:00",
          "1986-06-06T00:00:00",
          "1979-02-12T00:00:00",
          "1983-08-27T00:00:00",
          "1988-05-31T00:00:00",
          "1981-08-31T00:00:00",
          "1977-03-31T00:00:00",
          "1987-04-10T00:00:00",
          "1990-04-19T00:00:00",
          "1978-11-05T00:00:00",
          "1979-07-05T00:00:00",
          "1987-05-14T00:00:00",
          "1978-12-02T00:00:00",
          "1986-10-07T00:00:00",
          "1988-07-18T00:00:00",
          "1988-11-08T00:00:00",
          "1991-09-05T00:00:00",
          "1989-08-25T00:00:00",
          "1989-05-06T00:00:00",
          "1987-05-15T00:00:00",
          "1978-09-22T00:00:00",
          "1987-09-27T00:00:00",
          "1981-03-16T00:00:00",
          "1983-11-08T00:00:00",
          "1979-04-16T00:00:00",
          "1983-12-02T00:00:00",
          "1990-10-01T00:00:00",
          "1980-05-08T00:00:00",
          "1989-09-22T00:00:00",
          "1992-06-18T00:00:00",
          "1981-04-16T00:00:00",
          "1986-05-25T00:00:00",
          "1983-12-08T00:00:00",
          "1983-05-21T00:00:00",
          "1977-03-23T00:00:00",
          "1984-02-16T00:00:00",
          "1984-02-21T00:00:00",
          "1985-09-16T00:00:00",
          "1986-06-10T00:00:00",
          "1984-03-11T00:00:00",
          "1992-05-07T00:00:00",
          "1976-09-22T00:00:00",
          "1991-01-28T00:00:00",
          "1986-11-06T00:00:00",
          "1986-11-07T00:00:00",
          "1986-04-17T00:00:00",
          "1989-11-11T00:00:00",
          "1979-07-25T00:00:00",
          "1987-06-14T00:00:00",
          "1979-01-17T00:00:00",
          "1981-10-26T00:00:00",
          "1981-03-26T00:00:00",
          "1988-10-05T00:00:00",
          "1976-12-26T00:00:00",
          "1982-03-28T00:00:00",
          "1975-10-22T00:00:00",
          "1986-07-07T00:00:00",
          "1976-08-25T00:00:00",
          "1986-12-10T00:00:00",
          "1987-11-07T00:00:00",
          "1977-11-22T00:00:00",
          "1987-05-21T00:00:00",
          "1987-01-07T00:00:00",
          "1976-09-22T00:00:00",
          "1979-04-04T00:00:00",
          "1984-07-07T00:00:00",
          "1989-03-31T00:00:00",
          "1984-07-07T00:00:00",
          "1985-11-23T00:00:00",
          "1980-09-30T00:00:00",
          "1990-05-11T00:00:00",
          "1979-05-01T00:00:00",
          "1989-07-18T00:00:00",
          "1986-07-20T00:00:00",
          "1986-08-17T00:00:00",
          "1977-05-09T00:00:00",
          "1979-03-10T00:00:00",
          "1984-09-16T00:00:00",
          "1988-08-29T00:00:00",
          "1984-10-15T00:00:00",
          "1980-05-12T00:00:00",
          "1981-09-05T00:00:00",
          "1985-01-07T00:00:00",
          "1981-10-11T00:00:00",
          "1986-07-24T00:00:00",
          "1988-07-10T00:00:00",
          "1975-03-10T00:00:00",
          "1981-04-14T00:00:00",
          "1985-08-24T00:00:00",
          "1988-05-19T00:00:00",
          "1987-11-25T00:00:00",
          "1987-06-14T00:00:00",
          "1975-09-30T00:00:00",
          "1982-08-25T00:00:00",
          "1989-05-12T00:00:00",
          "1978-03-28T00:00:00",
          "1975-04-03T00:00:00",
          "1983-05-16T00:00:00",
          "1985-03-15T00:00:00",
          "1991-05-23T00:00:00",
          "1986-06-03T00:00:00",
          "1985-04-06T00:00:00",
          "1980-08-02T00:00:00",
          "1978-05-02T00:00:00",
          "1983-07-30T00:00:00",
          "1985-04-20T00:00:00",
          "1982-05-04T00:00:00",
          "1979-08-30T00:00:00",
          "1979-02-24T00:00:00",
          "1978-08-17T00:00:00"
         ],
         "xaxis": "x2",
         "yaxis": "y2"
        }
       ],
       "layout": {
        "bargap": 0.1,
        "barmode": "relative",
        "legend": {
         "title": {
          "text": "Sex"
         },
         "tracegroupgap": 0
        },
        "template": {
         "data": {
          "bar": [
           {
            "error_x": {
             "color": "#2a3f5f"
            },
            "error_y": {
             "color": "#2a3f5f"
            },
            "marker": {
             "line": {
              "color": "#E5ECF6",
              "width": 0.5
             },
             "pattern": {
              "fillmode": "overlay",
              "size": 10,
              "solidity": 0.2
             }
            },
            "type": "bar"
           }
          ],
          "barpolar": [
           {
            "marker": {
             "line": {
              "color": "#E5ECF6",
              "width": 0.5
             },
             "pattern": {
              "fillmode": "overlay",
              "size": 10,
              "solidity": 0.2
             }
            },
            "type": "barpolar"
           }
          ],
          "carpet": [
           {
            "aaxis": {
             "endlinecolor": "#2a3f5f",
             "gridcolor": "white",
             "linecolor": "white",
             "minorgridcolor": "white",
             "startlinecolor": "#2a3f5f"
            },
            "baxis": {
             "endlinecolor": "#2a3f5f",
             "gridcolor": "white",
             "linecolor": "white",
             "minorgridcolor": "white",
             "startlinecolor": "#2a3f5f"
            },
            "type": "carpet"
           }
          ],
          "choropleth": [
           {
            "colorbar": {
             "outlinewidth": 0,
             "ticks": ""
            },
            "type": "choropleth"
           }
          ],
          "contour": [
           {
            "colorbar": {
             "outlinewidth": 0,
             "ticks": ""
            },
            "colorscale": [
             [
              0,
              "#0d0887"
             ],
             [
              0.1111111111111111,
              "#46039f"
             ],
             [
              0.2222222222222222,
              "#7201a8"
             ],
             [
              0.3333333333333333,
              "#9c179e"
             ],
             [
              0.4444444444444444,
              "#bd3786"
             ],
             [
              0.5555555555555556,
              "#d8576b"
             ],
             [
              0.6666666666666666,
              "#ed7953"
             ],
             [
              0.7777777777777778,
              "#fb9f3a"
             ],
             [
              0.8888888888888888,
              "#fdca26"
             ],
             [
              1,
              "#f0f921"
             ]
            ],
            "type": "contour"
           }
          ],
          "contourcarpet": [
           {
            "colorbar": {
             "outlinewidth": 0,
             "ticks": ""
            },
            "type": "contourcarpet"
           }
          ],
          "heatmap": [
           {
            "colorbar": {
             "outlinewidth": 0,
             "ticks": ""
            },
            "colorscale": [
             [
              0,
              "#0d0887"
             ],
             [
              0.1111111111111111,
              "#46039f"
             ],
             [
              0.2222222222222222,
              "#7201a8"
             ],
             [
              0.3333333333333333,
              "#9c179e"
             ],
             [
              0.4444444444444444,
              "#bd3786"
             ],
             [
              0.5555555555555556,
              "#d8576b"
             ],
             [
              0.6666666666666666,
              "#ed7953"
             ],
             [
              0.7777777777777778,
              "#fb9f3a"
             ],
             [
              0.8888888888888888,
              "#fdca26"
             ],
             [
              1,
              "#f0f921"
             ]
            ],
            "type": "heatmap"
           }
          ],
          "heatmapgl": [
           {
            "colorbar": {
             "outlinewidth": 0,
             "ticks": ""
            },
            "colorscale": [
             [
              0,
              "#0d0887"
             ],
             [
              0.1111111111111111,
              "#46039f"
             ],
             [
              0.2222222222222222,
              "#7201a8"
             ],
             [
              0.3333333333333333,
              "#9c179e"
             ],
             [
              0.4444444444444444,
              "#bd3786"
             ],
             [
              0.5555555555555556,
              "#d8576b"
             ],
             [
              0.6666666666666666,
              "#ed7953"
             ],
             [
              0.7777777777777778,
              "#fb9f3a"
             ],
             [
              0.8888888888888888,
              "#fdca26"
             ],
             [
              1,
              "#f0f921"
             ]
            ],
            "type": "heatmapgl"
           }
          ],
          "histogram": [
           {
            "marker": {
             "pattern": {
              "fillmode": "overlay",
              "size": 10,
              "solidity": 0.2
             }
            },
            "type": "histogram"
           }
          ],
          "histogram2d": [
           {
            "colorbar": {
             "outlinewidth": 0,
             "ticks": ""
            },
            "colorscale": [
             [
              0,
              "#0d0887"
             ],
             [
              0.1111111111111111,
              "#46039f"
             ],
             [
              0.2222222222222222,
              "#7201a8"
             ],
             [
              0.3333333333333333,
              "#9c179e"
             ],
             [
              0.4444444444444444,
              "#bd3786"
             ],
             [
              0.5555555555555556,
              "#d8576b"
             ],
             [
              0.6666666666666666,
              "#ed7953"
             ],
             [
              0.7777777777777778,
              "#fb9f3a"
             ],
             [
              0.8888888888888888,
              "#fdca26"
             ],
             [
              1,
              "#f0f921"
             ]
            ],
            "type": "histogram2d"
           }
          ],
          "histogram2dcontour": [
           {
            "colorbar": {
             "outlinewidth": 0,
             "ticks": ""
            },
            "colorscale": [
             [
              0,
              "#0d0887"
             ],
             [
              0.1111111111111111,
              "#46039f"
             ],
             [
              0.2222222222222222,
              "#7201a8"
             ],
             [
              0.3333333333333333,
              "#9c179e"
             ],
             [
              0.4444444444444444,
              "#bd3786"
             ],
             [
              0.5555555555555556,
              "#d8576b"
             ],
             [
              0.6666666666666666,
              "#ed7953"
             ],
             [
              0.7777777777777778,
              "#fb9f3a"
             ],
             [
              0.8888888888888888,
              "#fdca26"
             ],
             [
              1,
              "#f0f921"
             ]
            ],
            "type": "histogram2dcontour"
           }
          ],
          "mesh3d": [
           {
            "colorbar": {
             "outlinewidth": 0,
             "ticks": ""
            },
            "type": "mesh3d"
           }
          ],
          "parcoords": [
           {
            "line": {
             "colorbar": {
              "outlinewidth": 0,
              "ticks": ""
             }
            },
            "type": "parcoords"
           }
          ],
          "pie": [
           {
            "automargin": true,
            "type": "pie"
           }
          ],
          "scatter": [
           {
            "fillpattern": {
             "fillmode": "overlay",
             "size": 10,
             "solidity": 0.2
            },
            "type": "scatter"
           }
          ],
          "scatter3d": [
           {
            "line": {
             "colorbar": {
              "outlinewidth": 0,
              "ticks": ""
             }
            },
            "marker": {
             "colorbar": {
              "outlinewidth": 0,
              "ticks": ""
             }
            },
            "type": "scatter3d"
           }
          ],
          "scattercarpet": [
           {
            "marker": {
             "colorbar": {
              "outlinewidth": 0,
              "ticks": ""
             }
            },
            "type": "scattercarpet"
           }
          ],
          "scattergeo": [
           {
            "marker": {
             "colorbar": {
              "outlinewidth": 0,
              "ticks": ""
             }
            },
            "type": "scattergeo"
           }
          ],
          "scattergl": [
           {
            "marker": {
             "colorbar": {
              "outlinewidth": 0,
              "ticks": ""
             }
            },
            "type": "scattergl"
           }
          ],
          "scattermapbox": [
           {
            "marker": {
             "colorbar": {
              "outlinewidth": 0,
              "ticks": ""
             }
            },
            "type": "scattermapbox"
           }
          ],
          "scatterpolar": [
           {
            "marker": {
             "colorbar": {
              "outlinewidth": 0,
              "ticks": ""
             }
            },
            "type": "scatterpolar"
           }
          ],
          "scatterpolargl": [
           {
            "marker": {
             "colorbar": {
              "outlinewidth": 0,
              "ticks": ""
             }
            },
            "type": "scatterpolargl"
           }
          ],
          "scatterternary": [
           {
            "marker": {
             "colorbar": {
              "outlinewidth": 0,
              "ticks": ""
             }
            },
            "type": "scatterternary"
           }
          ],
          "surface": [
           {
            "colorbar": {
             "outlinewidth": 0,
             "ticks": ""
            },
            "colorscale": [
             [
              0,
              "#0d0887"
             ],
             [
              0.1111111111111111,
              "#46039f"
             ],
             [
              0.2222222222222222,
              "#7201a8"
             ],
             [
              0.3333333333333333,
              "#9c179e"
             ],
             [
              0.4444444444444444,
              "#bd3786"
             ],
             [
              0.5555555555555556,
              "#d8576b"
             ],
             [
              0.6666666666666666,
              "#ed7953"
             ],
             [
              0.7777777777777778,
              "#fb9f3a"
             ],
             [
              0.8888888888888888,
              "#fdca26"
             ],
             [
              1,
              "#f0f921"
             ]
            ],
            "type": "surface"
           }
          ],
          "table": [
           {
            "cells": {
             "fill": {
              "color": "#EBF0F8"
             },
             "line": {
              "color": "white"
             }
            },
            "header": {
             "fill": {
              "color": "#C8D4E3"
             },
             "line": {
              "color": "white"
             }
            },
            "type": "table"
           }
          ]
         },
         "layout": {
          "annotationdefaults": {
           "arrowcolor": "#2a3f5f",
           "arrowhead": 0,
           "arrowwidth": 1
          },
          "autotypenumbers": "strict",
          "coloraxis": {
           "colorbar": {
            "outlinewidth": 0,
            "ticks": ""
           }
          },
          "colorscale": {
           "diverging": [
            [
             0,
             "#8e0152"
            ],
            [
             0.1,
             "#c51b7d"
            ],
            [
             0.2,
             "#de77ae"
            ],
            [
             0.3,
             "#f1b6da"
            ],
            [
             0.4,
             "#fde0ef"
            ],
            [
             0.5,
             "#f7f7f7"
            ],
            [
             0.6,
             "#e6f5d0"
            ],
            [
             0.7,
             "#b8e186"
            ],
            [
             0.8,
             "#7fbc41"
            ],
            [
             0.9,
             "#4d9221"
            ],
            [
             1,
             "#276419"
            ]
           ],
           "sequential": [
            [
             0,
             "#0d0887"
            ],
            [
             0.1111111111111111,
             "#46039f"
            ],
            [
             0.2222222222222222,
             "#7201a8"
            ],
            [
             0.3333333333333333,
             "#9c179e"
            ],
            [
             0.4444444444444444,
             "#bd3786"
            ],
            [
             0.5555555555555556,
             "#d8576b"
            ],
            [
             0.6666666666666666,
             "#ed7953"
            ],
            [
             0.7777777777777778,
             "#fb9f3a"
            ],
            [
             0.8888888888888888,
             "#fdca26"
            ],
            [
             1,
             "#f0f921"
            ]
           ],
           "sequentialminus": [
            [
             0,
             "#0d0887"
            ],
            [
             0.1111111111111111,
             "#46039f"
            ],
            [
             0.2222222222222222,
             "#7201a8"
            ],
            [
             0.3333333333333333,
             "#9c179e"
            ],
            [
             0.4444444444444444,
             "#bd3786"
            ],
            [
             0.5555555555555556,
             "#d8576b"
            ],
            [
             0.6666666666666666,
             "#ed7953"
            ],
            [
             0.7777777777777778,
             "#fb9f3a"
            ],
            [
             0.8888888888888888,
             "#fdca26"
            ],
            [
             1,
             "#f0f921"
            ]
           ]
          },
          "colorway": [
           "#636efa",
           "#EF553B",
           "#00cc96",
           "#ab63fa",
           "#FFA15A",
           "#19d3f3",
           "#FF6692",
           "#B6E880",
           "#FF97FF",
           "#FECB52"
          ],
          "font": {
           "color": "#2a3f5f"
          },
          "geo": {
           "bgcolor": "white",
           "lakecolor": "white",
           "landcolor": "#E5ECF6",
           "showlakes": true,
           "showland": true,
           "subunitcolor": "white"
          },
          "hoverlabel": {
           "align": "left"
          },
          "hovermode": "closest",
          "mapbox": {
           "style": "light"
          },
          "paper_bgcolor": "white",
          "plot_bgcolor": "#E5ECF6",
          "polar": {
           "angularaxis": {
            "gridcolor": "white",
            "linecolor": "white",
            "ticks": ""
           },
           "bgcolor": "#E5ECF6",
           "radialaxis": {
            "gridcolor": "white",
            "linecolor": "white",
            "ticks": ""
           }
          },
          "scene": {
           "xaxis": {
            "backgroundcolor": "#E5ECF6",
            "gridcolor": "white",
            "gridwidth": 2,
            "linecolor": "white",
            "showbackground": true,
            "ticks": "",
            "zerolinecolor": "white"
           },
           "yaxis": {
            "backgroundcolor": "#E5ECF6",
            "gridcolor": "white",
            "gridwidth": 2,
            "linecolor": "white",
            "showbackground": true,
            "ticks": "",
            "zerolinecolor": "white"
           },
           "zaxis": {
            "backgroundcolor": "#E5ECF6",
            "gridcolor": "white",
            "gridwidth": 2,
            "linecolor": "white",
            "showbackground": true,
            "ticks": "",
            "zerolinecolor": "white"
           }
          },
          "shapedefaults": {
           "line": {
            "color": "#2a3f5f"
           }
          },
          "ternary": {
           "aaxis": {
            "gridcolor": "white",
            "linecolor": "white",
            "ticks": ""
           },
           "baxis": {
            "gridcolor": "white",
            "linecolor": "white",
            "ticks": ""
           },
           "bgcolor": "#E5ECF6",
           "caxis": {
            "gridcolor": "white",
            "linecolor": "white",
            "ticks": ""
           }
          },
          "title": {
           "x": 0.05
          },
          "xaxis": {
           "automargin": true,
           "gridcolor": "white",
           "linecolor": "white",
           "ticks": "",
           "title": {
            "standoff": 15
           },
           "zerolinecolor": "white",
           "zerolinewidth": 2
          },
          "yaxis": {
           "automargin": true,
           "gridcolor": "white",
           "linecolor": "white",
           "ticks": "",
           "title": {
            "standoff": 15
           },
           "zerolinecolor": "white",
           "zerolinewidth": 2
          }
         }
        },
        "title": {
         "text": "Distribución de edades por género"
        },
        "xaxis": {
         "anchor": "y",
         "domain": [
          0,
          1
         ],
         "title": {
          "text": "Fecha de nacimiento"
         }
        },
        "xaxis2": {
         "anchor": "y2",
         "domain": [
          0,
          1
         ],
         "matches": "x",
         "showgrid": true,
         "showticklabels": false
        },
        "yaxis": {
         "anchor": "x",
         "domain": [
          0,
          0.7326
         ],
         "title": {
          "text": "count"
         }
        },
        "yaxis2": {
         "anchor": "x2",
         "domain": [
          0.7426,
          1
         ],
         "matches": "y2",
         "showgrid": false,
         "showline": false,
         "showticklabels": false,
         "ticks": ""
        }
       }
      }
     },
     "metadata": {},
     "output_type": "display_data"
    }
   ],
   "source": [
    "fig3 = px.histogram(\n",
    "    df,\n",
    "    x=\"DOB\",\n",
    "    color=\"Sex\",\n",
    "    nbins=30,\n",
    "    title=\"Distribución de edades por género\",\n",
    "    labels={\"DOB\": \"Fecha de nacimiento\"},\n",
    "    marginal=\"rug\",\n",
    "    hover_data=df.columns,\n",
    ")\n",
    "fig3.update_layout(bargap=0.1)\n",
    "fig3.show()"
   ]
  },
  {
   "cell_type": "markdown",
   "id": "8af0699b",
   "metadata": {},
   "source": [
    "Observación:\n",
    "La mayoría de empleados nació entre 1980 y 1990, con picos alrededor de 1984 y 1986. No se observan grandes diferencias de edad entre géneros, aunque en los nacimientos posteriores a 1990 predominan mujeres."
   ]
  },
  {
   "cell_type": "markdown",
   "id": "a05946f7",
   "metadata": {},
   "source": [
    "## 4. Ausencias por género\n"
   ]
  },
  {
   "cell_type": "code",
   "execution_count": 110,
   "id": "7e95aca7",
   "metadata": {},
   "outputs": [
    {
     "data": {
      "application/vnd.plotly.v1+json": {
       "config": {
        "plotlyServerURL": "https://plot.ly"
       },
       "data": [
        {
         "alignmentgroup": "True",
         "boxpoints": "all",
         "hovertemplate": "Género=%{x}<br>Ausencias=%{y}<extra></extra>",
         "legendgroup": "M ",
         "marker": {
          "color": "#636efa"
         },
         "name": "M ",
         "notched": false,
         "offsetgroup": "M ",
         "orientation": "v",
         "showlegend": true,
         "type": "box",
         "x": [
          "M ",
          "M ",
          "M ",
          "M ",
          "M ",
          "M ",
          "M ",
          "M ",
          "M ",
          "M ",
          "M ",
          "M ",
          "M ",
          "M ",
          "M ",
          "M ",
          "M ",
          "M ",
          "M ",
          "M ",
          "M ",
          "M ",
          "M ",
          "M ",
          "M ",
          "M ",
          "M ",
          "M ",
          "M ",
          "M ",
          "M ",
          "M ",
          "M ",
          "M ",
          "M ",
          "M ",
          "M ",
          "M ",
          "M ",
          "M ",
          "M ",
          "M ",
          "M ",
          "M ",
          "M ",
          "M ",
          "M ",
          "M ",
          "M ",
          "M ",
          "M ",
          "M ",
          "M ",
          "M ",
          "M ",
          "M ",
          "M ",
          "M ",
          "M ",
          "M ",
          "M ",
          "M ",
          "M ",
          "M ",
          "M ",
          "M ",
          "M ",
          "M ",
          "M ",
          "M ",
          "M ",
          "M ",
          "M ",
          "M ",
          "M ",
          "M ",
          "M ",
          "M ",
          "M ",
          "M ",
          "M ",
          "M ",
          "M ",
          "M ",
          "M ",
          "M ",
          "M ",
          "M ",
          "M ",
          "M ",
          "M ",
          "M ",
          "M ",
          "M ",
          "M ",
          "M ",
          "M ",
          "M "
         ],
         "x0": " ",
         "xaxis": "x",
         "y": [
          1,
          17,
          19,
          16,
          9,
          7,
          1,
          20,
          13,
          9,
          15,
          14,
          14,
          4,
          2,
          6,
          5,
          3,
          16,
          3,
          15,
          2,
          6,
          2,
          14,
          5,
          15,
          1,
          3,
          16,
          15,
          2,
          20,
          7,
          15,
          5,
          20,
          2,
          2,
          8,
          20,
          1,
          9,
          4,
          10,
          13,
          3,
          17,
          7,
          13,
          3,
          20,
          20,
          10,
          16,
          7,
          7,
          2,
          6,
          14,
          13,
          12,
          13,
          19,
          10,
          11,
          13,
          6,
          18,
          13,
          19,
          15,
          13,
          15,
          4,
          19,
          11,
          4,
          4,
          13,
          2,
          16,
          13,
          9,
          4,
          10,
          1,
          14,
          15,
          11,
          9,
          15,
          11,
          9,
          4,
          17,
          11,
          13
         ],
         "y0": " ",
         "yaxis": "y"
        },
        {
         "alignmentgroup": "True",
         "boxpoints": "all",
         "hovertemplate": "Género=%{x}<br>Ausencias=%{y}<extra></extra>",
         "legendgroup": "F",
         "marker": {
          "color": "#EF553B"
         },
         "name": "F",
         "notched": false,
         "offsetgroup": "F",
         "orientation": "v",
         "showlegend": true,
         "type": "box",
         "x": [
          "F",
          "F",
          "F",
          "F",
          "F",
          "F",
          "F",
          "F",
          "F",
          "F",
          "F",
          "F",
          "F",
          "F",
          "F",
          "F",
          "F",
          "F",
          "F",
          "F",
          "F",
          "F",
          "F",
          "F",
          "F",
          "F",
          "F",
          "F",
          "F",
          "F",
          "F",
          "F",
          "F",
          "F",
          "F",
          "F",
          "F",
          "F",
          "F",
          "F",
          "F",
          "F",
          "F",
          "F",
          "F",
          "F",
          "F",
          "F",
          "F",
          "F",
          "F",
          "F",
          "F",
          "F",
          "F",
          "F",
          "F",
          "F",
          "F",
          "F",
          "F",
          "F",
          "F",
          "F",
          "F",
          "F",
          "F",
          "F",
          "F",
          "F",
          "F",
          "F",
          "F",
          "F",
          "F",
          "F",
          "F",
          "F",
          "F",
          "F",
          "F",
          "F",
          "F",
          "F",
          "F",
          "F",
          "F",
          "F",
          "F",
          "F",
          "F",
          "F",
          "F",
          "F",
          "F",
          "F",
          "F",
          "F",
          "F",
          "F",
          "F",
          "F",
          "F",
          "F",
          "F",
          "F",
          "F",
          "F",
          "F",
          "F",
          "F",
          "F",
          "F",
          "F",
          "F",
          "F",
          "F",
          "F",
          "F",
          "F",
          "F",
          "F"
         ],
         "x0": " ",
         "xaxis": "x",
         "y": [
          3,
          15,
          2,
          15,
          19,
          8,
          19,
          3,
          4,
          6,
          14,
          3,
          3,
          7,
          11,
          3,
          3,
          9,
          6,
          15,
          8,
          1,
          8,
          17,
          6,
          15,
          16,
          14,
          7,
          5,
          19,
          19,
          17,
          7,
          19,
          6,
          3,
          12,
          19,
          3,
          20,
          7,
          11,
          20,
          1,
          17,
          13,
          16,
          4,
          6,
          4,
          4,
          6,
          18,
          14,
          11,
          2,
          4,
          2,
          20,
          2,
          17,
          11,
          16,
          14,
          15,
          19,
          6,
          14,
          4,
          16,
          14,
          8,
          16,
          20,
          10,
          6,
          18,
          2,
          4,
          5,
          3,
          1,
          7,
          2,
          5,
          12,
          6,
          14,
          16,
          9,
          14,
          10,
          10,
          16,
          15,
          2,
          2,
          14,
          7,
          15,
          2,
          20,
          17,
          15,
          9,
          18,
          12,
          11,
          18,
          5,
          16,
          18,
          7,
          13,
          7,
          9,
          14,
          4,
          16,
          11,
          2
         ],
         "y0": " ",
         "yaxis": "y"
        }
       ],
       "layout": {
        "boxmode": "overlay",
        "legend": {
         "title": {
          "text": "Género"
         },
         "tracegroupgap": 0
        },
        "template": {
         "data": {
          "bar": [
           {
            "error_x": {
             "color": "#2a3f5f"
            },
            "error_y": {
             "color": "#2a3f5f"
            },
            "marker": {
             "line": {
              "color": "#E5ECF6",
              "width": 0.5
             },
             "pattern": {
              "fillmode": "overlay",
              "size": 10,
              "solidity": 0.2
             }
            },
            "type": "bar"
           }
          ],
          "barpolar": [
           {
            "marker": {
             "line": {
              "color": "#E5ECF6",
              "width": 0.5
             },
             "pattern": {
              "fillmode": "overlay",
              "size": 10,
              "solidity": 0.2
             }
            },
            "type": "barpolar"
           }
          ],
          "carpet": [
           {
            "aaxis": {
             "endlinecolor": "#2a3f5f",
             "gridcolor": "white",
             "linecolor": "white",
             "minorgridcolor": "white",
             "startlinecolor": "#2a3f5f"
            },
            "baxis": {
             "endlinecolor": "#2a3f5f",
             "gridcolor": "white",
             "linecolor": "white",
             "minorgridcolor": "white",
             "startlinecolor": "#2a3f5f"
            },
            "type": "carpet"
           }
          ],
          "choropleth": [
           {
            "colorbar": {
             "outlinewidth": 0,
             "ticks": ""
            },
            "type": "choropleth"
           }
          ],
          "contour": [
           {
            "colorbar": {
             "outlinewidth": 0,
             "ticks": ""
            },
            "colorscale": [
             [
              0,
              "#0d0887"
             ],
             [
              0.1111111111111111,
              "#46039f"
             ],
             [
              0.2222222222222222,
              "#7201a8"
             ],
             [
              0.3333333333333333,
              "#9c179e"
             ],
             [
              0.4444444444444444,
              "#bd3786"
             ],
             [
              0.5555555555555556,
              "#d8576b"
             ],
             [
              0.6666666666666666,
              "#ed7953"
             ],
             [
              0.7777777777777778,
              "#fb9f3a"
             ],
             [
              0.8888888888888888,
              "#fdca26"
             ],
             [
              1,
              "#f0f921"
             ]
            ],
            "type": "contour"
           }
          ],
          "contourcarpet": [
           {
            "colorbar": {
             "outlinewidth": 0,
             "ticks": ""
            },
            "type": "contourcarpet"
           }
          ],
          "heatmap": [
           {
            "colorbar": {
             "outlinewidth": 0,
             "ticks": ""
            },
            "colorscale": [
             [
              0,
              "#0d0887"
             ],
             [
              0.1111111111111111,
              "#46039f"
             ],
             [
              0.2222222222222222,
              "#7201a8"
             ],
             [
              0.3333333333333333,
              "#9c179e"
             ],
             [
              0.4444444444444444,
              "#bd3786"
             ],
             [
              0.5555555555555556,
              "#d8576b"
             ],
             [
              0.6666666666666666,
              "#ed7953"
             ],
             [
              0.7777777777777778,
              "#fb9f3a"
             ],
             [
              0.8888888888888888,
              "#fdca26"
             ],
             [
              1,
              "#f0f921"
             ]
            ],
            "type": "heatmap"
           }
          ],
          "heatmapgl": [
           {
            "colorbar": {
             "outlinewidth": 0,
             "ticks": ""
            },
            "colorscale": [
             [
              0,
              "#0d0887"
             ],
             [
              0.1111111111111111,
              "#46039f"
             ],
             [
              0.2222222222222222,
              "#7201a8"
             ],
             [
              0.3333333333333333,
              "#9c179e"
             ],
             [
              0.4444444444444444,
              "#bd3786"
             ],
             [
              0.5555555555555556,
              "#d8576b"
             ],
             [
              0.6666666666666666,
              "#ed7953"
             ],
             [
              0.7777777777777778,
              "#fb9f3a"
             ],
             [
              0.8888888888888888,
              "#fdca26"
             ],
             [
              1,
              "#f0f921"
             ]
            ],
            "type": "heatmapgl"
           }
          ],
          "histogram": [
           {
            "marker": {
             "pattern": {
              "fillmode": "overlay",
              "size": 10,
              "solidity": 0.2
             }
            },
            "type": "histogram"
           }
          ],
          "histogram2d": [
           {
            "colorbar": {
             "outlinewidth": 0,
             "ticks": ""
            },
            "colorscale": [
             [
              0,
              "#0d0887"
             ],
             [
              0.1111111111111111,
              "#46039f"
             ],
             [
              0.2222222222222222,
              "#7201a8"
             ],
             [
              0.3333333333333333,
              "#9c179e"
             ],
             [
              0.4444444444444444,
              "#bd3786"
             ],
             [
              0.5555555555555556,
              "#d8576b"
             ],
             [
              0.6666666666666666,
              "#ed7953"
             ],
             [
              0.7777777777777778,
              "#fb9f3a"
             ],
             [
              0.8888888888888888,
              "#fdca26"
             ],
             [
              1,
              "#f0f921"
             ]
            ],
            "type": "histogram2d"
           }
          ],
          "histogram2dcontour": [
           {
            "colorbar": {
             "outlinewidth": 0,
             "ticks": ""
            },
            "colorscale": [
             [
              0,
              "#0d0887"
             ],
             [
              0.1111111111111111,
              "#46039f"
             ],
             [
              0.2222222222222222,
              "#7201a8"
             ],
             [
              0.3333333333333333,
              "#9c179e"
             ],
             [
              0.4444444444444444,
              "#bd3786"
             ],
             [
              0.5555555555555556,
              "#d8576b"
             ],
             [
              0.6666666666666666,
              "#ed7953"
             ],
             [
              0.7777777777777778,
              "#fb9f3a"
             ],
             [
              0.8888888888888888,
              "#fdca26"
             ],
             [
              1,
              "#f0f921"
             ]
            ],
            "type": "histogram2dcontour"
           }
          ],
          "mesh3d": [
           {
            "colorbar": {
             "outlinewidth": 0,
             "ticks": ""
            },
            "type": "mesh3d"
           }
          ],
          "parcoords": [
           {
            "line": {
             "colorbar": {
              "outlinewidth": 0,
              "ticks": ""
             }
            },
            "type": "parcoords"
           }
          ],
          "pie": [
           {
            "automargin": true,
            "type": "pie"
           }
          ],
          "scatter": [
           {
            "fillpattern": {
             "fillmode": "overlay",
             "size": 10,
             "solidity": 0.2
            },
            "type": "scatter"
           }
          ],
          "scatter3d": [
           {
            "line": {
             "colorbar": {
              "outlinewidth": 0,
              "ticks": ""
             }
            },
            "marker": {
             "colorbar": {
              "outlinewidth": 0,
              "ticks": ""
             }
            },
            "type": "scatter3d"
           }
          ],
          "scattercarpet": [
           {
            "marker": {
             "colorbar": {
              "outlinewidth": 0,
              "ticks": ""
             }
            },
            "type": "scattercarpet"
           }
          ],
          "scattergeo": [
           {
            "marker": {
             "colorbar": {
              "outlinewidth": 0,
              "ticks": ""
             }
            },
            "type": "scattergeo"
           }
          ],
          "scattergl": [
           {
            "marker": {
             "colorbar": {
              "outlinewidth": 0,
              "ticks": ""
             }
            },
            "type": "scattergl"
           }
          ],
          "scattermapbox": [
           {
            "marker": {
             "colorbar": {
              "outlinewidth": 0,
              "ticks": ""
             }
            },
            "type": "scattermapbox"
           }
          ],
          "scatterpolar": [
           {
            "marker": {
             "colorbar": {
              "outlinewidth": 0,
              "ticks": ""
             }
            },
            "type": "scatterpolar"
           }
          ],
          "scatterpolargl": [
           {
            "marker": {
             "colorbar": {
              "outlinewidth": 0,
              "ticks": ""
             }
            },
            "type": "scatterpolargl"
           }
          ],
          "scatterternary": [
           {
            "marker": {
             "colorbar": {
              "outlinewidth": 0,
              "ticks": ""
             }
            },
            "type": "scatterternary"
           }
          ],
          "surface": [
           {
            "colorbar": {
             "outlinewidth": 0,
             "ticks": ""
            },
            "colorscale": [
             [
              0,
              "#0d0887"
             ],
             [
              0.1111111111111111,
              "#46039f"
             ],
             [
              0.2222222222222222,
              "#7201a8"
             ],
             [
              0.3333333333333333,
              "#9c179e"
             ],
             [
              0.4444444444444444,
              "#bd3786"
             ],
             [
              0.5555555555555556,
              "#d8576b"
             ],
             [
              0.6666666666666666,
              "#ed7953"
             ],
             [
              0.7777777777777778,
              "#fb9f3a"
             ],
             [
              0.8888888888888888,
              "#fdca26"
             ],
             [
              1,
              "#f0f921"
             ]
            ],
            "type": "surface"
           }
          ],
          "table": [
           {
            "cells": {
             "fill": {
              "color": "#EBF0F8"
             },
             "line": {
              "color": "white"
             }
            },
            "header": {
             "fill": {
              "color": "#C8D4E3"
             },
             "line": {
              "color": "white"
             }
            },
            "type": "table"
           }
          ]
         },
         "layout": {
          "annotationdefaults": {
           "arrowcolor": "#2a3f5f",
           "arrowhead": 0,
           "arrowwidth": 1
          },
          "autotypenumbers": "strict",
          "coloraxis": {
           "colorbar": {
            "outlinewidth": 0,
            "ticks": ""
           }
          },
          "colorscale": {
           "diverging": [
            [
             0,
             "#8e0152"
            ],
            [
             0.1,
             "#c51b7d"
            ],
            [
             0.2,
             "#de77ae"
            ],
            [
             0.3,
             "#f1b6da"
            ],
            [
             0.4,
             "#fde0ef"
            ],
            [
             0.5,
             "#f7f7f7"
            ],
            [
             0.6,
             "#e6f5d0"
            ],
            [
             0.7,
             "#b8e186"
            ],
            [
             0.8,
             "#7fbc41"
            ],
            [
             0.9,
             "#4d9221"
            ],
            [
             1,
             "#276419"
            ]
           ],
           "sequential": [
            [
             0,
             "#0d0887"
            ],
            [
             0.1111111111111111,
             "#46039f"
            ],
            [
             0.2222222222222222,
             "#7201a8"
            ],
            [
             0.3333333333333333,
             "#9c179e"
            ],
            [
             0.4444444444444444,
             "#bd3786"
            ],
            [
             0.5555555555555556,
             "#d8576b"
            ],
            [
             0.6666666666666666,
             "#ed7953"
            ],
            [
             0.7777777777777778,
             "#fb9f3a"
            ],
            [
             0.8888888888888888,
             "#fdca26"
            ],
            [
             1,
             "#f0f921"
            ]
           ],
           "sequentialminus": [
            [
             0,
             "#0d0887"
            ],
            [
             0.1111111111111111,
             "#46039f"
            ],
            [
             0.2222222222222222,
             "#7201a8"
            ],
            [
             0.3333333333333333,
             "#9c179e"
            ],
            [
             0.4444444444444444,
             "#bd3786"
            ],
            [
             0.5555555555555556,
             "#d8576b"
            ],
            [
             0.6666666666666666,
             "#ed7953"
            ],
            [
             0.7777777777777778,
             "#fb9f3a"
            ],
            [
             0.8888888888888888,
             "#fdca26"
            ],
            [
             1,
             "#f0f921"
            ]
           ]
          },
          "colorway": [
           "#636efa",
           "#EF553B",
           "#00cc96",
           "#ab63fa",
           "#FFA15A",
           "#19d3f3",
           "#FF6692",
           "#B6E880",
           "#FF97FF",
           "#FECB52"
          ],
          "font": {
           "color": "#2a3f5f"
          },
          "geo": {
           "bgcolor": "white",
           "lakecolor": "white",
           "landcolor": "#E5ECF6",
           "showlakes": true,
           "showland": true,
           "subunitcolor": "white"
          },
          "hoverlabel": {
           "align": "left"
          },
          "hovermode": "closest",
          "mapbox": {
           "style": "light"
          },
          "paper_bgcolor": "white",
          "plot_bgcolor": "#E5ECF6",
          "polar": {
           "angularaxis": {
            "gridcolor": "white",
            "linecolor": "white",
            "ticks": ""
           },
           "bgcolor": "#E5ECF6",
           "radialaxis": {
            "gridcolor": "white",
            "linecolor": "white",
            "ticks": ""
           }
          },
          "scene": {
           "xaxis": {
            "backgroundcolor": "#E5ECF6",
            "gridcolor": "white",
            "gridwidth": 2,
            "linecolor": "white",
            "showbackground": true,
            "ticks": "",
            "zerolinecolor": "white"
           },
           "yaxis": {
            "backgroundcolor": "#E5ECF6",
            "gridcolor": "white",
            "gridwidth": 2,
            "linecolor": "white",
            "showbackground": true,
            "ticks": "",
            "zerolinecolor": "white"
           },
           "zaxis": {
            "backgroundcolor": "#E5ECF6",
            "gridcolor": "white",
            "gridwidth": 2,
            "linecolor": "white",
            "showbackground": true,
            "ticks": "",
            "zerolinecolor": "white"
           }
          },
          "shapedefaults": {
           "line": {
            "color": "#2a3f5f"
           }
          },
          "ternary": {
           "aaxis": {
            "gridcolor": "white",
            "linecolor": "white",
            "ticks": ""
           },
           "baxis": {
            "gridcolor": "white",
            "linecolor": "white",
            "ticks": ""
           },
           "bgcolor": "#E5ECF6",
           "caxis": {
            "gridcolor": "white",
            "linecolor": "white",
            "ticks": ""
           }
          },
          "title": {
           "x": 0.05
          },
          "xaxis": {
           "automargin": true,
           "gridcolor": "white",
           "linecolor": "white",
           "ticks": "",
           "title": {
            "standoff": 15
           },
           "zerolinecolor": "white",
           "zerolinewidth": 2
          },
          "yaxis": {
           "automargin": true,
           "gridcolor": "white",
           "linecolor": "white",
           "ticks": "",
           "title": {
            "standoff": 15
           },
           "zerolinecolor": "white",
           "zerolinewidth": 2
          }
         }
        },
        "title": {
         "text": "Distribución de ausencias por género"
        },
        "xaxis": {
         "anchor": "y",
         "categoryarray": [
          "M ",
          "F"
         ],
         "categoryorder": "array",
         "domain": [
          0,
          1
         ],
         "title": {
          "text": "Género"
         }
        },
        "yaxis": {
         "anchor": "x",
         "domain": [
          0,
          1
         ],
         "title": {
          "text": "Ausencias"
         }
        }
       }
      }
     },
     "metadata": {},
     "output_type": "display_data"
    }
   ],
   "source": [
    "fig4 = px.box(\n",
    "    df,\n",
    "    x=\"Sex\",\n",
    "    y=\"Absences\",\n",
    "    color=\"Sex\",\n",
    "    points=\"all\",\n",
    "    title=\"Distribución de ausencias por género\",\n",
    "    labels={\"Sex\": \"Género\", \"Absences\": \"Ausencias\"},\n",
    ")\n",
    "fig4.show()"
   ]
  },
  {
   "cell_type": "markdown",
   "id": "0944fbcc",
   "metadata": {},
   "source": [
    "Observación:\n",
    "Tanto hombres como mujeres presentan una amplia dispersión en el número de ausencias, con valores similares. Sin embargo, el rango intercuartílico es ligeramente mayor en mujeres, lo que sugiere una mayor variabilidad en sus ausencias."
   ]
  },
  {
   "cell_type": "markdown",
   "id": "bab17bdb",
   "metadata": {},
   "source": [
    "## 5. Nivel de satisfacción promedio por fuente de reclutamiento\n"
   ]
  },
  {
   "cell_type": "code",
   "execution_count": 111,
   "id": "8a654a06",
   "metadata": {},
   "outputs": [
    {
     "data": {
      "application/vnd.plotly.v1+json": {
       "config": {
        "plotlyServerURL": "https://plot.ly"
       },
       "data": [
        {
         "alignmentgroup": "True",
         "hovertemplate": "Fuente de Reclutamiento=%{x}<br>Satisfacción Promedio=%{marker.color:.2f}<extra></extra>",
         "legendgroup": "",
         "marker": {
          "color": [
           3.6875,
           3.769230769230769,
           4.095238095238095,
           4.029411764705882,
           4.015625,
           3.864406779661017,
           5,
           3.5,
           3.5
          ],
          "coloraxis": "coloraxis",
          "pattern": {
           "shape": ""
          }
         },
         "name": "",
         "offsetgroup": "",
         "orientation": "v",
         "showlegend": false,
         "textposition": "auto",
         "type": "bar",
         "x": [
          "CareerBuilder",
          "Diversity Job Fair",
          "Employee Referral",
          "Google Search",
          "Indeed",
          "LinkedIn",
          "On-line Web application",
          "Other",
          "Website"
         ],
         "xaxis": "x",
         "y": [
          3.6875,
          3.769230769230769,
          4.095238095238095,
          4.029411764705882,
          4.015625,
          3.864406779661017,
          5,
          3.5,
          3.5
         ],
         "yaxis": "y"
        }
       ],
       "layout": {
        "barmode": "relative",
        "coloraxis": {
         "colorbar": {
          "title": {
           "text": "Satisfacción Promedio"
          }
         },
         "colorscale": [
          [
           0,
           "rgb(247,251,255)"
          ],
          [
           0.125,
           "rgb(222,235,247)"
          ],
          [
           0.25,
           "rgb(198,219,239)"
          ],
          [
           0.375,
           "rgb(158,202,225)"
          ],
          [
           0.5,
           "rgb(107,174,214)"
          ],
          [
           0.625,
           "rgb(66,146,198)"
          ],
          [
           0.75,
           "rgb(33,113,181)"
          ],
          [
           0.875,
           "rgb(8,81,156)"
          ],
          [
           1,
           "rgb(8,48,107)"
          ]
         ]
        },
        "legend": {
         "tracegroupgap": 0
        },
        "template": {
         "data": {
          "bar": [
           {
            "error_x": {
             "color": "#2a3f5f"
            },
            "error_y": {
             "color": "#2a3f5f"
            },
            "marker": {
             "line": {
              "color": "#E5ECF6",
              "width": 0.5
             },
             "pattern": {
              "fillmode": "overlay",
              "size": 10,
              "solidity": 0.2
             }
            },
            "type": "bar"
           }
          ],
          "barpolar": [
           {
            "marker": {
             "line": {
              "color": "#E5ECF6",
              "width": 0.5
             },
             "pattern": {
              "fillmode": "overlay",
              "size": 10,
              "solidity": 0.2
             }
            },
            "type": "barpolar"
           }
          ],
          "carpet": [
           {
            "aaxis": {
             "endlinecolor": "#2a3f5f",
             "gridcolor": "white",
             "linecolor": "white",
             "minorgridcolor": "white",
             "startlinecolor": "#2a3f5f"
            },
            "baxis": {
             "endlinecolor": "#2a3f5f",
             "gridcolor": "white",
             "linecolor": "white",
             "minorgridcolor": "white",
             "startlinecolor": "#2a3f5f"
            },
            "type": "carpet"
           }
          ],
          "choropleth": [
           {
            "colorbar": {
             "outlinewidth": 0,
             "ticks": ""
            },
            "type": "choropleth"
           }
          ],
          "contour": [
           {
            "colorbar": {
             "outlinewidth": 0,
             "ticks": ""
            },
            "colorscale": [
             [
              0,
              "#0d0887"
             ],
             [
              0.1111111111111111,
              "#46039f"
             ],
             [
              0.2222222222222222,
              "#7201a8"
             ],
             [
              0.3333333333333333,
              "#9c179e"
             ],
             [
              0.4444444444444444,
              "#bd3786"
             ],
             [
              0.5555555555555556,
              "#d8576b"
             ],
             [
              0.6666666666666666,
              "#ed7953"
             ],
             [
              0.7777777777777778,
              "#fb9f3a"
             ],
             [
              0.8888888888888888,
              "#fdca26"
             ],
             [
              1,
              "#f0f921"
             ]
            ],
            "type": "contour"
           }
          ],
          "contourcarpet": [
           {
            "colorbar": {
             "outlinewidth": 0,
             "ticks": ""
            },
            "type": "contourcarpet"
           }
          ],
          "heatmap": [
           {
            "colorbar": {
             "outlinewidth": 0,
             "ticks": ""
            },
            "colorscale": [
             [
              0,
              "#0d0887"
             ],
             [
              0.1111111111111111,
              "#46039f"
             ],
             [
              0.2222222222222222,
              "#7201a8"
             ],
             [
              0.3333333333333333,
              "#9c179e"
             ],
             [
              0.4444444444444444,
              "#bd3786"
             ],
             [
              0.5555555555555556,
              "#d8576b"
             ],
             [
              0.6666666666666666,
              "#ed7953"
             ],
             [
              0.7777777777777778,
              "#fb9f3a"
             ],
             [
              0.8888888888888888,
              "#fdca26"
             ],
             [
              1,
              "#f0f921"
             ]
            ],
            "type": "heatmap"
           }
          ],
          "heatmapgl": [
           {
            "colorbar": {
             "outlinewidth": 0,
             "ticks": ""
            },
            "colorscale": [
             [
              0,
              "#0d0887"
             ],
             [
              0.1111111111111111,
              "#46039f"
             ],
             [
              0.2222222222222222,
              "#7201a8"
             ],
             [
              0.3333333333333333,
              "#9c179e"
             ],
             [
              0.4444444444444444,
              "#bd3786"
             ],
             [
              0.5555555555555556,
              "#d8576b"
             ],
             [
              0.6666666666666666,
              "#ed7953"
             ],
             [
              0.7777777777777778,
              "#fb9f3a"
             ],
             [
              0.8888888888888888,
              "#fdca26"
             ],
             [
              1,
              "#f0f921"
             ]
            ],
            "type": "heatmapgl"
           }
          ],
          "histogram": [
           {
            "marker": {
             "pattern": {
              "fillmode": "overlay",
              "size": 10,
              "solidity": 0.2
             }
            },
            "type": "histogram"
           }
          ],
          "histogram2d": [
           {
            "colorbar": {
             "outlinewidth": 0,
             "ticks": ""
            },
            "colorscale": [
             [
              0,
              "#0d0887"
             ],
             [
              0.1111111111111111,
              "#46039f"
             ],
             [
              0.2222222222222222,
              "#7201a8"
             ],
             [
              0.3333333333333333,
              "#9c179e"
             ],
             [
              0.4444444444444444,
              "#bd3786"
             ],
             [
              0.5555555555555556,
              "#d8576b"
             ],
             [
              0.6666666666666666,
              "#ed7953"
             ],
             [
              0.7777777777777778,
              "#fb9f3a"
             ],
             [
              0.8888888888888888,
              "#fdca26"
             ],
             [
              1,
              "#f0f921"
             ]
            ],
            "type": "histogram2d"
           }
          ],
          "histogram2dcontour": [
           {
            "colorbar": {
             "outlinewidth": 0,
             "ticks": ""
            },
            "colorscale": [
             [
              0,
              "#0d0887"
             ],
             [
              0.1111111111111111,
              "#46039f"
             ],
             [
              0.2222222222222222,
              "#7201a8"
             ],
             [
              0.3333333333333333,
              "#9c179e"
             ],
             [
              0.4444444444444444,
              "#bd3786"
             ],
             [
              0.5555555555555556,
              "#d8576b"
             ],
             [
              0.6666666666666666,
              "#ed7953"
             ],
             [
              0.7777777777777778,
              "#fb9f3a"
             ],
             [
              0.8888888888888888,
              "#fdca26"
             ],
             [
              1,
              "#f0f921"
             ]
            ],
            "type": "histogram2dcontour"
           }
          ],
          "mesh3d": [
           {
            "colorbar": {
             "outlinewidth": 0,
             "ticks": ""
            },
            "type": "mesh3d"
           }
          ],
          "parcoords": [
           {
            "line": {
             "colorbar": {
              "outlinewidth": 0,
              "ticks": ""
             }
            },
            "type": "parcoords"
           }
          ],
          "pie": [
           {
            "automargin": true,
            "type": "pie"
           }
          ],
          "scatter": [
           {
            "fillpattern": {
             "fillmode": "overlay",
             "size": 10,
             "solidity": 0.2
            },
            "type": "scatter"
           }
          ],
          "scatter3d": [
           {
            "line": {
             "colorbar": {
              "outlinewidth": 0,
              "ticks": ""
             }
            },
            "marker": {
             "colorbar": {
              "outlinewidth": 0,
              "ticks": ""
             }
            },
            "type": "scatter3d"
           }
          ],
          "scattercarpet": [
           {
            "marker": {
             "colorbar": {
              "outlinewidth": 0,
              "ticks": ""
             }
            },
            "type": "scattercarpet"
           }
          ],
          "scattergeo": [
           {
            "marker": {
             "colorbar": {
              "outlinewidth": 0,
              "ticks": ""
             }
            },
            "type": "scattergeo"
           }
          ],
          "scattergl": [
           {
            "marker": {
             "colorbar": {
              "outlinewidth": 0,
              "ticks": ""
             }
            },
            "type": "scattergl"
           }
          ],
          "scattermapbox": [
           {
            "marker": {
             "colorbar": {
              "outlinewidth": 0,
              "ticks": ""
             }
            },
            "type": "scattermapbox"
           }
          ],
          "scatterpolar": [
           {
            "marker": {
             "colorbar": {
              "outlinewidth": 0,
              "ticks": ""
             }
            },
            "type": "scatterpolar"
           }
          ],
          "scatterpolargl": [
           {
            "marker": {
             "colorbar": {
              "outlinewidth": 0,
              "ticks": ""
             }
            },
            "type": "scatterpolargl"
           }
          ],
          "scatterternary": [
           {
            "marker": {
             "colorbar": {
              "outlinewidth": 0,
              "ticks": ""
             }
            },
            "type": "scatterternary"
           }
          ],
          "surface": [
           {
            "colorbar": {
             "outlinewidth": 0,
             "ticks": ""
            },
            "colorscale": [
             [
              0,
              "#0d0887"
             ],
             [
              0.1111111111111111,
              "#46039f"
             ],
             [
              0.2222222222222222,
              "#7201a8"
             ],
             [
              0.3333333333333333,
              "#9c179e"
             ],
             [
              0.4444444444444444,
              "#bd3786"
             ],
             [
              0.5555555555555556,
              "#d8576b"
             ],
             [
              0.6666666666666666,
              "#ed7953"
             ],
             [
              0.7777777777777778,
              "#fb9f3a"
             ],
             [
              0.8888888888888888,
              "#fdca26"
             ],
             [
              1,
              "#f0f921"
             ]
            ],
            "type": "surface"
           }
          ],
          "table": [
           {
            "cells": {
             "fill": {
              "color": "#EBF0F8"
             },
             "line": {
              "color": "white"
             }
            },
            "header": {
             "fill": {
              "color": "#C8D4E3"
             },
             "line": {
              "color": "white"
             }
            },
            "type": "table"
           }
          ]
         },
         "layout": {
          "annotationdefaults": {
           "arrowcolor": "#2a3f5f",
           "arrowhead": 0,
           "arrowwidth": 1
          },
          "autotypenumbers": "strict",
          "coloraxis": {
           "colorbar": {
            "outlinewidth": 0,
            "ticks": ""
           }
          },
          "colorscale": {
           "diverging": [
            [
             0,
             "#8e0152"
            ],
            [
             0.1,
             "#c51b7d"
            ],
            [
             0.2,
             "#de77ae"
            ],
            [
             0.3,
             "#f1b6da"
            ],
            [
             0.4,
             "#fde0ef"
            ],
            [
             0.5,
             "#f7f7f7"
            ],
            [
             0.6,
             "#e6f5d0"
            ],
            [
             0.7,
             "#b8e186"
            ],
            [
             0.8,
             "#7fbc41"
            ],
            [
             0.9,
             "#4d9221"
            ],
            [
             1,
             "#276419"
            ]
           ],
           "sequential": [
            [
             0,
             "#0d0887"
            ],
            [
             0.1111111111111111,
             "#46039f"
            ],
            [
             0.2222222222222222,
             "#7201a8"
            ],
            [
             0.3333333333333333,
             "#9c179e"
            ],
            [
             0.4444444444444444,
             "#bd3786"
            ],
            [
             0.5555555555555556,
             "#d8576b"
            ],
            [
             0.6666666666666666,
             "#ed7953"
            ],
            [
             0.7777777777777778,
             "#fb9f3a"
            ],
            [
             0.8888888888888888,
             "#fdca26"
            ],
            [
             1,
             "#f0f921"
            ]
           ],
           "sequentialminus": [
            [
             0,
             "#0d0887"
            ],
            [
             0.1111111111111111,
             "#46039f"
            ],
            [
             0.2222222222222222,
             "#7201a8"
            ],
            [
             0.3333333333333333,
             "#9c179e"
            ],
            [
             0.4444444444444444,
             "#bd3786"
            ],
            [
             0.5555555555555556,
             "#d8576b"
            ],
            [
             0.6666666666666666,
             "#ed7953"
            ],
            [
             0.7777777777777778,
             "#fb9f3a"
            ],
            [
             0.8888888888888888,
             "#fdca26"
            ],
            [
             1,
             "#f0f921"
            ]
           ]
          },
          "colorway": [
           "#636efa",
           "#EF553B",
           "#00cc96",
           "#ab63fa",
           "#FFA15A",
           "#19d3f3",
           "#FF6692",
           "#B6E880",
           "#FF97FF",
           "#FECB52"
          ],
          "font": {
           "color": "#2a3f5f"
          },
          "geo": {
           "bgcolor": "white",
           "lakecolor": "white",
           "landcolor": "#E5ECF6",
           "showlakes": true,
           "showland": true,
           "subunitcolor": "white"
          },
          "hoverlabel": {
           "align": "left"
          },
          "hovermode": "closest",
          "mapbox": {
           "style": "light"
          },
          "paper_bgcolor": "white",
          "plot_bgcolor": "#E5ECF6",
          "polar": {
           "angularaxis": {
            "gridcolor": "white",
            "linecolor": "white",
            "ticks": ""
           },
           "bgcolor": "#E5ECF6",
           "radialaxis": {
            "gridcolor": "white",
            "linecolor": "white",
            "ticks": ""
           }
          },
          "scene": {
           "xaxis": {
            "backgroundcolor": "#E5ECF6",
            "gridcolor": "white",
            "gridwidth": 2,
            "linecolor": "white",
            "showbackground": true,
            "ticks": "",
            "zerolinecolor": "white"
           },
           "yaxis": {
            "backgroundcolor": "#E5ECF6",
            "gridcolor": "white",
            "gridwidth": 2,
            "linecolor": "white",
            "showbackground": true,
            "ticks": "",
            "zerolinecolor": "white"
           },
           "zaxis": {
            "backgroundcolor": "#E5ECF6",
            "gridcolor": "white",
            "gridwidth": 2,
            "linecolor": "white",
            "showbackground": true,
            "ticks": "",
            "zerolinecolor": "white"
           }
          },
          "shapedefaults": {
           "line": {
            "color": "#2a3f5f"
           }
          },
          "ternary": {
           "aaxis": {
            "gridcolor": "white",
            "linecolor": "white",
            "ticks": ""
           },
           "baxis": {
            "gridcolor": "white",
            "linecolor": "white",
            "ticks": ""
           },
           "bgcolor": "#E5ECF6",
           "caxis": {
            "gridcolor": "white",
            "linecolor": "white",
            "ticks": ""
           }
          },
          "title": {
           "x": 0.05
          },
          "xaxis": {
           "automargin": true,
           "gridcolor": "white",
           "linecolor": "white",
           "ticks": "",
           "title": {
            "standoff": 15
           },
           "zerolinecolor": "white",
           "zerolinewidth": 2
          },
          "yaxis": {
           "automargin": true,
           "gridcolor": "white",
           "linecolor": "white",
           "ticks": "",
           "title": {
            "standoff": 15
           },
           "zerolinecolor": "white",
           "zerolinewidth": 2
          }
         }
        },
        "title": {
         "text": "Nivel de satisfacción promedio por fuente de reclutamiento"
        },
        "xaxis": {
         "anchor": "y",
         "domain": [
          0,
          1
         ],
         "tickangle": -45,
         "title": {
          "text": "Fuente de Reclutamiento"
         }
        },
        "yaxis": {
         "anchor": "x",
         "domain": [
          0,
          1
         ],
         "title": {
          "text": "Satisfacción Promedio"
         }
        }
       }
      }
     },
     "metadata": {},
     "output_type": "display_data"
    }
   ],
   "source": [
    "# promedio de satisfacción por fuente de reclutamiento\n",
    "satisfaccion_promedio = (\n",
    "    df.groupby(\"RecruitmentSource\")[\"EmpSatisfaction\"].mean().reset_index()\n",
    ")\n",
    "\n",
    "# Gráfico de barras\n",
    "fig5 = px.bar(\n",
    "    satisfaccion_promedio,\n",
    "    x=\"RecruitmentSource\",\n",
    "    y=\"EmpSatisfaction\",\n",
    "    color=\"EmpSatisfaction\",  # el tono del color va a depender de la satisfacción\n",
    "    color_continuous_scale=\"Blues\",  # azul porque es como melancólico\n",
    "    title=\"Nivel de satisfacción promedio por fuente de reclutamiento\",\n",
    "    labels={\n",
    "        \"RecruitmentSource\": \"Fuente de Reclutamiento\",\n",
    "        \"EmpSatisfaction\": \"Satisfacción Promedio\",\n",
    "    },\n",
    "    hover_data={\"EmpSatisfaction\": \":.2f\"},\n",
    ")\n",
    "fig5.update_layout(xaxis_tickangle=-45)\n",
    "fig5.show()"
   ]
  },
  {
   "cell_type": "markdown",
   "id": "4f452929",
   "metadata": {},
   "source": [
    "Observación:\n",
    "La fuente “On-line Web application” destaca con una satisfacción promedio de 5, la más alta entre todas. En cambio, fuentes como “Other” y “Website” presentan los niveles más bajos, por debajo de 3.6."
   ]
  },
  {
   "cell_type": "markdown",
   "id": "00e55f0b",
   "metadata": {},
   "source": [
    "## 6. Distribución de salarios\n"
   ]
  },
  {
   "cell_type": "code",
   "execution_count": 112,
   "id": "a17817ef",
   "metadata": {},
   "outputs": [
    {
     "data": {
      "application/vnd.plotly.v1+json": {
       "config": {
        "plotlyServerURL": "https://plot.ly"
       },
       "data": [
        {
         "alignmentgroup": "True",
         "bingroup": "x",
         "hovertemplate": "Salario=%{x}<br>count=%{y}<extra></extra>",
         "legendgroup": "",
         "marker": {
          "color": "#636efa",
          "pattern": {
           "shape": ""
          }
         },
         "name": "",
         "nbinsx": 30,
         "offsetgroup": "",
         "orientation": "v",
         "showlegend": false,
         "type": "histogram",
         "x": [
          62506,
          104437,
          64955,
          64991,
          50825,
          57568,
          95660,
          59365,
          50178,
          92328,
          58709,
          52505,
          57834,
          110000,
          53250,
          62910,
          66441,
          106367,
          53492,
          63000,
          65288,
          63763,
          62162,
          72640,
          93396,
          52846,
          100031,
          54237,
          60380,
          64786,
          64816,
          68678,
          64066,
          59369,
          50373,
          63108,
          59144,
          68051,
          170500,
          63381,
          83552,
          56149,
          65729,
          57583,
          56294,
          56991,
          55722,
          101199,
          61568,
          96820,
          51259,
          59231,
          61584,
          46335,
          70621,
          74241,
          60070,
          54285,
          56847,
          60340,
          59124,
          99280,
          71776,
          65902,
          64057,
          53366,
          58530,
          72609,
          55965,
          70187,
          178000,
          99351,
          52249,
          53171,
          51337,
          57815,
          61555,
          74679,
          53018,
          61242,
          66825,
          48285,
          66149,
          62957,
          63813,
          99020,
          54828,
          64246,
          46998,
          70545,
          63478,
          97999,
          49920,
          55425,
          69340,
          64995,
          68182,
          83082,
          51908,
          60724,
          105700,
          61154,
          68999,
          50482,
          65310,
          46654,
          63973,
          93206,
          66074,
          46120,
          64520,
          61962,
          81584,
          63676,
          93046,
          64738,
          70468,
          77915,
          52624,
          63450,
          51777,
          67237,
          73330,
          52057,
          45395,
          62385,
          68407,
          105688,
          54132,
          55315,
          62810,
          63291,
          55688,
          83667,
          55800,
          58207,
          157000,
          72106,
          52599,
          63430,
          57575,
          50470,
          46664,
          48495,
          63695,
          62061,
          66738,
          52674,
          63051,
          47414,
          53060,
          68829,
          63515,
          108987,
          93093,
          53564,
          60270,
          45998,
          57954,
          74669,
          74226,
          93554,
          64724,
          47001,
          61844,
          46799,
          83363,
          95920,
          61729,
          45115,
          64971,
          61422,
          63353,
          89883,
          53180,
          86214,
          57975,
          88527,
          56147,
          50923,
          50750,
          52087,
          51920,
          63878,
          72992,
          55000,
          87565,
          65714,
          47961,
          63003,
          61355,
          60120,
          63682,
          63025,
          92989,
          90100,
          60754,
          67176,
          63025,
          75281,
          100416,
          74813,
          57859,
          58523,
          55875,
          113999,
          49773,
          62068,
          66541,
          50274,
          84903,
          107226,
          58371,
          58062,
          60446,
          65893,
          48513,
          220450,
          89292,
          45046
         ],
         "xaxis": "x",
         "yaxis": "y"
        }
       ],
       "layout": {
        "bargap": 0.1,
        "barmode": "relative",
        "legend": {
         "tracegroupgap": 0
        },
        "template": {
         "data": {
          "bar": [
           {
            "error_x": {
             "color": "#2a3f5f"
            },
            "error_y": {
             "color": "#2a3f5f"
            },
            "marker": {
             "line": {
              "color": "#E5ECF6",
              "width": 0.5
             },
             "pattern": {
              "fillmode": "overlay",
              "size": 10,
              "solidity": 0.2
             }
            },
            "type": "bar"
           }
          ],
          "barpolar": [
           {
            "marker": {
             "line": {
              "color": "#E5ECF6",
              "width": 0.5
             },
             "pattern": {
              "fillmode": "overlay",
              "size": 10,
              "solidity": 0.2
             }
            },
            "type": "barpolar"
           }
          ],
          "carpet": [
           {
            "aaxis": {
             "endlinecolor": "#2a3f5f",
             "gridcolor": "white",
             "linecolor": "white",
             "minorgridcolor": "white",
             "startlinecolor": "#2a3f5f"
            },
            "baxis": {
             "endlinecolor": "#2a3f5f",
             "gridcolor": "white",
             "linecolor": "white",
             "minorgridcolor": "white",
             "startlinecolor": "#2a3f5f"
            },
            "type": "carpet"
           }
          ],
          "choropleth": [
           {
            "colorbar": {
             "outlinewidth": 0,
             "ticks": ""
            },
            "type": "choropleth"
           }
          ],
          "contour": [
           {
            "colorbar": {
             "outlinewidth": 0,
             "ticks": ""
            },
            "colorscale": [
             [
              0,
              "#0d0887"
             ],
             [
              0.1111111111111111,
              "#46039f"
             ],
             [
              0.2222222222222222,
              "#7201a8"
             ],
             [
              0.3333333333333333,
              "#9c179e"
             ],
             [
              0.4444444444444444,
              "#bd3786"
             ],
             [
              0.5555555555555556,
              "#d8576b"
             ],
             [
              0.6666666666666666,
              "#ed7953"
             ],
             [
              0.7777777777777778,
              "#fb9f3a"
             ],
             [
              0.8888888888888888,
              "#fdca26"
             ],
             [
              1,
              "#f0f921"
             ]
            ],
            "type": "contour"
           }
          ],
          "contourcarpet": [
           {
            "colorbar": {
             "outlinewidth": 0,
             "ticks": ""
            },
            "type": "contourcarpet"
           }
          ],
          "heatmap": [
           {
            "colorbar": {
             "outlinewidth": 0,
             "ticks": ""
            },
            "colorscale": [
             [
              0,
              "#0d0887"
             ],
             [
              0.1111111111111111,
              "#46039f"
             ],
             [
              0.2222222222222222,
              "#7201a8"
             ],
             [
              0.3333333333333333,
              "#9c179e"
             ],
             [
              0.4444444444444444,
              "#bd3786"
             ],
             [
              0.5555555555555556,
              "#d8576b"
             ],
             [
              0.6666666666666666,
              "#ed7953"
             ],
             [
              0.7777777777777778,
              "#fb9f3a"
             ],
             [
              0.8888888888888888,
              "#fdca26"
             ],
             [
              1,
              "#f0f921"
             ]
            ],
            "type": "heatmap"
           }
          ],
          "heatmapgl": [
           {
            "colorbar": {
             "outlinewidth": 0,
             "ticks": ""
            },
            "colorscale": [
             [
              0,
              "#0d0887"
             ],
             [
              0.1111111111111111,
              "#46039f"
             ],
             [
              0.2222222222222222,
              "#7201a8"
             ],
             [
              0.3333333333333333,
              "#9c179e"
             ],
             [
              0.4444444444444444,
              "#bd3786"
             ],
             [
              0.5555555555555556,
              "#d8576b"
             ],
             [
              0.6666666666666666,
              "#ed7953"
             ],
             [
              0.7777777777777778,
              "#fb9f3a"
             ],
             [
              0.8888888888888888,
              "#fdca26"
             ],
             [
              1,
              "#f0f921"
             ]
            ],
            "type": "heatmapgl"
           }
          ],
          "histogram": [
           {
            "marker": {
             "pattern": {
              "fillmode": "overlay",
              "size": 10,
              "solidity": 0.2
             }
            },
            "type": "histogram"
           }
          ],
          "histogram2d": [
           {
            "colorbar": {
             "outlinewidth": 0,
             "ticks": ""
            },
            "colorscale": [
             [
              0,
              "#0d0887"
             ],
             [
              0.1111111111111111,
              "#46039f"
             ],
             [
              0.2222222222222222,
              "#7201a8"
             ],
             [
              0.3333333333333333,
              "#9c179e"
             ],
             [
              0.4444444444444444,
              "#bd3786"
             ],
             [
              0.5555555555555556,
              "#d8576b"
             ],
             [
              0.6666666666666666,
              "#ed7953"
             ],
             [
              0.7777777777777778,
              "#fb9f3a"
             ],
             [
              0.8888888888888888,
              "#fdca26"
             ],
             [
              1,
              "#f0f921"
             ]
            ],
            "type": "histogram2d"
           }
          ],
          "histogram2dcontour": [
           {
            "colorbar": {
             "outlinewidth": 0,
             "ticks": ""
            },
            "colorscale": [
             [
              0,
              "#0d0887"
             ],
             [
              0.1111111111111111,
              "#46039f"
             ],
             [
              0.2222222222222222,
              "#7201a8"
             ],
             [
              0.3333333333333333,
              "#9c179e"
             ],
             [
              0.4444444444444444,
              "#bd3786"
             ],
             [
              0.5555555555555556,
              "#d8576b"
             ],
             [
              0.6666666666666666,
              "#ed7953"
             ],
             [
              0.7777777777777778,
              "#fb9f3a"
             ],
             [
              0.8888888888888888,
              "#fdca26"
             ],
             [
              1,
              "#f0f921"
             ]
            ],
            "type": "histogram2dcontour"
           }
          ],
          "mesh3d": [
           {
            "colorbar": {
             "outlinewidth": 0,
             "ticks": ""
            },
            "type": "mesh3d"
           }
          ],
          "parcoords": [
           {
            "line": {
             "colorbar": {
              "outlinewidth": 0,
              "ticks": ""
             }
            },
            "type": "parcoords"
           }
          ],
          "pie": [
           {
            "automargin": true,
            "type": "pie"
           }
          ],
          "scatter": [
           {
            "fillpattern": {
             "fillmode": "overlay",
             "size": 10,
             "solidity": 0.2
            },
            "type": "scatter"
           }
          ],
          "scatter3d": [
           {
            "line": {
             "colorbar": {
              "outlinewidth": 0,
              "ticks": ""
             }
            },
            "marker": {
             "colorbar": {
              "outlinewidth": 0,
              "ticks": ""
             }
            },
            "type": "scatter3d"
           }
          ],
          "scattercarpet": [
           {
            "marker": {
             "colorbar": {
              "outlinewidth": 0,
              "ticks": ""
             }
            },
            "type": "scattercarpet"
           }
          ],
          "scattergeo": [
           {
            "marker": {
             "colorbar": {
              "outlinewidth": 0,
              "ticks": ""
             }
            },
            "type": "scattergeo"
           }
          ],
          "scattergl": [
           {
            "marker": {
             "colorbar": {
              "outlinewidth": 0,
              "ticks": ""
             }
            },
            "type": "scattergl"
           }
          ],
          "scattermapbox": [
           {
            "marker": {
             "colorbar": {
              "outlinewidth": 0,
              "ticks": ""
             }
            },
            "type": "scattermapbox"
           }
          ],
          "scatterpolar": [
           {
            "marker": {
             "colorbar": {
              "outlinewidth": 0,
              "ticks": ""
             }
            },
            "type": "scatterpolar"
           }
          ],
          "scatterpolargl": [
           {
            "marker": {
             "colorbar": {
              "outlinewidth": 0,
              "ticks": ""
             }
            },
            "type": "scatterpolargl"
           }
          ],
          "scatterternary": [
           {
            "marker": {
             "colorbar": {
              "outlinewidth": 0,
              "ticks": ""
             }
            },
            "type": "scatterternary"
           }
          ],
          "surface": [
           {
            "colorbar": {
             "outlinewidth": 0,
             "ticks": ""
            },
            "colorscale": [
             [
              0,
              "#0d0887"
             ],
             [
              0.1111111111111111,
              "#46039f"
             ],
             [
              0.2222222222222222,
              "#7201a8"
             ],
             [
              0.3333333333333333,
              "#9c179e"
             ],
             [
              0.4444444444444444,
              "#bd3786"
             ],
             [
              0.5555555555555556,
              "#d8576b"
             ],
             [
              0.6666666666666666,
              "#ed7953"
             ],
             [
              0.7777777777777778,
              "#fb9f3a"
             ],
             [
              0.8888888888888888,
              "#fdca26"
             ],
             [
              1,
              "#f0f921"
             ]
            ],
            "type": "surface"
           }
          ],
          "table": [
           {
            "cells": {
             "fill": {
              "color": "#EBF0F8"
             },
             "line": {
              "color": "white"
             }
            },
            "header": {
             "fill": {
              "color": "#C8D4E3"
             },
             "line": {
              "color": "white"
             }
            },
            "type": "table"
           }
          ]
         },
         "layout": {
          "annotationdefaults": {
           "arrowcolor": "#2a3f5f",
           "arrowhead": 0,
           "arrowwidth": 1
          },
          "autotypenumbers": "strict",
          "coloraxis": {
           "colorbar": {
            "outlinewidth": 0,
            "ticks": ""
           }
          },
          "colorscale": {
           "diverging": [
            [
             0,
             "#8e0152"
            ],
            [
             0.1,
             "#c51b7d"
            ],
            [
             0.2,
             "#de77ae"
            ],
            [
             0.3,
             "#f1b6da"
            ],
            [
             0.4,
             "#fde0ef"
            ],
            [
             0.5,
             "#f7f7f7"
            ],
            [
             0.6,
             "#e6f5d0"
            ],
            [
             0.7,
             "#b8e186"
            ],
            [
             0.8,
             "#7fbc41"
            ],
            [
             0.9,
             "#4d9221"
            ],
            [
             1,
             "#276419"
            ]
           ],
           "sequential": [
            [
             0,
             "#0d0887"
            ],
            [
             0.1111111111111111,
             "#46039f"
            ],
            [
             0.2222222222222222,
             "#7201a8"
            ],
            [
             0.3333333333333333,
             "#9c179e"
            ],
            [
             0.4444444444444444,
             "#bd3786"
            ],
            [
             0.5555555555555556,
             "#d8576b"
            ],
            [
             0.6666666666666666,
             "#ed7953"
            ],
            [
             0.7777777777777778,
             "#fb9f3a"
            ],
            [
             0.8888888888888888,
             "#fdca26"
            ],
            [
             1,
             "#f0f921"
            ]
           ],
           "sequentialminus": [
            [
             0,
             "#0d0887"
            ],
            [
             0.1111111111111111,
             "#46039f"
            ],
            [
             0.2222222222222222,
             "#7201a8"
            ],
            [
             0.3333333333333333,
             "#9c179e"
            ],
            [
             0.4444444444444444,
             "#bd3786"
            ],
            [
             0.5555555555555556,
             "#d8576b"
            ],
            [
             0.6666666666666666,
             "#ed7953"
            ],
            [
             0.7777777777777778,
             "#fb9f3a"
            ],
            [
             0.8888888888888888,
             "#fdca26"
            ],
            [
             1,
             "#f0f921"
            ]
           ]
          },
          "colorway": [
           "#636efa",
           "#EF553B",
           "#00cc96",
           "#ab63fa",
           "#FFA15A",
           "#19d3f3",
           "#FF6692",
           "#B6E880",
           "#FF97FF",
           "#FECB52"
          ],
          "font": {
           "color": "#2a3f5f"
          },
          "geo": {
           "bgcolor": "white",
           "lakecolor": "white",
           "landcolor": "#E5ECF6",
           "showlakes": true,
           "showland": true,
           "subunitcolor": "white"
          },
          "hoverlabel": {
           "align": "left"
          },
          "hovermode": "closest",
          "mapbox": {
           "style": "light"
          },
          "paper_bgcolor": "white",
          "plot_bgcolor": "#E5ECF6",
          "polar": {
           "angularaxis": {
            "gridcolor": "white",
            "linecolor": "white",
            "ticks": ""
           },
           "bgcolor": "#E5ECF6",
           "radialaxis": {
            "gridcolor": "white",
            "linecolor": "white",
            "ticks": ""
           }
          },
          "scene": {
           "xaxis": {
            "backgroundcolor": "#E5ECF6",
            "gridcolor": "white",
            "gridwidth": 2,
            "linecolor": "white",
            "showbackground": true,
            "ticks": "",
            "zerolinecolor": "white"
           },
           "yaxis": {
            "backgroundcolor": "#E5ECF6",
            "gridcolor": "white",
            "gridwidth": 2,
            "linecolor": "white",
            "showbackground": true,
            "ticks": "",
            "zerolinecolor": "white"
           },
           "zaxis": {
            "backgroundcolor": "#E5ECF6",
            "gridcolor": "white",
            "gridwidth": 2,
            "linecolor": "white",
            "showbackground": true,
            "ticks": "",
            "zerolinecolor": "white"
           }
          },
          "shapedefaults": {
           "line": {
            "color": "#2a3f5f"
           }
          },
          "ternary": {
           "aaxis": {
            "gridcolor": "white",
            "linecolor": "white",
            "ticks": ""
           },
           "baxis": {
            "gridcolor": "white",
            "linecolor": "white",
            "ticks": ""
           },
           "bgcolor": "#E5ECF6",
           "caxis": {
            "gridcolor": "white",
            "linecolor": "white",
            "ticks": ""
           }
          },
          "title": {
           "x": 0.05
          },
          "xaxis": {
           "automargin": true,
           "gridcolor": "white",
           "linecolor": "white",
           "ticks": "",
           "title": {
            "standoff": 15
           },
           "zerolinecolor": "white",
           "zerolinewidth": 2
          },
          "yaxis": {
           "automargin": true,
           "gridcolor": "white",
           "linecolor": "white",
           "ticks": "",
           "title": {
            "standoff": 15
           },
           "zerolinecolor": "white",
           "zerolinewidth": 2
          }
         }
        },
        "title": {
         "text": "Histograma de distribución de salarios por departamento"
        },
        "xaxis": {
         "anchor": "y",
         "domain": [
          0,
          1
         ],
         "title": {
          "text": "Salario"
         }
        },
        "yaxis": {
         "anchor": "x",
         "domain": [
          0,
          1
         ],
         "title": {
          "text": "count"
         }
        }
       }
      }
     },
     "metadata": {},
     "output_type": "display_data"
    }
   ],
   "source": [
    "fig6 = px.histogram(\n",
    "    df,\n",
    "    x=\"Salary\",\n",
    "    nbins=30,\n",
    "    title=\"Histograma de distribución de salarios por departamento\",\n",
    "    labels={\"Salary\": \"Salario\"},\n",
    ")\n",
    "fig6.update_layout(bargap=0.1)\n",
    "fig6.show()"
   ]
  },
  {
   "cell_type": "markdown",
   "id": "88a73b3a",
   "metadata": {},
   "source": [
    "Observación:\n",
    "La mayoría de los empleados percibe salarios entre $50,000 y $70,000 pesos. A partir de los $100,000, la frecuencia disminuye considerablemente, y muy pocos alcanzan sueldos superiores a $150,000."
   ]
  },
  {
   "cell_type": "markdown",
   "id": "1be292b1",
   "metadata": {},
   "source": [
    "## 7. Pie chart de puntajes de desempeño\n"
   ]
  },
  {
   "cell_type": "code",
   "execution_count": 113,
   "id": "895f58fc",
   "metadata": {},
   "outputs": [
    {
     "data": {
      "application/vnd.plotly.v1+json": {
       "config": {
        "plotlyServerURL": "https://plot.ly"
       },
       "data": [
        {
         "customdata": [
          [
           "Exceeds"
          ],
          [
           "Fully Meets"
          ],
          [
           "Fully Meets"
          ],
          [
           "Fully Meets"
          ],
          [
           "Fully Meets"
          ],
          [
           "Exceeds"
          ],
          [
           "Fully Meets"
          ],
          [
           "Fully Meets"
          ],
          [
           "Fully Meets"
          ],
          [
           "Exceeds"
          ],
          [
           "Fully Meets"
          ],
          [
           "Fully Meets"
          ],
          [
           "Fully Meets"
          ],
          [
           "Fully Meets"
          ],
          [
           "Fully Meets"
          ],
          [
           "Exceeds"
          ],
          [
           "Needs Improvement"
          ],
          [
           "Fully Meets"
          ],
          [
           "Fully Meets"
          ],
          [
           "Fully Meets"
          ],
          [
           "Fully Meets"
          ],
          [
           "Fully Meets"
          ],
          [
           "Fully Meets"
          ],
          [
           "Exceeds"
          ],
          [
           "Fully Meets"
          ],
          [
           "Fully Meets"
          ],
          [
           "Fully Meets"
          ],
          [
           "Fully Meets"
          ],
          [
           "Fully Meets"
          ],
          [
           "Fully Meets"
          ],
          [
           "Fully Meets"
          ],
          [
           "Fully Meets"
          ],
          [
           "Fully Meets"
          ],
          [
           "Fully Meets"
          ],
          [
           "Exceeds"
          ],
          [
           "Fully Meets"
          ],
          [
           "Needs Improvement"
          ],
          [
           "Needs Improvement"
          ],
          [
           "Exceeds"
          ],
          [
           "Fully Meets"
          ],
          [
           "Fully Meets"
          ],
          [
           "Fully Meets"
          ],
          [
           "Fully Meets"
          ],
          [
           "Fully Meets"
          ],
          [
           "Fully Meets"
          ],
          [
           "Fully Meets"
          ],
          [
           "Fully Meets"
          ],
          [
           "Fully Meets"
          ],
          [
           "PIP"
          ],
          [
           "Fully Meets"
          ],
          [
           "Fully Meets"
          ],
          [
           "PIP"
          ],
          [
           "Needs Improvement"
          ],
          [
           "Fully Meets"
          ],
          [
           "Fully Meets"
          ],
          [
           "Exceeds"
          ],
          [
           "Fully Meets"
          ],
          [
           "Fully Meets"
          ],
          [
           "PIP"
          ],
          [
           "Needs Improvement"
          ],
          [
           "Needs Improvement"
          ],
          [
           "Needs Improvement"
          ],
          [
           "Fully Meets"
          ],
          [
           "Fully Meets"
          ],
          [
           "PIP"
          ],
          [
           "PIP"
          ],
          [
           "Fully Meets"
          ],
          [
           "Fully Meets"
          ],
          [
           "Fully Meets"
          ],
          [
           "PIP"
          ],
          [
           "Exceeds"
          ],
          [
           "Fully Meets"
          ],
          [
           "Fully Meets"
          ],
          [
           "Fully Meets"
          ],
          [
           "Fully Meets"
          ],
          [
           "Exceeds"
          ],
          [
           "Fully Meets"
          ],
          [
           "Fully Meets"
          ],
          [
           "Fully Meets"
          ],
          [
           "Fully Meets"
          ],
          [
           "Fully Meets"
          ],
          [
           "Fully Meets"
          ],
          [
           "Fully Meets"
          ],
          [
           "Fully Meets"
          ],
          [
           "Fully Meets"
          ],
          [
           "Fully Meets"
          ],
          [
           "Fully Meets"
          ],
          [
           "Fully Meets"
          ],
          [
           "Fully Meets"
          ],
          [
           "Fully Meets"
          ],
          [
           "Fully Meets"
          ],
          [
           "Fully Meets"
          ],
          [
           "Fully Meets"
          ],
          [
           "Fully Meets"
          ],
          [
           "Fully Meets"
          ],
          [
           "Fully Meets"
          ],
          [
           "Fully Meets"
          ],
          [
           "Needs Improvement"
          ],
          [
           "Fully Meets"
          ],
          [
           "Exceeds"
          ],
          [
           "Fully Meets"
          ],
          [
           "Fully Meets"
          ],
          [
           "Fully Meets"
          ],
          [
           "Fully Meets"
          ],
          [
           "Fully Meets"
          ],
          [
           "Fully Meets"
          ],
          [
           "Fully Meets"
          ],
          [
           "Fully Meets"
          ],
          [
           "Fully Meets"
          ],
          [
           "Fully Meets"
          ],
          [
           "Fully Meets"
          ],
          [
           "Fully Meets"
          ],
          [
           "Fully Meets"
          ],
          [
           "Fully Meets"
          ],
          [
           "Fully Meets"
          ],
          [
           "Fully Meets"
          ],
          [
           "Fully Meets"
          ],
          [
           "Exceeds"
          ],
          [
           "Fully Meets"
          ],
          [
           "Fully Meets"
          ],
          [
           "Exceeds"
          ],
          [
           "Fully Meets"
          ],
          [
           "Exceeds"
          ],
          [
           "Fully Meets"
          ],
          [
           "Fully Meets"
          ],
          [
           "Fully Meets"
          ],
          [
           "Fully Meets"
          ],
          [
           "Fully Meets"
          ],
          [
           "Fully Meets"
          ],
          [
           "Fully Meets"
          ],
          [
           "Fully Meets"
          ],
          [
           "Fully Meets"
          ],
          [
           "Fully Meets"
          ],
          [
           "Fully Meets"
          ],
          [
           "PIP"
          ],
          [
           "Fully Meets"
          ],
          [
           "Needs Improvement"
          ],
          [
           "Fully Meets"
          ],
          [
           "Fully Meets"
          ],
          [
           "Fully Meets"
          ],
          [
           "Fully Meets"
          ],
          [
           "Fully Meets"
          ],
          [
           "Fully Meets"
          ],
          [
           "Fully Meets"
          ],
          [
           "Fully Meets"
          ],
          [
           "Fully Meets"
          ],
          [
           "Fully Meets"
          ],
          [
           "PIP"
          ],
          [
           "Fully Meets"
          ],
          [
           "Exceeds"
          ],
          [
           "Needs Improvement"
          ],
          [
           "Fully Meets"
          ],
          [
           "Fully Meets"
          ],
          [
           "Exceeds"
          ],
          [
           "Fully Meets"
          ],
          [
           "Needs Improvement"
          ],
          [
           "Needs Improvement"
          ],
          [
           "Fully Meets"
          ],
          [
           "Exceeds"
          ],
          [
           "Fully Meets"
          ],
          [
           "Fully Meets"
          ],
          [
           "Exceeds"
          ],
          [
           "Fully Meets"
          ],
          [
           "Fully Meets"
          ],
          [
           "Fully Meets"
          ],
          [
           "Fully Meets"
          ],
          [
           "Fully Meets"
          ],
          [
           "Fully Meets"
          ],
          [
           "Fully Meets"
          ],
          [
           "Fully Meets"
          ],
          [
           "Fully Meets"
          ],
          [
           "Needs Improvement"
          ],
          [
           "Exceeds"
          ],
          [
           "Fully Meets"
          ],
          [
           "Fully Meets"
          ],
          [
           "Fully Meets"
          ],
          [
           "Fully Meets"
          ],
          [
           "Fully Meets"
          ],
          [
           "Fully Meets"
          ],
          [
           "Fully Meets"
          ],
          [
           "Fully Meets"
          ],
          [
           "Fully Meets"
          ],
          [
           "Fully Meets"
          ],
          [
           "Fully Meets"
          ],
          [
           "Needs Improvement"
          ],
          [
           "Fully Meets"
          ],
          [
           "Fully Meets"
          ],
          [
           "Fully Meets"
          ],
          [
           "Fully Meets"
          ],
          [
           "Fully Meets"
          ],
          [
           "Fully Meets"
          ],
          [
           "Fully Meets"
          ],
          [
           "Fully Meets"
          ],
          [
           "Fully Meets"
          ],
          [
           "Exceeds"
          ],
          [
           "Fully Meets"
          ],
          [
           "Fully Meets"
          ],
          [
           "Fully Meets"
          ],
          [
           "Needs Improvement"
          ],
          [
           "Fully Meets"
          ],
          [
           "Fully Meets"
          ],
          [
           "Fully Meets"
          ],
          [
           "Fully Meets"
          ],
          [
           "Exceeds"
          ],
          [
           "Fully Meets"
          ],
          [
           "Fully Meets"
          ],
          [
           "Exceeds"
          ],
          [
           "Fully Meets"
          ],
          [
           "Fully Meets"
          ],
          [
           "Needs Improvement"
          ],
          [
           "Fully Meets"
          ],
          [
           "Fully Meets"
          ],
          [
           "Fully Meets"
          ],
          [
           "Fully Meets"
          ],
          [
           "Fully Meets"
          ],
          [
           "Fully Meets"
          ],
          [
           "PIP"
          ],
          [
           "Exceeds"
          ],
          [
           "Fully Meets"
          ],
          [
           "Fully Meets"
          ]
         ],
         "domain": {
          "x": [
           0,
           1
          ],
          "y": [
           0,
           1
          ]
         },
         "hole": 0.3,
         "hovertemplate": "PerformanceScore=%{customdata[0]}<extra></extra>",
         "labels": [
          "Exceeds",
          "Fully Meets",
          "Fully Meets",
          "Fully Meets",
          "Fully Meets",
          "Exceeds",
          "Fully Meets",
          "Fully Meets",
          "Fully Meets",
          "Exceeds",
          "Fully Meets",
          "Fully Meets",
          "Fully Meets",
          "Fully Meets",
          "Fully Meets",
          "Exceeds",
          "Needs Improvement",
          "Fully Meets",
          "Fully Meets",
          "Fully Meets",
          "Fully Meets",
          "Fully Meets",
          "Fully Meets",
          "Exceeds",
          "Fully Meets",
          "Fully Meets",
          "Fully Meets",
          "Fully Meets",
          "Fully Meets",
          "Fully Meets",
          "Fully Meets",
          "Fully Meets",
          "Fully Meets",
          "Fully Meets",
          "Exceeds",
          "Fully Meets",
          "Needs Improvement",
          "Needs Improvement",
          "Exceeds",
          "Fully Meets",
          "Fully Meets",
          "Fully Meets",
          "Fully Meets",
          "Fully Meets",
          "Fully Meets",
          "Fully Meets",
          "Fully Meets",
          "Fully Meets",
          "PIP",
          "Fully Meets",
          "Fully Meets",
          "PIP",
          "Needs Improvement",
          "Fully Meets",
          "Fully Meets",
          "Exceeds",
          "Fully Meets",
          "Fully Meets",
          "PIP",
          "Needs Improvement",
          "Needs Improvement",
          "Needs Improvement",
          "Fully Meets",
          "Fully Meets",
          "PIP",
          "PIP",
          "Fully Meets",
          "Fully Meets",
          "Fully Meets",
          "PIP",
          "Exceeds",
          "Fully Meets",
          "Fully Meets",
          "Fully Meets",
          "Fully Meets",
          "Exceeds",
          "Fully Meets",
          "Fully Meets",
          "Fully Meets",
          "Fully Meets",
          "Fully Meets",
          "Fully Meets",
          "Fully Meets",
          "Fully Meets",
          "Fully Meets",
          "Fully Meets",
          "Fully Meets",
          "Fully Meets",
          "Fully Meets",
          "Fully Meets",
          "Fully Meets",
          "Fully Meets",
          "Fully Meets",
          "Fully Meets",
          "Fully Meets",
          "Fully Meets",
          "Fully Meets",
          "Needs Improvement",
          "Fully Meets",
          "Exceeds",
          "Fully Meets",
          "Fully Meets",
          "Fully Meets",
          "Fully Meets",
          "Fully Meets",
          "Fully Meets",
          "Fully Meets",
          "Fully Meets",
          "Fully Meets",
          "Fully Meets",
          "Fully Meets",
          "Fully Meets",
          "Fully Meets",
          "Fully Meets",
          "Fully Meets",
          "Fully Meets",
          "Fully Meets",
          "Exceeds",
          "Fully Meets",
          "Fully Meets",
          "Exceeds",
          "Fully Meets",
          "Exceeds",
          "Fully Meets",
          "Fully Meets",
          "Fully Meets",
          "Fully Meets",
          "Fully Meets",
          "Fully Meets",
          "Fully Meets",
          "Fully Meets",
          "Fully Meets",
          "Fully Meets",
          "Fully Meets",
          "PIP",
          "Fully Meets",
          "Needs Improvement",
          "Fully Meets",
          "Fully Meets",
          "Fully Meets",
          "Fully Meets",
          "Fully Meets",
          "Fully Meets",
          "Fully Meets",
          "Fully Meets",
          "Fully Meets",
          "Fully Meets",
          "PIP",
          "Fully Meets",
          "Exceeds",
          "Needs Improvement",
          "Fully Meets",
          "Fully Meets",
          "Exceeds",
          "Fully Meets",
          "Needs Improvement",
          "Needs Improvement",
          "Fully Meets",
          "Exceeds",
          "Fully Meets",
          "Fully Meets",
          "Exceeds",
          "Fully Meets",
          "Fully Meets",
          "Fully Meets",
          "Fully Meets",
          "Fully Meets",
          "Fully Meets",
          "Fully Meets",
          "Fully Meets",
          "Fully Meets",
          "Needs Improvement",
          "Exceeds",
          "Fully Meets",
          "Fully Meets",
          "Fully Meets",
          "Fully Meets",
          "Fully Meets",
          "Fully Meets",
          "Fully Meets",
          "Fully Meets",
          "Fully Meets",
          "Fully Meets",
          "Fully Meets",
          "Needs Improvement",
          "Fully Meets",
          "Fully Meets",
          "Fully Meets",
          "Fully Meets",
          "Fully Meets",
          "Fully Meets",
          "Fully Meets",
          "Fully Meets",
          "Fully Meets",
          "Exceeds",
          "Fully Meets",
          "Fully Meets",
          "Fully Meets",
          "Needs Improvement",
          "Fully Meets",
          "Fully Meets",
          "Fully Meets",
          "Fully Meets",
          "Exceeds",
          "Fully Meets",
          "Fully Meets",
          "Exceeds",
          "Fully Meets",
          "Fully Meets",
          "Needs Improvement",
          "Fully Meets",
          "Fully Meets",
          "Fully Meets",
          "Fully Meets",
          "Fully Meets",
          "Fully Meets",
          "PIP",
          "Exceeds",
          "Fully Meets",
          "Fully Meets"
         ],
         "legendgroup": "",
         "marker": {
          "colors": [
           "#636efa",
           "#EF553B",
           "#EF553B",
           "#EF553B",
           "#EF553B",
           "#636efa",
           "#EF553B",
           "#EF553B",
           "#EF553B",
           "#636efa",
           "#EF553B",
           "#EF553B",
           "#EF553B",
           "#EF553B",
           "#EF553B",
           "#636efa",
           "#00cc96",
           "#EF553B",
           "#EF553B",
           "#EF553B",
           "#EF553B",
           "#EF553B",
           "#EF553B",
           "#636efa",
           "#EF553B",
           "#EF553B",
           "#EF553B",
           "#EF553B",
           "#EF553B",
           "#EF553B",
           "#EF553B",
           "#EF553B",
           "#EF553B",
           "#EF553B",
           "#636efa",
           "#EF553B",
           "#00cc96",
           "#00cc96",
           "#636efa",
           "#EF553B",
           "#EF553B",
           "#EF553B",
           "#EF553B",
           "#EF553B",
           "#EF553B",
           "#EF553B",
           "#EF553B",
           "#EF553B",
           "#ab63fa",
           "#EF553B",
           "#EF553B",
           "#ab63fa",
           "#00cc96",
           "#EF553B",
           "#EF553B",
           "#636efa",
           "#EF553B",
           "#EF553B",
           "#ab63fa",
           "#00cc96",
           "#00cc96",
           "#00cc96",
           "#EF553B",
           "#EF553B",
           "#ab63fa",
           "#ab63fa",
           "#EF553B",
           "#EF553B",
           "#EF553B",
           "#ab63fa",
           "#636efa",
           "#EF553B",
           "#EF553B",
           "#EF553B",
           "#EF553B",
           "#636efa",
           "#EF553B",
           "#EF553B",
           "#EF553B",
           "#EF553B",
           "#EF553B",
           "#EF553B",
           "#EF553B",
           "#EF553B",
           "#EF553B",
           "#EF553B",
           "#EF553B",
           "#EF553B",
           "#EF553B",
           "#EF553B",
           "#EF553B",
           "#EF553B",
           "#EF553B",
           "#EF553B",
           "#EF553B",
           "#EF553B",
           "#EF553B",
           "#00cc96",
           "#EF553B",
           "#636efa",
           "#EF553B",
           "#EF553B",
           "#EF553B",
           "#EF553B",
           "#EF553B",
           "#EF553B",
           "#EF553B",
           "#EF553B",
           "#EF553B",
           "#EF553B",
           "#EF553B",
           "#EF553B",
           "#EF553B",
           "#EF553B",
           "#EF553B",
           "#EF553B",
           "#EF553B",
           "#636efa",
           "#EF553B",
           "#EF553B",
           "#636efa",
           "#EF553B",
           "#636efa",
           "#EF553B",
           "#EF553B",
           "#EF553B",
           "#EF553B",
           "#EF553B",
           "#EF553B",
           "#EF553B",
           "#EF553B",
           "#EF553B",
           "#EF553B",
           "#EF553B",
           "#ab63fa",
           "#EF553B",
           "#00cc96",
           "#EF553B",
           "#EF553B",
           "#EF553B",
           "#EF553B",
           "#EF553B",
           "#EF553B",
           "#EF553B",
           "#EF553B",
           "#EF553B",
           "#EF553B",
           "#ab63fa",
           "#EF553B",
           "#636efa",
           "#00cc96",
           "#EF553B",
           "#EF553B",
           "#636efa",
           "#EF553B",
           "#00cc96",
           "#00cc96",
           "#EF553B",
           "#636efa",
           "#EF553B",
           "#EF553B",
           "#636efa",
           "#EF553B",
           "#EF553B",
           "#EF553B",
           "#EF553B",
           "#EF553B",
           "#EF553B",
           "#EF553B",
           "#EF553B",
           "#EF553B",
           "#00cc96",
           "#636efa",
           "#EF553B",
           "#EF553B",
           "#EF553B",
           "#EF553B",
           "#EF553B",
           "#EF553B",
           "#EF553B",
           "#EF553B",
           "#EF553B",
           "#EF553B",
           "#EF553B",
           "#00cc96",
           "#EF553B",
           "#EF553B",
           "#EF553B",
           "#EF553B",
           "#EF553B",
           "#EF553B",
           "#EF553B",
           "#EF553B",
           "#EF553B",
           "#636efa",
           "#EF553B",
           "#EF553B",
           "#EF553B",
           "#00cc96",
           "#EF553B",
           "#EF553B",
           "#EF553B",
           "#EF553B",
           "#636efa",
           "#EF553B",
           "#EF553B",
           "#636efa",
           "#EF553B",
           "#EF553B",
           "#00cc96",
           "#EF553B",
           "#EF553B",
           "#EF553B",
           "#EF553B",
           "#EF553B",
           "#EF553B",
           "#ab63fa",
           "#636efa",
           "#EF553B",
           "#EF553B"
          ]
         },
         "name": "",
         "pull": [
          0.05,
          0.05,
          0.05,
          0.05
         ],
         "showlegend": true,
         "textinfo": "percent+label",
         "type": "pie"
        }
       ],
       "layout": {
        "legend": {
         "tracegroupgap": 0
        },
        "template": {
         "data": {
          "bar": [
           {
            "error_x": {
             "color": "#2a3f5f"
            },
            "error_y": {
             "color": "#2a3f5f"
            },
            "marker": {
             "line": {
              "color": "#E5ECF6",
              "width": 0.5
             },
             "pattern": {
              "fillmode": "overlay",
              "size": 10,
              "solidity": 0.2
             }
            },
            "type": "bar"
           }
          ],
          "barpolar": [
           {
            "marker": {
             "line": {
              "color": "#E5ECF6",
              "width": 0.5
             },
             "pattern": {
              "fillmode": "overlay",
              "size": 10,
              "solidity": 0.2
             }
            },
            "type": "barpolar"
           }
          ],
          "carpet": [
           {
            "aaxis": {
             "endlinecolor": "#2a3f5f",
             "gridcolor": "white",
             "linecolor": "white",
             "minorgridcolor": "white",
             "startlinecolor": "#2a3f5f"
            },
            "baxis": {
             "endlinecolor": "#2a3f5f",
             "gridcolor": "white",
             "linecolor": "white",
             "minorgridcolor": "white",
             "startlinecolor": "#2a3f5f"
            },
            "type": "carpet"
           }
          ],
          "choropleth": [
           {
            "colorbar": {
             "outlinewidth": 0,
             "ticks": ""
            },
            "type": "choropleth"
           }
          ],
          "contour": [
           {
            "colorbar": {
             "outlinewidth": 0,
             "ticks": ""
            },
            "colorscale": [
             [
              0,
              "#0d0887"
             ],
             [
              0.1111111111111111,
              "#46039f"
             ],
             [
              0.2222222222222222,
              "#7201a8"
             ],
             [
              0.3333333333333333,
              "#9c179e"
             ],
             [
              0.4444444444444444,
              "#bd3786"
             ],
             [
              0.5555555555555556,
              "#d8576b"
             ],
             [
              0.6666666666666666,
              "#ed7953"
             ],
             [
              0.7777777777777778,
              "#fb9f3a"
             ],
             [
              0.8888888888888888,
              "#fdca26"
             ],
             [
              1,
              "#f0f921"
             ]
            ],
            "type": "contour"
           }
          ],
          "contourcarpet": [
           {
            "colorbar": {
             "outlinewidth": 0,
             "ticks": ""
            },
            "type": "contourcarpet"
           }
          ],
          "heatmap": [
           {
            "colorbar": {
             "outlinewidth": 0,
             "ticks": ""
            },
            "colorscale": [
             [
              0,
              "#0d0887"
             ],
             [
              0.1111111111111111,
              "#46039f"
             ],
             [
              0.2222222222222222,
              "#7201a8"
             ],
             [
              0.3333333333333333,
              "#9c179e"
             ],
             [
              0.4444444444444444,
              "#bd3786"
             ],
             [
              0.5555555555555556,
              "#d8576b"
             ],
             [
              0.6666666666666666,
              "#ed7953"
             ],
             [
              0.7777777777777778,
              "#fb9f3a"
             ],
             [
              0.8888888888888888,
              "#fdca26"
             ],
             [
              1,
              "#f0f921"
             ]
            ],
            "type": "heatmap"
           }
          ],
          "heatmapgl": [
           {
            "colorbar": {
             "outlinewidth": 0,
             "ticks": ""
            },
            "colorscale": [
             [
              0,
              "#0d0887"
             ],
             [
              0.1111111111111111,
              "#46039f"
             ],
             [
              0.2222222222222222,
              "#7201a8"
             ],
             [
              0.3333333333333333,
              "#9c179e"
             ],
             [
              0.4444444444444444,
              "#bd3786"
             ],
             [
              0.5555555555555556,
              "#d8576b"
             ],
             [
              0.6666666666666666,
              "#ed7953"
             ],
             [
              0.7777777777777778,
              "#fb9f3a"
             ],
             [
              0.8888888888888888,
              "#fdca26"
             ],
             [
              1,
              "#f0f921"
             ]
            ],
            "type": "heatmapgl"
           }
          ],
          "histogram": [
           {
            "marker": {
             "pattern": {
              "fillmode": "overlay",
              "size": 10,
              "solidity": 0.2
             }
            },
            "type": "histogram"
           }
          ],
          "histogram2d": [
           {
            "colorbar": {
             "outlinewidth": 0,
             "ticks": ""
            },
            "colorscale": [
             [
              0,
              "#0d0887"
             ],
             [
              0.1111111111111111,
              "#46039f"
             ],
             [
              0.2222222222222222,
              "#7201a8"
             ],
             [
              0.3333333333333333,
              "#9c179e"
             ],
             [
              0.4444444444444444,
              "#bd3786"
             ],
             [
              0.5555555555555556,
              "#d8576b"
             ],
             [
              0.6666666666666666,
              "#ed7953"
             ],
             [
              0.7777777777777778,
              "#fb9f3a"
             ],
             [
              0.8888888888888888,
              "#fdca26"
             ],
             [
              1,
              "#f0f921"
             ]
            ],
            "type": "histogram2d"
           }
          ],
          "histogram2dcontour": [
           {
            "colorbar": {
             "outlinewidth": 0,
             "ticks": ""
            },
            "colorscale": [
             [
              0,
              "#0d0887"
             ],
             [
              0.1111111111111111,
              "#46039f"
             ],
             [
              0.2222222222222222,
              "#7201a8"
             ],
             [
              0.3333333333333333,
              "#9c179e"
             ],
             [
              0.4444444444444444,
              "#bd3786"
             ],
             [
              0.5555555555555556,
              "#d8576b"
             ],
             [
              0.6666666666666666,
              "#ed7953"
             ],
             [
              0.7777777777777778,
              "#fb9f3a"
             ],
             [
              0.8888888888888888,
              "#fdca26"
             ],
             [
              1,
              "#f0f921"
             ]
            ],
            "type": "histogram2dcontour"
           }
          ],
          "mesh3d": [
           {
            "colorbar": {
             "outlinewidth": 0,
             "ticks": ""
            },
            "type": "mesh3d"
           }
          ],
          "parcoords": [
           {
            "line": {
             "colorbar": {
              "outlinewidth": 0,
              "ticks": ""
             }
            },
            "type": "parcoords"
           }
          ],
          "pie": [
           {
            "automargin": true,
            "type": "pie"
           }
          ],
          "scatter": [
           {
            "fillpattern": {
             "fillmode": "overlay",
             "size": 10,
             "solidity": 0.2
            },
            "type": "scatter"
           }
          ],
          "scatter3d": [
           {
            "line": {
             "colorbar": {
              "outlinewidth": 0,
              "ticks": ""
             }
            },
            "marker": {
             "colorbar": {
              "outlinewidth": 0,
              "ticks": ""
             }
            },
            "type": "scatter3d"
           }
          ],
          "scattercarpet": [
           {
            "marker": {
             "colorbar": {
              "outlinewidth": 0,
              "ticks": ""
             }
            },
            "type": "scattercarpet"
           }
          ],
          "scattergeo": [
           {
            "marker": {
             "colorbar": {
              "outlinewidth": 0,
              "ticks": ""
             }
            },
            "type": "scattergeo"
           }
          ],
          "scattergl": [
           {
            "marker": {
             "colorbar": {
              "outlinewidth": 0,
              "ticks": ""
             }
            },
            "type": "scattergl"
           }
          ],
          "scattermapbox": [
           {
            "marker": {
             "colorbar": {
              "outlinewidth": 0,
              "ticks": ""
             }
            },
            "type": "scattermapbox"
           }
          ],
          "scatterpolar": [
           {
            "marker": {
             "colorbar": {
              "outlinewidth": 0,
              "ticks": ""
             }
            },
            "type": "scatterpolar"
           }
          ],
          "scatterpolargl": [
           {
            "marker": {
             "colorbar": {
              "outlinewidth": 0,
              "ticks": ""
             }
            },
            "type": "scatterpolargl"
           }
          ],
          "scatterternary": [
           {
            "marker": {
             "colorbar": {
              "outlinewidth": 0,
              "ticks": ""
             }
            },
            "type": "scatterternary"
           }
          ],
          "surface": [
           {
            "colorbar": {
             "outlinewidth": 0,
             "ticks": ""
            },
            "colorscale": [
             [
              0,
              "#0d0887"
             ],
             [
              0.1111111111111111,
              "#46039f"
             ],
             [
              0.2222222222222222,
              "#7201a8"
             ],
             [
              0.3333333333333333,
              "#9c179e"
             ],
             [
              0.4444444444444444,
              "#bd3786"
             ],
             [
              0.5555555555555556,
              "#d8576b"
             ],
             [
              0.6666666666666666,
              "#ed7953"
             ],
             [
              0.7777777777777778,
              "#fb9f3a"
             ],
             [
              0.8888888888888888,
              "#fdca26"
             ],
             [
              1,
              "#f0f921"
             ]
            ],
            "type": "surface"
           }
          ],
          "table": [
           {
            "cells": {
             "fill": {
              "color": "#EBF0F8"
             },
             "line": {
              "color": "white"
             }
            },
            "header": {
             "fill": {
              "color": "#C8D4E3"
             },
             "line": {
              "color": "white"
             }
            },
            "type": "table"
           }
          ]
         },
         "layout": {
          "annotationdefaults": {
           "arrowcolor": "#2a3f5f",
           "arrowhead": 0,
           "arrowwidth": 1
          },
          "autotypenumbers": "strict",
          "coloraxis": {
           "colorbar": {
            "outlinewidth": 0,
            "ticks": ""
           }
          },
          "colorscale": {
           "diverging": [
            [
             0,
             "#8e0152"
            ],
            [
             0.1,
             "#c51b7d"
            ],
            [
             0.2,
             "#de77ae"
            ],
            [
             0.3,
             "#f1b6da"
            ],
            [
             0.4,
             "#fde0ef"
            ],
            [
             0.5,
             "#f7f7f7"
            ],
            [
             0.6,
             "#e6f5d0"
            ],
            [
             0.7,
             "#b8e186"
            ],
            [
             0.8,
             "#7fbc41"
            ],
            [
             0.9,
             "#4d9221"
            ],
            [
             1,
             "#276419"
            ]
           ],
           "sequential": [
            [
             0,
             "#0d0887"
            ],
            [
             0.1111111111111111,
             "#46039f"
            ],
            [
             0.2222222222222222,
             "#7201a8"
            ],
            [
             0.3333333333333333,
             "#9c179e"
            ],
            [
             0.4444444444444444,
             "#bd3786"
            ],
            [
             0.5555555555555556,
             "#d8576b"
            ],
            [
             0.6666666666666666,
             "#ed7953"
            ],
            [
             0.7777777777777778,
             "#fb9f3a"
            ],
            [
             0.8888888888888888,
             "#fdca26"
            ],
            [
             1,
             "#f0f921"
            ]
           ],
           "sequentialminus": [
            [
             0,
             "#0d0887"
            ],
            [
             0.1111111111111111,
             "#46039f"
            ],
            [
             0.2222222222222222,
             "#7201a8"
            ],
            [
             0.3333333333333333,
             "#9c179e"
            ],
            [
             0.4444444444444444,
             "#bd3786"
            ],
            [
             0.5555555555555556,
             "#d8576b"
            ],
            [
             0.6666666666666666,
             "#ed7953"
            ],
            [
             0.7777777777777778,
             "#fb9f3a"
            ],
            [
             0.8888888888888888,
             "#fdca26"
            ],
            [
             1,
             "#f0f921"
            ]
           ]
          },
          "colorway": [
           "#636efa",
           "#EF553B",
           "#00cc96",
           "#ab63fa",
           "#FFA15A",
           "#19d3f3",
           "#FF6692",
           "#B6E880",
           "#FF97FF",
           "#FECB52"
          ],
          "font": {
           "color": "#2a3f5f"
          },
          "geo": {
           "bgcolor": "white",
           "lakecolor": "white",
           "landcolor": "#E5ECF6",
           "showlakes": true,
           "showland": true,
           "subunitcolor": "white"
          },
          "hoverlabel": {
           "align": "left"
          },
          "hovermode": "closest",
          "mapbox": {
           "style": "light"
          },
          "paper_bgcolor": "white",
          "plot_bgcolor": "#E5ECF6",
          "polar": {
           "angularaxis": {
            "gridcolor": "white",
            "linecolor": "white",
            "ticks": ""
           },
           "bgcolor": "#E5ECF6",
           "radialaxis": {
            "gridcolor": "white",
            "linecolor": "white",
            "ticks": ""
           }
          },
          "scene": {
           "xaxis": {
            "backgroundcolor": "#E5ECF6",
            "gridcolor": "white",
            "gridwidth": 2,
            "linecolor": "white",
            "showbackground": true,
            "ticks": "",
            "zerolinecolor": "white"
           },
           "yaxis": {
            "backgroundcolor": "#E5ECF6",
            "gridcolor": "white",
            "gridwidth": 2,
            "linecolor": "white",
            "showbackground": true,
            "ticks": "",
            "zerolinecolor": "white"
           },
           "zaxis": {
            "backgroundcolor": "#E5ECF6",
            "gridcolor": "white",
            "gridwidth": 2,
            "linecolor": "white",
            "showbackground": true,
            "ticks": "",
            "zerolinecolor": "white"
           }
          },
          "shapedefaults": {
           "line": {
            "color": "#2a3f5f"
           }
          },
          "ternary": {
           "aaxis": {
            "gridcolor": "white",
            "linecolor": "white",
            "ticks": ""
           },
           "baxis": {
            "gridcolor": "white",
            "linecolor": "white",
            "ticks": ""
           },
           "bgcolor": "#E5ECF6",
           "caxis": {
            "gridcolor": "white",
            "linecolor": "white",
            "ticks": ""
           }
          },
          "title": {
           "x": 0.05
          },
          "xaxis": {
           "automargin": true,
           "gridcolor": "white",
           "linecolor": "white",
           "ticks": "",
           "title": {
            "standoff": 15
           },
           "zerolinecolor": "white",
           "zerolinewidth": 2
          },
          "yaxis": {
           "automargin": true,
           "gridcolor": "white",
           "linecolor": "white",
           "ticks": "",
           "title": {
            "standoff": 15
           },
           "zerolinecolor": "white",
           "zerolinewidth": 2
          }
         }
        },
        "title": {
         "text": "Distribución de puntajes de desempeño"
        }
       }
      }
     },
     "metadata": {},
     "output_type": "display_data"
    }
   ],
   "source": [
    "fig7 = px.pie(\n",
    "    df,\n",
    "    names=\"PerformanceScore\",\n",
    "    title=\"Distribución de puntajes de desempeño\",\n",
    "    color=\"PerformanceScore\",\n",
    "    hole=0.3,\n",
    ")\n",
    "fig7.update_traces(\n",
    "    textinfo=\"percent+label\", pull=[0.05] * df[\"PerformanceScore\"].nunique()\n",
    ")\n",
    "fig7.show()"
   ]
  },
  {
   "cell_type": "markdown",
   "id": "d5bada39",
   "metadata": {},
   "source": [
    "Observación:\n",
    "El 78% de los empleados cumple completamente con las expectativas (“Fully Meets”). Solo un 10.5% supera lo esperado (“Exceeds”) y menos del 12% requiere mejora o está en plan de mejora (“Needs Improvement” y “PIP”)."
   ]
  },
  {
   "cell_type": "markdown",
   "id": "f6e2742f",
   "metadata": {},
   "source": [
    "## 8. Departamentos con mayor número de empleados despedidos\n"
   ]
  },
  {
   "cell_type": "code",
   "execution_count": 114,
   "id": "5cab77fd",
   "metadata": {},
   "outputs": [
    {
     "data": {
      "application/vnd.plotly.v1+json": {
       "config": {
        "plotlyServerURL": "https://plot.ly"
       },
       "data": [
        {
         "alignmentgroup": "True",
         "hovertemplate": "Departamento=%{x}<br>Empleados Despedidos=%{marker.color}<extra></extra>",
         "legendgroup": "",
         "marker": {
          "color": [
           53,
           6,
           4,
           2,
           2
          ],
          "coloraxis": "coloraxis",
          "pattern": {
           "shape": ""
          }
         },
         "name": "",
         "offsetgroup": "",
         "orientation": "v",
         "showlegend": false,
         "textposition": "auto",
         "type": "bar",
         "x": [
          "Production       ",
          "IT/IS",
          "Software Engineering",
          "Sales",
          "Admin Offices"
         ],
         "xaxis": "x",
         "y": [
          53,
          6,
          4,
          2,
          2
         ],
         "yaxis": "y"
        }
       ],
       "layout": {
        "barmode": "relative",
        "coloraxis": {
         "colorbar": {
          "title": {
           "text": "Empleados Despedidos"
          }
         },
         "colorscale": [
          [
           0,
           "rgb(255,245,240)"
          ],
          [
           0.125,
           "rgb(254,224,210)"
          ],
          [
           0.25,
           "rgb(252,187,161)"
          ],
          [
           0.375,
           "rgb(252,146,114)"
          ],
          [
           0.5,
           "rgb(251,106,74)"
          ],
          [
           0.625,
           "rgb(239,59,44)"
          ],
          [
           0.75,
           "rgb(203,24,29)"
          ],
          [
           0.875,
           "rgb(165,15,21)"
          ],
          [
           1,
           "rgb(103,0,13)"
          ]
         ]
        },
        "legend": {
         "tracegroupgap": 0
        },
        "template": {
         "data": {
          "bar": [
           {
            "error_x": {
             "color": "#2a3f5f"
            },
            "error_y": {
             "color": "#2a3f5f"
            },
            "marker": {
             "line": {
              "color": "#E5ECF6",
              "width": 0.5
             },
             "pattern": {
              "fillmode": "overlay",
              "size": 10,
              "solidity": 0.2
             }
            },
            "type": "bar"
           }
          ],
          "barpolar": [
           {
            "marker": {
             "line": {
              "color": "#E5ECF6",
              "width": 0.5
             },
             "pattern": {
              "fillmode": "overlay",
              "size": 10,
              "solidity": 0.2
             }
            },
            "type": "barpolar"
           }
          ],
          "carpet": [
           {
            "aaxis": {
             "endlinecolor": "#2a3f5f",
             "gridcolor": "white",
             "linecolor": "white",
             "minorgridcolor": "white",
             "startlinecolor": "#2a3f5f"
            },
            "baxis": {
             "endlinecolor": "#2a3f5f",
             "gridcolor": "white",
             "linecolor": "white",
             "minorgridcolor": "white",
             "startlinecolor": "#2a3f5f"
            },
            "type": "carpet"
           }
          ],
          "choropleth": [
           {
            "colorbar": {
             "outlinewidth": 0,
             "ticks": ""
            },
            "type": "choropleth"
           }
          ],
          "contour": [
           {
            "colorbar": {
             "outlinewidth": 0,
             "ticks": ""
            },
            "colorscale": [
             [
              0,
              "#0d0887"
             ],
             [
              0.1111111111111111,
              "#46039f"
             ],
             [
              0.2222222222222222,
              "#7201a8"
             ],
             [
              0.3333333333333333,
              "#9c179e"
             ],
             [
              0.4444444444444444,
              "#bd3786"
             ],
             [
              0.5555555555555556,
              "#d8576b"
             ],
             [
              0.6666666666666666,
              "#ed7953"
             ],
             [
              0.7777777777777778,
              "#fb9f3a"
             ],
             [
              0.8888888888888888,
              "#fdca26"
             ],
             [
              1,
              "#f0f921"
             ]
            ],
            "type": "contour"
           }
          ],
          "contourcarpet": [
           {
            "colorbar": {
             "outlinewidth": 0,
             "ticks": ""
            },
            "type": "contourcarpet"
           }
          ],
          "heatmap": [
           {
            "colorbar": {
             "outlinewidth": 0,
             "ticks": ""
            },
            "colorscale": [
             [
              0,
              "#0d0887"
             ],
             [
              0.1111111111111111,
              "#46039f"
             ],
             [
              0.2222222222222222,
              "#7201a8"
             ],
             [
              0.3333333333333333,
              "#9c179e"
             ],
             [
              0.4444444444444444,
              "#bd3786"
             ],
             [
              0.5555555555555556,
              "#d8576b"
             ],
             [
              0.6666666666666666,
              "#ed7953"
             ],
             [
              0.7777777777777778,
              "#fb9f3a"
             ],
             [
              0.8888888888888888,
              "#fdca26"
             ],
             [
              1,
              "#f0f921"
             ]
            ],
            "type": "heatmap"
           }
          ],
          "heatmapgl": [
           {
            "colorbar": {
             "outlinewidth": 0,
             "ticks": ""
            },
            "colorscale": [
             [
              0,
              "#0d0887"
             ],
             [
              0.1111111111111111,
              "#46039f"
             ],
             [
              0.2222222222222222,
              "#7201a8"
             ],
             [
              0.3333333333333333,
              "#9c179e"
             ],
             [
              0.4444444444444444,
              "#bd3786"
             ],
             [
              0.5555555555555556,
              "#d8576b"
             ],
             [
              0.6666666666666666,
              "#ed7953"
             ],
             [
              0.7777777777777778,
              "#fb9f3a"
             ],
             [
              0.8888888888888888,
              "#fdca26"
             ],
             [
              1,
              "#f0f921"
             ]
            ],
            "type": "heatmapgl"
           }
          ],
          "histogram": [
           {
            "marker": {
             "pattern": {
              "fillmode": "overlay",
              "size": 10,
              "solidity": 0.2
             }
            },
            "type": "histogram"
           }
          ],
          "histogram2d": [
           {
            "colorbar": {
             "outlinewidth": 0,
             "ticks": ""
            },
            "colorscale": [
             [
              0,
              "#0d0887"
             ],
             [
              0.1111111111111111,
              "#46039f"
             ],
             [
              0.2222222222222222,
              "#7201a8"
             ],
             [
              0.3333333333333333,
              "#9c179e"
             ],
             [
              0.4444444444444444,
              "#bd3786"
             ],
             [
              0.5555555555555556,
              "#d8576b"
             ],
             [
              0.6666666666666666,
              "#ed7953"
             ],
             [
              0.7777777777777778,
              "#fb9f3a"
             ],
             [
              0.8888888888888888,
              "#fdca26"
             ],
             [
              1,
              "#f0f921"
             ]
            ],
            "type": "histogram2d"
           }
          ],
          "histogram2dcontour": [
           {
            "colorbar": {
             "outlinewidth": 0,
             "ticks": ""
            },
            "colorscale": [
             [
              0,
              "#0d0887"
             ],
             [
              0.1111111111111111,
              "#46039f"
             ],
             [
              0.2222222222222222,
              "#7201a8"
             ],
             [
              0.3333333333333333,
              "#9c179e"
             ],
             [
              0.4444444444444444,
              "#bd3786"
             ],
             [
              0.5555555555555556,
              "#d8576b"
             ],
             [
              0.6666666666666666,
              "#ed7953"
             ],
             [
              0.7777777777777778,
              "#fb9f3a"
             ],
             [
              0.8888888888888888,
              "#fdca26"
             ],
             [
              1,
              "#f0f921"
             ]
            ],
            "type": "histogram2dcontour"
           }
          ],
          "mesh3d": [
           {
            "colorbar": {
             "outlinewidth": 0,
             "ticks": ""
            },
            "type": "mesh3d"
           }
          ],
          "parcoords": [
           {
            "line": {
             "colorbar": {
              "outlinewidth": 0,
              "ticks": ""
             }
            },
            "type": "parcoords"
           }
          ],
          "pie": [
           {
            "automargin": true,
            "type": "pie"
           }
          ],
          "scatter": [
           {
            "fillpattern": {
             "fillmode": "overlay",
             "size": 10,
             "solidity": 0.2
            },
            "type": "scatter"
           }
          ],
          "scatter3d": [
           {
            "line": {
             "colorbar": {
              "outlinewidth": 0,
              "ticks": ""
             }
            },
            "marker": {
             "colorbar": {
              "outlinewidth": 0,
              "ticks": ""
             }
            },
            "type": "scatter3d"
           }
          ],
          "scattercarpet": [
           {
            "marker": {
             "colorbar": {
              "outlinewidth": 0,
              "ticks": ""
             }
            },
            "type": "scattercarpet"
           }
          ],
          "scattergeo": [
           {
            "marker": {
             "colorbar": {
              "outlinewidth": 0,
              "ticks": ""
             }
            },
            "type": "scattergeo"
           }
          ],
          "scattergl": [
           {
            "marker": {
             "colorbar": {
              "outlinewidth": 0,
              "ticks": ""
             }
            },
            "type": "scattergl"
           }
          ],
          "scattermapbox": [
           {
            "marker": {
             "colorbar": {
              "outlinewidth": 0,
              "ticks": ""
             }
            },
            "type": "scattermapbox"
           }
          ],
          "scatterpolar": [
           {
            "marker": {
             "colorbar": {
              "outlinewidth": 0,
              "ticks": ""
             }
            },
            "type": "scatterpolar"
           }
          ],
          "scatterpolargl": [
           {
            "marker": {
             "colorbar": {
              "outlinewidth": 0,
              "ticks": ""
             }
            },
            "type": "scatterpolargl"
           }
          ],
          "scatterternary": [
           {
            "marker": {
             "colorbar": {
              "outlinewidth": 0,
              "ticks": ""
             }
            },
            "type": "scatterternary"
           }
          ],
          "surface": [
           {
            "colorbar": {
             "outlinewidth": 0,
             "ticks": ""
            },
            "colorscale": [
             [
              0,
              "#0d0887"
             ],
             [
              0.1111111111111111,
              "#46039f"
             ],
             [
              0.2222222222222222,
              "#7201a8"
             ],
             [
              0.3333333333333333,
              "#9c179e"
             ],
             [
              0.4444444444444444,
              "#bd3786"
             ],
             [
              0.5555555555555556,
              "#d8576b"
             ],
             [
              0.6666666666666666,
              "#ed7953"
             ],
             [
              0.7777777777777778,
              "#fb9f3a"
             ],
             [
              0.8888888888888888,
              "#fdca26"
             ],
             [
              1,
              "#f0f921"
             ]
            ],
            "type": "surface"
           }
          ],
          "table": [
           {
            "cells": {
             "fill": {
              "color": "#EBF0F8"
             },
             "line": {
              "color": "white"
             }
            },
            "header": {
             "fill": {
              "color": "#C8D4E3"
             },
             "line": {
              "color": "white"
             }
            },
            "type": "table"
           }
          ]
         },
         "layout": {
          "annotationdefaults": {
           "arrowcolor": "#2a3f5f",
           "arrowhead": 0,
           "arrowwidth": 1
          },
          "autotypenumbers": "strict",
          "coloraxis": {
           "colorbar": {
            "outlinewidth": 0,
            "ticks": ""
           }
          },
          "colorscale": {
           "diverging": [
            [
             0,
             "#8e0152"
            ],
            [
             0.1,
             "#c51b7d"
            ],
            [
             0.2,
             "#de77ae"
            ],
            [
             0.3,
             "#f1b6da"
            ],
            [
             0.4,
             "#fde0ef"
            ],
            [
             0.5,
             "#f7f7f7"
            ],
            [
             0.6,
             "#e6f5d0"
            ],
            [
             0.7,
             "#b8e186"
            ],
            [
             0.8,
             "#7fbc41"
            ],
            [
             0.9,
             "#4d9221"
            ],
            [
             1,
             "#276419"
            ]
           ],
           "sequential": [
            [
             0,
             "#0d0887"
            ],
            [
             0.1111111111111111,
             "#46039f"
            ],
            [
             0.2222222222222222,
             "#7201a8"
            ],
            [
             0.3333333333333333,
             "#9c179e"
            ],
            [
             0.4444444444444444,
             "#bd3786"
            ],
            [
             0.5555555555555556,
             "#d8576b"
            ],
            [
             0.6666666666666666,
             "#ed7953"
            ],
            [
             0.7777777777777778,
             "#fb9f3a"
            ],
            [
             0.8888888888888888,
             "#fdca26"
            ],
            [
             1,
             "#f0f921"
            ]
           ],
           "sequentialminus": [
            [
             0,
             "#0d0887"
            ],
            [
             0.1111111111111111,
             "#46039f"
            ],
            [
             0.2222222222222222,
             "#7201a8"
            ],
            [
             0.3333333333333333,
             "#9c179e"
            ],
            [
             0.4444444444444444,
             "#bd3786"
            ],
            [
             0.5555555555555556,
             "#d8576b"
            ],
            [
             0.6666666666666666,
             "#ed7953"
            ],
            [
             0.7777777777777778,
             "#fb9f3a"
            ],
            [
             0.8888888888888888,
             "#fdca26"
            ],
            [
             1,
             "#f0f921"
            ]
           ]
          },
          "colorway": [
           "#636efa",
           "#EF553B",
           "#00cc96",
           "#ab63fa",
           "#FFA15A",
           "#19d3f3",
           "#FF6692",
           "#B6E880",
           "#FF97FF",
           "#FECB52"
          ],
          "font": {
           "color": "#2a3f5f"
          },
          "geo": {
           "bgcolor": "white",
           "lakecolor": "white",
           "landcolor": "#E5ECF6",
           "showlakes": true,
           "showland": true,
           "subunitcolor": "white"
          },
          "hoverlabel": {
           "align": "left"
          },
          "hovermode": "closest",
          "mapbox": {
           "style": "light"
          },
          "paper_bgcolor": "white",
          "plot_bgcolor": "#E5ECF6",
          "polar": {
           "angularaxis": {
            "gridcolor": "white",
            "linecolor": "white",
            "ticks": ""
           },
           "bgcolor": "#E5ECF6",
           "radialaxis": {
            "gridcolor": "white",
            "linecolor": "white",
            "ticks": ""
           }
          },
          "scene": {
           "xaxis": {
            "backgroundcolor": "#E5ECF6",
            "gridcolor": "white",
            "gridwidth": 2,
            "linecolor": "white",
            "showbackground": true,
            "ticks": "",
            "zerolinecolor": "white"
           },
           "yaxis": {
            "backgroundcolor": "#E5ECF6",
            "gridcolor": "white",
            "gridwidth": 2,
            "linecolor": "white",
            "showbackground": true,
            "ticks": "",
            "zerolinecolor": "white"
           },
           "zaxis": {
            "backgroundcolor": "#E5ECF6",
            "gridcolor": "white",
            "gridwidth": 2,
            "linecolor": "white",
            "showbackground": true,
            "ticks": "",
            "zerolinecolor": "white"
           }
          },
          "shapedefaults": {
           "line": {
            "color": "#2a3f5f"
           }
          },
          "ternary": {
           "aaxis": {
            "gridcolor": "white",
            "linecolor": "white",
            "ticks": ""
           },
           "baxis": {
            "gridcolor": "white",
            "linecolor": "white",
            "ticks": ""
           },
           "bgcolor": "#E5ECF6",
           "caxis": {
            "gridcolor": "white",
            "linecolor": "white",
            "ticks": ""
           }
          },
          "title": {
           "x": 0.05
          },
          "xaxis": {
           "automargin": true,
           "gridcolor": "white",
           "linecolor": "white",
           "ticks": "",
           "title": {
            "standoff": 15
           },
           "zerolinecolor": "white",
           "zerolinewidth": 2
          },
          "yaxis": {
           "automargin": true,
           "gridcolor": "white",
           "linecolor": "white",
           "ticks": "",
           "title": {
            "standoff": 15
           },
           "zerolinecolor": "white",
           "zerolinewidth": 2
          }
         }
        },
        "title": {
         "text": "Departamentos con mayor número de empleados despedidos"
        },
        "xaxis": {
         "anchor": "y",
         "domain": [
          0,
          1
         ],
         "tickangle": -45,
         "title": {
          "text": "Departamento"
         }
        },
        "yaxis": {
         "anchor": "x",
         "domain": [
          0,
          1
         ],
         "title": {
          "text": "Empleados Despedidos"
         }
        }
       }
      }
     },
     "metadata": {},
     "output_type": "display_data"
    }
   ],
   "source": [
    "# Filtrar empleados despedidos\n",
    "despedidos = df[df[\"Termd\"] == 1]\n",
    "\n",
    "# Contar empleados despedidos por departamento\n",
    "despedidos_por_departamento = despedidos[\"Department\"].value_counts().reset_index()\n",
    "despedidos_por_departamento.columns = [\"Department\", \"NumDespedidos\"]\n",
    "\n",
    "# Gráfico de barras\n",
    "fig8 = px.bar(\n",
    "    despedidos_por_departamento,\n",
    "    x=\"Department\",\n",
    "    y=\"NumDespedidos\",\n",
    "    color=\"NumDespedidos\",\n",
    "    color_continuous_scale=\"Reds\", # Escala de colores en tonos rojos porque es asociado a despidos y es grave\n",
    "    title=\"Departamentos con mayor número de empleados despedidos\",\n",
    "    labels={\"Department\": \"Departamento\", \"NumDespedidos\": \"Empleados Despedidos\"},\n",
    "    hover_data={\"NumDespedidos\": True},\n",
    ")\n",
    "fig8.update_layout(xaxis_tickangle=-45)\n",
    "fig8.show()"
   ]
  },
  {
   "cell_type": "markdown",
   "id": "52c0ccb1",
   "metadata": {},
   "source": [
    "Observación:\n",
    "El departamento de Production concentra más del 80% de los despidos registrados, con más de 50 empleados. Los demás departamentos tienen una cantidad mínima en comparación, lo que indica una posible alta rotación o restructuración específica en Production."
   ]
  },
  {
   "cell_type": "markdown",
   "id": "14176ee1",
   "metadata": {},
   "source": [
    "## 9. Relación entre antigüedad y salario\n"
   ]
  },
  {
   "cell_type": "code",
   "execution_count": 115,
   "id": "c1fa1b2e",
   "metadata": {},
   "outputs": [
    {
     "data": {
      "application/vnd.plotly.v1+json": {
       "config": {
        "plotlyServerURL": "https://plot.ly"
       },
       "data": [
        {
         "hovertemplate": "Antigüedad (Años)=%{x}<br>Salario=%{y}<extra></extra>",
         "legendgroup": "",
         "marker": {
          "color": "#636efa",
          "symbol": "circle"
         },
         "mode": "markers",
         "name": "",
         "orientation": "v",
         "showlegend": false,
         "type": "scatter",
         "x": [
          13.926027397260274,
          10.189041095890412,
          13.926027397260274,
          17.41917808219178,
          13.90958904109589,
          13.41095890410959,
          10.572602739726028,
          11.684931506849315,
          10.419178082191781,
          10.572602739726028,
          13.295890410958904,
          12.7013698630137,
          14.293150684931506,
          10.917808219178083,
          11.915068493150685,
          10.917808219178083,
          14.178082191780822,
          10.304109589041095,
          13.180821917808219,
          16.613698630136987,
          10.687671232876712,
          13.257534246575343,
          14.178082191780822,
          9.356164383561644,
          11.56986301369863,
          11.186301369863013,
          8.934246575342465,
          11.07123287671233,
          11.915068493150685,
          13.947945205479453,
          13.67945205479452,
          12.753424657534246,
          14.063013698630137,
          14.772602739726027,
          8.917808219178083,
          11.915068493150685,
          13.90958904109589,
          14.884931506849314,
          16.421917808219177,
          10.419178082191781,
          10.189041095890412,
          8.917808219178083,
          11.09041095890411,
          12.931506849315069,
          13.583561643835617,
          6.909589041095891,
          14.063013698630137,
          13.41095890410959,
          10.687671232876712,
          8.304109589041095,
          11.07123287671233,
          13.295890410958904,
          12.413698630136986,
          13.180821917808219,
          10.419178082191781,
          14.408219178082192,
          14.178082191780822,
          11.186301369863013,
          10.917808219178083,
          13.180821917808219,
          11.301369863013699,
          14.101369863013698,
          10.917808219178083,
          11.301369863013699,
          10.073972602739726,
          10.189041095890412,
          13.41095890410959,
          14.063013698630137,
          14.178082191780822,
          10.687671232876712,
          14.147945205479452,
          16.421917808219177,
          10.189041095890412,
          14.063013698630137,
          10.189041095890412,
          10.687671232876712,
          10.304109589041095,
          10.189041095890412,
          11.56986301369863,
          10.419178082191781,
          11.07123287671233,
          12.931506849315069,
          11.684931506849315,
          10.013698630136986,
          14.293150684931506,
          8.128767123287671,
          13.526027397260274,
          11.56986301369863,
          12.816438356164383,
          10.802739726027397,
          13.813698630136987,
          10.189041095890412,
          10.304109589041095,
          13.295890410958904,
          9,
          10.005479452054795,
          14.293150684931506,
          14.293150684931506,
          11.8,
          13.926027397260274,
          10.419178082191781,
          14.408219178082192,
          13.583561643835617,
          11.684931506849315,
          11.8,
          11.301369863013699,
          14.408219178082192,
          10.572602739726028,
          12.413698630136986,
          12.912328767123288,
          11.416438356164383,
          13.180821917808219,
          8.676712328767124,
          13.698630136986301,
          9.419178082191781,
          13.065753424657535,
          13.104109589041096,
          11.684931506849315,
          13.926027397260274,
          11.915068493150685,
          14.378082191780821,
          11.915068493150685,
          11.8,
          10.304109589041095,
          11.416438356164383,
          9.07123287671233,
          13.926027397260274,
          11.56986301369863,
          14.021917808219179,
          10.189041095890412,
          12.413698630136986,
          8.917808219178083,
          10.189041095890412,
          12.808219178082192,
          13.813698630136987,
          13.583561643835617,
          13.30958904109589,
          13.41095890410959,
          10.304109589041095,
          12.183561643835617,
          11.915068493150685,
          13.698630136986301,
          12.183561643835617,
          11.07123287671233,
          11.915068493150685,
          11.915068493150685,
          10.572602739726028,
          11.186301369863013,
          11.684931506849315,
          11.684931506849315,
          11.301369863013699,
          10.419178082191781,
          14.331506849315069,
          13.583561643835617,
          10.515068493150684,
          14.408219178082192,
          13.926027397260274,
          14.063013698630137,
          14.063013698630137,
          14.61917808219178,
          13.180821917808219,
          10.572602739726028,
          13.926027397260274,
          17.59178082191781,
          13.41095890410959,
          14.063013698630137,
          14.293150684931506,
          8.676712328767124,
          13.698630136986301,
          14.063013698630137,
          13.698630136986301,
          14.408219178082192,
          11.915068493150685,
          10.304109589041095,
          14.178082191780822,
          12.586301369863014,
          14.772602739726027,
          10.419178082191781,
          10.687671232876712,
          11.684931506849315,
          10.684931506849315,
          11.8,
          10.101369863013698,
          15.616438356164384,
          11.054794520547945,
          13.698630136986301,
          8.934246575342465,
          12.67945205479452,
          14.408219178082192,
          10.687671232876712,
          11.301369863013699,
          14.695890410958905,
          16.413698630136988,
          10.419178082191781,
          10.917808219178083,
          8.128767123287671,
          16.115068493150684,
          17.956164383561642,
          11.301369863013699,
          10.419178082191781,
          12.2986301369863,
          14.408219178082192,
          13.926027397260274,
          12.816438356164383,
          13.257534246575343,
          10.304109589041095,
          13.698630136986301,
          9.923287671232877,
          10.802739726027397,
          12.816438356164383,
          8.304109589041095,
          10.189041095890412,
          14.408219178082192,
          14.408219178082192,
          10.687671232876712,
          10.917808219178083,
          16.764383561643836,
          15.161643835616438,
          10.189041095890412,
          10.687671232876712
         ],
         "xaxis": "x",
         "y": [
          62506,
          104437,
          64955,
          64991,
          50825,
          57568,
          95660,
          59365,
          50178,
          92328,
          58709,
          52505,
          57834,
          110000,
          53250,
          62910,
          66441,
          106367,
          53492,
          63000,
          65288,
          63763,
          62162,
          72640,
          93396,
          52846,
          100031,
          54237,
          60380,
          64786,
          64816,
          68678,
          64066,
          59369,
          50373,
          63108,
          59144,
          68051,
          170500,
          63381,
          83552,
          56149,
          65729,
          57583,
          56294,
          56991,
          55722,
          101199,
          61568,
          96820,
          51259,
          59231,
          61584,
          46335,
          70621,
          74241,
          60070,
          54285,
          56847,
          60340,
          59124,
          99280,
          71776,
          65902,
          64057,
          53366,
          58530,
          72609,
          55965,
          70187,
          178000,
          99351,
          52249,
          53171,
          51337,
          57815,
          61555,
          74679,
          53018,
          61242,
          66825,
          48285,
          66149,
          62957,
          63813,
          99020,
          54828,
          64246,
          46998,
          70545,
          63478,
          97999,
          49920,
          55425,
          69340,
          64995,
          68182,
          83082,
          51908,
          60724,
          105700,
          61154,
          68999,
          50482,
          65310,
          46654,
          63973,
          93206,
          66074,
          46120,
          64520,
          61962,
          81584,
          63676,
          93046,
          64738,
          70468,
          77915,
          52624,
          63450,
          51777,
          67237,
          73330,
          52057,
          45395,
          62385,
          68407,
          105688,
          54132,
          55315,
          62810,
          63291,
          55688,
          83667,
          55800,
          58207,
          157000,
          72106,
          52599,
          63430,
          57575,
          50470,
          46664,
          48495,
          63695,
          62061,
          66738,
          52674,
          63051,
          47414,
          53060,
          68829,
          63515,
          108987,
          93093,
          53564,
          60270,
          45998,
          57954,
          74669,
          74226,
          93554,
          64724,
          47001,
          61844,
          46799,
          83363,
          95920,
          61729,
          45115,
          64971,
          61422,
          63353,
          89883,
          53180,
          86214,
          57975,
          88527,
          56147,
          50923,
          50750,
          52087,
          51920,
          63878,
          72992,
          55000,
          87565,
          65714,
          47961,
          63003,
          61355,
          60120,
          63682,
          63025,
          92989,
          90100,
          60754,
          67176,
          63025,
          75281,
          100416,
          74813,
          57859,
          58523,
          55875,
          113999,
          49773,
          62068,
          66541,
          50274,
          84903,
          107226,
          58371,
          58062,
          60446,
          65893,
          48513,
          220450,
          89292,
          45046
         ],
         "yaxis": "y"
        },
        {
         "hovertemplate": "<b>OLS trendline</b><br>Salary = -684.154 * Antiguedad_Anios + 76389.6<br>R<sup>2</sup>=0.003840<br><br>Antigüedad (Años)=%{x}<br>Salario=%{y} <b>(trend)</b><extra></extra>",
         "legendgroup": "",
         "marker": {
          "color": "#636efa",
          "symbol": "circle"
         },
         "mode": "lines",
         "name": "",
         "showlegend": false,
         "type": "scatter",
         "x": [
          6.909589041095891,
          8.128767123287671,
          8.128767123287671,
          8.304109589041095,
          8.304109589041095,
          8.676712328767124,
          8.676712328767124,
          8.917808219178083,
          8.917808219178083,
          8.917808219178083,
          8.934246575342465,
          8.934246575342465,
          9,
          9.07123287671233,
          9.356164383561644,
          9.419178082191781,
          9.923287671232877,
          10.005479452054795,
          10.013698630136986,
          10.073972602739726,
          10.101369863013698,
          10.189041095890412,
          10.189041095890412,
          10.189041095890412,
          10.189041095890412,
          10.189041095890412,
          10.189041095890412,
          10.189041095890412,
          10.189041095890412,
          10.189041095890412,
          10.189041095890412,
          10.189041095890412,
          10.304109589041095,
          10.304109589041095,
          10.304109589041095,
          10.304109589041095,
          10.304109589041095,
          10.304109589041095,
          10.304109589041095,
          10.419178082191781,
          10.419178082191781,
          10.419178082191781,
          10.419178082191781,
          10.419178082191781,
          10.419178082191781,
          10.419178082191781,
          10.419178082191781,
          10.419178082191781,
          10.515068493150684,
          10.572602739726028,
          10.572602739726028,
          10.572602739726028,
          10.572602739726028,
          10.572602739726028,
          10.684931506849315,
          10.687671232876712,
          10.687671232876712,
          10.687671232876712,
          10.687671232876712,
          10.687671232876712,
          10.687671232876712,
          10.687671232876712,
          10.687671232876712,
          10.802739726027397,
          10.802739726027397,
          10.917808219178083,
          10.917808219178083,
          10.917808219178083,
          10.917808219178083,
          10.917808219178083,
          10.917808219178083,
          11.054794520547945,
          11.07123287671233,
          11.07123287671233,
          11.07123287671233,
          11.07123287671233,
          11.09041095890411,
          11.186301369863013,
          11.186301369863013,
          11.186301369863013,
          11.301369863013699,
          11.301369863013699,
          11.301369863013699,
          11.301369863013699,
          11.301369863013699,
          11.301369863013699,
          11.416438356164383,
          11.416438356164383,
          11.56986301369863,
          11.56986301369863,
          11.56986301369863,
          11.56986301369863,
          11.684931506849315,
          11.684931506849315,
          11.684931506849315,
          11.684931506849315,
          11.684931506849315,
          11.684931506849315,
          11.684931506849315,
          11.8,
          11.8,
          11.8,
          11.8,
          11.915068493150685,
          11.915068493150685,
          11.915068493150685,
          11.915068493150685,
          11.915068493150685,
          11.915068493150685,
          11.915068493150685,
          11.915068493150685,
          11.915068493150685,
          12.183561643835617,
          12.183561643835617,
          12.2986301369863,
          12.413698630136986,
          12.413698630136986,
          12.413698630136986,
          12.586301369863014,
          12.67945205479452,
          12.7013698630137,
          12.753424657534246,
          12.808219178082192,
          12.816438356164383,
          12.816438356164383,
          12.816438356164383,
          12.912328767123288,
          12.931506849315069,
          12.931506849315069,
          13.065753424657535,
          13.104109589041096,
          13.180821917808219,
          13.180821917808219,
          13.180821917808219,
          13.180821917808219,
          13.180821917808219,
          13.257534246575343,
          13.257534246575343,
          13.295890410958904,
          13.295890410958904,
          13.295890410958904,
          13.30958904109589,
          13.41095890410959,
          13.41095890410959,
          13.41095890410959,
          13.41095890410959,
          13.41095890410959,
          13.526027397260274,
          13.583561643835617,
          13.583561643835617,
          13.583561643835617,
          13.583561643835617,
          13.67945205479452,
          13.698630136986301,
          13.698630136986301,
          13.698630136986301,
          13.698630136986301,
          13.698630136986301,
          13.698630136986301,
          13.813698630136987,
          13.813698630136987,
          13.90958904109589,
          13.90958904109589,
          13.926027397260274,
          13.926027397260274,
          13.926027397260274,
          13.926027397260274,
          13.926027397260274,
          13.926027397260274,
          13.926027397260274,
          13.926027397260274,
          13.947945205479453,
          14.021917808219179,
          14.063013698630137,
          14.063013698630137,
          14.063013698630137,
          14.063013698630137,
          14.063013698630137,
          14.063013698630137,
          14.063013698630137,
          14.063013698630137,
          14.101369863013698,
          14.147945205479452,
          14.178082191780822,
          14.178082191780822,
          14.178082191780822,
          14.178082191780822,
          14.178082191780822,
          14.293150684931506,
          14.293150684931506,
          14.293150684931506,
          14.293150684931506,
          14.293150684931506,
          14.331506849315069,
          14.378082191780821,
          14.408219178082192,
          14.408219178082192,
          14.408219178082192,
          14.408219178082192,
          14.408219178082192,
          14.408219178082192,
          14.408219178082192,
          14.408219178082192,
          14.408219178082192,
          14.61917808219178,
          14.695890410958905,
          14.772602739726027,
          14.772602739726027,
          14.884931506849314,
          15.161643835616438,
          15.616438356164384,
          16.115068493150684,
          16.413698630136988,
          16.421917808219177,
          16.421917808219177,
          16.613698630136987,
          16.764383561643836,
          17.41917808219178,
          17.59178082191781,
          17.956164383561642
         ],
         "xaxis": "x",
         "y": [
          71662.4030984748,
          70828.29702306399,
          70828.29702306399,
          70708.33569985884,
          70708.33569985884,
          70453.4178880479,
          70453.4178880479,
          70288.4710686408,
          70288.4710686408,
          70288.4710686408,
          70277.22469459033,
          70277.22469459033,
          70232.2391983884,
          70183.5049108363,
          69988.56776062794,
          69945.45666010109,
          69600.56785588629,
          69544.33598563386,
          69538.71279860863,
          69497.47609375686,
          69478.73213700605,
          69418.75147540348,
          69418.75147540348,
          69418.75147540348,
          69418.75147540348,
          69418.75147540348,
          69418.75147540348,
          69418.75147540348,
          69418.75147540348,
          69418.75147540348,
          69418.75147540348,
          69418.75147540348,
          69340.0268570501,
          69340.0268570501,
          69340.0268570501,
          69340.0268570501,
          69340.0268570501,
          69340.0268570501,
          69340.0268570501,
          69261.30223869672,
          69261.30223869672,
          69261.30223869672,
          69261.30223869672,
          69261.30223869672,
          69261.30223869672,
          69261.30223869672,
          69261.30223869672,
          69261.30223869672,
          69195.69839006891,
          69156.33608089222,
          69156.33608089222,
          69156.33608089222,
          69156.33608089222,
          69156.33608089222,
          69079.48585821391,
          69077.61146253884,
          69077.61146253884,
          69077.61146253884,
          69077.61146253884,
          69077.61146253884,
          69077.61146253884,
          69077.61146253884,
          69077.61146253884,
          68998.88684418546,
          68998.88684418546,
          68920.16222583207,
          68920.16222583207,
          68920.16222583207,
          68920.16222583207,
          68920.16222583207,
          68920.16222583207,
          68826.44244207806,
          68815.19606802757,
          68815.19606802757,
          68815.19606802757,
          68815.19606802757,
          68802.075298302,
          68736.4714496742,
          68736.4714496742,
          68736.4714496742,
          68657.74683132081,
          68657.74683132081,
          68657.74683132081,
          68657.74683132081,
          68657.74683132081,
          68657.74683132081,
          68579.02221296744,
          68579.02221296744,
          68474.05605516293,
          68474.05605516293,
          68474.05605516293,
          68474.05605516293,
          68395.33143680955,
          68395.33143680955,
          68395.33143680955,
          68395.33143680955,
          68395.33143680955,
          68395.33143680955,
          68395.33143680955,
          68316.60681845617,
          68316.60681845617,
          68316.60681845617,
          68316.60681845617,
          68237.88220010279,
          68237.88220010279,
          68237.88220010279,
          68237.88220010279,
          68237.88220010279,
          68237.88220010279,
          68237.88220010279,
          68237.88220010279,
          68237.88220010279,
          68054.19142394491,
          68054.19142394491,
          67975.46680559152,
          67896.74218723815,
          67896.74218723815,
          67896.74218723815,
          67778.65525970807,
          67714.92580675535,
          67699.9306413547,
          67664.31712352818,
          67626.82921002657,
          67621.20602300132,
          67621.20602300132,
          67621.20602300132,
          67555.6021743735,
          67542.48140464794,
          67542.48140464794,
          67450.636016569,
          67424.39447711786,
          67371.91139821561,
          67371.91139821561,
          67371.91139821561,
          67371.91139821561,
          67371.91139821561,
          67319.42831931336,
          67319.42831931336,
          67293.18677986224,
          67293.18677986224,
          67293.18677986224,
          67283.81480148683,
          67214.46216150885,
          67214.46216150885,
          67214.46216150885,
          67214.46216150885,
          67214.46216150885,
          67135.73754315548,
          67096.37523397879,
          67096.37523397879,
          67096.37523397879,
          67096.37523397879,
          67030.77138535098,
          67017.65061562542,
          67017.65061562542,
          67017.65061562542,
          67017.65061562542,
          67017.65061562542,
          67017.65061562542,
          66938.92599727203,
          66938.92599727203,
          66873.32214864422,
          66873.32214864422,
          66862.07577459373,
          66862.07577459373,
          66862.07577459373,
          66862.07577459373,
          66862.07577459373,
          66862.07577459373,
          66862.07577459373,
          66862.07577459373,
          66847.08060919309,
          66796.47192596592,
          66768.35599083971,
          66768.35599083971,
          66768.35599083971,
          66768.35599083971,
          66768.35599083971,
          66768.35599083971,
          66768.35599083971,
          66768.35599083971,
          66742.11445138858,
          66710.24972491221,
          66689.63137248633,
          66689.63137248633,
          66689.63137248633,
          66689.63137248633,
          66689.63137248633,
          66610.90675413296,
          66610.90675413296,
          66610.90675413296,
          66610.90675413296,
          66610.90675413296,
          66584.66521468182,
          66552.80048820545,
          66532.18213577957,
          66532.18213577957,
          66532.18213577957,
          66532.18213577957,
          66532.18213577957,
          66532.18213577957,
          66532.18213577957,
          66532.18213577957,
          66532.18213577957,
          66387.85366879837,
          66335.37058989612,
          66282.88751099387,
          66282.88751099387,
          66206.03728831558,
          66016.72332513245,
          65705.57364306909,
          65364.43363020445,
          65160.124501620674,
          65154.501314595436,
          65154.501314595436,
          65023.293617339805,
          64920.20185521038,
          64472.221288866145,
          64354.13436133608,
          64104.83973655038
         ],
         "yaxis": "y"
        }
       ],
       "layout": {
        "legend": {
         "tracegroupgap": 0
        },
        "template": {
         "data": {
          "bar": [
           {
            "error_x": {
             "color": "#2a3f5f"
            },
            "error_y": {
             "color": "#2a3f5f"
            },
            "marker": {
             "line": {
              "color": "#E5ECF6",
              "width": 0.5
             },
             "pattern": {
              "fillmode": "overlay",
              "size": 10,
              "solidity": 0.2
             }
            },
            "type": "bar"
           }
          ],
          "barpolar": [
           {
            "marker": {
             "line": {
              "color": "#E5ECF6",
              "width": 0.5
             },
             "pattern": {
              "fillmode": "overlay",
              "size": 10,
              "solidity": 0.2
             }
            },
            "type": "barpolar"
           }
          ],
          "carpet": [
           {
            "aaxis": {
             "endlinecolor": "#2a3f5f",
             "gridcolor": "white",
             "linecolor": "white",
             "minorgridcolor": "white",
             "startlinecolor": "#2a3f5f"
            },
            "baxis": {
             "endlinecolor": "#2a3f5f",
             "gridcolor": "white",
             "linecolor": "white",
             "minorgridcolor": "white",
             "startlinecolor": "#2a3f5f"
            },
            "type": "carpet"
           }
          ],
          "choropleth": [
           {
            "colorbar": {
             "outlinewidth": 0,
             "ticks": ""
            },
            "type": "choropleth"
           }
          ],
          "contour": [
           {
            "colorbar": {
             "outlinewidth": 0,
             "ticks": ""
            },
            "colorscale": [
             [
              0,
              "#0d0887"
             ],
             [
              0.1111111111111111,
              "#46039f"
             ],
             [
              0.2222222222222222,
              "#7201a8"
             ],
             [
              0.3333333333333333,
              "#9c179e"
             ],
             [
              0.4444444444444444,
              "#bd3786"
             ],
             [
              0.5555555555555556,
              "#d8576b"
             ],
             [
              0.6666666666666666,
              "#ed7953"
             ],
             [
              0.7777777777777778,
              "#fb9f3a"
             ],
             [
              0.8888888888888888,
              "#fdca26"
             ],
             [
              1,
              "#f0f921"
             ]
            ],
            "type": "contour"
           }
          ],
          "contourcarpet": [
           {
            "colorbar": {
             "outlinewidth": 0,
             "ticks": ""
            },
            "type": "contourcarpet"
           }
          ],
          "heatmap": [
           {
            "colorbar": {
             "outlinewidth": 0,
             "ticks": ""
            },
            "colorscale": [
             [
              0,
              "#0d0887"
             ],
             [
              0.1111111111111111,
              "#46039f"
             ],
             [
              0.2222222222222222,
              "#7201a8"
             ],
             [
              0.3333333333333333,
              "#9c179e"
             ],
             [
              0.4444444444444444,
              "#bd3786"
             ],
             [
              0.5555555555555556,
              "#d8576b"
             ],
             [
              0.6666666666666666,
              "#ed7953"
             ],
             [
              0.7777777777777778,
              "#fb9f3a"
             ],
             [
              0.8888888888888888,
              "#fdca26"
             ],
             [
              1,
              "#f0f921"
             ]
            ],
            "type": "heatmap"
           }
          ],
          "heatmapgl": [
           {
            "colorbar": {
             "outlinewidth": 0,
             "ticks": ""
            },
            "colorscale": [
             [
              0,
              "#0d0887"
             ],
             [
              0.1111111111111111,
              "#46039f"
             ],
             [
              0.2222222222222222,
              "#7201a8"
             ],
             [
              0.3333333333333333,
              "#9c179e"
             ],
             [
              0.4444444444444444,
              "#bd3786"
             ],
             [
              0.5555555555555556,
              "#d8576b"
             ],
             [
              0.6666666666666666,
              "#ed7953"
             ],
             [
              0.7777777777777778,
              "#fb9f3a"
             ],
             [
              0.8888888888888888,
              "#fdca26"
             ],
             [
              1,
              "#f0f921"
             ]
            ],
            "type": "heatmapgl"
           }
          ],
          "histogram": [
           {
            "marker": {
             "pattern": {
              "fillmode": "overlay",
              "size": 10,
              "solidity": 0.2
             }
            },
            "type": "histogram"
           }
          ],
          "histogram2d": [
           {
            "colorbar": {
             "outlinewidth": 0,
             "ticks": ""
            },
            "colorscale": [
             [
              0,
              "#0d0887"
             ],
             [
              0.1111111111111111,
              "#46039f"
             ],
             [
              0.2222222222222222,
              "#7201a8"
             ],
             [
              0.3333333333333333,
              "#9c179e"
             ],
             [
              0.4444444444444444,
              "#bd3786"
             ],
             [
              0.5555555555555556,
              "#d8576b"
             ],
             [
              0.6666666666666666,
              "#ed7953"
             ],
             [
              0.7777777777777778,
              "#fb9f3a"
             ],
             [
              0.8888888888888888,
              "#fdca26"
             ],
             [
              1,
              "#f0f921"
             ]
            ],
            "type": "histogram2d"
           }
          ],
          "histogram2dcontour": [
           {
            "colorbar": {
             "outlinewidth": 0,
             "ticks": ""
            },
            "colorscale": [
             [
              0,
              "#0d0887"
             ],
             [
              0.1111111111111111,
              "#46039f"
             ],
             [
              0.2222222222222222,
              "#7201a8"
             ],
             [
              0.3333333333333333,
              "#9c179e"
             ],
             [
              0.4444444444444444,
              "#bd3786"
             ],
             [
              0.5555555555555556,
              "#d8576b"
             ],
             [
              0.6666666666666666,
              "#ed7953"
             ],
             [
              0.7777777777777778,
              "#fb9f3a"
             ],
             [
              0.8888888888888888,
              "#fdca26"
             ],
             [
              1,
              "#f0f921"
             ]
            ],
            "type": "histogram2dcontour"
           }
          ],
          "mesh3d": [
           {
            "colorbar": {
             "outlinewidth": 0,
             "ticks": ""
            },
            "type": "mesh3d"
           }
          ],
          "parcoords": [
           {
            "line": {
             "colorbar": {
              "outlinewidth": 0,
              "ticks": ""
             }
            },
            "type": "parcoords"
           }
          ],
          "pie": [
           {
            "automargin": true,
            "type": "pie"
           }
          ],
          "scatter": [
           {
            "fillpattern": {
             "fillmode": "overlay",
             "size": 10,
             "solidity": 0.2
            },
            "type": "scatter"
           }
          ],
          "scatter3d": [
           {
            "line": {
             "colorbar": {
              "outlinewidth": 0,
              "ticks": ""
             }
            },
            "marker": {
             "colorbar": {
              "outlinewidth": 0,
              "ticks": ""
             }
            },
            "type": "scatter3d"
           }
          ],
          "scattercarpet": [
           {
            "marker": {
             "colorbar": {
              "outlinewidth": 0,
              "ticks": ""
             }
            },
            "type": "scattercarpet"
           }
          ],
          "scattergeo": [
           {
            "marker": {
             "colorbar": {
              "outlinewidth": 0,
              "ticks": ""
             }
            },
            "type": "scattergeo"
           }
          ],
          "scattergl": [
           {
            "marker": {
             "colorbar": {
              "outlinewidth": 0,
              "ticks": ""
             }
            },
            "type": "scattergl"
           }
          ],
          "scattermapbox": [
           {
            "marker": {
             "colorbar": {
              "outlinewidth": 0,
              "ticks": ""
             }
            },
            "type": "scattermapbox"
           }
          ],
          "scatterpolar": [
           {
            "marker": {
             "colorbar": {
              "outlinewidth": 0,
              "ticks": ""
             }
            },
            "type": "scatterpolar"
           }
          ],
          "scatterpolargl": [
           {
            "marker": {
             "colorbar": {
              "outlinewidth": 0,
              "ticks": ""
             }
            },
            "type": "scatterpolargl"
           }
          ],
          "scatterternary": [
           {
            "marker": {
             "colorbar": {
              "outlinewidth": 0,
              "ticks": ""
             }
            },
            "type": "scatterternary"
           }
          ],
          "surface": [
           {
            "colorbar": {
             "outlinewidth": 0,
             "ticks": ""
            },
            "colorscale": [
             [
              0,
              "#0d0887"
             ],
             [
              0.1111111111111111,
              "#46039f"
             ],
             [
              0.2222222222222222,
              "#7201a8"
             ],
             [
              0.3333333333333333,
              "#9c179e"
             ],
             [
              0.4444444444444444,
              "#bd3786"
             ],
             [
              0.5555555555555556,
              "#d8576b"
             ],
             [
              0.6666666666666666,
              "#ed7953"
             ],
             [
              0.7777777777777778,
              "#fb9f3a"
             ],
             [
              0.8888888888888888,
              "#fdca26"
             ],
             [
              1,
              "#f0f921"
             ]
            ],
            "type": "surface"
           }
          ],
          "table": [
           {
            "cells": {
             "fill": {
              "color": "#EBF0F8"
             },
             "line": {
              "color": "white"
             }
            },
            "header": {
             "fill": {
              "color": "#C8D4E3"
             },
             "line": {
              "color": "white"
             }
            },
            "type": "table"
           }
          ]
         },
         "layout": {
          "annotationdefaults": {
           "arrowcolor": "#2a3f5f",
           "arrowhead": 0,
           "arrowwidth": 1
          },
          "autotypenumbers": "strict",
          "coloraxis": {
           "colorbar": {
            "outlinewidth": 0,
            "ticks": ""
           }
          },
          "colorscale": {
           "diverging": [
            [
             0,
             "#8e0152"
            ],
            [
             0.1,
             "#c51b7d"
            ],
            [
             0.2,
             "#de77ae"
            ],
            [
             0.3,
             "#f1b6da"
            ],
            [
             0.4,
             "#fde0ef"
            ],
            [
             0.5,
             "#f7f7f7"
            ],
            [
             0.6,
             "#e6f5d0"
            ],
            [
             0.7,
             "#b8e186"
            ],
            [
             0.8,
             "#7fbc41"
            ],
            [
             0.9,
             "#4d9221"
            ],
            [
             1,
             "#276419"
            ]
           ],
           "sequential": [
            [
             0,
             "#0d0887"
            ],
            [
             0.1111111111111111,
             "#46039f"
            ],
            [
             0.2222222222222222,
             "#7201a8"
            ],
            [
             0.3333333333333333,
             "#9c179e"
            ],
            [
             0.4444444444444444,
             "#bd3786"
            ],
            [
             0.5555555555555556,
             "#d8576b"
            ],
            [
             0.6666666666666666,
             "#ed7953"
            ],
            [
             0.7777777777777778,
             "#fb9f3a"
            ],
            [
             0.8888888888888888,
             "#fdca26"
            ],
            [
             1,
             "#f0f921"
            ]
           ],
           "sequentialminus": [
            [
             0,
             "#0d0887"
            ],
            [
             0.1111111111111111,
             "#46039f"
            ],
            [
             0.2222222222222222,
             "#7201a8"
            ],
            [
             0.3333333333333333,
             "#9c179e"
            ],
            [
             0.4444444444444444,
             "#bd3786"
            ],
            [
             0.5555555555555556,
             "#d8576b"
            ],
            [
             0.6666666666666666,
             "#ed7953"
            ],
            [
             0.7777777777777778,
             "#fb9f3a"
            ],
            [
             0.8888888888888888,
             "#fdca26"
            ],
            [
             1,
             "#f0f921"
            ]
           ]
          },
          "colorway": [
           "#636efa",
           "#EF553B",
           "#00cc96",
           "#ab63fa",
           "#FFA15A",
           "#19d3f3",
           "#FF6692",
           "#B6E880",
           "#FF97FF",
           "#FECB52"
          ],
          "font": {
           "color": "#2a3f5f"
          },
          "geo": {
           "bgcolor": "white",
           "lakecolor": "white",
           "landcolor": "#E5ECF6",
           "showlakes": true,
           "showland": true,
           "subunitcolor": "white"
          },
          "hoverlabel": {
           "align": "left"
          },
          "hovermode": "closest",
          "mapbox": {
           "style": "light"
          },
          "paper_bgcolor": "white",
          "plot_bgcolor": "#E5ECF6",
          "polar": {
           "angularaxis": {
            "gridcolor": "white",
            "linecolor": "white",
            "ticks": ""
           },
           "bgcolor": "#E5ECF6",
           "radialaxis": {
            "gridcolor": "white",
            "linecolor": "white",
            "ticks": ""
           }
          },
          "scene": {
           "xaxis": {
            "backgroundcolor": "#E5ECF6",
            "gridcolor": "white",
            "gridwidth": 2,
            "linecolor": "white",
            "showbackground": true,
            "ticks": "",
            "zerolinecolor": "white"
           },
           "yaxis": {
            "backgroundcolor": "#E5ECF6",
            "gridcolor": "white",
            "gridwidth": 2,
            "linecolor": "white",
            "showbackground": true,
            "ticks": "",
            "zerolinecolor": "white"
           },
           "zaxis": {
            "backgroundcolor": "#E5ECF6",
            "gridcolor": "white",
            "gridwidth": 2,
            "linecolor": "white",
            "showbackground": true,
            "ticks": "",
            "zerolinecolor": "white"
           }
          },
          "shapedefaults": {
           "line": {
            "color": "#2a3f5f"
           }
          },
          "ternary": {
           "aaxis": {
            "gridcolor": "white",
            "linecolor": "white",
            "ticks": ""
           },
           "baxis": {
            "gridcolor": "white",
            "linecolor": "white",
            "ticks": ""
           },
           "bgcolor": "#E5ECF6",
           "caxis": {
            "gridcolor": "white",
            "linecolor": "white",
            "ticks": ""
           }
          },
          "title": {
           "x": 0.05
          },
          "xaxis": {
           "automargin": true,
           "gridcolor": "white",
           "linecolor": "white",
           "ticks": "",
           "title": {
            "standoff": 15
           },
           "zerolinecolor": "white",
           "zerolinewidth": 2
          },
          "yaxis": {
           "automargin": true,
           "gridcolor": "white",
           "linecolor": "white",
           "ticks": "",
           "title": {
            "standoff": 15
           },
           "zerolinecolor": "white",
           "zerolinewidth": 2
          }
         }
        },
        "title": {
         "text": "Relación entre Antigüedad y Salario"
        },
        "xaxis": {
         "anchor": "y",
         "domain": [
          0,
          1
         ],
         "title": {
          "text": "Antigüedad (Años)"
         }
        },
        "yaxis": {
         "anchor": "x",
         "domain": [
          0,
          1
         ],
         "title": {
          "text": "Salario"
         }
        }
       }
      }
     },
     "metadata": {},
     "output_type": "display_data"
    }
   ],
   "source": [
    "# Calculo de antigüedad \n",
    "df['DateofHire'] = pd.to_datetime(df['DateofHire'])\n",
    "df['Antiguedad_Anios'] = (pd.to_datetime(\"today\") - df['DateofHire']).dt.days / 365\n",
    "\n",
    "fig9 = px.scatter(\n",
    "    df,\n",
    "    x=\"Antiguedad_Anios\",\n",
    "    y=\"Salary\",\n",
    "    trendline=\"ols\",\n",
    "    labels={\"Antiguedad_Anios\": \"Antigüedad (Años)\", \"Salary\": \"Salario\"},\n",
    "    title=\"Relación entre Antigüedad y Salario\"\n",
    ")\n",
    "fig9.show()"
   ]
  },
  {
   "cell_type": "markdown",
   "id": "b77b2946",
   "metadata": {},
   "source": [
    "Observación:\n",
    "La gráfica muestra que no existe una relación clara entre mayor antigüedad y mayor salario. La mayoría de los empleados con más de 10 años en la empresa gana entre $50,000 y $75,000 pesos, y solo unos pocos superan los $150,000."
   ]
  },
  {
   "cell_type": "markdown",
   "id": "38f60e7d",
   "metadata": {},
   "source": [
    "## 10. Distribución de puestos por género\n"
   ]
  },
  {
   "cell_type": "code",
   "execution_count": 116,
   "id": "6ebedafa",
   "metadata": {},
   "outputs": [
    {
     "data": {
      "application/vnd.plotly.v1+json": {
       "config": {
        "plotlyServerURL": "https://plot.ly"
       },
       "data": [
        {
         "alignmentgroup": "True",
         "bingroup": "x",
         "hovertemplate": "Género=M <br>Puesto=%{x}<br>count=%{y}<extra></extra>",
         "legendgroup": "M ",
         "marker": {
          "color": "#636efa",
          "pattern": {
           "shape": ""
          }
         },
         "name": "M ",
         "offsetgroup": "M ",
         "orientation": "v",
         "showlegend": true,
         "type": "histogram",
         "x": [
          "Production Technician I",
          "Sr. DBA",
          "Production Technician I",
          "IT Support",
          "Data Analyst",
          "Production Technician I",
          "Production Technician I",
          "Production Technician I",
          "Production Technician I",
          "Production Technician II",
          "Production Technician II",
          "Production Manager",
          "Production Technician I",
          "Production Technician I",
          "IT Support",
          "Production Technician II",
          "Production Technician I",
          "Production Technician I",
          "Production Technician I",
          "Production Manager",
          "Director of Operations",
          "Data Analyst",
          "Production Technician II",
          "Production Technician I",
          "Production Technician I",
          "Area Sales Manager",
          "BI Developer",
          "Production Technician I",
          "Production Technician I",
          "Production Technician I",
          "Production Technician I",
          "Network Engineer",
          "Production Technician II",
          "Area Sales Manager",
          "IT Director",
          "Production Technician I",
          "IT Support",
          "Production Technician I",
          "Production Manager",
          "BI Developer",
          "Production Technician II",
          "Production Technician I",
          "Area Sales Manager",
          "Production Manager",
          "Production Technician I",
          "Area Sales Manager",
          "Production Technician I",
          "Production Technician I",
          "Sr. Network Engineer",
          "Production Technician I",
          "Accountant I",
          "Production Technician II",
          "Shared Services Manager",
          "Production Technician I",
          "Area Sales Manager",
          "Production Technician II",
          "Area Sales Manager",
          "Production Manager",
          "Production Technician II",
          "Production Technician II",
          "IT Manager - Infra",
          "Production Technician II",
          "Production Technician I",
          "Production Technician I",
          "Production Technician I",
          "Production Technician I",
          "Production Technician I",
          "Production Technician I",
          "Area Sales Manager",
          "Software Engineer",
          "Data Analyst",
          "Production Technician I",
          "Production Technician I",
          "Production Technician I",
          "Software Engineer",
          "Production Technician I",
          "Production Technician I",
          "Production Technician I",
          "Production Technician I",
          "Production Technician II",
          "Data Analyst ",
          "Sales Manager",
          "Sr. Network Engineer",
          "Accountant I",
          "Production Technician I",
          "Production Technician I",
          "Software Engineer",
          "BI Developer",
          "Production Technician II",
          "Network Engineer",
          "Software Engineer",
          "Production Technician I",
          "Area Sales Manager",
          "Database Administrator",
          "Production Technician II",
          "Senior BI Developer",
          "Production Technician I",
          "Production Technician II"
         ],
         "xaxis": "x",
         "yaxis": "y"
        },
        {
         "alignmentgroup": "True",
         "bingroup": "x",
         "hovertemplate": "Género=F<br>Puesto=%{x}<br>count=%{y}<extra></extra>",
         "legendgroup": "F",
         "marker": {
          "color": "#EF553B",
          "pattern": {
           "shape": ""
          }
         },
         "name": "F",
         "offsetgroup": "F",
         "orientation": "v",
         "showlegend": true,
         "type": "histogram",
         "x": [
          "Production Technician II",
          "Production Technician I",
          "Production Technician I",
          "Production Technician I",
          "Software Engineer",
          "Database Administrator",
          "Production Technician I",
          "Production Technician II",
          "Sr. Accountant",
          "Production Technician I",
          "Accountant I",
          "Production Technician II",
          "Software Engineer",
          "Sr. DBA",
          "Production Technician I",
          "Production Technician I",
          "Production Technician I",
          "Production Technician II",
          "Production Technician I",
          "Production Technician I",
          "Sales Manager",
          "Production Technician I",
          "Software Engineer",
          "Area Sales Manager",
          "Production Technician I",
          "Production Technician I",
          "IT Support",
          "Area Sales Manager",
          "Production Technician I",
          "Production Technician II",
          "Production Technician I",
          "Software Engineer",
          "Production Technician II",
          "Production Technician II",
          "Production Technician I",
          "Production Technician II",
          "Sr. Accountant",
          "Production Technician I",
          "Production Technician I",
          "Production Technician I",
          "Area Sales Manager",
          "Production Technician I",
          "IT Support",
          "Production Technician II",
          "Production Technician II",
          "Production Technician I",
          "Production Technician I",
          "Production Technician II",
          "Database Administrator",
          "Administrative Assistant",
          "Production Technician I",
          "Production Technician II",
          "Production Technician II",
          "Production Technician II",
          "Production Technician I",
          "Production Technician II",
          "Database Administrator",
          "Production Technician I",
          "Sales Manager",
          "Production Technician II",
          "Senior BI Developer",
          "Production Technician I",
          "Production Manager",
          "Production Technician I",
          "IT Support",
          "Production Technician II",
          "Production Technician II",
          "Production Technician I",
          "Production Technician I",
          "Production Technician II",
          "Production Technician II",
          "Software Engineer",
          "Production Technician I",
          "Production Technician II",
          "Production Technician I",
          "Production Technician I",
          "Network Engineer",
          "Production Technician I",
          "Area Sales Manager",
          "Production Technician I",
          "Production Technician II",
          "Production Technician I",
          "Area Sales Manager",
          "Production Technician I",
          "Production Technician II",
          "Production Technician I",
          "Production Technician II",
          "Production Manager",
          "Production Technician II",
          "Data Analyst",
          "Area Sales Manager",
          "Production Technician I",
          "BI Developer",
          "Production Technician II",
          "Production Technician I",
          "Data Analyst",
          "Software Engineer",
          "Production Technician I",
          "Production Technician I",
          "Network Engineer",
          "Production Technician I",
          "Administrative Assistant",
          "Production Technician II",
          "Administrative Assistant",
          "Production Manager",
          "Production Technician I",
          "Area Sales Manager",
          "Production Manager",
          "Production Technician I",
          "Production Technician I",
          "Production Technician II",
          "Area Sales Manager",
          "Production Technician I",
          "Production Technician I",
          "Production Technician I",
          "Sr. Network Engineer",
          "Production Technician I",
          "Production Technician II",
          "Production Technician I",
          "CIO",
          "Data Analyst",
          "Production Technician I"
         ],
         "xaxis": "x",
         "yaxis": "y"
        }
       ],
       "layout": {
        "barmode": "group",
        "legend": {
         "title": {
          "text": "Género"
         },
         "tracegroupgap": 0
        },
        "template": {
         "data": {
          "bar": [
           {
            "error_x": {
             "color": "#2a3f5f"
            },
            "error_y": {
             "color": "#2a3f5f"
            },
            "marker": {
             "line": {
              "color": "#E5ECF6",
              "width": 0.5
             },
             "pattern": {
              "fillmode": "overlay",
              "size": 10,
              "solidity": 0.2
             }
            },
            "type": "bar"
           }
          ],
          "barpolar": [
           {
            "marker": {
             "line": {
              "color": "#E5ECF6",
              "width": 0.5
             },
             "pattern": {
              "fillmode": "overlay",
              "size": 10,
              "solidity": 0.2
             }
            },
            "type": "barpolar"
           }
          ],
          "carpet": [
           {
            "aaxis": {
             "endlinecolor": "#2a3f5f",
             "gridcolor": "white",
             "linecolor": "white",
             "minorgridcolor": "white",
             "startlinecolor": "#2a3f5f"
            },
            "baxis": {
             "endlinecolor": "#2a3f5f",
             "gridcolor": "white",
             "linecolor": "white",
             "minorgridcolor": "white",
             "startlinecolor": "#2a3f5f"
            },
            "type": "carpet"
           }
          ],
          "choropleth": [
           {
            "colorbar": {
             "outlinewidth": 0,
             "ticks": ""
            },
            "type": "choropleth"
           }
          ],
          "contour": [
           {
            "colorbar": {
             "outlinewidth": 0,
             "ticks": ""
            },
            "colorscale": [
             [
              0,
              "#0d0887"
             ],
             [
              0.1111111111111111,
              "#46039f"
             ],
             [
              0.2222222222222222,
              "#7201a8"
             ],
             [
              0.3333333333333333,
              "#9c179e"
             ],
             [
              0.4444444444444444,
              "#bd3786"
             ],
             [
              0.5555555555555556,
              "#d8576b"
             ],
             [
              0.6666666666666666,
              "#ed7953"
             ],
             [
              0.7777777777777778,
              "#fb9f3a"
             ],
             [
              0.8888888888888888,
              "#fdca26"
             ],
             [
              1,
              "#f0f921"
             ]
            ],
            "type": "contour"
           }
          ],
          "contourcarpet": [
           {
            "colorbar": {
             "outlinewidth": 0,
             "ticks": ""
            },
            "type": "contourcarpet"
           }
          ],
          "heatmap": [
           {
            "colorbar": {
             "outlinewidth": 0,
             "ticks": ""
            },
            "colorscale": [
             [
              0,
              "#0d0887"
             ],
             [
              0.1111111111111111,
              "#46039f"
             ],
             [
              0.2222222222222222,
              "#7201a8"
             ],
             [
              0.3333333333333333,
              "#9c179e"
             ],
             [
              0.4444444444444444,
              "#bd3786"
             ],
             [
              0.5555555555555556,
              "#d8576b"
             ],
             [
              0.6666666666666666,
              "#ed7953"
             ],
             [
              0.7777777777777778,
              "#fb9f3a"
             ],
             [
              0.8888888888888888,
              "#fdca26"
             ],
             [
              1,
              "#f0f921"
             ]
            ],
            "type": "heatmap"
           }
          ],
          "heatmapgl": [
           {
            "colorbar": {
             "outlinewidth": 0,
             "ticks": ""
            },
            "colorscale": [
             [
              0,
              "#0d0887"
             ],
             [
              0.1111111111111111,
              "#46039f"
             ],
             [
              0.2222222222222222,
              "#7201a8"
             ],
             [
              0.3333333333333333,
              "#9c179e"
             ],
             [
              0.4444444444444444,
              "#bd3786"
             ],
             [
              0.5555555555555556,
              "#d8576b"
             ],
             [
              0.6666666666666666,
              "#ed7953"
             ],
             [
              0.7777777777777778,
              "#fb9f3a"
             ],
             [
              0.8888888888888888,
              "#fdca26"
             ],
             [
              1,
              "#f0f921"
             ]
            ],
            "type": "heatmapgl"
           }
          ],
          "histogram": [
           {
            "marker": {
             "pattern": {
              "fillmode": "overlay",
              "size": 10,
              "solidity": 0.2
             }
            },
            "type": "histogram"
           }
          ],
          "histogram2d": [
           {
            "colorbar": {
             "outlinewidth": 0,
             "ticks": ""
            },
            "colorscale": [
             [
              0,
              "#0d0887"
             ],
             [
              0.1111111111111111,
              "#46039f"
             ],
             [
              0.2222222222222222,
              "#7201a8"
             ],
             [
              0.3333333333333333,
              "#9c179e"
             ],
             [
              0.4444444444444444,
              "#bd3786"
             ],
             [
              0.5555555555555556,
              "#d8576b"
             ],
             [
              0.6666666666666666,
              "#ed7953"
             ],
             [
              0.7777777777777778,
              "#fb9f3a"
             ],
             [
              0.8888888888888888,
              "#fdca26"
             ],
             [
              1,
              "#f0f921"
             ]
            ],
            "type": "histogram2d"
           }
          ],
          "histogram2dcontour": [
           {
            "colorbar": {
             "outlinewidth": 0,
             "ticks": ""
            },
            "colorscale": [
             [
              0,
              "#0d0887"
             ],
             [
              0.1111111111111111,
              "#46039f"
             ],
             [
              0.2222222222222222,
              "#7201a8"
             ],
             [
              0.3333333333333333,
              "#9c179e"
             ],
             [
              0.4444444444444444,
              "#bd3786"
             ],
             [
              0.5555555555555556,
              "#d8576b"
             ],
             [
              0.6666666666666666,
              "#ed7953"
             ],
             [
              0.7777777777777778,
              "#fb9f3a"
             ],
             [
              0.8888888888888888,
              "#fdca26"
             ],
             [
              1,
              "#f0f921"
             ]
            ],
            "type": "histogram2dcontour"
           }
          ],
          "mesh3d": [
           {
            "colorbar": {
             "outlinewidth": 0,
             "ticks": ""
            },
            "type": "mesh3d"
           }
          ],
          "parcoords": [
           {
            "line": {
             "colorbar": {
              "outlinewidth": 0,
              "ticks": ""
             }
            },
            "type": "parcoords"
           }
          ],
          "pie": [
           {
            "automargin": true,
            "type": "pie"
           }
          ],
          "scatter": [
           {
            "fillpattern": {
             "fillmode": "overlay",
             "size": 10,
             "solidity": 0.2
            },
            "type": "scatter"
           }
          ],
          "scatter3d": [
           {
            "line": {
             "colorbar": {
              "outlinewidth": 0,
              "ticks": ""
             }
            },
            "marker": {
             "colorbar": {
              "outlinewidth": 0,
              "ticks": ""
             }
            },
            "type": "scatter3d"
           }
          ],
          "scattercarpet": [
           {
            "marker": {
             "colorbar": {
              "outlinewidth": 0,
              "ticks": ""
             }
            },
            "type": "scattercarpet"
           }
          ],
          "scattergeo": [
           {
            "marker": {
             "colorbar": {
              "outlinewidth": 0,
              "ticks": ""
             }
            },
            "type": "scattergeo"
           }
          ],
          "scattergl": [
           {
            "marker": {
             "colorbar": {
              "outlinewidth": 0,
              "ticks": ""
             }
            },
            "type": "scattergl"
           }
          ],
          "scattermapbox": [
           {
            "marker": {
             "colorbar": {
              "outlinewidth": 0,
              "ticks": ""
             }
            },
            "type": "scattermapbox"
           }
          ],
          "scatterpolar": [
           {
            "marker": {
             "colorbar": {
              "outlinewidth": 0,
              "ticks": ""
             }
            },
            "type": "scatterpolar"
           }
          ],
          "scatterpolargl": [
           {
            "marker": {
             "colorbar": {
              "outlinewidth": 0,
              "ticks": ""
             }
            },
            "type": "scatterpolargl"
           }
          ],
          "scatterternary": [
           {
            "marker": {
             "colorbar": {
              "outlinewidth": 0,
              "ticks": ""
             }
            },
            "type": "scatterternary"
           }
          ],
          "surface": [
           {
            "colorbar": {
             "outlinewidth": 0,
             "ticks": ""
            },
            "colorscale": [
             [
              0,
              "#0d0887"
             ],
             [
              0.1111111111111111,
              "#46039f"
             ],
             [
              0.2222222222222222,
              "#7201a8"
             ],
             [
              0.3333333333333333,
              "#9c179e"
             ],
             [
              0.4444444444444444,
              "#bd3786"
             ],
             [
              0.5555555555555556,
              "#d8576b"
             ],
             [
              0.6666666666666666,
              "#ed7953"
             ],
             [
              0.7777777777777778,
              "#fb9f3a"
             ],
             [
              0.8888888888888888,
              "#fdca26"
             ],
             [
              1,
              "#f0f921"
             ]
            ],
            "type": "surface"
           }
          ],
          "table": [
           {
            "cells": {
             "fill": {
              "color": "#EBF0F8"
             },
             "line": {
              "color": "white"
             }
            },
            "header": {
             "fill": {
              "color": "#C8D4E3"
             },
             "line": {
              "color": "white"
             }
            },
            "type": "table"
           }
          ]
         },
         "layout": {
          "annotationdefaults": {
           "arrowcolor": "#2a3f5f",
           "arrowhead": 0,
           "arrowwidth": 1
          },
          "autotypenumbers": "strict",
          "coloraxis": {
           "colorbar": {
            "outlinewidth": 0,
            "ticks": ""
           }
          },
          "colorscale": {
           "diverging": [
            [
             0,
             "#8e0152"
            ],
            [
             0.1,
             "#c51b7d"
            ],
            [
             0.2,
             "#de77ae"
            ],
            [
             0.3,
             "#f1b6da"
            ],
            [
             0.4,
             "#fde0ef"
            ],
            [
             0.5,
             "#f7f7f7"
            ],
            [
             0.6,
             "#e6f5d0"
            ],
            [
             0.7,
             "#b8e186"
            ],
            [
             0.8,
             "#7fbc41"
            ],
            [
             0.9,
             "#4d9221"
            ],
            [
             1,
             "#276419"
            ]
           ],
           "sequential": [
            [
             0,
             "#0d0887"
            ],
            [
             0.1111111111111111,
             "#46039f"
            ],
            [
             0.2222222222222222,
             "#7201a8"
            ],
            [
             0.3333333333333333,
             "#9c179e"
            ],
            [
             0.4444444444444444,
             "#bd3786"
            ],
            [
             0.5555555555555556,
             "#d8576b"
            ],
            [
             0.6666666666666666,
             "#ed7953"
            ],
            [
             0.7777777777777778,
             "#fb9f3a"
            ],
            [
             0.8888888888888888,
             "#fdca26"
            ],
            [
             1,
             "#f0f921"
            ]
           ],
           "sequentialminus": [
            [
             0,
             "#0d0887"
            ],
            [
             0.1111111111111111,
             "#46039f"
            ],
            [
             0.2222222222222222,
             "#7201a8"
            ],
            [
             0.3333333333333333,
             "#9c179e"
            ],
            [
             0.4444444444444444,
             "#bd3786"
            ],
            [
             0.5555555555555556,
             "#d8576b"
            ],
            [
             0.6666666666666666,
             "#ed7953"
            ],
            [
             0.7777777777777778,
             "#fb9f3a"
            ],
            [
             0.8888888888888888,
             "#fdca26"
            ],
            [
             1,
             "#f0f921"
            ]
           ]
          },
          "colorway": [
           "#636efa",
           "#EF553B",
           "#00cc96",
           "#ab63fa",
           "#FFA15A",
           "#19d3f3",
           "#FF6692",
           "#B6E880",
           "#FF97FF",
           "#FECB52"
          ],
          "font": {
           "color": "#2a3f5f"
          },
          "geo": {
           "bgcolor": "white",
           "lakecolor": "white",
           "landcolor": "#E5ECF6",
           "showlakes": true,
           "showland": true,
           "subunitcolor": "white"
          },
          "hoverlabel": {
           "align": "left"
          },
          "hovermode": "closest",
          "mapbox": {
           "style": "light"
          },
          "paper_bgcolor": "white",
          "plot_bgcolor": "#E5ECF6",
          "polar": {
           "angularaxis": {
            "gridcolor": "white",
            "linecolor": "white",
            "ticks": ""
           },
           "bgcolor": "#E5ECF6",
           "radialaxis": {
            "gridcolor": "white",
            "linecolor": "white",
            "ticks": ""
           }
          },
          "scene": {
           "xaxis": {
            "backgroundcolor": "#E5ECF6",
            "gridcolor": "white",
            "gridwidth": 2,
            "linecolor": "white",
            "showbackground": true,
            "ticks": "",
            "zerolinecolor": "white"
           },
           "yaxis": {
            "backgroundcolor": "#E5ECF6",
            "gridcolor": "white",
            "gridwidth": 2,
            "linecolor": "white",
            "showbackground": true,
            "ticks": "",
            "zerolinecolor": "white"
           },
           "zaxis": {
            "backgroundcolor": "#E5ECF6",
            "gridcolor": "white",
            "gridwidth": 2,
            "linecolor": "white",
            "showbackground": true,
            "ticks": "",
            "zerolinecolor": "white"
           }
          },
          "shapedefaults": {
           "line": {
            "color": "#2a3f5f"
           }
          },
          "ternary": {
           "aaxis": {
            "gridcolor": "white",
            "linecolor": "white",
            "ticks": ""
           },
           "baxis": {
            "gridcolor": "white",
            "linecolor": "white",
            "ticks": ""
           },
           "bgcolor": "#E5ECF6",
           "caxis": {
            "gridcolor": "white",
            "linecolor": "white",
            "ticks": ""
           }
          },
          "title": {
           "x": 0.05
          },
          "xaxis": {
           "automargin": true,
           "gridcolor": "white",
           "linecolor": "white",
           "ticks": "",
           "title": {
            "standoff": 15
           },
           "zerolinecolor": "white",
           "zerolinewidth": 2
          },
          "yaxis": {
           "automargin": true,
           "gridcolor": "white",
           "linecolor": "white",
           "ticks": "",
           "title": {
            "standoff": 15
           },
           "zerolinecolor": "white",
           "zerolinewidth": 2
          }
         }
        },
        "title": {
         "text": "Distribución de puestos por género"
        },
        "xaxis": {
         "anchor": "y",
         "domain": [
          0,
          1
         ],
         "tickangle": -45,
         "title": {
          "text": "Puesto"
         }
        },
        "yaxis": {
         "anchor": "x",
         "domain": [
          0,
          1
         ],
         "title": {
          "text": "count"
         }
        }
       }
      }
     },
     "metadata": {},
     "output_type": "display_data"
    }
   ],
   "source": [
    "fig10 = px.histogram(\n",
    "    df,\n",
    "    x=\"Position\",\n",
    "    color=\"Sex\",\n",
    "    barmode=\"group\",\n",
    "    title=\"Distribución de puestos por género\",\n",
    "    labels={\"Position\": \"Puesto\", \"Sex\": \"Género\"}\n",
    ")\n",
    "fig10.update_layout(xaxis_tickangle=-45)\n",
    "fig10.show()"
   ]
  },
  {
   "cell_type": "markdown",
   "id": "8236c0d1",
   "metadata": {},
   "source": [
    "Observación:\n",
    "Los puestos de “Production Technician I” y “Production Technician II” concentran la mayor parte del personal, con ligera mayoría femenina. Algunos roles administrativos como “Administrative Assistant” y “Sr. Accountant” son ocupados principalmente por mujeres, mientras que los puestos técnicos están distribuidos de forma más equilibrada."
   ]
  }
 ],
 "metadata": {
  "kernelspec": {
   "display_name": "base",
   "language": "python",
   "name": "python3"
  },
  "language_info": {
   "codemirror_mode": {
    "name": "ipython",
    "version": 3
   },
   "file_extension": ".py",
   "mimetype": "text/x-python",
   "name": "python",
   "nbconvert_exporter": "python",
   "pygments_lexer": "ipython3",
   "version": "3.12.7"
  }
 },
 "nbformat": 4,
 "nbformat_minor": 5
}
